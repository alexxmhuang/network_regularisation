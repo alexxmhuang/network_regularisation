{
 "cells": [
  {
   "cell_type": "code",
   "execution_count": 1,
   "id": "89f939ee",
   "metadata": {},
   "outputs": [],
   "source": [
    "import matplotlib.pyplot as plt\n",
    "from skest import *\n",
    "import scipy\n",
    "import time\n",
    "from signals import *\n",
    "import numpy as np"
   ]
  },
  {
   "cell_type": "markdown",
   "id": "668ec125",
   "metadata": {},
   "source": [
    "### different n"
   ]
  },
  {
   "cell_type": "code",
   "execution_count": 38,
   "id": "d7b326bf",
   "metadata": {},
   "outputs": [],
   "source": [
    "p = 121\n",
    "a = 11\n",
    "D = grid_incidence(a)\n",
    "G = nx.grid_graph(dim = (a,a))\n",
    "Psi = cor_from_G(G, 0.5)"
   ]
  },
  {
   "cell_type": "code",
   "execution_count": 39,
   "id": "a6a04f84",
   "metadata": {},
   "outputs": [],
   "source": [
    "def cuttoff(Psi, t):\n",
    "    M = np.copy(Psi)\n",
    "    M[np.abs(Psi) < t] = 0\n",
    "    return M"
   ]
  },
  {
   "cell_type": "code",
   "execution_count": 40,
   "id": "9216b951",
   "metadata": {},
   "outputs": [],
   "source": [
    "sigma = 1"
   ]
  },
  {
   "cell_type": "code",
   "execution_count": 41,
   "id": "09a43f31",
   "metadata": {},
   "outputs": [],
   "source": [
    "beta_star = smooth_2d(a,2, 3.5, 2.5, 5).flatten()"
   ]
  },
  {
   "cell_type": "code",
   "execution_count": 42,
   "id": "1a3c396d",
   "metadata": {},
   "outputs": [],
   "source": [
    "n = 60"
   ]
  },
  {
   "cell_type": "code",
   "execution_count": 52,
   "id": "d17c68ee",
   "metadata": {},
   "outputs": [],
   "source": [
    "X, y = gauss_sample(n, p, beta_star, Psi, sigma)"
   ]
  },
  {
   "cell_type": "code",
   "execution_count": 53,
   "id": "61e79ed3",
   "metadata": {},
   "outputs": [],
   "source": [
    "D_w = weighted_incidence(cov_est(0.5).fit(X).S)"
   ]
  },
  {
   "cell_type": "code",
   "execution_count": 45,
   "id": "defab4b7",
   "metadata": {},
   "outputs": [],
   "source": [
    "D_oracle = weighted_incidence(cuttoff(Psi, 0.001))"
   ]
  },
  {
   "cell_type": "code",
   "execution_count": 55,
   "id": "27504c5e",
   "metadata": {},
   "outputs": [],
   "source": [
    "def trial1():\n",
    "    X, y = gauss_sample(n, p, beta_star, Psi, sigma)\n",
    "    clf1 = OLR().fit(X, y)\n",
    "    clf2 = LA(l1 = 0).fit(X,y)\n",
    "    clf3 = EN(l1= 0, l2=0.001).fit(X,y)\n",
    "    clf4 = FL(0.05, 0.25, D).fit(X,y)\n",
    "    clf5 = SL(0.01, 0.05, D).fit(X,y)\n",
    "    clf6 = GTV(0, 15, 0, D_w).fit(X,y)\n",
    "    clf7 = GTV(0, 0.01, 0, D_oracle).fit(X,y)\n",
    "    clf8 = OUR(0.5, 0.25, D).fit(X,y)\n",
    "    return [c.l2_risk(beta_star) for c in [clf1, clf2, clf3, clf4, clf5, clf6, clf7, clf8]]"
   ]
  },
  {
   "cell_type": "code",
   "execution_count": 56,
   "id": "47ef2163",
   "metadata": {},
   "outputs": [],
   "source": [
    "def trial2():\n",
    "    X, y = gauss_sample(n, p, beta_star, Psi, sigma)\n",
    "    clf1 = OLR().fit(X, y)\n",
    "    clf2 = LA(l1 = 0).fit(X,y)\n",
    "    clf3 = EN(l1= 0, l2=0.001).fit(X,y)\n",
    "    clf4 = FL(0.05, 0.25, D).fit(X,y)\n",
    "    clf5 = SL(0.01, 0.05, D).fit(X,y)\n",
    "    clf6 = GTV(0, 15, 0, D_w).fit(X,y)\n",
    "    clf7 = GTV(0, 0.01, 0, D_oracle).fit(X,y)\n",
    "    clf8 = OUR(0.5, 0.25, D).fit(X,y)\n",
    "    X2, y2 = gauss_sample(n, p, beta_star, Psi, sigma)\n",
    "    return [-c.score(X2, X2@beta_star) for c in [clf1, clf2, clf3, clf4, clf5, clf6, clf7, clf8]]"
   ]
  },
  {
   "cell_type": "code",
   "execution_count": 54,
   "id": "29252df2",
   "metadata": {},
   "outputs": [
    {
     "data": {
      "text/plain": [
       "(48, 121)"
      ]
     },
     "execution_count": 54,
     "metadata": {},
     "output_type": "execute_result"
    }
   ],
   "source": [
    "D_w.shape"
   ]
  },
  {
   "cell_type": "code",
   "execution_count": 60,
   "id": "6711d3c1",
   "metadata": {},
   "outputs": [],
   "source": [
    "from joblib import Parallel, delayed\n",
    "import multiprocessing"
   ]
  },
  {
   "cell_type": "code",
   "execution_count": 61,
   "id": "583c9b96",
   "metadata": {},
   "outputs": [],
   "source": [
    "l2s = Parallel(n_jobs=8)(delayed(trial1)() for i in range(500))\n",
    "preds = Parallel(n_jobs=8)(delayed(trial2)() for i in range(500))"
   ]
  },
  {
   "cell_type": "code",
   "execution_count": 62,
   "id": "5dadd0b8",
   "metadata": {},
   "outputs": [],
   "source": [
    "ar1 = [l[0] for l in l2s]\n",
    "ar2 = [l[1] for l in l2s]\n",
    "ar3 = [l[2] for l in l2s]\n",
    "ar4 = [l[3] for l in l2s]\n",
    "ar5 = [l[4] for l in l2s]\n",
    "ar6 = [l[5] for l in l2s]\n",
    "ar7 = [l[6] for l in l2s]\n",
    "ar8 = [l[7] for l in l2s]"
   ]
  },
  {
   "cell_type": "code",
   "execution_count": 63,
   "id": "89041c59",
   "metadata": {},
   "outputs": [],
   "source": [
    "ap1 = [l[0] for l in preds]\n",
    "ap2 = [l[1] for l in preds]\n",
    "ap3 = [l[2] for l in preds]\n",
    "ap4 = [l[3] for l in preds]\n",
    "ap5 = [l[4] for l in preds]\n",
    "ap6 = [l[5] for l in preds]\n",
    "ap7 = [l[6] for l in preds]\n",
    "ap8 = [l[7] for l in preds]\n"
   ]
  },
  {
   "cell_type": "code",
   "execution_count": 64,
   "id": "5e0aec68",
   "metadata": {},
   "outputs": [
    {
     "data": {
      "image/png": "[encoded data removed]",
      "text/plain": [
       "<Figure size 432x288 with 1 Axes>"
      ]
     },
     "metadata": {
      "needs_background": "light"
     },
     "output_type": "display_data"
    }
   ],
   "source": [
    "plt.boxplot([ar1, ar2, ar3, ar4, ar5, ar6, ar7, ar8])\n",
    "plt.yscale(\"log\")"
   ]
  },
  {
   "cell_type": "code",
   "execution_count": 65,
   "id": "0cb42b9c",
   "metadata": {},
   "outputs": [
    {
     "data": {
      "image/png": "[encoded data removed]",
      "text/plain": [
       "<Figure size 432x288 with 1 Axes>"
      ]
     },
     "metadata": {
      "needs_background": "light"
     },
     "output_type": "display_data"
    }
   ],
   "source": [
    "plt.boxplot([ap1, ap2, ap3, ap4, ap5, ap6, ap7, ap8])\n",
    "plt.yscale(\"log\")"
   ]
  },
  {
   "cell_type": "markdown",
   "id": "0540dafe",
   "metadata": {},
   "source": [
    "### n = 90"
   ]
  },
  {
   "cell_type": "code",
   "execution_count": 100,
   "id": "b7ab7ac1",
   "metadata": {},
   "outputs": [],
   "source": [
    "n = 90"
   ]
  },
  {
   "cell_type": "code",
   "execution_count": 96,
   "id": "36438202",
   "metadata": {},
   "outputs": [],
   "source": [
    "X, y = gauss_sample(n, p, beta_star, Psi, sigma)"
   ]
  },
  {
   "cell_type": "code",
   "execution_count": 98,
   "id": "03ae45a1",
   "metadata": {},
   "outputs": [],
   "source": [
    "D_w = weighted_incidence(cov_est(0.4).fit(X).S)"
   ]
  },
  {
   "cell_type": "code",
   "execution_count": 99,
   "id": "32b8cf15",
   "metadata": {},
   "outputs": [
    {
     "data": {
      "text/plain": [
       "(102, 121)"
      ]
     },
     "execution_count": 99,
     "metadata": {},
     "output_type": "execute_result"
    }
   ],
   "source": [
    "D_w.shape"
   ]
  },
  {
   "cell_type": "code",
   "execution_count": 101,
   "id": "bec87163",
   "metadata": {},
   "outputs": [],
   "source": [
    "def trial1():\n",
    "    X, y = gauss_sample(n, p, beta_star, Psi, sigma)\n",
    "    clf1 = OLR().fit(X, y)\n",
    "    clf2 = LA(l1 = 0).fit(X,y)\n",
    "    clf3 = EN(l1= 0, l2=0.001).fit(X,y)\n",
    "    clf4 = FL(0, 1, D).fit(X,y)\n",
    "    clf5 = SL(0.1, 1, D).fit(X,y)\n",
    "    clf6 = GTV(5, 0, 0, D_w).fit(X,y)\n",
    "    clf7 = GTV(0, 0.15, 0, D_oracle).fit(X,y)\n",
    "    clf8 = OUR(0.5, 1, D).fit(X,y)\n",
    "    return [c.l2_risk(beta_star) for c in [clf1, clf2, clf3, clf4, clf5, clf6, clf7, clf8]]"
   ]
  },
  {
   "cell_type": "code",
   "execution_count": 102,
   "id": "94005302",
   "metadata": {},
   "outputs": [],
   "source": [
    "def trial2():\n",
    "    X, y = gauss_sample(n, p, beta_star, Psi, sigma)\n",
    "    clf1 = OLR().fit(X, y)\n",
    "    clf2 = LA(l1 = 0).fit(X,y)\n",
    "    clf3 = EN(l1= 0, l2=0.001).fit(X,y)\n",
    "    clf4 = FL(0, 1, D).fit(X,y)\n",
    "    clf5 = SL(0.1, 1, D).fit(X,y)\n",
    "    clf6 = GTV(5, 0, 0, D_w).fit(X,y)\n",
    "    clf7 = GTV(0, 0.15, 0, D_oracle).fit(X,y)\n",
    "    clf8 = OUR(0.5, 1, D).fit(X,y)\n",
    "    X2, y2 = gauss_sample(n, p, beta_star, Psi, sigma)\n",
    "    return [-c.score(X2, X2@beta_star) for c in [clf1, clf2, clf3, clf4, clf5, clf6, clf7, clf8]]"
   ]
  },
  {
   "cell_type": "code",
   "execution_count": 103,
   "id": "251fcb75",
   "metadata": {},
   "outputs": [],
   "source": [
    "l2s = Parallel(n_jobs=8)(delayed(trial1)() for i in range(500))\n",
    "preds = Parallel(n_jobs=8)(delayed(trial2)() for i in range(500))"
   ]
  },
  {
   "cell_type": "code",
   "execution_count": 104,
   "id": "d339c768",
   "metadata": {},
   "outputs": [],
   "source": [
    "br1 = [l[0] for l in l2s]\n",
    "br2 = [l[1] for l in l2s]\n",
    "br3 = [l[2] for l in l2s]\n",
    "br4 = [l[3] for l in l2s]\n",
    "br5 = [l[4] for l in l2s]\n",
    "br6 = [l[5] for l in l2s]\n",
    "br7 = [l[6] for l in l2s]\n",
    "br8 = [l[7] for l in l2s]"
   ]
  },
  {
   "cell_type": "code",
   "execution_count": 105,
   "id": "d4484565",
   "metadata": {},
   "outputs": [],
   "source": [
    "bp1 = [l[0] for l in preds]\n",
    "bp2 = [l[1] for l in preds]\n",
    "bp3 = [l[2] for l in preds]\n",
    "bp4 = [l[3] for l in preds]\n",
    "bp5 = [l[4] for l in preds]\n",
    "bp6 = [l[5] for l in preds]\n",
    "bp7 = [l[6] for l in preds]\n",
    "bp8 = [l[7] for l in preds]\n"
   ]
  },
  {
   "cell_type": "code",
   "execution_count": 106,
   "id": "27c09723",
   "metadata": {},
   "outputs": [
    {
     "data": {
      "image/png": "[encoded data removed]",
      "text/plain": [
       "<Figure size 432x288 with 1 Axes>"
      ]
     },
     "metadata": {
      "needs_background": "light"
     },
     "output_type": "display_data"
    }
   ],
   "source": [
    "plt.boxplot([br1, br2, br3, br4, br5, br6, br7, br8])\n",
    "plt.yscale(\"log\")"
   ]
  },
  {
   "cell_type": "code",
   "execution_count": 107,
   "id": "6285698f",
   "metadata": {},
   "outputs": [
    {
     "data": {
      "image/png": "[encoded data removed]",
      "text/plain": [
       "<Figure size 432x288 with 1 Axes>"
      ]
     },
     "metadata": {
      "needs_background": "light"
     },
     "output_type": "display_data"
    }
   ],
   "source": [
    "plt.boxplot([bp1, bp2, bp3, bp4, bp5, bp6, bp7, bp8])\n",
    "plt.yscale(\"log\")"
   ]
  },
  {
   "cell_type": "markdown",
   "id": "ddbb7ae2",
   "metadata": {},
   "source": [
    "### n = 120"
   ]
  },
  {
   "cell_type": "code",
   "execution_count": 213,
   "id": "72106574",
   "metadata": {},
   "outputs": [],
   "source": [
    "n = 120"
   ]
  },
  {
   "cell_type": "code",
   "execution_count": 214,
   "id": "ff2b0e94",
   "metadata": {},
   "outputs": [],
   "source": [
    "X, y = gauss_sample(n, p, beta_star, Psi, sigma)"
   ]
  },
  {
   "cell_type": "code",
   "execution_count": 215,
   "id": "8fab070c",
   "metadata": {},
   "outputs": [],
   "source": [
    "D_w = weighted_incidence(cov_est(0.35).fit(X).S)"
   ]
  },
  {
   "cell_type": "code",
   "execution_count": 216,
   "id": "9b14933c",
   "metadata": {},
   "outputs": [
    {
     "data": {
      "text/plain": [
       "(148, 121)"
      ]
     },
     "execution_count": 216,
     "metadata": {},
     "output_type": "execute_result"
    }
   ],
   "source": [
    "D_w.shape"
   ]
  },
  {
   "cell_type": "code",
   "execution_count": 217,
   "id": "44d4cde8",
   "metadata": {},
   "outputs": [],
   "source": [
    "def trial1():\n",
    "    X, y = gauss_sample(115, p, beta_star, Psi, sigma)\n",
    "    clf1 = OLR().fit(X, y)\n",
    "    clf2 = LA(l1 = 0).fit(X,y)\n",
    "    clf3 = EN(l1= 0, l2=0.001).fit(X,y)\n",
    "    X, y = gauss_sample(n, p, beta_star, Psi, sigma)\n",
    "    clf4 = FL(2,5, D).fit(X,y)\n",
    "    clf5 = SL(1, 3, D).fit(X,y)\n",
    "    clf6 = GTV(3, 0, 0, D_w).fit(X,y)\n",
    "    clf7 = GTV(0.35, 0, 0, D_oracle).fit(X,y)\n",
    "    clf8 = OUR(3, 1, D).fit(X,y)\n",
    "    return [c.l2_risk(beta_star) for c in [clf1, clf2, clf3, clf4, clf5, clf6, clf7, clf8]]\n",
    "\n",
    "def trial2():\n",
    "    X, y = gauss_sample(115, p, beta_star, Psi, sigma)\n",
    "    clf1 = OLR().fit(X, y)\n",
    "    clf2 = LA(l1 = 0).fit(X,y)\n",
    "    clf3 = EN(l1= 0, l2=0.001).fit(X,y)\n",
    "    X, y = gauss_sample(n, p, beta_star, Psi, sigma)\n",
    "    clf4 = FL(2,5, D).fit(X,y)\n",
    "    clf5 = SL(1, 3, D).fit(X,y)\n",
    "    clf6 = GTV(3, 0, 0, D_w).fit(X,y)\n",
    "    clf7 = GTV(0.35, 0, 0, D_oracle).fit(X,y)\n",
    "    clf8 = OUR(3, 1, D).fit(X,y)\n",
    "    X2, y2 = gauss_sample(n, p, beta_star, Psi, sigma)\n",
    "    return [-c.score(X2, X2@beta_star) for c in [clf1, clf2, clf3, clf4, clf5, clf6, clf7, clf8]]"
   ]
  },
  {
   "cell_type": "code",
   "execution_count": 218,
   "id": "2dc83326",
   "metadata": {},
   "outputs": [],
   "source": [
    "l2s = Parallel(n_jobs=8)(delayed(trial1)() for i in range(500))\n",
    "preds = Parallel(n_jobs=8)(delayed(trial2)() for i in range(500))"
   ]
  },
  {
   "cell_type": "code",
   "execution_count": 219,
   "id": "493f088a",
   "metadata": {},
   "outputs": [],
   "source": [
    "cr1 = [l[0] for l in l2s]\n",
    "cr2 = [l[1] for l in l2s]\n",
    "cr3 = [l[2] for l in l2s]\n",
    "cr4 = [l[3] for l in l2s]\n",
    "cr5 = [l[4] for l in l2s]\n",
    "cr6 = [l[5] for l in l2s]\n",
    "cr7 = [l[6] for l in l2s]\n",
    "cr8 = [l[7] for l in l2s]"
   ]
  },
  {
   "cell_type": "code",
   "execution_count": 220,
   "id": "f5493ab2",
   "metadata": {},
   "outputs": [],
   "source": [
    "cp1 = [l[0] for l in preds]\n",
    "cp2 = [l[1] for l in preds]\n",
    "cp3 = [l[2] for l in preds]\n",
    "cp4 = [l[3] for l in preds]\n",
    "cp5 = [l[4] for l in preds]\n",
    "cp6 = [l[5] for l in preds]\n",
    "cp7 = [l[6] for l in preds]\n",
    "cp8 = [l[7] for l in preds]"
   ]
  },
  {
   "cell_type": "code",
   "execution_count": 221,
   "id": "c682c039",
   "metadata": {
    "scrolled": false
   },
   "outputs": [
    {
     "data": {
      "image/png": "[encoded data removed]",
      "text/plain": [
       "<Figure size 432x288 with 1 Axes>"
      ]
     },
     "metadata": {
      "needs_background": "light"
     },
     "output_type": "display_data"
    }
   ],
   "source": [
    "plt.boxplot([cr1, cr2, cr3, cr4, cr5, cr6, cr7, cr8])\n",
    "plt.yscale(\"log\")"
   ]
  },
  {
   "cell_type": "code",
   "execution_count": 222,
   "id": "e92f7799",
   "metadata": {
    "scrolled": true
   },
   "outputs": [
    {
     "data": {
      "image/png": "[encoded data removed]",
      "text/plain": [
       "<Figure size 432x288 with 1 Axes>"
      ]
     },
     "metadata": {
      "needs_background": "light"
     },
     "output_type": "display_data"
    }
   ],
   "source": [
    "plt.boxplot([cp1, cp2, cp3, cp4, cp5, cp6, cp7, cp8])\n",
    "plt.yscale(\"log\")"
   ]
  },
  {
   "cell_type": "markdown",
   "id": "c882e5a5",
   "metadata": {},
   "source": [
    "### n = 150"
   ]
  },
  {
   "cell_type": "code",
   "execution_count": 227,
   "id": "997680c1",
   "metadata": {},
   "outputs": [],
   "source": [
    "n = 150"
   ]
  },
  {
   "cell_type": "code",
   "execution_count": 228,
   "id": "d5fafe0a",
   "metadata": {},
   "outputs": [],
   "source": [
    "X, y = gauss_sample(n, p, beta_star, Psi, sigma)\n"
   ]
  },
  {
   "cell_type": "code",
   "execution_count": 229,
   "id": "725b8cf8",
   "metadata": {},
   "outputs": [],
   "source": [
    "D_w = weighted_incidence(cov_est(0.31).fit(X).S)"
   ]
  },
  {
   "cell_type": "code",
   "execution_count": 230,
   "id": "94725c3f",
   "metadata": {},
   "outputs": [
    {
     "data": {
      "text/plain": [
       "(176, 121)"
      ]
     },
     "execution_count": 230,
     "metadata": {},
     "output_type": "execute_result"
    }
   ],
   "source": [
    "D_w.shape"
   ]
  },
  {
   "cell_type": "code",
   "execution_count": 231,
   "id": "c70dbf2b",
   "metadata": {},
   "outputs": [],
   "source": [
    "def trial1():\n",
    "    X, y = gauss_sample(n, p, beta_star, Psi, sigma)\n",
    "    clf1 = OLR().fit(X, y)\n",
    "    clf2 = LA(l1 = 0).fit(X,y)\n",
    "    clf3 = EN(l1= 0, l2=0.1).fit(X,y)\n",
    "    clf4 = FL(2,5, D).fit(X,y)\n",
    "    clf5 = SL(0, 5, D).fit(X,y)\n",
    "    clf6 = GTV(2, 0, 0, D_w).fit(X,y)\n",
    "    clf7 = GTV(0.35, 0.15, 0, D_oracle).fit(X,y)\n",
    "    clf8 = OUR(2,3 , D).fit(X,y)\n",
    "    return [c.l2_risk(beta_star) for c in [clf1, clf2, clf3, clf4, clf5, clf6, clf7, clf8]]\n",
    "\n",
    "def trial2():\n",
    "    X, y = gauss_sample(n, p, beta_star, Psi, sigma)\n",
    "    clf1 = OLR().fit(X, y)\n",
    "    clf2 = LA(l1 = 0).fit(X,y)\n",
    "    clf3 = EN(l1= 0, l2=0.1).fit(X,y)\n",
    "    clf4 = FL(2,5, D).fit(X,y)\n",
    "    clf5 = SL(0, 5, D).fit(X,y)\n",
    "    clf6 = GTV(2, 0, 0, D_w).fit(X,y)\n",
    "    clf7 = GTV(0.35, 0.15, 0, D_oracle).fit(X,y)\n",
    "    clf8 = OUR(2,3 , D).fit(X,y)\n",
    "    X2, y2 = gauss_sample(n, p, beta_star, Psi, sigma)\n",
    "    return [-c.score(X2, X2@beta_star) for c in [clf1, clf2, clf3, clf4, clf5, clf6, clf7, clf8]]"
   ]
  },
  {
   "cell_type": "code",
   "execution_count": 232,
   "id": "9fe1ad6a",
   "metadata": {},
   "outputs": [],
   "source": [
    "l2s = Parallel(n_jobs=8)(delayed(trial1)() for i in range(500))\n",
    "preds = Parallel(n_jobs=8)(delayed(trial2)() for i in range(500))"
   ]
  },
  {
   "cell_type": "code",
   "execution_count": 233,
   "id": "46a4f1bf",
   "metadata": {},
   "outputs": [],
   "source": [
    "dr1 = [l[0] for l in l2s]\n",
    "dr2 = [l[1] for l in l2s]\n",
    "dr3 = [l[2] for l in l2s]\n",
    "dr4 = [l[3] for l in l2s]\n",
    "dr5 = [l[4] for l in l2s]\n",
    "dr6 = [l[5] for l in l2s]\n",
    "dr7 = [l[6] for l in l2s]\n",
    "dr8 = [l[7] for l in l2s]"
   ]
  },
  {
   "cell_type": "code",
   "execution_count": 234,
   "id": "9ef84762",
   "metadata": {},
   "outputs": [],
   "source": [
    "dp1 = [l[0] for l in preds]\n",
    "dp2 = [l[1] for l in preds]\n",
    "dp3 = [l[2] for l in preds]\n",
    "dp4 = [l[3] for l in preds]\n",
    "dp5 = [l[4] for l in preds]\n",
    "dp6 = [l[5] for l in preds]\n",
    "dp7 = [l[6] for l in preds]\n",
    "dp8 = [l[7] for l in preds]"
   ]
  },
  {
   "cell_type": "code",
   "execution_count": 235,
   "id": "3aea91a1",
   "metadata": {},
   "outputs": [
    {
     "data": {
      "image/png": "[encoded data removed]",
      "text/plain": [
       "<Figure size 432x288 with 1 Axes>"
      ]
     },
     "metadata": {
      "needs_background": "light"
     },
     "output_type": "display_data"
    }
   ],
   "source": [
    "plt.boxplot([dr1, dr2, dr3, dr4, dr5, dr6, dr7, dr8])\n",
    "plt.yscale(\"log\")"
   ]
  },
  {
   "cell_type": "code",
   "execution_count": 236,
   "id": "8ee2034e",
   "metadata": {
    "scrolled": true
   },
   "outputs": [
    {
     "data": {
      "image/png": "[encoded data removed]",
      "text/plain": [
       "<Figure size 432x288 with 1 Axes>"
      ]
     },
     "metadata": {
      "needs_background": "light"
     },
     "output_type": "display_data"
    }
   ],
   "source": [
    "plt.boxplot([dp1, dp2, dp3, dp4, dp5, dp6, dp7, dp8])\n",
    "plt.yscale(\"log\")"
   ]
  },
  {
   "cell_type": "markdown",
   "id": "a6983d80",
   "metadata": {},
   "source": [
    "### n = 180"
   ]
  },
  {
   "cell_type": "code",
   "execution_count": 322,
   "id": "4bdb815c",
   "metadata": {},
   "outputs": [],
   "source": [
    "n = 180"
   ]
  },
  {
   "cell_type": "code",
   "execution_count": 310,
   "id": "e2615e4c",
   "metadata": {},
   "outputs": [],
   "source": [
    "X, y = gauss_sample(n, p, beta_star, Psi, sigma)"
   ]
  },
  {
   "cell_type": "code",
   "execution_count": 311,
   "id": "b19d6c53",
   "metadata": {},
   "outputs": [],
   "source": [
    "D_w = weighted_incidence(cov_est(0.27).fit(X).S)"
   ]
  },
  {
   "cell_type": "code",
   "execution_count": 312,
   "id": "2105a652",
   "metadata": {},
   "outputs": [
    {
     "data": {
      "text/plain": [
       "(248, 121)"
      ]
     },
     "execution_count": 312,
     "metadata": {},
     "output_type": "execute_result"
    }
   ],
   "source": [
    "D_w.shape"
   ]
  },
  {
   "cell_type": "code",
   "execution_count": 313,
   "id": "f5c80b09",
   "metadata": {},
   "outputs": [],
   "source": [
    "def trial1():\n",
    "    X, y = gauss_sample(n, p, beta_star, Psi, sigma)\n",
    "    clf1 = OLR().fit(X, y)\n",
    "    clf2 = LA(l1 = 0).fit(X,y)\n",
    "    clf3 = EN(l1= 0, l2=0.1).fit(X,y)\n",
    "    clf4 = FL(0, 5, D).fit(X,y)\n",
    "    clf5 = SL(0, 3, D).fit(X,y)\n",
    "    clf6 = GTV(2, 0, 0, D_w).fit(X,y)\n",
    "    clf7 = GTV(0.5, 0.2, 0, D_oracle).fit(X,y)\n",
    "    clf8 = OUR(3, 2, D).fit(X,y)\n",
    "    return [c.l2_risk(beta_star) for c in [clf1, clf2, clf3, clf4, clf5, clf6, clf7, clf8]]\n",
    "\n",
    "def trial2():\n",
    "    X, y = gauss_sample(n, p, beta_star, Psi, sigma)\n",
    "    clf1 = OLR().fit(X, y)\n",
    "    clf2 = LA(l1 = 0).fit(X,y)\n",
    "    clf3 = EN(l1= 0, l2=0.1).fit(X,y)\n",
    "    clf4 = FL(0, 5, D).fit(X,y)\n",
    "    clf5 = SL(0, 3, D).fit(X,y)\n",
    "    clf6 = GTV(2, 0, 0, D_w).fit(X,y)\n",
    "    clf7 = GTV(0.5, 0.2, 0, D_oracle).fit(X,y)\n",
    "    clf8 = OUR(3, 2, D).fit(X,y)\n",
    "    X2, y2 = gauss_sample(n, p, beta_star, Psi, sigma)\n",
    "    return [-c.score(X2, X2@beta_star) for c in [clf1, clf2, clf3, clf4, clf5, clf6, clf7, clf8]]"
   ]
  },
  {
   "cell_type": "code",
   "execution_count": 321,
   "id": "74a59608",
   "metadata": {},
   "outputs": [],
   "source": [
    "def trial_sl():\n",
    "    X, y = gauss_sample(n, p, beta_star, Psi, sigma)\n",
    "    clf5 = SL(0, 3.5, D).fit(X,y)\n",
    "    return clf5.l2_risk(beta_star) "
   ]
  },
  {
   "cell_type": "code",
   "execution_count": 323,
   "id": "a46193fb",
   "metadata": {},
   "outputs": [],
   "source": [
    "er5 = Parallel(n_jobs=8)(delayed(trial_sl)() for i in range(500))"
   ]
  },
  {
   "cell_type": "code",
   "execution_count": 314,
   "id": "fea2a00e",
   "metadata": {},
   "outputs": [],
   "source": [
    "l2s = Parallel(n_jobs=8)(delayed(trial1)() for i in range(500))\n",
    "preds = Parallel(n_jobs=8)(delayed(trial2)() for i in range(500))"
   ]
  },
  {
   "cell_type": "code",
   "execution_count": 315,
   "id": "c0cade42",
   "metadata": {},
   "outputs": [],
   "source": [
    "er1 = [l[0] for l in l2s]\n",
    "er2 = [l[1] for l in l2s]\n",
    "er3 = [l[2] for l in l2s]\n",
    "er4 = [l[3] for l in l2s]\n",
    "er5 = [l[4] for l in l2s]\n",
    "er6 = [l[5] for l in l2s]\n",
    "er7 = [l[6] for l in l2s]\n",
    "er8 = [l[7] for l in l2s]"
   ]
  },
  {
   "cell_type": "code",
   "execution_count": 316,
   "id": "64b6d582",
   "metadata": {},
   "outputs": [],
   "source": [
    "ep1 = [l[0] for l in preds]\n",
    "ep2 = [l[1] for l in preds]\n",
    "ep3 = [l[2] for l in preds]\n",
    "ep4 = [l[3] for l in preds]\n",
    "ep5 = [l[4] for l in preds]\n",
    "ep6 = [l[5] for l in preds]\n",
    "ep7 = [l[6] for l in preds]\n",
    "ep8 = [l[7] for l in preds]"
   ]
  },
  {
   "cell_type": "code",
   "execution_count": 317,
   "id": "978d9beb",
   "metadata": {},
   "outputs": [
    {
     "data": {
      "image/png": "[encoded data removed]",
      "text/plain": [
       "<Figure size 432x288 with 1 Axes>"
      ]
     },
     "metadata": {
      "needs_background": "light"
     },
     "output_type": "display_data"
    }
   ],
   "source": [
    "plt.boxplot([er1, er2, er3, er4, er5, er6, er7, er8])\n",
    "plt.yscale(\"log\")"
   ]
  },
  {
   "cell_type": "code",
   "execution_count": 318,
   "id": "268b0980",
   "metadata": {
    "scrolled": true
   },
   "outputs": [
    {
     "data": {
      "image/png": "[encoded data removed]",
      "text/plain": [
       "<Figure size 432x288 with 1 Axes>"
      ]
     },
     "metadata": {
      "needs_background": "light"
     },
     "output_type": "display_data"
    }
   ],
   "source": [
    "plt.boxplot([ep1, ep2, ep3, ep4, ep5, ep6, ep7, ep8])\n",
    "plt.yscale(\"log\")"
   ]
  },
  {
   "cell_type": "markdown",
   "id": "17fb4948",
   "metadata": {},
   "source": [
    "### n = 210"
   ]
  },
  {
   "cell_type": "code",
   "execution_count": 251,
   "id": "778bbafa",
   "metadata": {},
   "outputs": [],
   "source": [
    "n = 210"
   ]
  },
  {
   "cell_type": "code",
   "execution_count": 252,
   "id": "8afed25c",
   "metadata": {},
   "outputs": [],
   "source": [
    "X, y = gauss_sample(n, p, beta_star, Psi, sigma)"
   ]
  },
  {
   "cell_type": "code",
   "execution_count": 253,
   "id": "e0618bd3",
   "metadata": {},
   "outputs": [],
   "source": [
    "D_w = weighted_incidence(cov_est(0.25).fit(X).S)"
   ]
  },
  {
   "cell_type": "code",
   "execution_count": 254,
   "id": "c44846da",
   "metadata": {},
   "outputs": [
    {
     "data": {
      "text/plain": [
       "(286, 121)"
      ]
     },
     "execution_count": 254,
     "metadata": {},
     "output_type": "execute_result"
    }
   ],
   "source": [
    "D_w.shape"
   ]
  },
  {
   "cell_type": "code",
   "execution_count": 255,
   "id": "89864dc7",
   "metadata": {},
   "outputs": [],
   "source": [
    "def trial1():\n",
    "    X, y = gauss_sample(n, p, beta_star, Psi, sigma)\n",
    "    clf1 = OLR().fit(X, y)\n",
    "    clf2 = LA(l1 = 0).fit(X,y)\n",
    "    clf3 = EN(l1= 0, l2=0.1).fit(X,y)\n",
    "    clf4 = FL(0, 3, D).fit(X,y)\n",
    "    clf5 = SL(0.001, 3, D).fit(X,y)\n",
    "    clf6 = GTV(2, 0, 0, D_w).fit(X,y)\n",
    "    clf7 = GTV(0.5, 0.25, 0, D_oracle).fit(X,y)\n",
    "    clf8 = OUR(2, 2, D).fit(X,y)\n",
    "    return [c.l2_risk(beta_star) for c in [clf1, clf2, clf3, clf4, clf5, clf6, clf7, clf8]]\n",
    "\n",
    "def trial2():\n",
    "    X, y = gauss_sample(n, p, beta_star, Psi, sigma)\n",
    "    clf1 = OLR().fit(X, y)\n",
    "    clf2 = LA(l1 = 0).fit(X,y)\n",
    "    clf3 = EN(l1= 0, l2=0.1).fit(X,y)\n",
    "    clf4 = FL(0, 3, D).fit(X,y)\n",
    "    clf5 = SL(0.001, 3, D).fit(X,y)\n",
    "    clf6 = GTV(2, 0, 0, D_w).fit(X,y)\n",
    "    clf7 = GTV(0.5, 0.25, 0, D_oracle).fit(X,y)\n",
    "    clf8 = OUR(2, 2, D).fit(X,y)\n",
    "    X2, y2 = gauss_sample(n, p, beta_star, Psi, sigma)\n",
    "    return [-c.score(X2, X2@beta_star) for c in [clf1, clf2, clf3, clf4, clf5, clf6, clf7, clf8]]"
   ]
  },
  {
   "cell_type": "code",
   "execution_count": 256,
   "id": "fded774c",
   "metadata": {},
   "outputs": [],
   "source": [
    "l2s = Parallel(n_jobs=8)(delayed(trial1)() for i in range(500))\n",
    "preds = Parallel(n_jobs=8)(delayed(trial2)() for i in range(500))"
   ]
  },
  {
   "cell_type": "code",
   "execution_count": 257,
   "id": "ccffc5ae",
   "metadata": {},
   "outputs": [],
   "source": [
    "fr1 = [l[0] for l in l2s]\n",
    "fr2 = [l[1] for l in l2s]\n",
    "fr3 = [l[2] for l in l2s]\n",
    "fr4 = [l[3] for l in l2s]\n",
    "fr5 = [l[4] for l in l2s]\n",
    "fr6 = [l[5] for l in l2s]\n",
    "fr7 = [l[6] for l in l2s]\n",
    "fr8 = [l[7] for l in l2s]"
   ]
  },
  {
   "cell_type": "code",
   "execution_count": 258,
   "id": "ef8d4e07",
   "metadata": {},
   "outputs": [],
   "source": [
    "fp1 = [l[0] for l in preds]\n",
    "fp2 = [l[1] for l in preds]\n",
    "fp3 = [l[2] for l in preds]\n",
    "fp4 = [l[3] for l in preds]\n",
    "fp5 = [l[4] for l in preds]\n",
    "fp6 = [l[5] for l in preds]\n",
    "fp7 = [l[6] for l in preds]\n",
    "fp8 = [l[7] for l in preds]"
   ]
  },
  {
   "cell_type": "code",
   "execution_count": 261,
   "id": "f420e699",
   "metadata": {},
   "outputs": [
    {
     "data": {
      "image/png": "[encoded data removed]",
      "text/plain": [
       "<Figure size 432x288 with 1 Axes>"
      ]
     },
     "metadata": {
      "needs_background": "light"
     },
     "output_type": "display_data"
    }
   ],
   "source": [
    "plt.boxplot([fr1, fr2, fr3, fr4, fr5, fr6, fr7, fr8])\n",
    "plt.yscale(\"log\")"
   ]
  },
  {
   "cell_type": "code",
   "execution_count": 262,
   "id": "88fbe3c7",
   "metadata": {},
   "outputs": [
    {
     "data": {
      "image/png": "[encoded data removed]",
      "text/plain": [
       "<Figure size 432x288 with 1 Axes>"
      ]
     },
     "metadata": {
      "needs_background": "light"
     },
     "output_type": "display_data"
    }
   ],
   "source": [
    "plt.boxplot([fp1, fp2, fp3, fp4, fp5, fp6, fp7, fp8])\n",
    "plt.yscale(\"log\")"
   ]
  },
  {
   "cell_type": "markdown",
   "id": "e9e3c619",
   "metadata": {},
   "source": [
    "### plots"
   ]
  },
  {
   "cell_type": "code",
   "execution_count": 263,
   "id": "13d8b53c",
   "metadata": {},
   "outputs": [],
   "source": [
    "import matplotlib as mpl\n",
    "mpl.rcParams['mathtext.fontset'] = 'cm'"
   ]
  },
  {
   "cell_type": "code",
   "execution_count": 264,
   "id": "fec30b3a",
   "metadata": {},
   "outputs": [],
   "source": [
    "LA_risk_med = [np.median(r) for r in [ar1, br1, cr1, dr1, er1, fr1]]\n",
    "LA_risk_err = [[np.median(r) - np.quantile(r, 0.25) for r in [ar1, br1, cr1, dr1, er1, fr1]], [np.quantile(r, 0.75) - np.median(r) for r in [ar1, br1, cr1, dr1, er1, fr1]]]"
   ]
  },
  {
   "cell_type": "code",
   "execution_count": 265,
   "id": "64a1644a",
   "metadata": {},
   "outputs": [],
   "source": [
    "EN_risk_med = [np.median(r) for r in [ar3, br3, cr3, dr3, er3, fr3]]\n",
    "EN_risk_err = [[np.median(r) - np.quantile(r, 0.25) for r in [ar3, br3, cr3, dr3, er3, fr3]], [np.quantile(r, 0.75) - np.median(r) for r in [ar3, br3, cr3, dr3, er3, fr3]]]"
   ]
  },
  {
   "cell_type": "code",
   "execution_count": 266,
   "id": "8e35400c",
   "metadata": {},
   "outputs": [],
   "source": [
    "FL_risk_med = [np.median(r) for r in [ar4, br4, cr4, dr4, er4, fr4]]\n",
    "FL_risk_err = [[np.median(r) - np.quantile(r, 0.25) for r in [ar4, br4, cr4, dr4, er4, fr4]], [np.quantile(r, 0.75) - np.median(r) for r in [ar4, br4, cr4, dr4, er4, fr4]]]"
   ]
  },
  {
   "cell_type": "code",
   "execution_count": 324,
   "id": "5901c7ca",
   "metadata": {},
   "outputs": [],
   "source": [
    "SL_risk_med = [np.median(r) for r in [ar5, br5, cr5, dr5, er5, fr5]]\n",
    "SL_risk_err = [[np.median(r) - np.quantile(r, 0.25) for r in [ar5, br5, cr5, dr5, er5, fr5]], [np.quantile(r, 0.75) - np.median(r) for r in [ar5, br5, cr5, dr5, er5, fr5]]]"
   ]
  },
  {
   "cell_type": "code",
   "execution_count": 326,
   "id": "6bb2753a",
   "metadata": {},
   "outputs": [
    {
     "data": {
      "text/plain": [
       "[[0.11769651180848117,\n",
       "  0.08363678132305408,\n",
       "  0.05922282836138759,\n",
       "  0.04739207027700565,\n",
       "  0.0406789120833414,\n",
       "  0.04386695022334597],\n",
       " [0.1300776298041233,\n",
       "  0.09028242903133643,\n",
       "  0.06235859422808754,\n",
       "  0.052488384832574564,\n",
       "  0.04507920641981855,\n",
       "  0.04508041892223191]]"
      ]
     },
     "execution_count": 326,
     "metadata": {},
     "output_type": "execute_result"
    }
   ],
   "source": [
    "SL_risk_err"
   ]
  },
  {
   "cell_type": "code",
   "execution_count": 268,
   "id": "0e8dfd05",
   "metadata": {},
   "outputs": [],
   "source": [
    "GTVEST_risk_med = [np.median(r) for r in [ar6, br6, cr6, dr6, er6, fr6]]\n",
    "GTVEST_risk_err = [[np.median(r) - np.quantile(r, 0.25) for r in [ar6, br6, cr6, dr6, er6, fr6]], [np.quantile(r, 0.75) - np.median(r) for r in [ar6, br6, cr6, dr6, er6, fr6]]]"
   ]
  },
  {
   "cell_type": "code",
   "execution_count": 269,
   "id": "2ec50879",
   "metadata": {},
   "outputs": [],
   "source": [
    "GTVORC_risk_med = [np.median(r) for r in [ar7, br7, cr7, dr7, er7, fr7]]\n",
    "GTVORC_risk_err = [[np.median(r) - np.quantile(r, 0.25) for r in [ar7, br7, cr7, dr7, er7, fr7]], [np.quantile(r, 0.75) - np.median(r) for r in [ar7, br7, cr7, dr7, er7, fr7]]]"
   ]
  },
  {
   "cell_type": "code",
   "execution_count": 270,
   "id": "8288eb89",
   "metadata": {},
   "outputs": [],
   "source": [
    "GEN_risk_med = [np.median(r) for r in [ar8, br8, cr8, dr8, er8, fr8]]\n",
    "GEN_risk_err = [[np.median(r) - np.quantile(r, 0.25) for r in [ar8, br8, cr8, dr8, er8, fr8]], [np.quantile(r, 0.75) - np.median(r) for r in [ar8, br8, cr8, dr8, er8, fr8]]]"
   ]
  },
  {
   "cell_type": "code",
   "execution_count": 271,
   "id": "63902222",
   "metadata": {},
   "outputs": [],
   "source": [
    "xs = [\"60\",\"90\" ,\"120\" ,\"150\" ,\"180\", \"210\"]"
   ]
  },
  {
   "cell_type": "code",
   "execution_count": 272,
   "id": "ececb458",
   "metadata": {},
   "outputs": [
    {
     "data": {
      "image/png": "[encoded data removed]",
      "text/plain": [
       "<Figure size 432x288 with 1 Axes>"
      ]
     },
     "metadata": {
      "needs_background": "light"
     },
     "output_type": "display_data"
    }
   ],
   "source": [
    "plt.errorbar(xs, LA_risk_med, yerr = LA_risk_err, capsize = 2, color = 'brown', label = \"OLS, LASSO\")\n",
    "plt.errorbar(xs, EN_risk_med, yerr = EN_risk_err, color = 'violet', fmt = '--',label = \"EN\")\n",
    "plt.errorbar(xs, FL_risk_med, yerr = FL_risk_err, fmt = '-.',color = 'orange', label = \"FL\")\n",
    "plt.errorbar(xs, SL_risk_med, yerr = SL_risk_err, fmt = '-.', color = 'red', label = \"SL\")\n",
    "plt.errorbar(xs, GTVEST_risk_med, yerr = GTVEST_risk_err, capsize = 2, color = 'steelblue', label = \"GTV\")\n",
    "plt.errorbar(xs, GTVORC_risk_med, yerr = GTVORC_risk_err, color = 'deepskyblue', fmt = '--',label = \"GTV-oracle\", linewidth = 1.5)\n",
    "plt.errorbar(xs, GEN_risk_med, yerr = GEN_risk_err, capsize = 2, color = 'green', label = \"GEN\")\n",
    "plt.yscale(\"log\")\n",
    "plt.yticks([ 1, 10], size = 12)\n",
    "plt.xticks(xs, size = 12)\n",
    "plt.xlabel(r\"n\", size = 14)\n",
    "plt.ylabel(r'$\\| \\hat{\\beta} - \\beta^*\\|_2$', size = 14)\n",
    "plt.savefig('145a_v2.jpg', bbox_inches='tight', dpi = 600)"
   ]
  },
  {
   "cell_type": "code",
   "execution_count": 273,
   "id": "5516df2d",
   "metadata": {},
   "outputs": [],
   "source": [
    "LA_pred_med = [np.median(r) for r in [ap1, bp1, cp1, dp1, ep1, fp1]]\n",
    "LA_pred_err = [[np.median(r) - np.quantile(r, 0.25) for r in [ap1, bp1, cp1, dp1, ep1, fp1]], [np.quantile(r, 0.75) - np.median(r) for r in [ap1, bp1, cp1, dp1, ep1, fp1]]]"
   ]
  },
  {
   "cell_type": "code",
   "execution_count": 274,
   "id": "cc86ff77",
   "metadata": {},
   "outputs": [],
   "source": [
    "EN_pred_med = [np.median(r) for r in [ap3, bp3, cp3, dp3, ep3, fp3]]\n",
    "EN_pred_err = [[np.median(r) - np.quantile(r, 0.25) for r in [ap3, bp3, cp3, dp3, ep3, fp3]], [np.quantile(r, 0.75) - np.median(r) for r in [ap3, bp3, cp3, dp3, ep3, fp3]]]"
   ]
  },
  {
   "cell_type": "code",
   "execution_count": 275,
   "id": "5a8cfea9",
   "metadata": {},
   "outputs": [],
   "source": [
    "FL_pred_med = [np.median(r) for r in [ap4, bp4, cp4, dp4, ep4, fp4]]\n",
    "FL_pred_err = [[np.median(r) - np.quantile(r, 0.25) for r in [ap4, bp4, cp4, dp4, ep4, fp4]], [np.quantile(r, 0.75) - np.median(r) for r in [ap4, bp4, cp4, dp4, ep4, fp4]]]"
   ]
  },
  {
   "cell_type": "code",
   "execution_count": 276,
   "id": "b6de5c79",
   "metadata": {},
   "outputs": [],
   "source": [
    "SL_pred_med = [np.median(r) for r in [ap5, bp5, cp5, dp5, ep5, fp5]]\n",
    "SL_pred_err = [[np.median(r) - np.quantile(r, 0.25) for r in [ap5, bp5, cp5, dp5, ep5, fp5]], [np.quantile(r, 0.75) - np.median(r) for r in [ap5, bp5, cp5, dp5, ep5, fp5]]]"
   ]
  },
  {
   "cell_type": "code",
   "execution_count": 277,
   "id": "5b9f8046",
   "metadata": {},
   "outputs": [],
   "source": [
    "GTVEST_pred_med = [np.median(r) for r in [ap6, bp6, cp6, dp6, ep6, fp6]]\n",
    "GTVEST_pred_err = [[np.median(r) - np.quantile(r, 0.25) for r in [ap6, bp6, cp6, dp6, ep6, fp6]], [np.quantile(r, 0.75) - np.median(r) for r in [ap6, bp6, cp6, dp6, ep6, fp6]]]"
   ]
  },
  {
   "cell_type": "code",
   "execution_count": 278,
   "id": "f940fa83",
   "metadata": {},
   "outputs": [],
   "source": [
    "GTVORC_pred_med = [np.median(r) for r in [ap7, bp7, cp7, dp7, ep7, fp7]]\n",
    "GTVORC_pred_err = [[np.median(r) - np.quantile(r, 0.25) for r in [ap7, bp7, cp7, dp7, ep7, fp7]], [np.quantile(r, 0.75) - np.median(r) for r in [ap7, bp7, cp7, dp7, ep7, fp7]]]"
   ]
  },
  {
   "cell_type": "code",
   "execution_count": 279,
   "id": "4c50f96f",
   "metadata": {},
   "outputs": [],
   "source": [
    "GEN_pred_med = [np.median(r) for r in [ap8, bp8, cp8, dp8, ep8, fp8]]\n",
    "GEN_pred_err = [[np.median(r) - np.quantile(r, 0.25) for r in [ap8, bp8, cp8, dp8, ep8, fp8]], [np.quantile(r, 0.75) - np.median(r) for r in [ap8, bp8, cp8, dp8, ep8, fp8]]]"
   ]
  },
  {
   "cell_type": "code",
   "execution_count": 280,
   "id": "4001f1f6",
   "metadata": {
    "scrolled": true
   },
   "outputs": [
    {
     "data": {
      "image/png": "[encoded data removed]",
      "text/plain": [
       "<Figure size 432x288 with 1 Axes>"
      ]
     },
     "metadata": {
      "needs_background": "light"
     },
     "output_type": "display_data"
    }
   ],
   "source": [
    "plt.errorbar(xs, LA_pred_med, yerr = LA_pred_err, capsize = 2, color = 'brown', label = \"OLS, LASSO\")\n",
    "plt.errorbar(xs, EN_pred_med, yerr = EN_pred_err, color = 'violet', fmt = '--',label = \"EN\")\n",
    "plt.errorbar(xs, FL_pred_med, yerr = FL_pred_err, fmt = '-.',color = 'orange', label = \"FL\")\n",
    "plt.errorbar(xs, SL_pred_med, yerr = SL_pred_err, fmt = '-.', color = 'red', label = \"SL\")\n",
    "plt.errorbar(xs, GTVEST_pred_med, yerr = GTVEST_pred_err, capsize = 2,color = 'steelblue', label = \"GTV\")\n",
    "plt.errorbar(xs, GTVORC_pred_med, yerr = GTVORC_pred_err, color = 'deepskyblue', fmt = '--',label = \"GTV-oracle\", linewidth = 1.5)\n",
    "plt.errorbar(xs, GEN_pred_med, yerr = GEN_pred_err, capsize = 2, color = 'green', label = \"GEN\")\n",
    "plt.yscale(\"log\")\n",
    "plt.yticks([1, 10, 100, 1000], size = 12)\n",
    "plt.xticks(xs, size = 12)\n",
    "plt.xlabel(r\"n\", size = 14)\n",
    "plt.ylabel(r'$\\frac{1}{n}\\| X_{\\mathrm{test}}(\\hat{\\beta} - \\beta^*)\\|_2^2$', size = 14)\n",
    "plt.savefig('145b_v2.jpg', bbox_inches='tight', dpi = 600)"
   ]
  },
  {
   "cell_type": "code",
   "execution_count": null,
   "id": "678ab740",
   "metadata": {},
   "outputs": [],
   "source": []
  }
 ],
 "metadata": {
  "kernelspec": {
   "display_name": "Python 3",
   "language": "python",
   "name": "python3"
  },
  "language_info": {
   "codemirror_mode": {
    "name": "ipython",
    "version": 3
   },
   "file_extension": ".py",
   "mimetype": "text/x-python",
   "name": "python",
   "nbconvert_exporter": "python",
   "pygments_lexer": "ipython3",
   "version": "3.8.8"
  }
 },
 "nbformat": 4,
 "nbformat_minor": 5
}
