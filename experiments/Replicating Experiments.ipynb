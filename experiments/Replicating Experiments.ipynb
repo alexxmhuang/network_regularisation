{
 "cells": [
  {
   "cell_type": "code",
   "execution_count": 2,
   "metadata": {},
   "outputs": [],
   "source": [
    "%matplotlib inline\n",
    "import matplotlib.pyplot as plt\n",
    "import numpy as np\n",
    "import pandas as pd\n",
    "import seaborn as sb"
   ]
  },
  {
   "cell_type": "markdown",
   "metadata": {},
   "source": [
    "# Experiment a\n",
    "[$\\sigma$/$\\rho$]: No particularities. We fix $p = 8$ and $n = 20$. Here only $\\beta^*_1$ , $\\beta^*_2$ and $\\beta^*_5$ are nonzero and equal respectively 3, 1.5 and 2. Moreover, for $j, k \\in \\{1, \\cdots , 8\\}$ the design correlation matrix $\\Psi$ is defined by  $\\Psi_{j,k} = \\rho -|j-k|$ where $\\rho \\in (0, 1)$.\n",
    "                       "
   ]
  },
  {
   "cell_type": "code",
   "execution_count": 37,
   "metadata": {},
   "outputs": [
    {
     "data": {
      "image/png": "[encoded data removed]",
      "text/plain": [
       "<Figure size 432x288 with 2 Axes>"
      ]
     },
     "metadata": {
      "needs_background": "light"
     },
     "output_type": "display_data"
    }
   ],
   "source": [
    "p = 8\n",
    "n = 20\n",
    "rho = 0.5\n",
    "sigma = 3\n",
    "beta_star  = np.array([3.,1.5,0,0,2] + [0] * (p-5))\n",
    "Psi = np.zeros((p, p))\n",
    "for j in range(8):\n",
    "    for k in range(8):\n",
    "        Psi[j, k] = np.exp(abs(j-k) * np.log(rho))\n",
    "sb.heatmap(Psi)\n",
    "x = np.random.multivariate_normal(mean = np.zeros(p), cov=Psi, size=n)\n",
    "y = x.dot(beta_star) + sigma * np.random.normal(size=n)"
   ]
  },
  {
   "cell_type": "code",
   "execution_count": 40,
   "metadata": {},
   "outputs": [
    {
     "ename": "ImportError",
     "evalue": "dlopen(/Users/cdonnat/anaconda3/lib/python3.8/site-packages/_glmnet.cpython-38-darwin.so, 2): Library not loaded: /usr/local/opt/gcc/lib/gcc/9/libgfortran.5.dylib\n  Referenced from: /Users/cdonnat/anaconda3/lib/python3.8/site-packages/_glmnet.cpython-38-darwin.so\n  Reason: image not found",
     "output_type": "error",
     "traceback": [
      "\u001b[0;31m---------------------------------------------------------------------------\u001b[0m",
      "\u001b[0;31mImportError\u001b[0m                               Traceback (most recent call last)",
      "\u001b[0;32m<ipython-input-40-4b70af50723e>\u001b[0m in \u001b[0;36m<module>\u001b[0;34m\u001b[0m\n\u001b[1;32m      1\u001b[0m \u001b[0;31m#### Need to implement all of the Lasso procedures\u001b[0m\u001b[0;34m\u001b[0m\u001b[0;34m\u001b[0m\u001b[0;34m\u001b[0m\u001b[0m\n\u001b[0;32m----> 2\u001b[0;31m \u001b[0;32mfrom\u001b[0m \u001b[0mglmnet\u001b[0m \u001b[0;32mimport\u001b[0m \u001b[0mElasticNet\u001b[0m\u001b[0;34m\u001b[0m\u001b[0;34m\u001b[0m\u001b[0m\n\u001b[0m\u001b[1;32m      3\u001b[0m \u001b[0;34m\u001b[0m\u001b[0m\n\u001b[1;32m      4\u001b[0m \u001b[0mm\u001b[0m \u001b[0;34m=\u001b[0m \u001b[0mElasticNet\u001b[0m\u001b[0;34m(\u001b[0m\u001b[0;34m)\u001b[0m\u001b[0;34m\u001b[0m\u001b[0;34m\u001b[0m\u001b[0m\n\u001b[1;32m      5\u001b[0m \u001b[0mm\u001b[0m \u001b[0;34m=\u001b[0m \u001b[0mm\u001b[0m\u001b[0;34m.\u001b[0m\u001b[0mfit\u001b[0m\u001b[0;34m(\u001b[0m\u001b[0mx\u001b[0m\u001b[0;34m,\u001b[0m \u001b[0my\u001b[0m\u001b[0;34m)\u001b[0m\u001b[0;34m\u001b[0m\u001b[0;34m\u001b[0m\u001b[0m\n",
      "\u001b[0;32m~/anaconda3/lib/python3.8/site-packages/glmnet/__init__.py\u001b[0m in \u001b[0;36m<module>\u001b[0;34m\u001b[0m\n\u001b[1;32m      1\u001b[0m \u001b[0;32mimport\u001b[0m \u001b[0mpkg_resources\u001b[0m\u001b[0;34m\u001b[0m\u001b[0;34m\u001b[0m\u001b[0m\n\u001b[1;32m      2\u001b[0m \u001b[0;34m\u001b[0m\u001b[0m\n\u001b[0;32m----> 3\u001b[0;31m \u001b[0;32mfrom\u001b[0m \u001b[0;34m.\u001b[0m\u001b[0mlogistic\u001b[0m \u001b[0;32mimport\u001b[0m \u001b[0mLogitNet\u001b[0m\u001b[0;34m\u001b[0m\u001b[0;34m\u001b[0m\u001b[0m\n\u001b[0m\u001b[1;32m      4\u001b[0m \u001b[0;32mfrom\u001b[0m \u001b[0;34m.\u001b[0m\u001b[0mlinear\u001b[0m \u001b[0;32mimport\u001b[0m \u001b[0mElasticNet\u001b[0m\u001b[0;34m\u001b[0m\u001b[0;34m\u001b[0m\u001b[0m\n\u001b[1;32m      5\u001b[0m \u001b[0;34m\u001b[0m\u001b[0m\n",
      "\u001b[0;32m~/anaconda3/lib/python3.8/site-packages/glmnet/logistic.py\u001b[0m in \u001b[0;36m<module>\u001b[0;34m\u001b[0m\n\u001b[1;32m     12\u001b[0m \u001b[0;34m\u001b[0m\u001b[0m\n\u001b[1;32m     13\u001b[0m \u001b[0;32mfrom\u001b[0m \u001b[0;34m.\u001b[0m\u001b[0merrors\u001b[0m \u001b[0;32mimport\u001b[0m \u001b[0m_check_error_flag\u001b[0m\u001b[0;34m\u001b[0m\u001b[0;34m\u001b[0m\u001b[0m\n\u001b[0;32m---> 14\u001b[0;31m \u001b[0;32mfrom\u001b[0m \u001b[0m_glmnet\u001b[0m \u001b[0;32mimport\u001b[0m \u001b[0mlognet\u001b[0m\u001b[0;34m,\u001b[0m \u001b[0msplognet\u001b[0m\u001b[0;34m,\u001b[0m \u001b[0mlsolns\u001b[0m\u001b[0;34m\u001b[0m\u001b[0;34m\u001b[0m\u001b[0m\n\u001b[0m\u001b[1;32m     15\u001b[0m from glmnet.util import (_fix_lambda_path,\n\u001b[1;32m     16\u001b[0m                          \u001b[0m_check_user_lambda\u001b[0m\u001b[0;34m,\u001b[0m\u001b[0;34m\u001b[0m\u001b[0;34m\u001b[0m\u001b[0m\n",
      "\u001b[0;31mImportError\u001b[0m: dlopen(/Users/cdonnat/anaconda3/lib/python3.8/site-packages/_glmnet.cpython-38-darwin.so, 2): Library not loaded: /usr/local/opt/gcc/lib/gcc/9/libgfortran.5.dylib\n  Referenced from: /Users/cdonnat/anaconda3/lib/python3.8/site-packages/_glmnet.cpython-38-darwin.so\n  Reason: image not found"
     ]
    }
   ],
   "source": [
    "#### Need to implement all of the Lasso procedures\n",
    "from glmnet import ElasticNet\n",
    "\n",
    "m = ElasticNet()\n",
    "m = m.fit(x, y)\n",
    "\n"
   ]
  },
  {
   "cell_type": "code",
   "execution_count": 20,
   "metadata": {},
   "outputs": [
    {
     "data": {
      "text/plain": [
       "array([[-2.7415679 , -2.03549154, -3.29444953, -1.75667729, -2.02689654,\n",
       "        -2.15844128,  0.86255149, -1.80979519],\n",
       "       [ 0.75306851,  1.27806113,  2.2167451 , -0.82794882, -3.54796325,\n",
       "        -3.04559172, -5.3832823 , -6.6453838 ],\n",
       "       [-0.43324146, -0.86913505, -1.31777697, -1.57456422,  0.68305356,\n",
       "        -1.99404905, -1.16645261, -0.01973835],\n",
       "       [-1.96885843, -1.74906844, -2.50704445, -4.55531901, -2.12153586,\n",
       "         0.08492106,  1.47774819,  4.28208594],\n",
       "       [-0.02481336,  0.10493241,  3.67169504,  0.87971161, -1.05842317,\n",
       "        -1.69779367, -3.5265808 , -3.34579398],\n",
       "       [ 2.44498616,  0.54111383, -0.41023016,  0.57408137, -1.20292216,\n",
       "         0.18565757, -0.88830289, -3.04089449],\n",
       "       [-2.18305876,  2.67712047,  0.05017059,  0.85380791,  0.89445338,\n",
       "        -2.07029579, -0.36869862,  0.37895794],\n",
       "       [ 1.21080085,  0.01608554, -1.00671207, -2.27054615, -1.55591897,\n",
       "         1.73467264, -0.29291077,  1.49347967],\n",
       "       [-0.90246512, -4.34037002, -6.33347145, -4.27743933, -2.27264045,\n",
       "        -0.58536257,  1.66312052,  5.63821355],\n",
       "       [ 1.52487102, -0.01539588, -0.7566971 , -2.54551639,  2.24298424,\n",
       "         0.38695066, -1.37744164, -0.79173418],\n",
       "       [ 1.99095191,  3.20339759,  0.83945685, -0.68178845, -0.26345846,\n",
       "         0.95370954, -0.94227992, -2.23348252],\n",
       "       [ 0.51236015, -2.34114304, -2.46540412, -3.43951722, -3.27656682,\n",
       "        -3.96223638, -1.95012699, -2.25302958],\n",
       "       [-1.60874561, -0.22209552, -1.61025262, -1.28541804, -3.35148707,\n",
       "        -2.28877811, -1.47588998, -3.84487098],\n",
       "       [-0.27250784,  1.50127835,  0.51209616,  0.83685711,  1.26979211,\n",
       "         1.16384763, -0.80411169, -3.58284617],\n",
       "       [ 0.16564068, -1.48756771, -2.02164592, -1.55591997, -4.02397189,\n",
       "        -2.33119523, -1.81791187, -3.34000085],\n",
       "       [-0.38399411,  0.4394418 , -0.75072064, -1.66434797, -0.86535972,\n",
       "         1.05473039,  0.94841002,  1.91407948],\n",
       "       [-1.67668435, -2.49880486,  0.72323616,  0.13112293,  0.75227408,\n",
       "         4.89708529,  4.768207  ,  4.47069496],\n",
       "       [-4.40700785, -2.70186144, -2.28558682, -0.20819429, -0.6406761 ,\n",
       "        -3.70257748, -4.70787887, -5.41431326],\n",
       "       [ 0.66062663, -1.8065201 ,  0.65769248, -1.48815617, -0.607642  ,\n",
       "        -2.65617801, -5.39661293, -3.15432551],\n",
       "       [-0.41063693, -0.69672428,  1.02874375,  0.34447938,  0.75832233,\n",
       "         1.20045696,  1.19412837, -0.27387022]])"
      ]
     },
     "execution_count": 20,
     "metadata": {},
     "output_type": "execute_result"
    }
   ],
   "source": [
    "x"
   ]
  },
  {
   "cell_type": "code",
   "execution_count": null,
   "metadata": {},
   "outputs": [],
   "source": []
  }
 ],
 "metadata": {
  "kernelspec": {
   "display_name": "Python 3 (ipykernel)",
   "language": "python",
   "name": "python3"
  },
  "language_info": {
   "codemirror_mode": {
    "name": "ipython",
    "version": 3
   },
   "file_extension": ".py",
   "mimetype": "text/x-python",
   "name": "python",
   "nbconvert_exporter": "python",
   "pygments_lexer": "ipython3",
   "version": "3.9.12"
  }
 },
 "nbformat": 4,
 "nbformat_minor": 4
}
