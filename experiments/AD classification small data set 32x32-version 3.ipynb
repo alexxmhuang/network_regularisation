{
 "cells": [
  {
   "cell_type": "markdown",
   "id": "75eed298",
   "metadata": {},
   "source": [
    "### Version 2. CV score is still loglik\n",
    "\n",
    "### Compare FL, SL, GEN, and Logistic regressions (LASSO, Ridge, without penalty - Sklearn)\n",
    "#### Original image size is 128 X 128. Here we compress it to 32 x 32\n",
    "#### Orignal data has 4 classes from not demented to moderate demented. Here we pick 800 images from non-demented labelled as \"healthy\" - 0, and 400 mild-demented images labelled as \"sick\" - 1 for a binary classification task. The tuning set is 40% of the whole data; training set 40% and test set 20%: 480/480/240, and p = 1024"
   ]
  },
  {
   "cell_type": "code",
   "execution_count": 1,
   "id": "14a87b17",
   "metadata": {},
   "outputs": [],
   "source": [
    "import cv2\n",
    "import PIL\n",
    "import matplotlib.pyplot as plt \n",
    "import numpy as np \n",
    "import pathlib "
   ]
  },
  {
   "cell_type": "code",
   "execution_count": 2,
   "id": "7fd80ab9",
   "metadata": {},
   "outputs": [],
   "source": [
    "path = 'C:/Users/sswei/Desktop/running time/AD3/'\n",
    "data_dir = pathlib.Path(path)"
   ]
  },
  {
   "cell_type": "code",
   "execution_count": 3,
   "id": "990358fb",
   "metadata": {},
   "outputs": [],
   "source": [
    "sick = list(data_dir.glob('1/*'))"
   ]
  },
  {
   "cell_type": "code",
   "execution_count": 4,
   "id": "3ada76b7",
   "metadata": {},
   "outputs": [],
   "source": [
    "healthy = list(data_dir.glob('0/*'))"
   ]
  },
  {
   "cell_type": "code",
   "execution_count": 5,
   "id": "b3999cb2",
   "metadata": {},
   "outputs": [
    {
     "data": {
      "text/plain": [
       "800"
      ]
     },
     "execution_count": 5,
     "metadata": {},
     "output_type": "execute_result"
    }
   ],
   "source": [
    "len(healthy)"
   ]
  },
  {
   "cell_type": "markdown",
   "id": "5771161b",
   "metadata": {},
   "source": [
    "### Compress image size to 32 x 32 pixels (speed up experiments)"
   ]
  },
  {
   "cell_type": "code",
   "execution_count": 6,
   "id": "49f91f0a",
   "metadata": {},
   "outputs": [],
   "source": [
    "X1_all = np.vstack([np.asarray(cv2.resize(plt.imread(str(sick[i])), (32, 32))).flatten() for i in range(len(sick))])"
   ]
  },
  {
   "cell_type": "code",
   "execution_count": 7,
   "id": "3c0e4f71",
   "metadata": {},
   "outputs": [],
   "source": [
    "y1_all = np.ones(len(sick))"
   ]
  },
  {
   "cell_type": "code",
   "execution_count": 8,
   "id": "2b3adc34",
   "metadata": {},
   "outputs": [],
   "source": [
    "X0_all = np.vstack([np.asarray(cv2.resize(plt.imread(str(healthy[i])), (32, 32))).flatten() for i in range(len(healthy))])"
   ]
  },
  {
   "cell_type": "code",
   "execution_count": 9,
   "id": "e03181e3",
   "metadata": {},
   "outputs": [],
   "source": [
    "y0_all = np.zeros(len(healthy))"
   ]
  },
  {
   "cell_type": "markdown",
   "id": "a8da0f50",
   "metadata": {},
   "source": [
    "#### Make tuning, train, test sets"
   ]
  },
  {
   "cell_type": "code",
   "execution_count": 10,
   "id": "3c5e502d",
   "metadata": {},
   "outputs": [],
   "source": [
    "from sklearn.model_selection import train_test_split"
   ]
  },
  {
   "cell_type": "code",
   "execution_count": 11,
   "id": "6f395cbe",
   "metadata": {},
   "outputs": [],
   "source": [
    "X1_train, X1_test, y1_train, y1_test = train_test_split(X1_all, y1_all, test_size=0.2, random_state=42)"
   ]
  },
  {
   "cell_type": "code",
   "execution_count": 12,
   "id": "226d80cc",
   "metadata": {},
   "outputs": [],
   "source": [
    "X1_train, X1_val, y1_train, y1_val = train_test_split(X1_train, y1_train, test_size=0.5, random_state=42)"
   ]
  },
  {
   "cell_type": "code",
   "execution_count": 13,
   "id": "ef22048a",
   "metadata": {},
   "outputs": [],
   "source": [
    "X0_train, X0_test, y0_train, y0_test = train_test_split(X0_all, y0_all, test_size=0.2, random_state=42)"
   ]
  },
  {
   "cell_type": "code",
   "execution_count": 14,
   "id": "84f2ffac",
   "metadata": {},
   "outputs": [],
   "source": [
    "X0_train, X0_val, y0_train, y0_val = train_test_split(X0_train, y0_train, test_size=0.5, random_state=42)"
   ]
  },
  {
   "cell_type": "code",
   "execution_count": 15,
   "id": "ea8ee6db",
   "metadata": {},
   "outputs": [],
   "source": [
    "X_train = np.concatenate((X1_train, X0_train))"
   ]
  },
  {
   "cell_type": "code",
   "execution_count": 16,
   "id": "e633000e",
   "metadata": {},
   "outputs": [],
   "source": [
    "y_train  = np.concatenate((y1_train, y0_train))"
   ]
  },
  {
   "cell_type": "code",
   "execution_count": 17,
   "id": "a2674ed8",
   "metadata": {},
   "outputs": [],
   "source": [
    "X_test = np.concatenate((X1_test, X0_test))\n",
    "y_test  = np.concatenate((y1_test, y0_test))"
   ]
  },
  {
   "cell_type": "code",
   "execution_count": 18,
   "id": "9d3ef132",
   "metadata": {},
   "outputs": [],
   "source": [
    "X_val = np.concatenate((X1_val, X0_val))\n",
    "y_val  = np.concatenate((y1_val, y0_val))"
   ]
  },
  {
   "cell_type": "markdown",
   "id": "15dcba6b",
   "metadata": {},
   "source": [
    "### normalize each feature to have mean 0, std 1"
   ]
  },
  {
   "cell_type": "code",
   "execution_count": 19,
   "id": "41dbc55a",
   "metadata": {},
   "outputs": [],
   "source": [
    "from sklearn import preprocessing"
   ]
  },
  {
   "cell_type": "code",
   "execution_count": 20,
   "id": "6d29b71a",
   "metadata": {},
   "outputs": [],
   "source": [
    "X_test = preprocessing.StandardScaler().fit(X_test).transform(X_test)"
   ]
  },
  {
   "cell_type": "code",
   "execution_count": 21,
   "id": "090c665c",
   "metadata": {},
   "outputs": [],
   "source": [
    "X_train = preprocessing.StandardScaler().fit(X_train).transform(X_train)"
   ]
  },
  {
   "cell_type": "code",
   "execution_count": 22,
   "id": "d76e4534",
   "metadata": {},
   "outputs": [],
   "source": [
    "X_val = preprocessing.StandardScaler().fit(X_val).transform(X_val)"
   ]
  },
  {
   "attachments": {},
   "cell_type": "markdown",
   "id": "eea669b4",
   "metadata": {},
   "source": [
    "#### Fit graph based models: \n",
    "#### graph: 2-D grid graph of size 32x32\n",
    "#### Tuning over version 2 grid: gridlogit  = {'l1': [0, 0.005, 0.01, 0.1, 0.2, 0.5], 'l2': [0, 0.005, 0.01, 0.1, 0.2, 0.5]} (modify in signals.py)"
   ]
  },
  {
   "cell_type": "code",
   "execution_count": 23,
   "id": "d61d1799",
   "metadata": {},
   "outputs": [],
   "source": [
    "from signals import *\n",
    "from skest import *"
   ]
  },
  {
   "cell_type": "code",
   "execution_count": 24,
   "id": "44f3945e",
   "metadata": {},
   "outputs": [],
   "source": [
    "D = grid_incidence(32)"
   ]
  },
  {
   "cell_type": "code",
   "execution_count": 25,
   "id": "7b659925",
   "metadata": {},
   "outputs": [
    {
     "data": {
      "text/plain": [
       "(480, 1024)"
      ]
     },
     "execution_count": 25,
     "metadata": {},
     "output_type": "execute_result"
    }
   ],
   "source": [
    "X_val.shape"
   ]
  },
  {
   "cell_type": "markdown",
   "id": "a0b4e838",
   "metadata": {},
   "source": [
    "##### Tuning\n",
    "##### Note that here we are using loglikelihood as cv scorer\n",
    "#### Caution! GridsearchCV default does not shuffle the data. Here it is necessary to shuffle. ? Seems to make no difference"
   ]
  },
  {
   "cell_type": "code",
   "execution_count": 26,
   "id": "719da27f",
   "metadata": {},
   "outputs": [],
   "source": [
    "from sklearn.utils import shuffle\n",
    "X_val, y_val = shuffle(X_val, y_val)"
   ]
  },
  {
   "cell_type": "code",
   "execution_count": 27,
   "id": "923303c9",
   "metadata": {},
   "outputs": [
    {
     "data": {
      "text/plain": [
       "({'l1': 0, 'l2': 0.005}, 321.8581862449646)"
      ]
     },
     "execution_count": 27,
     "metadata": {},
     "output_type": "execute_result"
    }
   ],
   "source": [
    "naive_cv_logit(Log_FL, X_val, y_val, D) "
   ]
  },
  {
   "cell_type": "code",
   "execution_count": 28,
   "id": "a60b812f",
   "metadata": {},
   "outputs": [
    {
     "data": {
      "text/plain": [
       "({'l1': 0.005, 'l2': 0.005}, 309.5065143108368)"
      ]
     },
     "execution_count": 28,
     "metadata": {},
     "output_type": "execute_result"
    }
   ],
   "source": [
    "naive_cv_logit(Log_SL, X_val, y_val, D) "
   ]
  },
  {
   "cell_type": "code",
   "execution_count": 29,
   "id": "eb5f3f69",
   "metadata": {},
   "outputs": [
    {
     "data": {
      "text/plain": [
       "({'l1': 0, 'l2': 0.01}, 341.92374634742737)"
      ]
     },
     "execution_count": 29,
     "metadata": {},
     "output_type": "execute_result"
    }
   ],
   "source": [
    "naive_cv_logit(Log_OUR, X_val, y_val, D) "
   ]
  },
  {
   "cell_type": "markdown",
   "id": "26acd483",
   "metadata": {},
   "source": [
    "##### Fitting graph based methods"
   ]
  },
  {
   "cell_type": "code",
   "execution_count": 30,
   "id": "790d7575",
   "metadata": {},
   "outputs": [],
   "source": [
    "X_train, y_train = shuffle(X_train, y_train)"
   ]
  },
  {
   "cell_type": "code",
   "execution_count": 31,
   "id": "d67c11d6",
   "metadata": {},
   "outputs": [],
   "source": [
    "clf1 = Log_FL(0, 0.005, D).fit(X_train, y_train)"
   ]
  },
  {
   "cell_type": "code",
   "execution_count": 32,
   "id": "21b3c815",
   "metadata": {},
   "outputs": [],
   "source": [
    "clf2 = Log_SL(0.005, 0.005, D).fit(X_train, y_train)"
   ]
  },
  {
   "cell_type": "code",
   "execution_count": 33,
   "id": "60c1b789",
   "metadata": {},
   "outputs": [],
   "source": [
    "clf3 = Log_OUR(0, 0.01, D).fit(X_train, y_train)"
   ]
  },
  {
   "cell_type": "markdown",
   "id": "8039df1c",
   "metadata": {},
   "source": [
    "##### Prediction Accuracy and sensitivity"
   ]
  },
  {
   "cell_type": "code",
   "execution_count": 34,
   "id": "cf4bd90f",
   "metadata": {},
   "outputs": [],
   "source": [
    "def acc(clf):\n",
    "    return 1 - np.sum(np.abs(y_test - clf.predict(X_test)))/len(y_test)\n",
    "def sen(clf):\n",
    "    return 1 - np.sum(np.abs(y_test[y_test == 1] - clf.predict(X_test[y_test == 1])))/len(y_test[y_test == 1])"
   ]
  },
  {
   "cell_type": "code",
   "execution_count": 35,
   "id": "10ed7d98",
   "metadata": {},
   "outputs": [],
   "source": [
    "X_test, y_test = shuffle(X_test, y_test)"
   ]
  },
  {
   "cell_type": "markdown",
   "id": "ea275ad1",
   "metadata": {},
   "source": [
    "##### FL: \n",
    "##### accuracy"
   ]
  },
  {
   "cell_type": "code",
   "execution_count": 36,
   "id": "57168472",
   "metadata": {},
   "outputs": [
    {
     "data": {
      "text/plain": [
       "0.8541666666666666"
      ]
     },
     "execution_count": 36,
     "metadata": {},
     "output_type": "execute_result"
    }
   ],
   "source": [
    "acc(clf1)"
   ]
  },
  {
   "cell_type": "markdown",
   "id": "edfa990f",
   "metadata": {},
   "source": [
    "##### sensitivity:"
   ]
  },
  {
   "cell_type": "code",
   "execution_count": 37,
   "id": "452310e8",
   "metadata": {},
   "outputs": [
    {
     "data": {
      "text/plain": [
       "0.675"
      ]
     },
     "execution_count": 37,
     "metadata": {},
     "output_type": "execute_result"
    }
   ],
   "source": [
    "sen(clf1)"
   ]
  },
  {
   "cell_type": "markdown",
   "id": "ca6ba581",
   "metadata": {},
   "source": [
    "##### SL:"
   ]
  },
  {
   "cell_type": "code",
   "execution_count": 38,
   "id": "e9dd51a3",
   "metadata": {},
   "outputs": [
    {
     "data": {
      "text/plain": [
       "0.8916666666666666"
      ]
     },
     "execution_count": 38,
     "metadata": {},
     "output_type": "execute_result"
    }
   ],
   "source": [
    "acc(clf2)"
   ]
  },
  {
   "cell_type": "code",
   "execution_count": 39,
   "id": "fa17ba50",
   "metadata": {},
   "outputs": [
    {
     "data": {
      "text/plain": [
       "0.7375"
      ]
     },
     "execution_count": 39,
     "metadata": {},
     "output_type": "execute_result"
    }
   ],
   "source": [
    "sen(clf2)"
   ]
  },
  {
   "cell_type": "markdown",
   "id": "656c906b",
   "metadata": {},
   "source": [
    "##### GEN:"
   ]
  },
  {
   "cell_type": "code",
   "execution_count": 40,
   "id": "1f27992b",
   "metadata": {},
   "outputs": [
    {
     "data": {
      "text/plain": [
       "0.9041666666666667"
      ]
     },
     "execution_count": 40,
     "metadata": {},
     "output_type": "execute_result"
    }
   ],
   "source": [
    "acc(clf3)"
   ]
  },
  {
   "cell_type": "code",
   "execution_count": 41,
   "id": "23d8f62f",
   "metadata": {
    "scrolled": false
   },
   "outputs": [
    {
     "data": {
      "text/plain": [
       "0.7875"
      ]
     },
     "execution_count": 41,
     "metadata": {},
     "output_type": "execute_result"
    }
   ],
   "source": [
    "sen(clf3)"
   ]
  },
  {
   "cell_type": "markdown",
   "id": "a163345b",
   "metadata": {},
   "source": [
    "#### We may also compare to Logistic regression methods (ridge, lasso, non-penalty)"
   ]
  },
  {
   "cell_type": "code",
   "execution_count": 47,
   "id": "7fd61146",
   "metadata": {},
   "outputs": [],
   "source": [
    "import sklearn.linear_model"
   ]
  },
  {
   "cell_type": "markdown",
   "id": "acfcc59f",
   "metadata": {},
   "source": [
    "#### Without any penalty"
   ]
  },
  {
   "cell_type": "code",
   "execution_count": 48,
   "id": "622d133a",
   "metadata": {},
   "outputs": [],
   "source": [
    "clf4 = sklearn.linear_model.LogisticRegression(penalty = 'none')"
   ]
  },
  {
   "cell_type": "code",
   "execution_count": 49,
   "id": "476f9361",
   "metadata": {
    "scrolled": true
   },
   "outputs": [
    {
     "data": {
      "text/plain": [
       "LogisticRegression(penalty='none')"
      ]
     },
     "execution_count": 49,
     "metadata": {},
     "output_type": "execute_result"
    }
   ],
   "source": [
    "clf4.fit(X_train, y_train)"
   ]
  },
  {
   "cell_type": "code",
   "execution_count": 50,
   "id": "09dd9272",
   "metadata": {},
   "outputs": [
    {
     "data": {
      "text/plain": [
       "0.9375"
      ]
     },
     "execution_count": 50,
     "metadata": {},
     "output_type": "execute_result"
    }
   ],
   "source": [
    "acc(clf4)"
   ]
  },
  {
   "cell_type": "code",
   "execution_count": 51,
   "id": "af0edfc5",
   "metadata": {},
   "outputs": [
    {
     "data": {
      "text/plain": [
       "0.85"
      ]
     },
     "execution_count": 51,
     "metadata": {},
     "output_type": "execute_result"
    }
   ],
   "source": [
    "sen(clf4)"
   ]
  },
  {
   "cell_type": "markdown",
   "id": "0392ead1",
   "metadata": {},
   "source": [
    "#### lasso"
   ]
  },
  {
   "cell_type": "code",
   "execution_count": 52,
   "id": "32b6ffe5",
   "metadata": {},
   "outputs": [],
   "source": [
    "clf5 = sklearn.linear_model.LogisticRegression(penalty = 'l1', solver = 'saga')"
   ]
  },
  {
   "cell_type": "code",
   "execution_count": 53,
   "id": "c0d9d043",
   "metadata": {},
   "outputs": [
    {
     "name": "stderr",
     "output_type": "stream",
     "text": [
      "C:\\Users\\sswei\\anaconda3\\lib\\site-packages\\sklearn\\linear_model\\_sag.py:328: ConvergenceWarning: The max_iter was reached which means the coef_ did not converge\n",
      "  warnings.warn(\"The max_iter was reached which means \"\n"
     ]
    },
    {
     "data": {
      "text/plain": [
       "LogisticRegression(penalty='l1', solver='saga')"
      ]
     },
     "execution_count": 53,
     "metadata": {},
     "output_type": "execute_result"
    }
   ],
   "source": [
    "clf5.fit(X_train, y_train)"
   ]
  },
  {
   "cell_type": "code",
   "execution_count": 54,
   "id": "bdf70810",
   "metadata": {},
   "outputs": [
    {
     "data": {
      "text/plain": [
       "0.9375"
      ]
     },
     "execution_count": 54,
     "metadata": {},
     "output_type": "execute_result"
    }
   ],
   "source": [
    "acc(clf5)"
   ]
  },
  {
   "cell_type": "code",
   "execution_count": 55,
   "id": "9f92be6c",
   "metadata": {},
   "outputs": [
    {
     "data": {
      "text/plain": [
       "0.8375"
      ]
     },
     "execution_count": 55,
     "metadata": {},
     "output_type": "execute_result"
    }
   ],
   "source": [
    "sen(clf5)"
   ]
  },
  {
   "cell_type": "markdown",
   "id": "5ee1bf69",
   "metadata": {},
   "source": [
    "#### Ridge"
   ]
  },
  {
   "cell_type": "code",
   "execution_count": 64,
   "id": "eda13aa7",
   "metadata": {},
   "outputs": [],
   "source": [
    "clf6 = sklearn.linear_model.LogisticRegression(penalty = 'l2')"
   ]
  },
  {
   "cell_type": "code",
   "execution_count": 65,
   "id": "297099e3",
   "metadata": {},
   "outputs": [
    {
     "data": {
      "text/plain": [
       "LogisticRegression()"
      ]
     },
     "execution_count": 65,
     "metadata": {},
     "output_type": "execute_result"
    }
   ],
   "source": [
    "clf6.fit(X_train, y_train)"
   ]
  },
  {
   "cell_type": "code",
   "execution_count": 66,
   "id": "4586f1d9",
   "metadata": {},
   "outputs": [
    {
     "data": {
      "text/plain": [
       "0.9375"
      ]
     },
     "execution_count": 66,
     "metadata": {},
     "output_type": "execute_result"
    }
   ],
   "source": [
    "acc(clf6)"
   ]
  },
  {
   "cell_type": "code",
   "execution_count": 67,
   "id": "bef2bc9d",
   "metadata": {},
   "outputs": [
    {
     "data": {
      "text/plain": [
       "0.8375"
      ]
     },
     "execution_count": 67,
     "metadata": {},
     "output_type": "execute_result"
    }
   ],
   "source": [
    "sen(clf6)"
   ]
  },
  {
   "cell_type": "markdown",
   "id": "8c13bc9d",
   "metadata": {},
   "source": [
    "## Conclusions:\n",
    "#### The $l_1, l_2$ penalties are too small, might need to modify the loss function (remove the standard 1/n factor for the loss part), so $l_1, l_2 = $0.005 * n ~ 2.5. \n",
    "#### In previous experiments, FL, SL, GEN have better sensitivity than Sklearn Logistic regression methods, but worse accuracy. And GEN has identical performance as the best one out of FL and SL.\n",
    "#### In this experiment, Sklearn Logistic regression methods are better than graph based method. But GEN is better than FL and SL in both accuracy and sensitivity"
   ]
  },
  {
   "cell_type": "code",
   "execution_count": null,
   "id": "c707b56d",
   "metadata": {},
   "outputs": [],
   "source": []
  }
 ],
 "metadata": {
  "kernelspec": {
   "display_name": "Python 3",
   "language": "python",
   "name": "python3"
  },
  "language_info": {
   "codemirror_mode": {
    "name": "ipython",
    "version": 3
   },
   "file_extension": ".py",
   "mimetype": "text/x-python",
   "name": "python",
   "nbconvert_exporter": "python",
   "pygments_lexer": "ipython3",
   "version": "3.8.8"
  }
 },
 "nbformat": 4,
 "nbformat_minor": 5
}
