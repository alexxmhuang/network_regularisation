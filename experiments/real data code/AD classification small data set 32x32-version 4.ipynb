{
 "cells": [
  {
   "cell_type": "markdown",
   "id": "75eed298",
   "metadata": {},
   "source": [
    "### Version 2. CV score is still loglik\n",
    "\n",
    "### Compare FL, SL, GEN, and Logistic regressions (LASSO, Ridge, without penalty - Sklearn)\n",
    "#### Original image size is 128 X 128. Here we compress it to 32x 32\n",
    "#### Orignal data has 4 classes from not demented to moderate demented. Here we pick 800 images from non-demented labelled as \"healthy\" - 0, and 400 mild-demented images labelled as \"sick\" - 1 for a binary classification task. The tuning set is 40% of the whole data; training set 40% and test set 20%: 480/480/240, and p = 1024"
   ]
  },
  {
   "cell_type": "code",
   "execution_count": 81,
   "id": "14a87b17",
   "metadata": {},
   "outputs": [],
   "source": [
    "import cv2\n",
    "import PIL\n",
    "import matplotlib.pyplot as plt \n",
    "import numpy as np \n",
    "import pathlib "
   ]
  },
  {
   "cell_type": "code",
   "execution_count": 82,
   "id": "7fd80ab9",
   "metadata": {},
   "outputs": [],
   "source": [
    "path = 'C:/Users/sswei/Desktop/running time/AD4/'\n",
    "data_dir = pathlib.Path(path)"
   ]
  },
  {
   "cell_type": "code",
   "execution_count": 83,
   "id": "990358fb",
   "metadata": {},
   "outputs": [],
   "source": [
    "sick = list(data_dir.glob('1/*'))"
   ]
  },
  {
   "cell_type": "code",
   "execution_count": 84,
   "id": "3ada76b7",
   "metadata": {},
   "outputs": [],
   "source": [
    "healthy = list(data_dir.glob('0/*'))"
   ]
  },
  {
   "cell_type": "code",
   "execution_count": 85,
   "id": "b3999cb2",
   "metadata": {},
   "outputs": [
    {
     "data": {
      "text/plain": [
       "800"
      ]
     },
     "execution_count": 85,
     "metadata": {},
     "output_type": "execute_result"
    }
   ],
   "source": [
    "len(healthy)"
   ]
  },
  {
   "cell_type": "markdown",
   "id": "5771161b",
   "metadata": {},
   "source": [
    "### Compress image size to 32x 32 pixels (speed up experiments)"
   ]
  },
  {
   "cell_type": "code",
   "execution_count": 86,
   "id": "49f91f0a",
   "metadata": {},
   "outputs": [],
   "source": [
    "X1_all = np.vstack([np.asarray(cv2.resize(plt.imread(str(sick[i])), (32, 32))).flatten() for i in range(len(sick))])"
   ]
  },
  {
   "cell_type": "code",
   "execution_count": 87,
   "id": "3c0e4f71",
   "metadata": {},
   "outputs": [],
   "source": [
    "y1_all = np.ones(len(sick))"
   ]
  },
  {
   "cell_type": "code",
   "execution_count": 88,
   "id": "2b3adc34",
   "metadata": {},
   "outputs": [],
   "source": [
    "X0_all = np.vstack([np.asarray(cv2.resize(plt.imread(str(healthy[i])), (32, 32))).flatten() for i in range(len(healthy))])"
   ]
  },
  {
   "cell_type": "code",
   "execution_count": 89,
   "id": "e03181e3",
   "metadata": {},
   "outputs": [],
   "source": [
    "y0_all = np.zeros(len(healthy))"
   ]
  },
  {
   "cell_type": "markdown",
   "id": "a8da0f50",
   "metadata": {},
   "source": [
    "#### Make tuning, train, test sets"
   ]
  },
  {
   "cell_type": "code",
   "execution_count": 90,
   "id": "3c5e502d",
   "metadata": {},
   "outputs": [],
   "source": [
    "from sklearn.model_selection import train_test_split"
   ]
  },
  {
   "cell_type": "code",
   "execution_count": 91,
   "id": "6f395cbe",
   "metadata": {},
   "outputs": [],
   "source": [
    "X1_train, X1_test, y1_train, y1_test = train_test_split(X1_all, y1_all, test_size=0.2, random_state=111)"
   ]
  },
  {
   "cell_type": "code",
   "execution_count": 92,
   "id": "226d80cc",
   "metadata": {},
   "outputs": [],
   "source": [
    "X1_train, X1_val, y1_train, y1_val = train_test_split(X1_train, y1_train, test_size=0.5, random_state=111)"
   ]
  },
  {
   "cell_type": "code",
   "execution_count": 93,
   "id": "ef22048a",
   "metadata": {},
   "outputs": [],
   "source": [
    "X0_train, X0_test, y0_train, y0_test = train_test_split(X0_all, y0_all, test_size=0.2, random_state=111)"
   ]
  },
  {
   "cell_type": "code",
   "execution_count": 94,
   "id": "84f2ffac",
   "metadata": {},
   "outputs": [],
   "source": [
    "X0_train, X0_val, y0_train, y0_val = train_test_split(X0_train, y0_train, test_size=0.5, random_state=111)"
   ]
  },
  {
   "cell_type": "code",
   "execution_count": 95,
   "id": "ea8ee6db",
   "metadata": {},
   "outputs": [],
   "source": [
    "X_train = np.concatenate((X1_train, X0_train))"
   ]
  },
  {
   "cell_type": "code",
   "execution_count": 96,
   "id": "e633000e",
   "metadata": {},
   "outputs": [],
   "source": [
    "y_train  = np.concatenate((y1_train, y0_train))"
   ]
  },
  {
   "cell_type": "code",
   "execution_count": 97,
   "id": "a2674ed8",
   "metadata": {},
   "outputs": [],
   "source": [
    "X_test = np.concatenate((X1_test, X0_test))\n",
    "y_test  = np.concatenate((y1_test, y0_test))"
   ]
  },
  {
   "cell_type": "code",
   "execution_count": 98,
   "id": "9d3ef132",
   "metadata": {},
   "outputs": [],
   "source": [
    "X_val = np.concatenate((X1_val, X0_val))\n",
    "y_val  = np.concatenate((y1_val, y0_val))"
   ]
  },
  {
   "cell_type": "markdown",
   "id": "15dcba6b",
   "metadata": {},
   "source": [
    "### normalize each feature to have mean 0, std 1"
   ]
  },
  {
   "cell_type": "code",
   "execution_count": 99,
   "id": "41dbc55a",
   "metadata": {},
   "outputs": [],
   "source": [
    "from sklearn import preprocessing"
   ]
  },
  {
   "cell_type": "code",
   "execution_count": 100,
   "id": "6d29b71a",
   "metadata": {},
   "outputs": [],
   "source": [
    "X_test = preprocessing.StandardScaler().fit(X_test).transform(X_test)"
   ]
  },
  {
   "cell_type": "code",
   "execution_count": 101,
   "id": "090c665c",
   "metadata": {},
   "outputs": [],
   "source": [
    "X_train = preprocessing.StandardScaler().fit(X_train).transform(X_train)"
   ]
  },
  {
   "cell_type": "code",
   "execution_count": 102,
   "id": "d76e4534",
   "metadata": {},
   "outputs": [],
   "source": [
    "X_val = preprocessing.StandardScaler().fit(X_val).transform(X_val)"
   ]
  },
  {
   "cell_type": "markdown",
   "id": "eea669b4",
   "metadata": {},
   "source": [
    "#### Fit graph based models: \n",
    "#### graph: 2-D grid graph of size 32 x 32\n",
    "#### Here I have removed the 1/n factor for loss function\n"
   ]
  },
  {
   "cell_type": "code",
   "execution_count": 103,
   "id": "d61d1799",
   "metadata": {},
   "outputs": [],
   "source": [
    "from signals import *\n",
    "from skest import *"
   ]
  },
  {
   "cell_type": "code",
   "execution_count": 104,
   "id": "44f3945e",
   "metadata": {},
   "outputs": [],
   "source": [
    "D = grid_incidence(32)"
   ]
  },
  {
   "cell_type": "code",
   "execution_count": 105,
   "id": "7b659925",
   "metadata": {},
   "outputs": [
    {
     "data": {
      "text/plain": [
       "(240, 1024)"
      ]
     },
     "execution_count": 105,
     "metadata": {},
     "output_type": "execute_result"
    }
   ],
   "source": [
    "X_test.shape"
   ]
  },
  {
   "cell_type": "markdown",
   "id": "a0b4e838",
   "metadata": {},
   "source": [
    "##### Tuning\n",
    "##### Note that here we are using loglikelihood as cv scorer\n",
    "#### Caution! GridsearchCV default does not shuffle the data. Here it is necessary to shuffle. ? Seems to make no difference"
   ]
  },
  {
   "cell_type": "code",
   "execution_count": 152,
   "id": "719da27f",
   "metadata": {},
   "outputs": [],
   "source": [
    "from sklearn.utils import shuffle\n",
    "X_val, y_val = shuffle(X_val, y_val)"
   ]
  },
  {
   "cell_type": "code",
   "execution_count": 153,
   "id": "6fe43487",
   "metadata": {},
   "outputs": [
    {
     "data": {
      "text/plain": [
       "({'l1': 2.5, 'l2': 0}, 684.8825187683105)"
      ]
     },
     "execution_count": 153,
     "metadata": {},
     "output_type": "execute_result"
    }
   ],
   "source": [
    "naive_cv_logit(Log_LA, X_val, y_val) "
   ]
  },
  {
   "cell_type": "code",
   "execution_count": 154,
   "id": "cad4cddf",
   "metadata": {},
   "outputs": [
    {
     "data": {
      "text/plain": [
       "({'l1': 0, 'l2': 2.5}, 646.5382959842682)"
      ]
     },
     "execution_count": 154,
     "metadata": {},
     "output_type": "execute_result"
    }
   ],
   "source": [
    "naive_cv_logit(Log_EN, X_val, y_val)"
   ]
  },
  {
   "cell_type": "code",
   "execution_count": 155,
   "id": "923303c9",
   "metadata": {},
   "outputs": [
    {
     "data": {
      "text/plain": [
       "({'l1': 0.25, 'l2': 0.5}, 859.0156228542328)"
      ]
     },
     "execution_count": 155,
     "metadata": {},
     "output_type": "execute_result"
    }
   ],
   "source": [
    "naive_cv_logit(Log_FL, X_val, y_val, D) "
   ]
  },
  {
   "cell_type": "code",
   "execution_count": 156,
   "id": "a60b812f",
   "metadata": {},
   "outputs": [
    {
     "data": {
      "text/plain": [
       "({'l1': 0.5, 'l2': 0.5}, 909.1022973060608)"
      ]
     },
     "execution_count": 156,
     "metadata": {},
     "output_type": "execute_result"
    }
   ],
   "source": [
    "naive_cv_logit(Log_SL, X_val, y_val, D) "
   ]
  },
  {
   "cell_type": "code",
   "execution_count": 157,
   "id": "eb5f3f69",
   "metadata": {},
   "outputs": [
    {
     "name": "stderr",
     "output_type": "stream",
     "text": [
      "C:\\Users\\sswei\\anaconda3\\lib\\site-packages\\sklearn\\model_selection\\_search.py:918: UserWarning: One or more of the test scores are non-finite: [-251.78949884  -45.15424384  -41.96805717  -38.15502182  -35.66727853\n",
      "  -34.41608148  -33.63789794  -32.71988405  -31.91128863  -31.5582789\n",
      "  -47.32367599  -39.35191591  -37.89737988  -35.78389262  -34.33593578\n",
      "  -33.4799541   -32.94126242  -32.27420259           nan           nan\n",
      "  -42.49299537  -38.08614374  -36.51676524  -34.82534858  -33.55486783\n",
      "  -32.95344079  -32.54386844  -32.02750147  -31.57361814  -31.53366267\n",
      "  -37.21773974  -35.42624332  -34.49503367  -33.58276042  -32.68915209\n",
      "  -32.24097695  -31.9640274   -31.64057192  -31.47272146  -31.65262524\n",
      "  -34.50592783  -33.75471665  -33.2689477   -32.44578874  -32.06502429\n",
      "  -31.95457152  -31.83097879  -31.78329384  -31.72581063  -32.07490316\n",
      "  -33.41166194  -33.05977764  -32.82529593  -32.3624772   -32.02310281\n",
      "  -31.90975248  -31.90625297  -31.94676594  -32.18172963  -32.70885141\n",
      "  -33.14067733  -33.00651179  -32.90397845  -32.61640535  -32.40079958\n",
      "  -32.34670026  -32.35371424  -32.3878485   -32.64159268  -33.28285893\n",
      "  -33.7273064   -33.72176868  -33.69671787  -33.60249623  -33.58396262\n",
      "  -33.60851081  -33.67674222  -33.78694735  -34.04604674  -34.5854359\n",
      "  -36.15700661  -36.16344246  -36.17347415  -36.204803    -36.25539131\n",
      "  -36.30391531  -36.34850797  -36.47771373  -36.77009782  -37.3393579\n",
      "  -42.11981475  -42.12474579  -42.12999129  -42.14582919  -42.17601753\n",
      "  -42.21441569  -42.25207848  -42.32328157  -42.46063716  -42.7629088 ]\n",
      "  warnings.warn(\n"
     ]
    },
    {
     "data": {
      "text/plain": [
       "({'l1': 0.25, 'l2': 2.5}, 976.7801988124847)"
      ]
     },
     "execution_count": 157,
     "metadata": {},
     "output_type": "execute_result"
    }
   ],
   "source": [
    "naive_cv_logit(Log_OUR, X_val, y_val, D) "
   ]
  },
  {
   "cell_type": "code",
   "execution_count": 27,
   "id": "1e5e5404",
   "metadata": {},
   "outputs": [
    {
     "data": {
      "text/plain": [
       "({'t': 0}, 3.6826977729797363)"
      ]
     },
     "execution_count": 27,
     "metadata": {},
     "output_type": "execute_result"
    }
   ],
   "source": [
    "naive_cv_cov(X_val)"
   ]
  },
  {
   "cell_type": "markdown",
   "id": "26acd483",
   "metadata": {},
   "source": [
    "##### Fitting graph based methods"
   ]
  },
  {
   "cell_type": "code",
   "execution_count": 158,
   "id": "790d7575",
   "metadata": {},
   "outputs": [],
   "source": [
    "X_train, y_train = shuffle(X_train, y_train)"
   ]
  },
  {
   "cell_type": "code",
   "execution_count": 159,
   "id": "d67c11d6",
   "metadata": {},
   "outputs": [],
   "source": [
    "clf1 = Log_FL(0.25, 0.5, D).fit(X_train, y_train)"
   ]
  },
  {
   "cell_type": "code",
   "execution_count": 160,
   "id": "21b3c815",
   "metadata": {},
   "outputs": [],
   "source": [
    "clf2 = Log_SL(0.5, 0.5, D).fit(X_train, y_train)"
   ]
  },
  {
   "cell_type": "code",
   "execution_count": 161,
   "id": "60c1b789",
   "metadata": {},
   "outputs": [],
   "source": [
    "clf3 = Log_OUR(0.25, 2.5, D).fit(X_train, y_train)"
   ]
  },
  {
   "cell_type": "markdown",
   "id": "8039df1c",
   "metadata": {},
   "source": [
    "##### Prediction Accuracy and sensitivity and specificity"
   ]
  },
  {
   "cell_type": "code",
   "execution_count": 162,
   "id": "cf4bd90f",
   "metadata": {},
   "outputs": [],
   "source": [
    "def acc(clf):\n",
    "    return 1 - np.sum(np.abs(y_test - clf.predict(X_test)))/len(y_test)\n",
    "def sen(clf):\n",
    "    return 1 - np.sum(np.abs(y_test[y_test == 1] - clf.predict(X_test[y_test == 1])))/len(y_test[y_test == 1])\n",
    "def spec(clf):\n",
    "    return 1 - np.sum(np.abs(y_test[y_test == 0] - clf.predict(X_test[y_test == 0])))/len(y_test[y_test == 0])"
   ]
  },
  {
   "cell_type": "code",
   "execution_count": 163,
   "id": "10ed7d98",
   "metadata": {},
   "outputs": [],
   "source": [
    "X_test, y_test = shuffle(X_test, y_test)"
   ]
  },
  {
   "cell_type": "markdown",
   "id": "ea275ad1",
   "metadata": {},
   "source": [
    "##### FL: \n",
    "##### accuracy"
   ]
  },
  {
   "cell_type": "code",
   "execution_count": 164,
   "id": "57168472",
   "metadata": {},
   "outputs": [
    {
     "data": {
      "text/plain": [
       "0.9125"
      ]
     },
     "execution_count": 164,
     "metadata": {},
     "output_type": "execute_result"
    }
   ],
   "source": [
    "acc(clf1)"
   ]
  },
  {
   "cell_type": "markdown",
   "id": "edfa990f",
   "metadata": {},
   "source": [
    "##### sensitivity:"
   ]
  },
  {
   "cell_type": "code",
   "execution_count": 165,
   "id": "452310e8",
   "metadata": {},
   "outputs": [
    {
     "data": {
      "text/plain": [
       "0.85"
      ]
     },
     "execution_count": 165,
     "metadata": {},
     "output_type": "execute_result"
    }
   ],
   "source": [
    "sen(clf1)"
   ]
  },
  {
   "cell_type": "markdown",
   "id": "856a9333",
   "metadata": {},
   "source": [
    "##### specificity"
   ]
  },
  {
   "cell_type": "code",
   "execution_count": 166,
   "id": "260344a5",
   "metadata": {},
   "outputs": [
    {
     "data": {
      "text/plain": [
       "0.94375"
      ]
     },
     "execution_count": 166,
     "metadata": {},
     "output_type": "execute_result"
    }
   ],
   "source": [
    "spec(clf1)"
   ]
  },
  {
   "cell_type": "markdown",
   "id": "ca6ba581",
   "metadata": {},
   "source": [
    "##### SL:"
   ]
  },
  {
   "cell_type": "code",
   "execution_count": 167,
   "id": "e9dd51a3",
   "metadata": {},
   "outputs": [
    {
     "data": {
      "text/plain": [
       "0.9208333333333334"
      ]
     },
     "execution_count": 167,
     "metadata": {},
     "output_type": "execute_result"
    }
   ],
   "source": [
    "acc(clf2)"
   ]
  },
  {
   "cell_type": "code",
   "execution_count": 168,
   "id": "fa17ba50",
   "metadata": {},
   "outputs": [
    {
     "data": {
      "text/plain": [
       "0.8625"
      ]
     },
     "execution_count": 168,
     "metadata": {},
     "output_type": "execute_result"
    }
   ],
   "source": [
    "sen(clf2)"
   ]
  },
  {
   "cell_type": "code",
   "execution_count": 169,
   "id": "7183a8de",
   "metadata": {},
   "outputs": [
    {
     "data": {
      "text/plain": [
       "0.95"
      ]
     },
     "execution_count": 169,
     "metadata": {},
     "output_type": "execute_result"
    }
   ],
   "source": [
    "spec(clf2)"
   ]
  },
  {
   "cell_type": "markdown",
   "id": "656c906b",
   "metadata": {},
   "source": [
    "##### GEN:"
   ]
  },
  {
   "cell_type": "code",
   "execution_count": 170,
   "id": "1f27992b",
   "metadata": {},
   "outputs": [
    {
     "data": {
      "text/plain": [
       "0.9291666666666667"
      ]
     },
     "execution_count": 170,
     "metadata": {},
     "output_type": "execute_result"
    }
   ],
   "source": [
    "acc(clf3)"
   ]
  },
  {
   "cell_type": "code",
   "execution_count": 171,
   "id": "23d8f62f",
   "metadata": {
    "scrolled": false
   },
   "outputs": [
    {
     "data": {
      "text/plain": [
       "0.8625"
      ]
     },
     "execution_count": 171,
     "metadata": {},
     "output_type": "execute_result"
    }
   ],
   "source": [
    "sen(clf3)"
   ]
  },
  {
   "cell_type": "code",
   "execution_count": 172,
   "id": "16800e43",
   "metadata": {},
   "outputs": [
    {
     "data": {
      "text/plain": [
       "0.9625"
      ]
     },
     "execution_count": 172,
     "metadata": {},
     "output_type": "execute_result"
    }
   ],
   "source": [
    "spec(clf3)"
   ]
  },
  {
   "cell_type": "markdown",
   "id": "a163345b",
   "metadata": {},
   "source": [
    "#### We may also compare to Logistic regression methods (ridge, lasso, non-penalty)"
   ]
  },
  {
   "cell_type": "markdown",
   "id": "acfcc59f",
   "metadata": {},
   "source": [
    "#### OLS"
   ]
  },
  {
   "cell_type": "code",
   "execution_count": 173,
   "id": "622d133a",
   "metadata": {},
   "outputs": [],
   "source": [
    "clf4 = Log_OLR().fit(X_train, y_train)"
   ]
  },
  {
   "cell_type": "code",
   "execution_count": 174,
   "id": "09dd9272",
   "metadata": {},
   "outputs": [
    {
     "data": {
      "text/plain": [
       "0.8208333333333333"
      ]
     },
     "execution_count": 174,
     "metadata": {},
     "output_type": "execute_result"
    }
   ],
   "source": [
    "acc(clf4)"
   ]
  },
  {
   "cell_type": "code",
   "execution_count": 175,
   "id": "af0edfc5",
   "metadata": {},
   "outputs": [
    {
     "data": {
      "text/plain": [
       "0.8875"
      ]
     },
     "execution_count": 175,
     "metadata": {},
     "output_type": "execute_result"
    }
   ],
   "source": [
    "sen(clf4)"
   ]
  },
  {
   "cell_type": "code",
   "execution_count": 176,
   "id": "da99e50d",
   "metadata": {},
   "outputs": [
    {
     "data": {
      "text/plain": [
       "0.7875"
      ]
     },
     "execution_count": 176,
     "metadata": {},
     "output_type": "execute_result"
    }
   ],
   "source": [
    "spec(clf4)"
   ]
  },
  {
   "cell_type": "markdown",
   "id": "0392ead1",
   "metadata": {},
   "source": [
    "#### lasso"
   ]
  },
  {
   "cell_type": "code",
   "execution_count": 177,
   "id": "32b6ffe5",
   "metadata": {},
   "outputs": [],
   "source": [
    "clf5 = Log_LA(2.5, 0).fit(X_train, y_train)"
   ]
  },
  {
   "cell_type": "code",
   "execution_count": 178,
   "id": "bdf70810",
   "metadata": {},
   "outputs": [
    {
     "data": {
      "text/plain": [
       "0.9"
      ]
     },
     "execution_count": 178,
     "metadata": {},
     "output_type": "execute_result"
    }
   ],
   "source": [
    "acc(clf5)"
   ]
  },
  {
   "cell_type": "code",
   "execution_count": 179,
   "id": "9f92be6c",
   "metadata": {},
   "outputs": [
    {
     "data": {
      "text/plain": [
       "0.8375"
      ]
     },
     "execution_count": 179,
     "metadata": {},
     "output_type": "execute_result"
    }
   ],
   "source": [
    "sen(clf5)"
   ]
  },
  {
   "cell_type": "code",
   "execution_count": 180,
   "id": "b3b83ba8",
   "metadata": {},
   "outputs": [
    {
     "data": {
      "text/plain": [
       "0.93125"
      ]
     },
     "execution_count": 180,
     "metadata": {},
     "output_type": "execute_result"
    }
   ],
   "source": [
    "spec(clf5)"
   ]
  },
  {
   "cell_type": "markdown",
   "id": "5ee1bf69",
   "metadata": {},
   "source": [
    "#### EN (always degenerate to Ridge)"
   ]
  },
  {
   "cell_type": "code",
   "execution_count": 181,
   "id": "eda13aa7",
   "metadata": {},
   "outputs": [],
   "source": [
    "clf6 = Log_EN(0, 2.5).fit(X_train, y_train)"
   ]
  },
  {
   "cell_type": "code",
   "execution_count": 182,
   "id": "4586f1d9",
   "metadata": {},
   "outputs": [
    {
     "data": {
      "text/plain": [
       "0.925"
      ]
     },
     "execution_count": 182,
     "metadata": {},
     "output_type": "execute_result"
    }
   ],
   "source": [
    "acc(clf6)"
   ]
  },
  {
   "cell_type": "code",
   "execution_count": 183,
   "id": "bef2bc9d",
   "metadata": {},
   "outputs": [
    {
     "data": {
      "text/plain": [
       "0.9"
      ]
     },
     "execution_count": 183,
     "metadata": {},
     "output_type": "execute_result"
    }
   ],
   "source": [
    "sen(clf6)"
   ]
  },
  {
   "cell_type": "code",
   "execution_count": 184,
   "id": "4638d600",
   "metadata": {},
   "outputs": [
    {
     "data": {
      "text/plain": [
       "0.9375"
      ]
     },
     "execution_count": 184,
     "metadata": {},
     "output_type": "execute_result"
    }
   ],
   "source": [
    "spec(clf6)"
   ]
  },
  {
   "cell_type": "markdown",
   "id": "8c13bc9d",
   "metadata": {},
   "source": [
    "## Conclusions:\n",
    "#### Now we use the same algorithm for the estimators. (Instead of using sklearn for some of them; sklearn has some default regularizations so using it gives unfair comparisons)\n",
    "\n",
    "#### It's fair to only compare the accuracy since I use loglik to be the cv scorer. If sensitivity or specificity is more important, should use them as cross validation scorer instead."
   ]
  },
  {
   "cell_type": "code",
   "execution_count": null,
   "id": "c707b56d",
   "metadata": {},
   "outputs": [],
   "source": []
  }
 ],
 "metadata": {
  "kernelspec": {
   "display_name": "Python 3",
   "language": "python",
   "name": "python3"
  },
  "language_info": {
   "codemirror_mode": {
    "name": "ipython",
    "version": 3
   },
   "file_extension": ".py",
   "mimetype": "text/x-python",
   "name": "python",
   "nbconvert_exporter": "python",
   "pygments_lexer": "ipython3",
   "version": "3.8.8"
  }
 },
 "nbformat": 4,
 "nbformat_minor": 5
}
