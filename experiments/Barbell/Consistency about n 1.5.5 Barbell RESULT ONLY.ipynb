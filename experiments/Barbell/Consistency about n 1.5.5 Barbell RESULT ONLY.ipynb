{
 "cells": [
  {
   "cell_type": "code",
   "execution_count": 1,
   "id": "89f939ee",
   "metadata": {},
   "outputs": [],
   "source": [
    "import matplotlib.pyplot as plt\n",
    "from skest import *\n",
    "import scipy\n",
    "import time\n",
    "from signals import *\n",
    "import numpy as np"
   ]
  },
  {
   "cell_type": "markdown",
   "id": "e9e3c619",
   "metadata": {},
   "source": [
    "### plots"
   ]
  },
  {
   "cell_type": "code",
   "execution_count": 2,
   "id": "13d8b53c",
   "metadata": {},
   "outputs": [],
   "source": [
    "import matplotlib as mpl\n",
    "mpl.rcParams['mathtext.fontset'] = 'cm'"
   ]
  },
  {
   "cell_type": "code",
   "execution_count": 12,
   "id": "fec30b3a",
   "metadata": {},
   "outputs": [],
   "source": [
    "LA_risk_med = [21.162115616081646,\n",
    " 15.543647384274513,\n",
    " 10.402744831295045,\n",
    " 6.399250762539214,\n",
    " 3.4737930242332116,\n",
    " 2.689761059001015]\n",
    "\n",
    "\n",
    "LA_risk_err = [[2.390188699393125,\n",
    "  1.8700750173723204,\n",
    "  1.5439447587373039,\n",
    "  1.1903634754108747,\n",
    "  0.42821544327410344,\n",
    "  0.2552288222009258],\n",
    " [2.5431899517169576,\n",
    "  2.0481135022465597,\n",
    "  1.7936553040021845,\n",
    "  1.7121823579097626,\n",
    "  0.6551551737472696,\n",
    "  0.3214181135171823]]\n",
    "\n"
   ]
  },
  {
   "cell_type": "code",
   "execution_count": 13,
   "id": "64a1644a",
   "metadata": {},
   "outputs": [],
   "source": [
    "EN_risk_med = [15.744455817302692,\n",
    " 11.238702485852489,\n",
    " 8.001145738426903,\n",
    " 6.269503928260713,\n",
    " 3.2376146750537087,\n",
    " 2.5950342650563085]\n",
    "\n",
    "\n",
    "\n",
    "EN_risk_err = [[1.8907016053113992,\n",
    "  1.19066326566743,\n",
    "  1.1652830274314585,\n",
    "  1.1316504432109085,\n",
    "  0.3956519417493132,\n",
    "  0.2711152933722274],\n",
    " [1.8854422773549953,\n",
    "  1.2893367421095157,\n",
    "  1.3521862638307471,\n",
    "  1.5345981522948078,\n",
    "  0.44036059021120355,\n",
    "  0.28102621255850835]]\n"
   ]
  },
  {
   "cell_type": "code",
   "execution_count": 14,
   "id": "8e35400c",
   "metadata": {},
   "outputs": [],
   "source": [
    "FL_risk_med = [0.518986182320638,\n",
    " 0.47620279033107377,\n",
    " 0.47206262648946007,\n",
    " 0.3625670646616215,\n",
    " 0.32560712153837323,\n",
    " 0.30551984622774825]\n",
    "\n",
    "\n",
    "FL_risk_err = [[0.10201991923283776,\n",
    "  0.10312241231827174,\n",
    "  0.08781194997478536,\n",
    "  0.0768321206271384,\n",
    "  0.07007995112066123,\n",
    "  0.0632602793801425],\n",
    " [0.13761925603306835,\n",
    "  0.09665822863164025,\n",
    "  0.10467361699525712,\n",
    "  0.08122631707795225,\n",
    "  0.07738517044804,\n",
    "  0.08158526153351087]]\n",
    "\n"
   ]
  },
  {
   "cell_type": "code",
   "execution_count": 15,
   "id": "5901c7ca",
   "metadata": {},
   "outputs": [],
   "source": [
    "SL_risk_med = [0.4213857529709788,\n",
    " 0.39000512254456915,\n",
    " 0.3863448133739224,\n",
    " 0.3776967777348299,\n",
    " 0.36186290164842105,\n",
    " 0.3210662085114648]\n",
    "\n",
    "\n",
    "SL_risk_err = [[0.06443896648611808,\n",
    "  0.057404862949629154,\n",
    "  0.053463139500462276,\n",
    "  0.050787019422176505,\n",
    "  0.04372874654194375,\n",
    "  0.039187057703280626],\n",
    " [0.09084824568740968,\n",
    "  0.05954225681274794,\n",
    "  0.05988263467970478,\n",
    "  0.046680975467957575,\n",
    "  0.04864541952947754,\n",
    "  0.04392889543151052]]\n",
    "\n",
    "\n"
   ]
  },
  {
   "cell_type": "code",
   "execution_count": 16,
   "id": "0e8dfd05",
   "metadata": {},
   "outputs": [],
   "source": [
    "GTVEST_risk_med = [0.8648284212239196,\n",
    " 0.560499978420165,\n",
    " 0.39702915131241473,\n",
    " 0.3801516426447833,\n",
    " 0.3364253020214555,\n",
    " 0.3098628984434453]\n",
    "\n",
    "\n",
    "GTVEST_risk_err = [[0.12097066298003922,\n",
    "  0.10574831676246726,\n",
    "  0.0764492136804048,\n",
    "  0.06808888912983602,\n",
    "  0.06899137092130297,\n",
    "  0.06406266153684265],\n",
    " [0.145117132730323,\n",
    "  0.11032346267678739,\n",
    "  0.09999481643376201,\n",
    "  0.0827417121497161,\n",
    "  0.07712697221858095,\n",
    "  0.08733629782390345]]\n",
    "\n"
   ]
  },
  {
   "cell_type": "code",
   "execution_count": 17,
   "id": "2ec50879",
   "metadata": {},
   "outputs": [],
   "source": [
    "GTVORC_risk_med = [0.30530042890341724,\n",
    " 0.3369641355563918,\n",
    " 0.30221804076867975,\n",
    " 0.2919795423435245,\n",
    " 0.27046933998243095,\n",
    " 0.26333836981452785]\n",
    "\n",
    "GTVORC_risk_err = [[0.05492927106621032,\n",
    "  0.0583782142021958,\n",
    "  0.050581914219939406,\n",
    "  0.057866029073310926,\n",
    "  0.05480858024104354,\n",
    "  0.05253830964604092],\n",
    " [0.06720410364885743,\n",
    "  0.06049659972873245,\n",
    "  0.052010507063396716,\n",
    "  0.05964103916720659,\n",
    "  0.06035702473053878,\n",
    "  0.06399721889902776]]\n"
   ]
  },
  {
   "cell_type": "code",
   "execution_count": 18,
   "id": "8288eb89",
   "metadata": {},
   "outputs": [],
   "source": [
    "GEN_risk_med = [0.41701598331280576,\n",
    " 0.3940443657663979,\n",
    " 0.3187639911875241,\n",
    " 0.2993228022649623,\n",
    " 0.28327901133003064,\n",
    " 0.27577032743217667]\n",
    "\n",
    "\n",
    "GEN_risk_err = [[0.06361935215216807,\n",
    "  0.05913599769272404,\n",
    "  0.05844330059332137,\n",
    "  0.05656731767763626,\n",
    "  0.05889646400845594,\n",
    "  0.059852242913953496],\n",
    " [0.09049558341773078,\n",
    "  0.06937432917469344,\n",
    "  0.06752285840327554,\n",
    "  0.06017121245928547,\n",
    "  0.07073795906230923,\n",
    "  0.06847402372912076]]\n",
    "\n",
    "\n"
   ]
  },
  {
   "cell_type": "code",
   "execution_count": 19,
   "id": "63902222",
   "metadata": {},
   "outputs": [],
   "source": [
    "xs = [\"40\",\"50\" ,\"60\" ,\"70\" ,\"80\", \"90\"]"
   ]
  },
  {
   "cell_type": "code",
   "execution_count": 20,
   "id": "ececb458",
   "metadata": {},
   "outputs": [
    {
     "data": {
      "image/png": "[encoded data removed]",
      "text/plain": [
       "<Figure size 432x288 with 1 Axes>"
      ]
     },
     "metadata": {
      "needs_background": "light"
     },
     "output_type": "display_data"
    }
   ],
   "source": [
    "plt.errorbar(xs, LA_risk_med, yerr = LA_risk_err, capsize = 2, color = 'brown', label = \"OLS, LASSO\")\n",
    "plt.errorbar(xs, EN_risk_med, yerr = EN_risk_err, fmt = '--',color = 'violet', label = \"EN\")\n",
    "plt.errorbar(xs, FL_risk_med, yerr = FL_risk_err, fmt = '-.',color = 'orange', label = \"FL\")\n",
    "plt.errorbar(xs, SL_risk_med, yerr = SL_risk_err, fmt = '-.', color = 'red', label = \"SL\")\n",
    "plt.errorbar(xs, GTVEST_risk_med, yerr = GTVEST_risk_err, capsize = 2, color = 'steelblue', label = \"GTV\")\n",
    "plt.errorbar(xs, GTVORC_risk_med, yerr = GTVORC_risk_err, fmt= '--', color = 'deepskyblue', label = \"GTV-oracle\", linewidth = 1.5)\n",
    "plt.errorbar(xs, GEN_risk_med, yerr = GEN_risk_err, capsize = 2, color = 'green', label = \"GEN\")\n",
    "plt.yscale(\"log\")\n",
    "plt.yticks([ 1, 10], size = 12)\n",
    "plt.xticks(xs, size = 12)\n",
    "plt.xlabel(r\"n\", size = 14)\n",
    "plt.ylabel(r'$\\| \\hat{\\beta} - \\beta^*\\|_2$', size = 14)\n",
    "plt.savefig('155a_v2.jpg', bbox_inches='tight', dpi = 600)"
   ]
  },
  {
   "cell_type": "code",
   "execution_count": 21,
   "id": "5516df2d",
   "metadata": {},
   "outputs": [],
   "source": [
    "LA_pred_med = [183.74785082461148,\n",
    " 91.46100423118408,\n",
    " 37.08346039901373,\n",
    " 13.900164453634066,\n",
    " 4.4867514458245505,\n",
    " 2.654845578719627]\n",
    "\n",
    "\n",
    "LA_pred_err = [[46.21917928394319,\n",
    "  22.816640634836816,\n",
    "  11.062974080117424,\n",
    "  5.188369416047136,\n",
    "  1.108691820372504,\n",
    "  0.5105275248330741],\n",
    " [63.27133292214256,\n",
    "  34.138898388362676,\n",
    "  16.350018805305865,\n",
    "  9.020979850589459,\n",
    "  1.7579454204198708,\n",
    "  0.823223720820137]]"
   ]
  },
  {
   "cell_type": "code",
   "execution_count": 22,
   "id": "cc86ff77",
   "metadata": {},
   "outputs": [],
   "source": [
    "EN_pred_med = [141.85131893011584,\n",
    " 57.42705371722347,\n",
    " 23.112054447665976,\n",
    " 13.271949292332852,\n",
    " 3.9442359506519775,\n",
    " 2.5391582153086683]\n",
    "\n",
    "\n",
    "EN_pred_err = [[42.05570555752563,\n",
    "  16.725986792183704,\n",
    "  6.0783117294927465,\n",
    "  4.7698035624526725,\n",
    "  0.9914916915531307,\n",
    "  0.5602373117846207],\n",
    " [56.6014552634301,\n",
    "  23.11530955316907,\n",
    "  9.319929742587583,\n",
    "  8.631436754343014,\n",
    "  1.290841339416394,\n",
    "  0.7350449228773117]]"
   ]
  },
  {
   "cell_type": "code",
   "execution_count": 28,
   "id": "5a8cfea9",
   "metadata": {},
   "outputs": [],
   "source": [
    "FL_pred_med = [0.22422895077132088,\n",
    " 0.19745551036984033,\n",
    " 0.16534610762008817,\n",
    " 0.1176835091223917,\n",
    " 0.10313787540115288,\n",
    " 0.08859489542173273]\n",
    "\n",
    "FL_pred_err = [[0.07395468108919595,\n",
    "  0.0706580985747573,\n",
    "  0.05123296929868987,\n",
    "  0.043317551837934815,\n",
    "  0.031969494801644655,\n",
    "  0.027540951898351033],\n",
    " [0.09743615405667133,\n",
    "  0.08306334987138153,\n",
    "  0.07506050476536347,\n",
    "  0.050019258884806045,\n",
    "  0.03834123126623895,\n",
    "  0.03815049500261951]]\n"
   ]
  },
  {
   "cell_type": "code",
   "execution_count": 23,
   "id": "b6de5c79",
   "metadata": {},
   "outputs": [],
   "source": [
    "SL_pred_med = [0.21035871031533354,\n",
    " 0.16618156438073556,\n",
    " 0.14746685552385258,\n",
    " 0.12058348938497282,\n",
    " 0.11088881733195471,\n",
    " 0.10291328885786141]\n",
    "\n",
    "\n",
    "\n",
    "SL_pred_err = [[0.07252951928141202,\n",
    "  0.05820748124648853,\n",
    "  0.045081956528303296,\n",
    "  0.03263374178862412,\n",
    "  0.03310876678310162,\n",
    "  0.030304040936374746],\n",
    " [0.090560127023386,\n",
    "  0.08849809030054251,\n",
    "  0.0579584168133403,\n",
    "  0.0490482259087659,\n",
    "  0.0416588322646147,\n",
    "  0.03611420052059719]]"
   ]
  },
  {
   "cell_type": "code",
   "execution_count": 24,
   "id": "5b9f8046",
   "metadata": {},
   "outputs": [],
   "source": [
    "GTVEST_pred_med = [0.3928478790911848,\n",
    " 0.22792362323423893,\n",
    " 0.14870622561296448,\n",
    " 0.12187959727576587,\n",
    " 0.1033345898075002,\n",
    " 0.09061894528537959]\n",
    "\n",
    "\n",
    "\n",
    "GTVEST_pred_err = [[0.11331996120016041,\n",
    "  0.0677570510764218,\n",
    "  0.04320877188327875,\n",
    "  0.04049761622343938,\n",
    "  0.02895190641050356,\n",
    "  0.028387144774448647],\n",
    " [0.16583663875495325,\n",
    "  0.08726157615107999,\n",
    "  0.07231933748312247,\n",
    "  0.06412507618815096,\n",
    "  0.043380431437501546,\n",
    "  0.04474904898153062]]"
   ]
  },
  {
   "cell_type": "code",
   "execution_count": 25,
   "id": "f940fa83",
   "metadata": {},
   "outputs": [],
   "source": [
    "GTVORC_pred_med = [0.1780006165032817,\n",
    " 0.14090452023674732,\n",
    " 0.12370804653245884,\n",
    " 0.09046487834246841,\n",
    " 0.08299385315533785,\n",
    " 0.07772663430990934]\n",
    "\n",
    "\n",
    "GTVORC_pred_err = [[0.06693110318409957,\n",
    "  0.049937425643508865,\n",
    "  0.038184774972010616,\n",
    "  0.02823383472624924,\n",
    "  0.025614272266522395,\n",
    "  0.02591483909613551],\n",
    " [0.09495507465654174,\n",
    "  0.05806996408410306,\n",
    "  0.05467831600224263,\n",
    "  0.04039457266575919,\n",
    "  0.03319093362688451,\n",
    "  0.032787463076391105]]"
   ]
  },
  {
   "cell_type": "code",
   "execution_count": 26,
   "id": "4c50f96f",
   "metadata": {},
   "outputs": [],
   "source": [
    "GEN_pred_med = [0.20857447513150984,\n",
    " 0.15121880194095166,\n",
    " 0.12647193802637857,\n",
    " 0.09885828903509028,\n",
    " 0.09201811482264874,\n",
    " 0.08006226687002908]\n",
    "\n",
    "GEN_pred_err =[[0.07175348730391304,\n",
    "  0.04819641645022933,\n",
    "  0.04033733626351174,\n",
    "  0.03171786906470196,\n",
    "  0.0328745558178335,\n",
    "  0.02537180746553063],\n",
    " [0.09098656640686381,\n",
    "  0.07491043935906128,\n",
    "  0.05704772384855214,\n",
    "  0.05003678244330961,\n",
    "  0.03232647198066585,\n",
    "  0.034539320234039744]]\n"
   ]
  },
  {
   "cell_type": "code",
   "execution_count": 51,
   "id": "4001f1f6",
   "metadata": {
    "scrolled": true
   },
   "outputs": [
    {
     "data": {
      "image/png": "[encoded data removed]",
      "text/plain": [
       "<Figure size 432x288 with 1 Axes>"
      ]
     },
     "metadata": {
      "needs_background": "light"
     },
     "output_type": "display_data"
    }
   ],
   "source": [
    "plt.errorbar(xs, LA_pred_med, yerr = LA_pred_err, capsize = 2, color = 'brown', label = \"OLS, LASSO\")\n",
    "plt.errorbar(xs, EN_pred_med, yerr = EN_pred_err, fmt = '--', color = 'violet', label = \"EN\")\n",
    "plt.errorbar(xs, FL_pred_med, yerr = FL_pred_err, fmt = '-.',color = 'orange', label = \"FL\")\n",
    "plt.errorbar(xs, SL_pred_med, yerr = SL_pred_err, fmt = '-.', color = 'red', label = \"SL\")\n",
    "plt.errorbar(xs, GTVEST_pred_med, yerr = GTVEST_pred_err, capsize = 2, color = 'steelblue', label = \"GTV\")\n",
    "plt.errorbar(xs, GTVORC_pred_med, yerr = GTVORC_pred_err, fmt = '--', color = 'deepskyblue', label = \"GTV-oracle\", linewidth = 1.5)\n",
    "plt.errorbar(xs, GEN_pred_med, yerr = GEN_pred_err, capsize = 2, color = 'green', label = \"GEN\")\n",
    "plt.yscale(\"log\")\n",
    "plt.yticks([0.1,1, 10, 100], size = 12)\n",
    "plt.xticks(xs, size = 12)\n",
    "plt.xlabel(r\"n\", size = 14)\n",
    "plt.ylabel(r'$\\frac{1}{n}\\| X_{\\mathrm{test}}(\\hat{\\beta} - \\beta^*)\\|_2^2$', size = 14)\n",
    "plt.savefig('155b_v2.jpg', bbox_inches='tight', dpi = 600)"
   ]
  },
  {
   "cell_type": "code",
   "execution_count": null,
   "id": "678ab740",
   "metadata": {},
   "outputs": [],
   "source": []
  }
 ],
 "metadata": {
  "kernelspec": {
   "display_name": "Python 3",
   "language": "python",
   "name": "python3"
  },
  "language_info": {
   "codemirror_mode": {
    "name": "ipython",
    "version": 3
   },
   "file_extension": ".py",
   "mimetype": "text/x-python",
   "name": "python",
   "nbconvert_exporter": "python",
   "pygments_lexer": "ipython3",
   "version": "3.8.8"
  }
 },
 "nbformat": 4,
 "nbformat_minor": 5
}
