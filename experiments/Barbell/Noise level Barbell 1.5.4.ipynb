{
 "cells": [
  {
   "cell_type": "code",
   "execution_count": 1,
   "id": "89f939ee",
   "metadata": {},
   "outputs": [],
   "source": [
    "import matplotlib.pyplot as plt\n",
    "from skest import *\n",
    "import scipy\n",
    "import time\n",
    "from signals import *\n",
    "import numpy as np"
   ]
  },
  {
   "cell_type": "markdown",
   "id": "668ec125",
   "metadata": {},
   "source": [
    "### different noise level"
   ]
  },
  {
   "cell_type": "code",
   "execution_count": 2,
   "id": "1b57d67d",
   "metadata": {},
   "outputs": [],
   "source": [
    "n = 44\n",
    "p = 66\n",
    "m1 = 30\n",
    "m2 = 6\n",
    "G = nx.barbell_graph(m1, m2)\n",
    "Psi = cor_from_G(G, 0.5)\n",
    "D = D_from_G(G)\n",
    "beta_star = barbell_signal(m1, m2, 5, 15)"
   ]
  },
  {
   "cell_type": "markdown",
   "id": "9aa70148",
   "metadata": {},
   "source": [
    "### sigma = 1"
   ]
  },
  {
   "cell_type": "code",
   "execution_count": 11,
   "id": "5b090ee9",
   "metadata": {},
   "outputs": [],
   "source": [
    "sigma = 1"
   ]
  },
  {
   "cell_type": "code",
   "execution_count": 12,
   "id": "d17c68ee",
   "metadata": {},
   "outputs": [],
   "source": [
    "X, y = gauss_sample(n, p, beta_star, Psi, sigma)"
   ]
  },
  {
   "cell_type": "code",
   "execution_count": null,
   "id": "0bbc68b9",
   "metadata": {},
   "outputs": [],
   "source": []
  },
  {
   "cell_type": "code",
   "execution_count": 13,
   "id": "61e79ed3",
   "metadata": {},
   "outputs": [],
   "source": [
    "D_w = weighted_incidence(cov_est(0.3).fit(X).S)"
   ]
  },
  {
   "cell_type": "code",
   "execution_count": 14,
   "id": "a60a594a",
   "metadata": {},
   "outputs": [
    {
     "data": {
      "text/plain": [
       "(875, 66)"
      ]
     },
     "execution_count": 14,
     "metadata": {},
     "output_type": "execute_result"
    }
   ],
   "source": [
    "D_w.shape"
   ]
  },
  {
   "cell_type": "code",
   "execution_count": 15,
   "id": "2cfea371",
   "metadata": {},
   "outputs": [],
   "source": [
    "D_oracle = weighted_incidence(Psi)"
   ]
  },
  {
   "cell_type": "code",
   "execution_count": 30,
   "id": "5bd1275f",
   "metadata": {},
   "outputs": [
    {
     "data": {
      "text/plain": [
       "(2145, 66)"
      ]
     },
     "execution_count": 30,
     "metadata": {},
     "output_type": "execute_result"
    }
   ],
   "source": [
    "D_oracle.shape"
   ]
  },
  {
   "cell_type": "code",
   "execution_count": 38,
   "id": "1dc94519",
   "metadata": {},
   "outputs": [
    {
     "name": "stdout",
     "output_type": "stream",
     "text": [
      "({'l1': 0, 'l2': 0}, 0.32036352157592773)\n"
     ]
    },
    {
     "name": "stderr",
     "output_type": "stream",
     "text": [
      "C:\\Users\\sswei\\anaconda3\\lib\\site-packages\\sklearn\\model_selection\\_search.py:918: UserWarning: One or more of the test scores are non-finite: [  -224.08541946   -224.08236951   -224.67911633   -227.34531867\n",
      "   -230.67719985   -240.8045357    -257.88677342   -292.75379192\n",
      "   -365.54327439   -441.70170683   -606.64015848   -832.59801625\n",
      "  -1081.80621866  -1351.84204369  -1641.04288939  -2276.1086528\n",
      "  -9375.65109243   -235.42382582   -225.68506756   -227.55714575\n",
      "   -230.79041736   -240.83914979   -257.90584277   -292.79537364\n",
      "   -365.33899978   -441.72196354   -606.15397525   -832.98425214\n",
      "  -1081.90594012  -1351.95881476  -1641.78995314  -2273.61455947\n",
      "             nan   -349.89019203   -235.9554572    -229.38643004\n",
      "   -231.71692396   -241.23061056   -258.11352197   -292.91776327\n",
      "   -365.41669219   -441.77195252   -606.1965386    -832.94836341\n",
      "  -1082.07237964  -1352.18667531  -1641.76103406  -2276.13079426\n",
      "  -9377.46800551  -1041.20772818   -285.2980391    -238.59143748\n",
      "   -235.8934063    -242.96335494   -259.04866247   -293.45461755\n",
      "   -365.76063771   -442.06195888   -606.42622052   -833.21131899\n",
      "  -1082.24415876  -1352.32075587  -1642.2621091   -2276.56307323\n",
      "  -9379.31004885  -2005.78732519   -350.96387508   -251.0724596\n",
      "   -241.86849697   -245.1487479    -260.22807427   -294.13017652\n",
      "   -366.19484198   -442.41989301   -606.73448545   -833.4099918\n",
      "  -1082.49975979  -1352.67556832  -1642.24175623  -2276.89287086\n",
      "  -9384.84617322  -4031.10853853   -590.78731607   -289.07407914\n",
      "   -261.45310983   -251.81311335   -263.86551512   -296.18418858\n",
      "   -367.49692256   -443.50424864   -607.65323227   -834.23316462\n",
      "  -1083.28450354  -1353.2665111   -1643.26473855  -2277.65487796\n",
      "  -9394.10867913  -6124.02676294  -1044.28366628   -355.88056803\n",
      "   -293.806347     -265.19958851   -269.84662355   -299.62260442\n",
      "   -369.66924398   -445.29605221   -609.208181     -835.60521117\n",
      "  -1084.41103604  -1354.5475172   -1644.51673373  -2279.14952248\n",
      "  -9412.76101663  -7829.56015564  -2015.83905093   -512.05978265\n",
      "   -361.96482136   -294.21373828   -283.1089968    -306.55958734\n",
      "   -374.045666     -448.91087458   -612.24866293   -838.2196856\n",
      "  -1086.93274977  -1357.09577393  -1647.32160345  -2281.86135589\n",
      "  -9449.75488312  -8683.87917689  -3512.16104945   -871.04645125\n",
      "   -520.97441369   -350.03563081   -315.02408363   -321.3668378\n",
      "   -382.94121939   -456.1527316    -618.41079707   -843.50857757\n",
      "  -1091.88154007  -1362.13797313  -1652.30456795  -2287.80459551\n",
      "  -9487.03297778  -9055.2998743   -4479.42923276  -1257.92417462\n",
      "   -698.66331865   -411.36235479   -346.30422732   -337.65885701\n",
      "   -392.12789736   -463.47021552   -624.58126294   -848.86696317\n",
      "  -1096.91371043  -1367.22708419  -1657.87254571  -2293.57029733\n",
      "  -9568.87681387  -9263.58557245  -6209.45736691  -2055.57344618\n",
      "  -1075.33715968   -547.48856103   -410.20680131   -375.26728826\n",
      "   -411.58526511   -478.58263441   -636.96816903   -860.22788662\n",
      "  -1107.40358515  -1377.24293478  -1667.97721998  -2304.34803801\n",
      "  -9674.10663489  -9537.5342219   -7336.68935752  -2898.31661224\n",
      "  -1598.59798498   -732.24359534   -497.92626368   -422.78466172\n",
      "   -437.3575024    -498.35256797   -652.68559365   -874.27982337\n",
      "  -1120.44915088  -1390.32689453  -1681.3810967   -2318.38087463\n",
      "  -9784.00352567  -9672.8427086   -7968.54275853  -3562.40994111\n",
      "  -2098.74522481   -928.06080388   -590.72575243   -470.50923122\n",
      "   -466.25449238   -518.95094918   -668.42759065   -888.51991191\n",
      "  -1133.94593813  -1403.09737483  -1694.34330422  -2332.37860833\n",
      "  -9906.08373841  -9745.1254736   -8410.91349045  -4070.99478797\n",
      "  -2533.74340256  -1130.231064     -688.20118215   -521.30891482\n",
      "   -497.21228516   -540.20942128   -684.90779445   -902.82234984\n",
      "  -1147.83457588  -1416.60959475  -1707.6769142   -2346.25911524\n",
      "  -9983.11586437  -9832.70352014  -8762.69733552  -4562.25090691\n",
      "  -2955.35843678  -1346.23256111   -788.60408136   -572.51988866\n",
      "   -528.25161329   -562.73311033   -701.46642885   -917.38090456\n",
      "  -1161.81205081  -1429.92140617  -1720.7653457   -2360.48073301\n",
      " -10116.84783301  -9980.11147722  -9362.16172574  -5598.95168139\n",
      "  -3566.65003699  -1778.74439443  -1001.0769724    -678.79012854\n",
      "   -593.17345886   -612.56271659   -735.54743363   -947.18975565\n",
      "  -1190.20153351  -1458.09551925  -1748.0368422   -2388.0408376 ]\n",
      "  warnings.warn(\n"
     ]
    },
    {
     "name": "stdout",
     "output_type": "stream",
     "text": [
      "({'l1': 0, 'l2': 0.001}, 4.795212984085083)\n",
      "({'l1': 0.5, 'l2': 0.05}, 10.127335548400879)\n",
      "({'l1': 0.01, 'l2': 0.05}, 10.783821105957031)\n"
     ]
    }
   ],
   "source": [
    "print(naive_cv_lasso(X, y))\n",
    "print(naive_cv(EN, X, y))\n",
    "print(naive_cv(FL, X, y, D))\n",
    "print(naive_cv(SL, X, y, D))"
   ]
  },
  {
   "cell_type": "code",
   "execution_count": 33,
   "id": "6a8ff0e7",
   "metadata": {},
   "outputs": [
    {
     "name": "stdout",
     "output_type": "stream",
     "text": [
      "({'l1': 0.25, 'l2': 1, 'l3': 0}, 40.23735213279724)\n"
     ]
    }
   ],
   "source": [
    "print(naive_cv_gtv(X, y, D_oracle))"
   ]
  },
  {
   "cell_type": "code",
   "execution_count": 35,
   "id": "39c0c0a1",
   "metadata": {
    "scrolled": true
   },
   "outputs": [
    {
     "name": "stdout",
     "output_type": "stream",
     "text": [
      "({'l1': 0.25, 'l2': 0, 'l3': 0}, 18.164422273635864)\n"
     ]
    }
   ],
   "source": [
    "print(naive_cv_gtv(X, y, D_w))"
   ]
  },
  {
   "cell_type": "code",
   "execution_count": 41,
   "id": "98b9f980",
   "metadata": {},
   "outputs": [
    {
     "data": {
      "text/plain": [
       "({'l1': 0.25, 'l2': 1}, 15.03237533569336)"
      ]
     },
     "execution_count": 41,
     "metadata": {},
     "output_type": "execute_result"
    }
   ],
   "source": [
    "naive_cv(OUR, X, y, D)"
   ]
  },
  {
   "cell_type": "code",
   "execution_count": 16,
   "id": "27504c5e",
   "metadata": {},
   "outputs": [],
   "source": [
    "def trial1():\n",
    "    X, y = gauss_sample(n, p, beta_star, Psi, sigma)\n",
    "    clf1 = OLR().fit(X, y)\n",
    "    clf2 = LA(l1 = 0).fit(X,y)\n",
    "    clf3 = EN(l1= 0, l2=0.001).fit(X,y)\n",
    "    clf4 = FL(0, 0.25, D).fit(X,y)\n",
    "    clf5 = SL(0.1, 2, D).fit(X,y)\n",
    "    clf6 = GTV(0.25, 0, 0, D_w).fit(X,y)\n",
    "    clf7 = GTV(0.25, 1, 0, D_oracle).fit(X,y)\n",
    "    clf8 = OUR(0.25, 1, D).fit(X,y)\n",
    "    return [c.l2_risk(beta_star) for c in [clf1, clf2, clf3, clf4, clf5, clf6, clf7, clf8]]"
   ]
  },
  {
   "cell_type": "code",
   "execution_count": 17,
   "id": "548a8785",
   "metadata": {},
   "outputs": [],
   "source": [
    "def trial2():\n",
    "    X, y = gauss_sample(n, p, beta_star, Psi, sigma)\n",
    "    clf1 = OLR().fit(X, y)\n",
    "    clf2 = LA(l1 = 0).fit(X,y)\n",
    "    clf3 = EN(l1= 0, l2=0.001).fit(X,y)\n",
    "    clf4 = FL(0, 0.25, D).fit(X,y)\n",
    "    clf5 = SL(0.1, 2, D).fit(X,y)\n",
    "    clf6 = GTV(0.25, 0, 0, D_w).fit(X,y)\n",
    "    clf7 = GTV(0.25, 1, 0, D_oracle).fit(X,y)\n",
    "    clf8 = OUR(0.25, 1, D).fit(X,y)\n",
    "    X2, y2 = gauss_sample(n, p, beta_star, Psi, sigma)\n",
    "    return [-c.score(X2, X2@beta_star) for c in [clf1, clf2, clf3, clf4, clf5, clf6, clf7, clf8]]"
   ]
  },
  {
   "cell_type": "code",
   "execution_count": 18,
   "id": "4e40dce4",
   "metadata": {},
   "outputs": [],
   "source": [
    "from joblib import Parallel, delayed\n",
    "import multiprocessing"
   ]
  },
  {
   "cell_type": "code",
   "execution_count": 19,
   "id": "c9adf957",
   "metadata": {},
   "outputs": [],
   "source": [
    "l2s = Parallel(n_jobs=8)(delayed(trial1)() for i in range(500))\n",
    "preds = Parallel(n_jobs=8)(delayed(trial2)() for i in range(500))"
   ]
  },
  {
   "cell_type": "code",
   "execution_count": 20,
   "id": "96673d61",
   "metadata": {},
   "outputs": [],
   "source": [
    "ar1 = [l[0] for l in l2s]\n",
    "ar2 = [l[1] for l in l2s]\n",
    "ar3 = [l[2] for l in l2s]\n",
    "ar4 = [l[3] for l in l2s]\n",
    "ar5 = [l[4] for l in l2s]\n",
    "ar6 = [l[5] for l in l2s]\n",
    "ar7 = [l[6] for l in l2s]\n",
    "ar8 = [l[7] for l in l2s]"
   ]
  },
  {
   "cell_type": "code",
   "execution_count": 21,
   "id": "af5128a2",
   "metadata": {},
   "outputs": [],
   "source": [
    "ap1 = [l[0] for l in preds]\n",
    "ap2 = [l[1] for l in preds]\n",
    "ap3 = [l[2] for l in preds]\n",
    "ap4 = [l[3] for l in preds]\n",
    "ap5 = [l[4] for l in preds]\n",
    "ap6 = [l[5] for l in preds]\n",
    "ap7 = [l[6] for l in preds]\n",
    "ap8 = [l[7] for l in preds]\n"
   ]
  },
  {
   "cell_type": "code",
   "execution_count": 22,
   "id": "93baccd5",
   "metadata": {},
   "outputs": [
    {
     "data": {
      "image/png": "[encoded data removed]",
      "text/plain": [
       "<Figure size 432x288 with 1 Axes>"
      ]
     },
     "metadata": {
      "needs_background": "light"
     },
     "output_type": "display_data"
    }
   ],
   "source": [
    "plt.boxplot([ar1, ar2, ar3, ar4, ar5, ar6, ar7, ar8])\n",
    "plt.yscale(\"log\")"
   ]
  },
  {
   "cell_type": "code",
   "execution_count": 23,
   "id": "ce07e264",
   "metadata": {},
   "outputs": [
    {
     "data": {
      "image/png": "[encoded data removed]",
      "text/plain": [
       "<Figure size 432x288 with 1 Axes>"
      ]
     },
     "metadata": {
      "needs_background": "light"
     },
     "output_type": "display_data"
    }
   ],
   "source": [
    "plt.boxplot([ap1, ap2, ap3, ap4, ap5, ap6, ap7, ap8])\n",
    "plt.yscale(\"log\")"
   ]
  },
  {
   "cell_type": "markdown",
   "id": "8e8bd0e5",
   "metadata": {},
   "source": [
    "### sigma = 2"
   ]
  },
  {
   "cell_type": "code",
   "execution_count": 24,
   "id": "1a30b7ff",
   "metadata": {},
   "outputs": [],
   "source": [
    "sigma = 2"
   ]
  },
  {
   "cell_type": "code",
   "execution_count": 25,
   "id": "6240c303",
   "metadata": {},
   "outputs": [],
   "source": [
    "X, y = gauss_sample(n, p, beta_star, Psi, sigma)"
   ]
  },
  {
   "cell_type": "code",
   "execution_count": 77,
   "id": "96d44239",
   "metadata": {},
   "outputs": [
    {
     "data": {
      "text/plain": [
       "({'t': 0.4}, 0.047705650329589844)"
      ]
     },
     "execution_count": 77,
     "metadata": {},
     "output_type": "execute_result"
    }
   ],
   "source": [
    "naive_cv_cov(X)"
   ]
  },
  {
   "cell_type": "code",
   "execution_count": 26,
   "id": "11e86550",
   "metadata": {},
   "outputs": [],
   "source": [
    "D_w = weighted_incidence(cov_est(0.3).fit(X).S)"
   ]
  },
  {
   "cell_type": "code",
   "execution_count": 27,
   "id": "c377a398",
   "metadata": {},
   "outputs": [
    {
     "data": {
      "text/plain": [
       "(881, 66)"
      ]
     },
     "execution_count": 27,
     "metadata": {},
     "output_type": "execute_result"
    }
   ],
   "source": [
    "D_w.shape"
   ]
  },
  {
   "cell_type": "code",
   "execution_count": 70,
   "id": "3147cf1d",
   "metadata": {},
   "outputs": [
    {
     "name": "stdout",
     "output_type": "stream",
     "text": [
      "({'l1': 0, 'l2': 0}, 0.3253939151763916)\n"
     ]
    },
    {
     "name": "stderr",
     "output_type": "stream",
     "text": [
      "C:\\Users\\sswei\\anaconda3\\lib\\site-packages\\sklearn\\model_selection\\_search.py:918: UserWarning: One or more of the test scores are non-finite: [ -369.20106391  -369.23326815  -370.13886211  -374.2076578\n",
      "  -379.20431114  -394.40603539  -419.59392632  -469.71486524\n",
      "  -569.74785614  -671.60317599  -881.89884025 -1160.095454\n",
      " -1464.06527725 -1786.40719849 -2128.16327173 -2871.08159388\n",
      " -6841.44219904  -390.35046766  -372.24377964  -374.61944283\n",
      "  -379.47567934  -394.50157682  -419.64378098  -469.76462082\n",
      "  -569.99256748  -671.56637304  -881.9686613  -1162.02890543\n",
      " -1463.96017637 -1786.40092265 -2128.47805529 -2870.81277597\n",
      "            nan  -579.28696603  -391.22448508  -378.43735802\n",
      "  -381.40578439  -395.31033183  -420.07058365  -470.00727555\n",
      "  -570.14105709  -671.65956369  -882.09793453 -1162.57540428\n",
      " -1464.12556438 -1786.41634367 -2129.26323929 -2872.0589534\n",
      " -7060.20402996 -1258.50650413  -475.77303261  -395.6036035\n",
      "  -390.05753324  -398.87866236  -421.97701736  -471.077933\n",
      "  -570.77939437  -672.07251146  -882.49441038 -1162.92097931\n",
      " -1464.42580952 -1786.82832373 -2129.58582185 -2871.93238925\n",
      " -7059.5422074  -2053.93229217  -580.7047517   -417.70178245\n",
      "  -400.90294442  -403.32173758  -424.33819112  -472.41782409\n",
      "  -571.57815836  -672.67033456  -882.88035578 -1163.33315051\n",
      " -1464.80915994 -1787.23244025 -2129.89703209 -2872.58301486\n",
      " -7057.57537685 -3699.88140108  -855.23034907  -481.42760426\n",
      "  -434.85085029  -417.0742883   -431.57704963  -476.46759094\n",
      "  -573.95133396  -674.53438055  -884.30971047 -1164.46213043\n",
      " -1465.80714262 -1788.4128964  -2131.08530344 -2873.76223214\n",
      " -7054.38000796 -4648.4472787  -1263.94951394  -587.74345891\n",
      "  -488.45586392  -440.44610418  -443.77674251  -483.26903657\n",
      "  -577.8710222   -677.65544099  -886.75611769 -1166.39490566\n",
      " -1467.74382636 -1790.17983997 -2132.97882263 -2875.6864316\n",
      " -7048.22475826 -5419.03696757 -2069.16452112  -781.49185627\n",
      "  -596.50955544  -486.31693696  -467.93412974  -496.42795992\n",
      "  -585.78892873  -683.92282648  -891.7156543  -1170.32760411\n",
      " -1471.43293451 -1794.30625007 -2136.41364161 -2879.30809078\n",
      " -7042.20502068 -6060.52324135 -3403.05470224 -1128.57071003\n",
      "  -795.74778276  -576.51335465  -516.82659696  -523.00697257\n",
      "  -601.75738892  -696.51853529  -901.34786107 -1178.14488293\n",
      " -1479.05170671 -1801.31051084 -2143.79809649 -2887.26050897\n",
      " -7052.28766385 -6211.69252177 -4098.12116552 -1454.73427707\n",
      "  -978.46845799  -665.87009315  -567.12418129  -550.44907136\n",
      "  -617.98959326  -709.27852044  -910.95583674 -1186.06950524\n",
      " -1486.53603174 -1808.61247068 -2151.1272994  -2894.08800076\n",
      " -7072.95384151 -6442.34130288 -4728.9574415  -2136.37286437\n",
      " -1320.06622576  -837.26859992  -662.94880116  -606.73604315\n",
      "  -651.24302588  -735.04777069  -930.36780648 -1201.81079096\n",
      " -1501.81761364 -1823.56291134 -2166.14997473 -2909.62708079\n",
      " -7070.30065212 -6522.09581694 -5176.1759222  -3007.83025124\n",
      " -1773.00392005 -1035.80639867  -783.8071285   -676.86076125\n",
      "  -693.89467132  -767.76331116  -954.97694282 -1223.35758171\n",
      " -1520.68273696 -1842.16464495 -2184.69812353 -2928.54551649\n",
      " -7072.92368649 -6581.59875277 -5523.55821409 -3555.50866779\n",
      " -2216.63681643 -1227.22588777  -903.09444532  -742.85490483\n",
      "  -735.42644421  -800.06175835  -979.98007683 -1245.20746645\n",
      " -1539.75188664 -1861.01703716 -2203.75005387 -2947.93951156\n",
      " -7064.60421526 -6649.70264079 -5713.77925329 -3931.54544408\n",
      " -2689.087523   -1412.15832494 -1013.06302734  -811.35877109\n",
      "  -777.27852235  -832.46662277 -1005.3785042  -1267.30839254\n",
      " -1559.12155003 -1879.78909614 -2222.39987622 -2967.5790337\n",
      " -7059.90229114 -6755.13982087 -5856.76809522 -4304.16703221\n",
      " -3143.858236   -1610.16989738 -1125.40380739  -882.68380515\n",
      "  -819.12896388  -864.93659144 -1031.13279778 -1289.50739568\n",
      " -1580.45214807 -1898.88751747 -2241.52750471 -2986.82278577\n",
      " -7161.98573942 -6911.36014254 -6033.58347262 -4776.83056593\n",
      " -3747.79807336 -2033.33718574 -1345.46749732 -1024.32253777\n",
      "  -902.93848586  -930.28335586 -1083.0613392  -1334.52455257\n",
      " -1622.81756774 -1937.86576169 -2279.66661849 -3025.77717682]\n",
      "  warnings.warn(\n"
     ]
    },
    {
     "name": "stdout",
     "output_type": "stream",
     "text": [
      "({'l1': 0, 'l2': 0}, 5.137503385543823)\n",
      "({'l1': 0, 'l2': 0.01}, 10.330960988998413)\n",
      "({'l1': 0.25, 'l2': 2}, 10.458461046218872)\n"
     ]
    }
   ],
   "source": [
    "print(naive_cv_lasso(X, y))\n",
    "print(naive_cv(EN, X, y, D))\n",
    "print(naive_cv(FL, X, y, D))\n",
    "print(naive_cv(SL, X, y, D))"
   ]
  },
  {
   "cell_type": "code",
   "execution_count": 105,
   "id": "60394e93",
   "metadata": {},
   "outputs": [
    {
     "name": "stderr",
     "output_type": "stream",
     "text": [
      "C:\\Users\\sswei\\anaconda3\\lib\\site-packages\\sklearn\\model_selection\\_search.py:918: UserWarning: One or more of the test scores are non-finite: [ -8.31359588  -8.2378172   -7.68944059  -5.54150115  -4.72201538\n",
      "  -4.33592311  -4.12470757  -4.0625579   -4.10734047  -4.3185852\n",
      "  -4.73887191  -5.31816633  -6.04599368  -6.9106621   -9.09171604\n",
      "  -9.784114            nan  -7.67196498  -5.5321418   -4.71928545\n",
      "  -4.33480356  -4.12437762  -4.06216421  -4.10682122  -4.3177451\n",
      "  -4.74025258  -5.31781228  -6.04529067  -6.91755394  -9.09161243\n",
      "  -9.15478063  -8.8085176   -7.5785897   -5.4526672   -4.69212849\n",
      "  -4.32616259  -4.12188117  -4.06107615  -4.10583606  -4.31711509\n",
      "  -4.7392657   -5.31696584  -6.04377693  -6.91666436  -9.09115678\n",
      "  -6.58379371  -6.53112807  -6.08000007  -5.01114938  -4.53338782\n",
      "  -4.27900526  -4.1147358   -4.05583749  -4.09939372  -4.31039895\n",
      "  -4.73140577  -5.30817165  -6.03619854  -6.91059787  -9.09047199\n",
      "  -5.35487681  -5.34633264  -5.28323894  -4.83665959  -4.53107916\n",
      "  -4.30610797  -4.13035199  -4.0637707   -4.10080524  -4.3032805\n",
      "  -4.71862618  -5.29532774  -6.02444159  -6.90107644  -9.08833768\n",
      "  -4.66615491  -4.66446748  -4.64971074  -4.53119549  -4.40030685\n",
      "  -4.26667771  -4.13415528  -4.06756395  -4.09636509  -4.29156502\n",
      "  -4.70376144  -5.27679707  -6.00566715  -6.88724447  -9.08594282\n",
      "  -4.81363314  -4.81230837  -4.80053736  -4.69580101  -4.56124562\n",
      "  -4.40777721  -4.2406094   -4.13577936  -4.15223425  -4.34294621\n",
      "  -4.76400594  -5.34979354  -6.08960044  -6.97562931  -9.17603834\n",
      "  -5.58010508  -5.57823798  -5.56158512  -5.41358773  -5.22397627\n",
      "  -5.00746962  -4.67567775  -4.41431729  -4.36667722  -4.51822469\n",
      "  -4.94541687  -5.55545093  -6.32517414  -7.24451524  -9.51700188\n",
      "  -6.20104922  -6.19971834  -6.18806573  -6.08322954  -5.92610521\n",
      "  -5.72699052  -5.3167385   -4.86655278  -4.70753483  -4.77250271\n",
      "  -5.17901645  -5.80186386  -6.59584398  -7.54611525  -9.88776171\n",
      "  -7.40968676  -7.40774716  -7.39074336  -7.23844422  -7.03778782\n",
      "  -6.81158989  -6.56046251  -6.13983335  -5.76851773  -5.51900112\n",
      "  -5.80476093  -6.41100943  -7.23151797  -8.22924239 -10.69266225\n",
      "  -9.45944662  -9.45632853  -9.42848004  -9.17631237  -8.83917106\n",
      "  -8.43241442  -7.94093471  -7.53833669  -7.33830205  -6.8977458\n",
      "  -6.88325233  -7.39377164  -8.20412349  -9.23220715 -11.81651741\n",
      " -12.34430689 -12.33952338 -12.29631964 -11.89982217 -11.35740735\n",
      " -10.67933922  -9.81047268  -8.96070103  -8.62527576  -8.44358919\n",
      "  -8.29126316  -8.62233692  -9.37368414 -10.40144236 -13.07023554\n",
      " -16.06455283 -16.05753679 -15.99408634 -15.40902677 -14.59664422\n",
      " -13.55951385 -12.18645019 -10.76170906 -10.11523946  -9.78663392\n",
      "  -9.85089176 -10.09693787 -10.74000252 -11.73743841 -14.45491773\n",
      " -20.43223309 -20.4254897  -20.365183   -19.70380621 -18.55698508\n",
      " -17.07296217 -15.06902862 -12.91934509 -11.88144714 -11.16220722\n",
      " -11.35695723 -11.69904818 -12.30381071 -13.2399297  -15.97035986\n",
      " -26.90642835 -26.90446909 -26.88685656 -26.66941137 -26.06430949\n",
      " -24.89069224 -22.35355875 -18.30485341 -16.23273349 -14.49595266\n",
      " -14.1896091  -14.77602868 -15.6711447  -16.7137692  -19.39276306]\n",
      "  warnings.warn(\n"
     ]
    },
    {
     "name": "stdout",
     "output_type": "stream",
     "text": [
      "({'l1': 0.1, 'l2': 2, 'l3': 0}, 40.141443490982056)\n"
     ]
    }
   ],
   "source": [
    "print(naive_cv_gtv(X, y, D_oracle))\n"
   ]
  },
  {
   "cell_type": "code",
   "execution_count": 106,
   "id": "d67e6666",
   "metadata": {},
   "outputs": [
    {
     "name": "stdout",
     "output_type": "stream",
     "text": [
      "({'l1': 1, 'l2': 0.25, 'l3': 0}, 18.994938373565674)\n"
     ]
    },
    {
     "name": "stderr",
     "output_type": "stream",
     "text": [
      "C:\\Users\\sswei\\anaconda3\\lib\\site-packages\\sklearn\\model_selection\\_search.py:918: UserWarning: One or more of the test scores are non-finite: [ -8.37037503  -8.33218181  -7.9744748   -6.75703736  -6.49761372\n",
      "  -6.54983874  -6.84978435  -7.6068022   -8.55484011 -11.01021355\n",
      " -14.93192368 -19.56966353 -24.69645516 -30.21120321 -41.85899486\n",
      " -10.12769527  -8.25108848  -7.91369611  -6.73462467  -6.48634929\n",
      "  -6.54240167  -6.84207658  -7.60014478  -8.55080087 -11.00677391\n",
      " -14.93422203 -19.56997456 -24.70502558 -30.20264266 -41.89199514\n",
      "  -9.50306775          nan  -7.58191276  -6.53958175  -6.38657202\n",
      "  -6.48342583  -6.80719301  -7.58067548  -8.53688132 -10.99837726\n",
      " -14.92763217 -19.56405637 -24.70171706 -30.20009832 -41.8885588\n",
      "  -6.04046866  -6.04554487  -5.95329794  -5.45626987  -5.54336187\n",
      "  -5.95017558  -6.47005234  -7.38813755  -8.40498485 -10.91750427\n",
      " -14.87356837 -19.52504543 -24.67649038 -30.18070667 -41.87806631\n",
      "  -4.97057518  -4.96617158  -4.93933354  -4.8155994   -4.83651425\n",
      "  -5.20396581  -5.95091812  -7.09841523  -8.19711566 -10.7871603\n",
      " -14.78263343 -19.46142913 -24.63596382 -30.14907526 -41.8676065\n",
      "  -4.56906909  -4.56719357  -4.55095591  -4.44838751  -4.39325151\n",
      "  -4.56150955  -5.29217359  -6.65644022  -7.86869394 -10.57602703\n",
      " -14.63016544 -19.35670504 -24.56215338 -30.09683902 -41.84797136\n",
      "  -4.42942053  -4.42898347  -4.42515094  -4.39561329  -4.37481747\n",
      "  -4.39484615  -4.77421094  -6.04637279  -7.34242767 -10.21314095\n",
      " -14.34814386 -19.14956111 -24.41606772 -29.9890175  -41.81188409\n",
      "  -4.55257033  -4.55212173  -4.54817887  -4.51703282  -4.49247499\n",
      "  -4.50582496  -4.66424464  -5.54283211  -6.89047876  -9.83083068\n",
      " -14.20649024 -19.08416059 -24.37889456 -29.94359207 -41.78025812\n",
      "  -4.7255618   -4.72505696  -4.72064337  -4.68463643  -4.65187883\n",
      "  -4.65291153  -4.79436322  -5.44687127  -6.63117421  -9.70182323\n",
      " -14.13618787 -19.17044675 -24.54889662 -30.17565681 -42.06107614\n",
      "  -5.17590777  -5.17571133  -5.17393909  -5.15839447  -5.09584836\n",
      "  -5.05556403  -5.14049118  -5.72625288  -6.68037999  -9.599011\n",
      " -14.22879119 -19.3833322  -24.93099762 -30.71068614 -42.73393761\n",
      "  -5.72724563  -5.72741155  -5.72896493  -5.74269323  -5.76876066\n",
      "  -5.76196474  -5.73433407  -6.2127724   -7.13251073  -9.833216\n",
      " -14.43891815 -19.76443423 -25.38654473 -31.2842624  -43.64651415\n",
      "  -6.34916301  -6.34920971  -6.34968277  -6.35691289  -6.3788936\n",
      "  -6.43444413  -6.5072394   -6.82666799  -7.68280876 -10.34147332\n",
      " -14.8457616  -20.12409181 -25.88530803 -31.89097397 -44.36000294\n",
      "  -6.8520228   -6.85195415  -6.85139796  -6.84941041  -6.85889791\n",
      "  -6.91330618  -7.11014625  -7.4704967   -8.27218007 -10.90002861\n",
      " -15.32721771 -20.60495614 -26.39817867 -32.48172882 -45.11858974\n",
      "  -7.38857164  -7.38850041  -7.38788785  -7.38556329  -7.39524002\n",
      "  -7.44324964  -7.63985695  -8.17185582  -8.89234721 -11.46005444\n",
      " -15.90261054 -21.18158408 -26.97719486 -33.12964459 -45.90391284\n",
      "  -8.60856966  -8.60844319  -8.60733667  -8.60059093  -8.60510407\n",
      "  -8.64924768  -8.84325588  -9.52846608 -10.35257755 -12.76662659\n",
      " -17.19854454 -22.51260181 -28.36678908 -34.57234265 -47.45134319]\n",
      "  warnings.warn(\n"
     ]
    }
   ],
   "source": [
    "print(naive_cv_gtv(X, y, D_w))"
   ]
  },
  {
   "cell_type": "code",
   "execution_count": 84,
   "id": "5a2ff270",
   "metadata": {},
   "outputs": [
    {
     "data": {
      "text/plain": [
       "({'l1': 1, 'l2': 3}, 16.289026498794556)"
      ]
     },
     "execution_count": 84,
     "metadata": {},
     "output_type": "execute_result"
    }
   ],
   "source": [
    "naive_cv(OUR, X, y, D)"
   ]
  },
  {
   "cell_type": "code",
   "execution_count": 28,
   "id": "3d2450e7",
   "metadata": {},
   "outputs": [],
   "source": [
    "def trial1():\n",
    "    X, y = gauss_sample(n, p, beta_star, Psi, sigma)\n",
    "    clf1 = OLR().fit(X, y)\n",
    "    clf2 = LA(l1 = 0).fit(X,y)\n",
    "    clf3 = EN(l1= 0, l2=0.001).fit(X,y)\n",
    "    clf4 = FL(0, 1, D).fit(X,y)\n",
    "    clf5 = SL(0.25, 2, D).fit(X,y)\n",
    "    clf6 = GTV(1, 0.25, 0, D_w).fit(X,y)\n",
    "    clf7 = GTV(0.1, 2, 0, D_oracle).fit(X,y)\n",
    "    clf8 = OUR(1, 3, D).fit(X,y)\n",
    "    return [c.l2_risk(beta_star) for c in [clf1, clf2, clf3, clf4, clf5, clf6, clf7, clf8]]"
   ]
  },
  {
   "cell_type": "code",
   "execution_count": 29,
   "id": "1401203a",
   "metadata": {},
   "outputs": [],
   "source": [
    "def trial2():\n",
    "    X, y = gauss_sample(n, p, beta_star, Psi, sigma)\n",
    "    clf1 = OLR().fit(X, y)\n",
    "    clf2 = LA(l1 = 0).fit(X,y)\n",
    "    clf3 = EN(l1= 0, l2=0.001).fit(X,y)\n",
    "    clf4 = FL(0, 1, D).fit(X,y)\n",
    "    clf5 = SL(0.25, 2, D).fit(X,y)\n",
    "    clf6 = GTV(1, 0.25, 0, D_w).fit(X,y)\n",
    "    clf7 = GTV(0.1, 2, 0, D_oracle).fit(X,y)\n",
    "    clf8 = OUR(1, 3, D).fit(X,y)\n",
    "    X2, y2 = gauss_sample(n, p, beta_star, Psi, sigma)\n",
    "    return [-c.score(X2, X2@beta_star) for c in [clf1, clf2, clf3, clf4, clf5, clf6, clf7, clf8]]"
   ]
  },
  {
   "cell_type": "code",
   "execution_count": 30,
   "id": "4609cede",
   "metadata": {},
   "outputs": [],
   "source": [
    "l2s = Parallel(n_jobs=8)(delayed(trial1)() for i in range(500))\n",
    "preds = Parallel(n_jobs=8)(delayed(trial2)() for i in range(500))"
   ]
  },
  {
   "cell_type": "code",
   "execution_count": 31,
   "id": "419f9c0a",
   "metadata": {},
   "outputs": [],
   "source": [
    "br1 = [l[0] for l in l2s]\n",
    "br2 = [l[1] for l in l2s]\n",
    "br3 = [l[2] for l in l2s]\n",
    "br4 = [l[3] for l in l2s]\n",
    "br5 = [l[4] for l in l2s]\n",
    "br6 = [l[5] for l in l2s]\n",
    "br7 = [l[6] for l in l2s]\n",
    "br8 = [l[7] for l in l2s]"
   ]
  },
  {
   "cell_type": "code",
   "execution_count": 32,
   "id": "237b8c24",
   "metadata": {},
   "outputs": [],
   "source": [
    "bp1 = [l[0] for l in preds]\n",
    "bp2 = [l[1] for l in preds]\n",
    "bp3 = [l[2] for l in preds]\n",
    "bp4 = [l[3] for l in preds]\n",
    "bp5 = [l[4] for l in preds]\n",
    "bp6 = [l[5] for l in preds]\n",
    "bp7 = [l[6] for l in preds]\n",
    "bp8 = [l[7] for l in preds]\n"
   ]
  },
  {
   "cell_type": "code",
   "execution_count": 33,
   "id": "9518e829",
   "metadata": {},
   "outputs": [
    {
     "data": {
      "image/png": "[encoded data removed]",
      "text/plain": [
       "<Figure size 432x288 with 1 Axes>"
      ]
     },
     "metadata": {
      "needs_background": "light"
     },
     "output_type": "display_data"
    }
   ],
   "source": [
    "plt.boxplot([br1, br2, br3, br4, br5, br6, br7, br8])\n",
    "plt.yscale(\"log\")"
   ]
  },
  {
   "cell_type": "code",
   "execution_count": 34,
   "id": "d0832443",
   "metadata": {},
   "outputs": [
    {
     "data": {
      "image/png": "[encoded data removed]",
      "text/plain": [
       "<Figure size 432x288 with 1 Axes>"
      ]
     },
     "metadata": {
      "needs_background": "light"
     },
     "output_type": "display_data"
    }
   ],
   "source": [
    "plt.boxplot([bp1, bp2, bp3, bp4, bp5, bp6, bp7, bp8])\n",
    "plt.yscale(\"log\")"
   ]
  },
  {
   "cell_type": "markdown",
   "id": "bb292ee5",
   "metadata": {},
   "source": [
    "### sigma = 3"
   ]
  },
  {
   "cell_type": "code",
   "execution_count": 47,
   "id": "090251c8",
   "metadata": {},
   "outputs": [],
   "source": [
    "sigma = 3"
   ]
  },
  {
   "cell_type": "code",
   "execution_count": 48,
   "id": "e9944b5f",
   "metadata": {},
   "outputs": [
    {
     "data": {
      "text/plain": [
       "({'t': 0.3}, 0.039246320724487305)"
      ]
     },
     "execution_count": 48,
     "metadata": {},
     "output_type": "execute_result"
    }
   ],
   "source": [
    "X, y = gauss_sample(n, p, beta_star, Psi, sigma)\n",
    "naive_cv_cov(X)"
   ]
  },
  {
   "cell_type": "code",
   "execution_count": 49,
   "id": "f079f6db",
   "metadata": {},
   "outputs": [],
   "source": [
    "D_w = weighted_incidence(cov_est(0.3).fit(X).S)"
   ]
  },
  {
   "cell_type": "code",
   "execution_count": 50,
   "id": "f43611a8",
   "metadata": {},
   "outputs": [
    {
     "data": {
      "text/plain": [
       "(882, 66)"
      ]
     },
     "execution_count": 50,
     "metadata": {},
     "output_type": "execute_result"
    }
   ],
   "source": [
    "D_w.shape"
   ]
  },
  {
   "cell_type": "code",
   "execution_count": 117,
   "id": "2f17a974",
   "metadata": {},
   "outputs": [
    {
     "name": "stdout",
     "output_type": "stream",
     "text": [
      "({'l1': 0, 'l2': 0}, 0.31529879570007324)\n"
     ]
    },
    {
     "name": "stderr",
     "output_type": "stream",
     "text": [
      "C:\\Users\\sswei\\anaconda3\\lib\\site-packages\\sklearn\\model_selection\\_search.py:918: UserWarning: One or more of the test scores are non-finite: [ -233.68964325  -233.7067169   -234.31987384  -237.08681136\n",
      "  -240.57965607  -251.50711291  -270.59205589  -311.54459592\n",
      "  -398.75239179  -491.1453385   -687.20746188  -954.18433687\n",
      " -1242.95653527 -1552.58121193 -1882.2148822  -2598.17776479\n",
      " -4192.70312786  -240.70831855  -234.84329891  -237.16506943\n",
      "  -240.62673057  -251.52290084  -270.72361759  -311.56203277\n",
      "  -398.75993238  -490.95277349  -687.45308849  -954.22490468\n",
      " -1243.12415643 -1553.05931366 -1882.9414432  -2597.54981023\n",
      "            nan  -330.0132453   -241.24930555  -238.08272045\n",
      "  -241.07347325  -251.71570606  -270.83417403  -311.62137943\n",
      "  -398.79466525  -490.98425523  -687.64516474  -954.27798053\n",
      " -1243.16460523 -1553.09758187 -1882.83326958 -2598.67875084\n",
      " -4195.10539186  -833.27385431  -279.06630265  -243.98822737\n",
      "  -243.64511925  -252.58032744  -271.33284889  -311.94226859\n",
      "  -399.05371194  -491.2190404   -687.76395555  -954.48311462\n",
      " -1243.45944833 -1553.41794909 -1883.13931475 -2598.50229258\n",
      " -4194.4574072  -1372.35904589  -330.94857977  -252.07052787\n",
      "  -247.42784967  -253.72552155  -271.950027    -312.33466062\n",
      "  -399.35142199  -491.47192704  -688.00360438  -954.78347051\n",
      " -1243.72719923 -1553.62758048 -1883.50020127 -2599.25437385\n",
      " -4192.57100979 -1806.06912018  -518.93848871  -282.47963647\n",
      "  -260.75877251  -258.36971336  -273.82995024  -313.53625803\n",
      "  -400.23981754  -492.2885052   -688.8258899   -955.56554166\n",
      " -1244.47876981 -1554.47555822 -1884.25740565 -2600.08602025\n",
      " -4189.64453448 -2072.01506209  -836.41495636  -335.50594746\n",
      "  -286.72903318  -267.01498825  -277.7077769   -315.54447402\n",
      "  -401.75828718  -493.66532371  -690.1172771   -956.89209457\n",
      " -1245.94950131 -1555.72017648 -1885.75250902 -2601.31586173\n",
      " -4184.57900193 -2598.27933151 -1378.06144519  -458.6086614\n",
      "  -341.3190545   -289.0164472   -287.13487445  -319.67524044\n",
      "  -404.76936382  -496.46077133  -692.78852845  -959.53703326\n",
      " -1248.69591767 -1558.4850689  -1888.41855612 -2604.71019284\n",
      " -4177.6080701  -3157.06423086 -1741.44311628  -714.56603999\n",
      "  -467.28682445  -335.38914165  -311.63485954  -330.71492945\n",
      "  -410.9616926   -502.16664704  -698.12791071  -964.98490001\n",
      " -1254.17925075 -1564.03448654 -1893.74134063 -2610.17020345\n",
      " -4140.01072703 -3551.34696025 -1873.91826443  -991.57960732\n",
      "  -598.04697756  -384.5649635   -337.35902469  -345.11913149\n",
      "  -417.56981255  -507.91606475  -703.44894484  -970.29386717\n",
      " -1259.59074345 -1569.63246567 -1899.30647464 -2616.40879243\n",
      " -4065.58816075 -3918.66463977 -2148.34685178 -1403.21162664\n",
      "  -867.53520616  -493.52197011  -390.84646931  -376.45351031\n",
      "  -434.41028456  -520.04838195  -714.20433252  -981.03462129\n",
      " -1270.72093902 -1580.81408579 -1911.01054497 -2628.26821957\n",
      " -4016.27634672 -3907.42005237 -2424.93528108 -1682.38868238\n",
      " -1206.85617596  -632.19508755  -462.03183571  -416.17016573\n",
      "  -460.74894585  -537.88201593  -727.86198431  -994.48161183\n",
      " -1284.16061013 -1594.84983675 -1925.57230205 -2643.40953782\n",
      " -3859.11249756 -3782.65160938 -2711.49174416 -1802.35363435\n",
      " -1436.23787069  -772.53996569  -535.79599065  -456.65211133\n",
      "  -487.68418942  -559.6536153   -743.90459127 -1007.86795834\n",
      " -1297.60245623 -1608.72362424 -1940.02690168 -2658.83405252\n",
      " -3735.29569148 -3682.33312284 -2945.56703764 -1908.12328768\n",
      " -1588.9107236   -922.96885305  -614.04462413  -498.47015647\n",
      "  -514.28368667  -581.95008764  -760.10121495 -1022.88842358\n",
      " -1311.25405447 -1622.78705338 -1954.78839687 -2674.41613807\n",
      " -3664.83741988 -3603.0959697  -3112.21185644 -1997.14459315\n",
      " -1728.2691168  -1077.15426991  -691.9649873   -539.6076549\n",
      "  -541.37793871  -604.17924655  -776.28617374 -1038.0611991\n",
      " -1326.46323431 -1637.67469984 -1969.47148035 -2690.38837677\n",
      " -3527.10777824 -3511.55976795 -3323.06916873 -2170.00295031\n",
      " -1863.72765609 -1336.43775834  -850.13959761  -627.55859598\n",
      "  -594.5538361   -650.22630362  -814.71000809 -1068.97419806\n",
      " -1357.49987448 -1669.29046652 -2001.87907737 -2723.91928126]\n",
      "  warnings.warn(\n"
     ]
    },
    {
     "name": "stdout",
     "output_type": "stream",
     "text": [
      "({'l1': 0, 'l2': 0}, 5.164907693862915)\n",
      "({'l1': 0, 'l2': 20}, 8.518138408660889)\n",
      "({'l1': 0, 'l2': 3}, 11.40188455581665)\n"
     ]
    }
   ],
   "source": [
    "print(naive_cv_lasso(X, y))\n",
    "print(naive_cv(EN, X, y,D))\n",
    "print(naive_cv(FL, X, y, D))\n",
    "print(naive_cv(SL, X, y, D))"
   ]
  },
  {
   "cell_type": "code",
   "execution_count": 235,
   "id": "22f49a39",
   "metadata": {
    "scrolled": true
   },
   "outputs": [
    {
     "name": "stderr",
     "output_type": "stream",
     "text": [
      "C:\\Users\\sswei\\anaconda3\\lib\\site-packages\\sklearn\\model_selection\\_search.py:918: UserWarning: One or more of the test scores are non-finite: [-28.17348612 -27.80449427 -26.02019268 -18.38988757 -14.80423632\n",
      " -12.91673581 -11.88347632 -11.57164009 -11.68391763 -12.2158086\n",
      " -13.11618837 -14.21189702 -15.49734894 -16.97162888 -20.44866574\n",
      " -32.54477065          nan          nan -18.36495164 -14.79363963\n",
      " -12.91308227 -11.88345424 -11.57218694 -11.68539946 -12.2100241\n",
      " -13.11328664 -14.21574761 -15.50285499 -16.97208221 -20.45316238\n",
      " -31.3541868  -30.12554707 -25.94665215 -18.13768488 -14.69936223\n",
      " -12.88255688 -11.88337854 -11.57856544 -11.69047902 -12.21343394\n",
      " -13.11533918 -14.21697033 -15.5037808  -16.97242145 -20.45353329\n",
      " -22.48311928 -22.34806853 -21.15290188 -16.07143034 -13.92724608\n",
      " -12.66367974 -11.91375922 -11.64936124 -11.74817887 -12.2507975\n",
      " -13.13680261 -14.23057535 -15.5151588  -16.98260035 -20.46350655\n",
      " -16.17638564 -16.15310858 -15.96283006 -14.57507311 -13.4623301\n",
      " -12.66004289 -12.07096919 -11.8114036  -11.86746884 -12.31841333\n",
      " -13.17606797 -14.25601501 -15.53561647 -17.00024189 -20.48291345\n",
      " -15.31773413 -15.31059468 -15.24719248 -14.58909417 -13.81461544\n",
      " -13.15432493 -12.5197001  -12.12394467 -12.09551965 -12.4508279\n",
      " -13.246964   -14.30451923 -15.57472145 -17.03629157 -20.51993193\n",
      " -14.94143812 -14.93965226 -14.90870401 -14.54272885 -14.07435002\n",
      " -13.50977768 -12.88024171 -12.40567041 -12.32260766 -12.59932226\n",
      " -13.35268956 -14.39003177 -15.65017017 -17.1089046  -20.60483645\n",
      " -14.76889312 -14.76622495 -14.74265452 -14.53442192 -14.21256978\n",
      " -13.76058884 -13.2008023  -12.62903789 -12.48618518 -12.71742234\n",
      " -13.46941802 -14.52418082 -15.8108239  -17.30349678 -20.86539075\n",
      " -14.65916546 -14.65688784 -14.6363662  -14.45297872 -14.21459283\n",
      " -13.93656581 -13.54876982 -12.95970345 -12.72463156 -12.87786037\n",
      " -13.61987495 -14.7028541  -16.0333163  -17.57720821 -21.24951609\n",
      " -15.46546362 -15.46329178 -15.44400666 -15.26625846 -15.02103591\n",
      " -14.70936062 -14.29968462 -13.93317479 -13.58229885 -13.45775391\n",
      " -14.10138731 -15.1988913  -16.59384719 -18.22316023 -22.09615085\n",
      " -17.29128161 -17.28902606 -17.26910563 -17.08194201 -16.81096612\n",
      " -16.44440202 -15.92062969 -15.21661184 -14.86119906 -14.66722972\n",
      " -15.04232398 -16.08006671 -17.50552981 -19.21285034 -23.3009469\n",
      " -19.79881171 -19.79571465 -19.76865736 -19.5093897  -19.12246081\n",
      " -18.57923966 -17.76981588 -16.83662313 -16.41966374 -16.10537601\n",
      " -16.35906452 -17.25107988 -18.65648861 -20.40608367 -24.66976562\n",
      " -23.0606743  -23.05637259 -23.01789636 -22.64826436 -22.09107172\n",
      " -21.2990472  -20.09933033 -18.66744555 -17.97040108 -17.64664601\n",
      " -17.92279288 -18.71225357 -20.0447969  -21.80349914 -26.19959262\n",
      " -27.07678592 -27.07076536 -27.01666087 -26.49857249 -25.71669661\n",
      " -24.60375271 -22.91119052 -20.85757672 -19.80415866 -19.15321673\n",
      " -19.50579283 -20.40188716 -21.67083972 -23.40319049 -27.89292376\n",
      " -36.11514734 -36.10785371 -36.04264344 -35.42033191 -34.49252863\n",
      " -32.96798003 -29.98127867 -26.31624114 -24.33542466 -22.75483849\n",
      " -22.81454608 -23.90554532 -25.41725107 -27.21450375 -31.76753859]\n",
      "  warnings.warn(\n"
     ]
    },
    {
     "name": "stdout",
     "output_type": "stream",
     "text": [
      "({'l1': 0, 'l2': 2, 'l3': 0}, 43.40549325942993)\n",
      "({'l1': 2, 'l2': 0, 'l3': 0}, 19.52872371673584)\n"
     ]
    },
    {
     "name": "stderr",
     "output_type": "stream",
     "text": [
      "C:\\Users\\sswei\\anaconda3\\lib\\site-packages\\sklearn\\model_selection\\_search.py:918: UserWarning: One or more of the test scores are non-finite: [ -36.17528546  -35.97214479  -34.27455313  -27.00527159  -23.77027181\n",
      "  -22.44169999  -22.70701241  -25.83964096  -30.31452174  -41.92075793\n",
      "  -60.725464    -83.8203224  -111.2919956  -142.51542585 -215.91784766\n",
      "  -35.19095335           nan  -33.78803373  -26.92450534  -23.73496168\n",
      "  -22.42252329  -22.69751726  -25.83506891  -30.31270291  -41.91268881\n",
      "  -60.69957462  -83.90299802 -111.24590424 -142.5068119  -215.98934754\n",
      "  -34.56052417           nan  -30.93530744  -26.21494766  -23.41926202\n",
      "  -22.25874432  -22.61341978  -25.79252143  -30.2839237   -41.89405424\n",
      "  -60.69190014  -83.89591664 -111.24676357 -142.48466485 -215.9978023\n",
      "  -24.00494418  -24.10717357  -22.8449663   -21.17592488  -20.69738412\n",
      "  -20.77084582  -21.82685945  -25.38491123  -30.0000397   -41.73082502\n",
      "  -60.5975813   -83.82747915 -111.19928415 -142.49385609 -216.02802613\n",
      "  -17.11374627  -17.09726848  -16.81012128  -17.29816398  -17.92995373\n",
      "  -18.98179384  -20.72036955  -24.74308874  -29.53187399  -41.47106372\n",
      "  -60.44341306  -83.71830702 -111.13674087 -142.47532418 -216.08079003\n",
      "  -15.1901425   -15.18504125  -15.18554259  -15.25671623  -15.96374201\n",
      "  -17.0887609   -19.20637694  -23.77257567  -28.80303348  -41.04696301\n",
      "  -60.2024702   -83.53812863 -111.03303684 -142.44607176 -216.18689693\n",
      "  -15.14205907  -15.14297516  -15.15098409  -15.46930939  -15.37889374\n",
      "  -16.0907358   -18.08171659  -22.58425038  -27.76545698  -40.30281776\n",
      "  -59.72570781  -83.19082273 -110.84370661 -142.41375794 -216.39071519\n",
      "  -15.09311344  -15.09410878  -15.1034291   -15.22286805  -15.40046039\n",
      "  -15.7894748   -17.91685689  -21.89200976  -26.9128151   -39.48484916\n",
      "  -59.09479835  -82.68617243 -110.63014833 -142.44061553 -216.80255566\n",
      "  -15.09700014  -15.09809908  -15.1082318   -15.23588444  -15.33480837\n",
      "  -15.76020386  -17.36563697  -21.63584195  -26.91088863  -39.49246349\n",
      "  -59.21320907  -82.53939602 -110.68307002 -142.67911455 -217.35949369\n",
      "  -15.13570232  -15.13699269  -15.14872377  -15.18346077  -15.29420557\n",
      "  -15.74135451  -17.34230374  -21.62131097  -26.57526044  -40.4512382\n",
      "  -60.50490853  -84.12185844 -112.29274631 -144.1997747  -219.20413106\n",
      "  -15.1234928   -15.12333928  -15.12228176  -15.1469978   -15.31094062\n",
      "  -15.84127723  -17.52555414  -21.60472777  -27.03014605  -40.80469302\n",
      "  -62.21278937  -86.48451417 -115.24065399 -147.8087461  -223.41447404\n",
      "  -15.1286926   -15.12890103  -15.13111443  -15.18767749  -15.40250045\n",
      "  -16.0128133   -17.84459362  -22.20044906  -27.15419011  -41.8193186\n",
      "  -63.0477655   -88.95182176 -118.4720056  -151.14145609 -228.02849468\n",
      "  -15.21265884  -15.21320875  -15.21846575  -15.3055046   -15.56908153\n",
      "  -16.25615109  -18.23041314  -22.78947508  -28.1099648   -42.915243\n",
      "  -64.01171316  -90.76117379 -121.20165507 -154.93224355 -232.50976558\n",
      "  -15.37542314  -15.37630778  -15.38449206  -15.50024955  -15.81027091\n",
      "  -16.57107576  -18.68305227  -23.43740861  -28.96433238  -43.31133002\n",
      "  -65.6324969   -92.68570046 -123.62008451 -158.01707185 -237.42217506\n",
      "  -15.89950636  -15.90209287  -15.92563235  -16.12142128  -16.5175093\n",
      "  -17.41640319  -19.78899637  -24.90922916  -30.66711595  -44.69259251\n",
      "  -68.85312552  -96.99239746 -128.71528418 -164.37176964 -246.26782281]\n",
      "  warnings.warn(\n"
     ]
    }
   ],
   "source": [
    "print(naive_cv_gtv(X, y, D_oracle))\n",
    "print(naive_cv_gtv(X, y, D_w))"
   ]
  },
  {
   "cell_type": "code",
   "execution_count": 64,
   "id": "ae23e252",
   "metadata": {},
   "outputs": [
    {
     "data": {
      "text/plain": [
       "({'l1': 30, 'l2': 15}, 13.963613510131836)"
      ]
     },
     "execution_count": 64,
     "metadata": {},
     "output_type": "execute_result"
    }
   ],
   "source": [
    "naive_cv(OUR, X, y, D)"
   ]
  },
  {
   "cell_type": "code",
   "execution_count": 51,
   "id": "059aa029",
   "metadata": {},
   "outputs": [],
   "source": [
    "def trial1():\n",
    "    X, y = gauss_sample(n, p, beta_star, Psi, sigma)\n",
    "    clf1 = OLR().fit(X, y)\n",
    "    clf2 = LA(l1 = 0).fit(X,y)\n",
    "    clf3 = EN(l1= 0, l2=0.001).fit(X,y)\n",
    "    clf4 = FL(1, 2, D).fit(X,y)\n",
    "    clf5 = SL(0, 7.5, D).fit(X,y)\n",
    "    clf6 = GTV(2, 0, 0, D_w).fit(X,y)\n",
    "    clf7 = GTV(0.01, 2, 0, D_oracle).fit(X,y)\n",
    "    clf8 = OUR(1, 5, D).fit(X,y)\n",
    "    return [c.l2_risk(beta_star) for c in [clf1, clf2, clf3, clf4, clf5, clf6, clf7, clf8]]\n",
    "\n",
    "def trial2():\n",
    "    X, y = gauss_sample(n, p, beta_star, Psi, sigma)\n",
    "    clf1 = OLR().fit(X, y)\n",
    "    clf2 = LA(l1 = 0).fit(X,y)\n",
    "    clf3 = EN(l1= 0, l2=0.001).fit(X,y)\n",
    "    clf4 = FL(1, 2, D).fit(X,y)\n",
    "    clf5 = SL(0, 7.5, D).fit(X,y)\n",
    "    clf6 = GTV(2, 0, 0, D_w).fit(X,y)\n",
    "    clf7 = GTV(0.01, 2, 0, D_oracle).fit(X,y)\n",
    "    clf8 = OUR(1, 5, D).fit(X,y)\n",
    "    X2, y2 = gauss_sample(n, p, beta_star, Psi, sigma)\n",
    "    return [-c.score(X2, X2@beta_star) for c in [clf1, clf2, clf3, clf4, clf5, clf6, clf7, clf8]]"
   ]
  },
  {
   "cell_type": "code",
   "execution_count": 52,
   "id": "d0756691",
   "metadata": {},
   "outputs": [],
   "source": [
    "l2s = Parallel(n_jobs=8)(delayed(trial1)() for i in range(500))\n",
    "preds = Parallel(n_jobs=8)(delayed(trial2)() for i in range(500))"
   ]
  },
  {
   "cell_type": "code",
   "execution_count": 53,
   "id": "6d5d26b9",
   "metadata": {},
   "outputs": [],
   "source": [
    "cr1 = [l[0] for l in l2s]\n",
    "cr2 = [l[1] for l in l2s]\n",
    "cr3 = [l[2] for l in l2s]\n",
    "cr4 = [l[3] for l in l2s]\n",
    "cr5 = [l[4] for l in l2s]\n",
    "cr6 = [l[5] for l in l2s]\n",
    "cr7 = [l[6] for l in l2s]\n",
    "cr8 = [l[7] for l in l2s]"
   ]
  },
  {
   "cell_type": "code",
   "execution_count": 54,
   "id": "6dc9b3e3",
   "metadata": {},
   "outputs": [],
   "source": [
    "cp1 = [l[0] for l in preds]\n",
    "cp2 = [l[1] for l in preds]\n",
    "cp3 = [l[2] for l in preds]\n",
    "cp4 = [l[3] for l in preds]\n",
    "cp5 = [l[4] for l in preds]\n",
    "cp6 = [l[5] for l in preds]\n",
    "cp7 = [l[6] for l in preds]\n",
    "cp8 = [l[7] for l in preds]"
   ]
  },
  {
   "cell_type": "code",
   "execution_count": 55,
   "id": "50e6a7c1",
   "metadata": {},
   "outputs": [
    {
     "data": {
      "image/png": "[encoded data removed]",
      "text/plain": [
       "<Figure size 432x288 with 1 Axes>"
      ]
     },
     "metadata": {
      "needs_background": "light"
     },
     "output_type": "display_data"
    }
   ],
   "source": [
    "plt.boxplot([cr1, cr2, cr3, cr4, cr5, cr6, cr7, cr8])\n",
    "plt.yscale(\"log\")"
   ]
  },
  {
   "cell_type": "code",
   "execution_count": 56,
   "id": "8797d45e",
   "metadata": {},
   "outputs": [
    {
     "data": {
      "image/png": "[encoded data removed]",
      "text/plain": [
       "<Figure size 432x288 with 1 Axes>"
      ]
     },
     "metadata": {
      "needs_background": "light"
     },
     "output_type": "display_data"
    }
   ],
   "source": [
    "plt.boxplot([cp1, cp2, cp3, cp4, cp5, cp6, cp7, cp8])\n",
    "plt.yscale(\"log\")"
   ]
  },
  {
   "cell_type": "markdown",
   "id": "06c8bd56",
   "metadata": {},
   "source": [
    "### sigma = 4"
   ]
  },
  {
   "cell_type": "code",
   "execution_count": 65,
   "id": "f49fb71a",
   "metadata": {},
   "outputs": [],
   "source": [
    "sigma = 4"
   ]
  },
  {
   "cell_type": "code",
   "execution_count": 66,
   "id": "482eda7a",
   "metadata": {},
   "outputs": [
    {
     "data": {
      "text/plain": [
       "({'t': 0.25}, 0.035555362701416016)"
      ]
     },
     "execution_count": 66,
     "metadata": {},
     "output_type": "execute_result"
    }
   ],
   "source": [
    "X, y = gauss_sample(n, p, beta_star, Psi, sigma)\n",
    "naive_cv_cov(X)"
   ]
  },
  {
   "cell_type": "code",
   "execution_count": 67,
   "id": "e4b8d232",
   "metadata": {},
   "outputs": [],
   "source": [
    "D_w = weighted_incidence(cov_est(0.3).fit(X).S)"
   ]
  },
  {
   "cell_type": "code",
   "execution_count": 68,
   "id": "8c8c83bf",
   "metadata": {},
   "outputs": [
    {
     "data": {
      "text/plain": [
       "(894, 66)"
      ]
     },
     "execution_count": 68,
     "metadata": {},
     "output_type": "execute_result"
    }
   ],
   "source": [
    "D_w.shape"
   ]
  },
  {
   "cell_type": "code",
   "execution_count": 153,
   "id": "93897174",
   "metadata": {},
   "outputs": [
    {
     "name": "stdout",
     "output_type": "stream",
     "text": [
      "({'l1': 0, 'l2': 0}, 0.27881813049316406)\n"
     ]
    },
    {
     "name": "stderr",
     "output_type": "stream",
     "text": [
      "C:\\Users\\sswei\\anaconda3\\lib\\site-packages\\sklearn\\model_selection\\_search.py:918: UserWarning: One or more of the test scores are non-finite: [ -390.96352982  -390.95961357  -391.61187179  -394.44464191\n",
      "  -398.03695405  -409.15679071  -428.68527867  -470.9806207\n",
      "  -565.49420364  -671.24913486  -908.36438676 -1244.35409066\n",
      " -1617.69711006 -2021.70537902 -2455.03462189 -3394.01311874\n",
      " -8171.78003847  -406.17333918  -393.0290248   -394.75662176\n",
      "  -398.16256118  -409.19216036  -428.72121923  -470.99833772\n",
      "  -565.70380304  -671.30608616  -908.46701981 -1244.78221338\n",
      " -1617.72324893 -2022.19489488 -2454.93807852 -3383.51630214\n",
      "            nan  -601.15113431  -406.82594974  -397.32493195\n",
      "  -399.46056894  -409.6530412   -428.96835405  -471.13635275\n",
      "  -565.81470776  -671.35053045  -908.58052061 -1244.85016912\n",
      " -1617.80564701 -2022.38484397 -2455.76196765 -3393.54624839\n",
      " -8175.87743617 -1540.03135627  -489.71413365  -409.74146063\n",
      "  -405.08987324  -411.88308419  -430.08270781  -471.77637045\n",
      "  -566.36570247  -671.78911709  -908.92589975 -1245.18690576\n",
      " -1618.17920755 -2022.75400668 -2455.71454045 -3393.94259761\n",
      " -8180.06486389 -2448.65409009  -602.25108044  -428.76348118\n",
      "  -413.46028161  -414.77753777  -431.47023538  -472.57644699\n",
      "  -567.10378178  -672.29575526  -909.35180923 -1245.62266701\n",
      " -1618.60960881 -2023.49853977 -2455.88879437 -3394.19151699\n",
      " -8192.65603184 -4147.91752128  -956.16377803  -493.37007644\n",
      "  -442.89992761  -425.26290724  -436.18118378  -475.03126528\n",
      "  -569.06985225  -673.81711671  -910.63773122 -1246.88899256\n",
      " -1619.82371913 -2024.29989809 -2456.9346026  -3396.44334524\n",
      " -8206.75847866 -5528.8163485  -1544.56266976  -607.41503321\n",
      "  -498.12235134  -444.82597872  -446.17891086  -480.23882891\n",
      "  -572.42358792  -676.34026606  -912.85436731 -1248.83384818\n",
      " -1621.66017323 -2026.30255479 -2459.00235901 -3397.8000084\n",
      " -8229.27011229 -6866.8733926  -2462.65713494  -840.20010409\n",
      "  -614.08388362  -489.01064801  -466.94904824  -491.54304012\n",
      "  -579.11140882  -681.66687273  -917.09605312 -1252.85205064\n",
      " -1625.99237068 -2029.86210552 -2462.82007163 -3401.54369747\n",
      " -8284.06375308 -7770.46255786 -3817.23036755 -1346.35882225\n",
      "  -849.30869864  -584.93034924  -512.9153127   -514.7202068\n",
      "  -592.90299148  -692.52629396  -925.81512028 -1261.07448358\n",
      " -1633.98590435 -2037.01268823 -2470.33325319 -3409.47563936\n",
      " -8344.20796562 -8077.08390508 -4582.60778812 -1779.18055497\n",
      " -1111.41683724  -679.5909135   -563.95343306  -538.92133535\n",
      "  -607.02151103  -703.97810936  -934.58821795 -1269.43259825\n",
      " -1642.19595068 -2044.27574197 -2478.21490667 -3417.95219428\n",
      " -8446.98175088 -8355.7053497  -5673.19716851 -2525.08765792\n",
      " -1592.82585623  -877.37734275  -665.29935608  -593.32065159\n",
      "  -635.54143057  -726.66850743  -952.63268951 -1285.93623664\n",
      " -1658.60011628 -2059.38417828 -2493.54066215 -3433.42198106\n",
      " -8536.21906264 -8451.88124531 -6652.47802681 -3309.27547283\n",
      " -2135.45825019 -1151.67182974  -794.10832479  -664.94723244\n",
      "  -673.09976837  -755.52536456  -975.90816943 -1307.174167\n",
      " -1678.90392787 -2079.54996797 -2511.38759326 -3454.66509567\n",
      " -8675.68708904 -8544.233914   -7228.03783134 -3983.23278177\n",
      " -2601.64536976 -1425.21139313  -927.26800352  -736.8734733\n",
      "  -715.16829822  -785.18047953 -1000.60697682 -1328.86327739\n",
      " -1699.20416814 -2099.87957184 -2530.07589448 -3473.70636378\n",
      " -8806.77189753 -8602.65751341 -7716.09071085 -4432.05561897\n",
      " -3051.18559315 -1672.19883036 -1070.87683603  -807.83252419\n",
      "  -758.84467332  -817.64381348 -1025.19506039 -1350.52361314\n",
      " -1719.62869342 -2120.25812976 -2550.53752106 -3493.87123523\n",
      " -8860.53877534 -8674.64441833 -7920.59239627 -4871.75419491\n",
      " -3457.46897509 -1911.5766728  -1223.22569478  -881.25684601\n",
      "  -804.02657376  -851.7868206  -1049.85819569 -1372.42873881\n",
      " -1740.05982332 -2140.77787703 -2571.3902849  -3514.02831539\n",
      " -8980.42396671 -8898.66157058 -8255.76389537 -5644.01455869\n",
      " -4184.1273651  -2385.13687351 -1527.65007249 -1034.52934682\n",
      "  -894.12461353  -921.93557315 -1101.93119092 -1418.12729059\n",
      " -1781.4583239  -2182.59711651 -2613.62517438 -3555.35222673]\n",
      "  warnings.warn(\n"
     ]
    },
    {
     "name": "stdout",
     "output_type": "stream",
     "text": [
      "({'l1': 0, 'l2': 0.001}, 5.387151718139648)\n",
      "({'l1': 0, 'l2': 150}, 17.535155057907104)\n",
      "({'l1': 1, 'l2': 10}, 10.31807827949524)\n"
     ]
    }
   ],
   "source": [
    "print(naive_cv_lasso(X, y))\n",
    "print(naive_cv(EN, X, y,D))\n",
    "print(naive_cv_large(FL, X, y, D))\n",
    "print(naive_cv(SL, X, y, D))"
   ]
  },
  {
   "cell_type": "code",
   "execution_count": 246,
   "id": "0261f074",
   "metadata": {},
   "outputs": [
    {
     "name": "stderr",
     "output_type": "stream",
     "text": [
      "C:\\Users\\sswei\\anaconda3\\lib\\site-packages\\sklearn\\model_selection\\_search.py:918: UserWarning: One or more of the test scores are non-finite: [-46.02103234 -45.73289264 -43.29784087 -33.17950504 -28.81457812\n",
      " -26.46552467 -24.83676434 -23.82648628 -23.5594268  -23.6824839\n",
      " -24.26965613 -25.07891913 -26.07482237 -27.19466603 -29.84592804\n",
      " -52.20213222          nan -43.30940502 -33.16050329 -28.80650322\n",
      " -26.46050224 -24.83436282 -23.82407931 -23.5602168  -23.6813737\n",
      " -24.26995794 -25.084234   -26.06086063 -27.18095905 -29.85095329\n",
      " -51.36268639 -48.95566306 -43.22825434 -32.9864986  -28.72535339\n",
      " -26.40929534 -24.80332115 -23.80428544 -23.54552052 -23.67056286\n",
      " -24.26122311 -25.07781586 -26.05551283 -27.17740778 -29.84790363\n",
      " -45.72466352 -44.79371864 -40.98615485 -31.24981252 -27.90333486\n",
      " -25.95753293 -24.48700831 -23.60699035 -23.3981382  -23.56926974\n",
      " -24.18396804 -25.01779819 -26.0050647  -27.13717413 -29.82331408\n",
      " -36.1450277  -35.95935578 -34.47967037 -29.56615881 -26.8235583\n",
      " -25.20600119 -24.01458934 -23.28376627 -23.14981038 -23.40219035\n",
      " -24.05581597 -24.91597671 -25.92263035 -27.06947147 -29.78344313\n",
      " -29.21501501 -29.12691396 -28.76915245 -26.49306021 -24.93920483\n",
      " -23.87681044 -23.13768459 -22.70310501 -22.72969655 -23.1231986\n",
      " -23.85050992 -24.75504359 -25.79652844 -26.96821624 -29.72114357\n",
      " -23.89943279 -23.89445002 -23.85075606 -23.47993983 -22.99842268\n",
      " -22.48299734 -22.03757222 -21.98233304 -22.17853692 -22.74187003\n",
      " -23.53631689 -24.50232802 -25.59827282 -26.81748024 -29.64218821\n",
      " -22.80985621 -22.80676556 -22.77944567 -22.52875023 -22.21240421\n",
      " -21.86955119 -21.50515836 -21.50002971 -21.7316202  -22.42305981\n",
      " -23.2650573  -24.29019888 -25.44835187 -26.7291331  -29.66843422\n",
      " -22.75276039 -22.74936967 -22.7193763  -22.45446293 -22.12309091\n",
      " -21.76628279 -21.39640086 -21.16993462 -21.45010819 -22.15715325\n",
      " -23.10606867 -24.18742924 -25.40948009 -26.75454165 -29.81960042\n",
      " -23.21174809 -23.20724343 -23.16716694 -22.80797376 -22.34178398\n",
      " -21.84237533 -21.37714451 -21.13815608 -21.16965843 -21.80603912\n",
      " -22.95051091 -24.10568989 -25.43143619 -26.8927862  -30.1918876\n",
      " -25.19939969 -25.19279202 -25.13369281 -24.60268411 -23.90959521\n",
      " -23.1024152  -22.1776569  -21.43593043 -21.38062326 -21.74047048\n",
      " -22.90924752 -24.23541874 -25.65046717 -27.22719775 -30.78703887\n",
      " -28.00427998 -27.99598084 -27.9179462  -27.159381   -26.16416914\n",
      " -24.99288564 -23.61741036 -22.4332674  -22.03768027 -22.19650692\n",
      " -23.11632134 -24.56952726 -26.08077726 -27.7436438  -31.52804156\n",
      " -31.16973921 -31.16058283 -31.07927145 -30.24162592 -29.1055141\n",
      " -27.47691174 -25.52926072 -23.77032593 -23.10010377 -22.92023445\n",
      " -23.66368378 -25.02884061 -26.72236642 -28.4405524  -32.41428257\n",
      " -34.11544286 -34.10448871 -34.00596383 -32.947681   -31.57963575\n",
      " -30.07440147 -27.91334091 -25.44719082 -24.43025435 -23.95309759\n",
      " -24.49219825 -25.6950195  -27.43685793 -29.31919316 -33.44443299\n",
      " -41.63124522 -41.61423924 -41.46312605 -39.92152223 -37.66478575\n",
      " -35.13978596 -32.40158578 -29.81988369 -27.89370345 -26.59431463\n",
      " -26.80297363 -27.82958625 -29.3384369  -31.39719753 -35.94223805]\n",
      "  warnings.warn(\n"
     ]
    },
    {
     "name": "stdout",
     "output_type": "stream",
     "text": [
      "({'l1': 5, 'l2': 2, 'l3': 0}, 45.081833839416504)\n",
      "({'l1': 2, 'l2': 0.25, 'l3': 0}, 20.075055599212646)\n"
     ]
    },
    {
     "name": "stderr",
     "output_type": "stream",
     "text": [
      "C:\\Users\\sswei\\anaconda3\\lib\\site-packages\\sklearn\\model_selection\\_search.py:918: UserWarning: One or more of the test scores are non-finite: [ -47.70169065  -47.36014605  -45.63841289  -37.62505651  -33.72847275\n",
      "  -32.15650426  -32.88644613  -37.42082242  -42.85685634  -54.22777686\n",
      "  -68.8251756   -84.16550352 -100.58564286 -118.34440105 -158.5748169\n",
      "  -55.65577031           nan  -45.58762653  -37.58436661  -33.70516876\n",
      "  -32.14589164  -32.87541751  -37.41718088  -42.85227129  -54.22615204\n",
      "  -68.83516535  -84.16542967 -100.58118559 -118.34130948 -158.48527052\n",
      "  -54.24586843  -48.4250591   -45.05852217  -37.23880987  -33.50515197\n",
      "  -32.0458634   -32.82088202  -37.38079879  -42.82638832  -54.20976306\n",
      "  -68.82377924  -84.15397436 -100.57637346 -118.34026464 -158.4815938\n",
      "  -49.38323296  -48.54889964  -43.79514783  -34.36695941  -31.64809335\n",
      "  -31.10574188  -32.28501304  -37.04000878  -42.58467593  -54.04709827\n",
      "  -68.71032079  -84.06895219 -100.50863999 -118.2910461  -158.46274135\n",
      "  -41.7597004   -41.49907024  -38.9992108   -30.81936931  -29.01184684\n",
      "  -29.62826648  -31.39052443  -36.51447361  -42.18497012  -53.78579609\n",
      "  -68.52455109  -83.9219201  -100.39814772 -118.20518569 -158.41819914\n",
      "  -33.1940826   -33.11805985  -32.20830323  -26.78984505  -26.21283549\n",
      "  -27.5425364   -30.04819781  -35.64878117  -41.54305172  -53.35133393\n",
      "  -68.22549208  -83.68930772 -100.22070705 -118.07488854 -158.35962514\n",
      "  -26.44371171  -26.42442831  -26.12851753  -23.64113308  -23.66011131\n",
      "  -25.2468293   -28.38447554  -34.17227651  -40.34609744  -52.54992555\n",
      "  -67.64800198  -83.24327307  -99.86982777 -117.81767197 -158.24732917\n",
      "  -24.92009183  -24.91949649  -24.91487293  -23.95697441  -22.88314192\n",
      "  -23.83546712  -26.74847984  -32.79230704  -38.85393634  -51.21389852\n",
      "  -66.60005969  -82.4051623   -99.21278497 -117.32278401 -158.04842307\n",
      "  -25.00271884  -25.00271151  -25.00267148  -25.02994153  -23.39606469\n",
      "  -23.71966445  -26.39105865  -31.70699331  -38.20244316  -50.40945705\n",
      "  -65.78734193  -81.70149444  -98.6241984  -116.86291169 -157.8751368\n",
      "  -25.48081408  -25.48138496  -25.48701607  -25.57036895  -25.43081246\n",
      "  -24.11892456  -26.37730762  -31.08020503  -37.01619402  -49.94148076\n",
      "  -65.44897468  -81.1683418   -97.94773853 -116.28631924 -157.61902258\n",
      "  -26.59380141  -26.59484172  -26.6047847   -26.66413639  -26.47307855\n",
      "  -25.57190465  -26.37070055  -30.66978688  -36.62179425  -49.25402426\n",
      "  -65.34865581  -81.4790439   -98.57234609 -116.78413506 -158.05771292\n",
      "  -28.10355284  -28.1028972   -28.09711295  -27.84303456  -27.53490696\n",
      "  -27.42405625  -26.54249548  -30.45160727  -36.40076925  -49.28751141\n",
      "  -65.18597976  -81.9187258   -99.25038268 -117.77289927 -159.36394424\n",
      "  -29.81506781  -29.80941176  -29.75872347  -29.28496424  -28.5615427\n",
      "  -27.75809948  -26.93793149  -30.43477426  -36.3363498   -49.40379626\n",
      "  -65.61155292  -82.15977593 -100.04863031 -118.84584143 -160.84989231\n",
      "  -30.14515467  -30.13739627  -30.06855119  -29.44650101  -28.64693826\n",
      "  -27.70240223  -27.0256575   -30.6283034   -36.41998604  -49.61769372\n",
      "  -66.10332117  -82.90742694 -100.6153983  -119.95672737 -162.25857139\n",
      "  -31.40168156  -31.39030788  -31.28904839  -30.3708061   -29.23894304\n",
      "  -28.13608551  -28.42098092  -31.47164459  -37.09053848  -50.35481211\n",
      "  -67.30103884  -84.64032417 -102.80623605 -122.11484373 -165.59465206]\n",
      "  warnings.warn(\n",
      "C:\\Users\\sswei\\anaconda3\\lib\\site-packages\\cvxpy\\problems\\problem.py:1296: UserWarning: Solution may be inaccurate. Try another solver, adjusting the solver settings, or solve with verbose=True for more information.\n",
      "  warnings.warn(\n"
     ]
    }
   ],
   "source": [
    "print(naive_cv_gtv(X, y, D_oracle))\n",
    "print(naive_cv_gtv(X, y, D_w))"
   ]
  },
  {
   "cell_type": "code",
   "execution_count": 271,
   "id": "7b0e1c92",
   "metadata": {},
   "outputs": [
    {
     "data": {
      "text/plain": [
       "({'l1': 20, 'l2': 3}, 14.312340021133423)"
      ]
     },
     "execution_count": 271,
     "metadata": {},
     "output_type": "execute_result"
    }
   ],
   "source": [
    "naive_cv(OUR, X, y, D)"
   ]
  },
  {
   "cell_type": "code",
   "execution_count": 80,
   "id": "cc603b5b",
   "metadata": {},
   "outputs": [],
   "source": []
  },
  {
   "cell_type": "code",
   "execution_count": null,
   "id": "d85e4bc1",
   "metadata": {},
   "outputs": [],
   "source": []
  },
  {
   "cell_type": "code",
   "execution_count": 69,
   "id": "1ee4785b",
   "metadata": {},
   "outputs": [],
   "source": [
    "def trial1():\n",
    "    X, y = gauss_sample(n, p, beta_star, Psi, sigma)\n",
    "    clf1 = OLR().fit(X, y)\n",
    "    clf2 = LA(l1 = 0).fit(X,y)\n",
    "    clf3 = EN(l1= 0, l2=0.001).fit(X,y)\n",
    "    clf4 = FL(0, 70, D).fit(X,y)\n",
    "    clf5 = SL(0, 7.5, D).fit(X,y)\n",
    "    clf6 = GTV(2, 0.25, 0, D_w).fit(X,y)\n",
    "    clf7 = GTV(2, 3, 0, D_oracle).fit(X,y)\n",
    "    clf8 = OUR(20, 5, D).fit(X,y)\n",
    "    return [c.l2_risk(beta_star) for c in [clf1, clf2, clf3, clf4, clf5, clf6, clf7, clf8]]\n",
    "\n",
    "def trial2():\n",
    "    X, y = gauss_sample(n, p, beta_star, Psi, sigma)\n",
    "    clf1 = OLR().fit(X, y)\n",
    "    clf2 = LA(l1 = 0).fit(X,y)\n",
    "    clf3 = EN(l1= 0, l2=0.001).fit(X,y)\n",
    "    clf4 = FL(0, 70, D).fit(X,y)\n",
    "    clf5 = SL(0, 7.5, D).fit(X,y)\n",
    "    clf6 = GTV(2, 0.25, 0, D_w).fit(X,y)\n",
    "    clf7 = GTV(2, 3, 0, D_oracle).fit(X,y)\n",
    "    clf8 = OUR(20, 5, D).fit(X,y)\n",
    "    X2, y2 = gauss_sample(n, p, beta_star, Psi, sigma)\n",
    "    return [-c.score(X2, X2@beta_star) for c in [clf1, clf2, clf3, clf4, clf5, clf6, clf7, clf8]]"
   ]
  },
  {
   "cell_type": "code",
   "execution_count": 70,
   "id": "123339f7",
   "metadata": {},
   "outputs": [],
   "source": [
    "l2s = Parallel(n_jobs=8)(delayed(trial1)() for i in range(500))\n",
    "preds = Parallel(n_jobs=8)(delayed(trial2)() for i in range(500))"
   ]
  },
  {
   "cell_type": "code",
   "execution_count": 71,
   "id": "8e735774",
   "metadata": {},
   "outputs": [],
   "source": [
    "dr1 = [l[0] for l in l2s]\n",
    "dr2 = [l[1] for l in l2s]\n",
    "dr3 = [l[2] for l in l2s]\n",
    "dr4 = [l[3] for l in l2s]\n",
    "dr5 = [l[4] for l in l2s]\n",
    "dr6 = [l[5] for l in l2s]\n",
    "dr7 = [l[6] for l in l2s]\n",
    "dr8 = [l[7] for l in l2s]"
   ]
  },
  {
   "cell_type": "code",
   "execution_count": 72,
   "id": "0315833c",
   "metadata": {},
   "outputs": [],
   "source": [
    "dp1 = [l[0] for l in preds]\n",
    "dp2 = [l[1] for l in preds]\n",
    "dp3 = [l[2] for l in preds]\n",
    "dp4 = [l[3] for l in preds]\n",
    "dp5 = [l[4] for l in preds]\n",
    "dp6 = [l[5] for l in preds]\n",
    "dp7 = [l[6] for l in preds]\n",
    "dp8 = [l[7] for l in preds]"
   ]
  },
  {
   "cell_type": "code",
   "execution_count": 73,
   "id": "8d6d38b1",
   "metadata": {},
   "outputs": [
    {
     "data": {
      "image/png": "[encoded data removed]",
      "text/plain": [
       "<Figure size 432x288 with 1 Axes>"
      ]
     },
     "metadata": {
      "needs_background": "light"
     },
     "output_type": "display_data"
    }
   ],
   "source": [
    "plt.boxplot([dr1, dr2, dr3, dr4, dr5, dr6, dr7, dr8])\n",
    "plt.yscale(\"log\")"
   ]
  },
  {
   "cell_type": "code",
   "execution_count": 74,
   "id": "1419c93f",
   "metadata": {},
   "outputs": [
    {
     "data": {
      "image/png": "[encoded data removed]",
      "text/plain": [
       "<Figure size 432x288 with 1 Axes>"
      ]
     },
     "metadata": {
      "needs_background": "light"
     },
     "output_type": "display_data"
    }
   ],
   "source": [
    "plt.boxplot([dp1, dp2, dp3, dp4, dp5, dp6, dp7, dp8])\n",
    "plt.yscale(\"log\")"
   ]
  },
  {
   "cell_type": "markdown",
   "id": "d760a8fc",
   "metadata": {},
   "source": [
    "### sigma = 5"
   ]
  },
  {
   "cell_type": "code",
   "execution_count": 133,
   "id": "a2655586",
   "metadata": {},
   "outputs": [],
   "source": [
    "sigma = 5"
   ]
  },
  {
   "cell_type": "code",
   "execution_count": 134,
   "id": "e689802f",
   "metadata": {},
   "outputs": [
    {
     "data": {
      "text/plain": [
       "({'t': 0.35}, 0.04396176338195801)"
      ]
     },
     "execution_count": 134,
     "metadata": {},
     "output_type": "execute_result"
    }
   ],
   "source": [
    "X, y = gauss_sample(n, p, beta_star, Psi, sigma)\n",
    "naive_cv_cov(X)"
   ]
  },
  {
   "cell_type": "code",
   "execution_count": 135,
   "id": "8a74cd01",
   "metadata": {},
   "outputs": [],
   "source": [
    "D_w = weighted_incidence(cov_est(0.3).fit(X).S)"
   ]
  },
  {
   "cell_type": "code",
   "execution_count": 136,
   "id": "4126413f",
   "metadata": {},
   "outputs": [
    {
     "data": {
      "text/plain": [
       "(897, 66)"
      ]
     },
     "execution_count": 136,
     "metadata": {},
     "output_type": "execute_result"
    }
   ],
   "source": [
    "D_w.shape"
   ]
  },
  {
   "cell_type": "code",
   "execution_count": 192,
   "id": "e5425a84",
   "metadata": {},
   "outputs": [
    {
     "name": "stdout",
     "output_type": "stream",
     "text": [
      "({'l1': 0, 'l2': 0}, 0.31592583656311035)\n"
     ]
    },
    {
     "name": "stderr",
     "output_type": "stream",
     "text": [
      "C:\\Users\\sswei\\anaconda3\\lib\\site-packages\\sklearn\\model_selection\\_search.py:918: UserWarning: One or more of the test scores are non-finite: [ -290.12818608  -290.17695457  -290.72984477  -293.25362282\n",
      "  -296.66293287  -307.94554831  -329.21916222  -377.270698\n",
      "  -484.62621118  -601.03242934  -849.15268016 -1181.4948334\n",
      " -1531.92742291 -1899.17017181 -2280.98053115 -3085.98952818\n",
      " -5830.95594596  -305.14385492  -292.22911344  -293.5831575\n",
      "  -296.82601239  -308.00595045  -329.26990328  -377.29764883\n",
      "  -484.79535209  -600.99652976  -849.61668066 -1181.81973217\n",
      " -1532.59238864 -1899.32585053 -2280.55799229 -3081.85636488\n",
      "            nan  -445.86660569  -305.70145479  -296.32799832\n",
      "  -298.22259598  -308.60027787  -329.57181254  -377.48592448\n",
      "  -484.91793035  -601.11252766  -849.70251109 -1182.11117261\n",
      " -1532.72281321 -1899.54261286 -2280.77559766 -3082.67129126\n",
      " -5819.53899494 -1066.26043213  -366.87775115  -308.38446478\n",
      "  -304.46738792  -311.21877218  -330.91280958  -378.31573826\n",
      "  -485.45482309  -601.54562777  -850.07557213 -1182.28810245\n",
      " -1533.01567212 -1899.78605484 -2281.04434116 -3083.31569385\n",
      " -5818.81396532 -1726.80075357  -447.6116629   -323.46361306\n",
      "  -311.95173365  -314.30241487  -332.5967715   -379.34831629\n",
      "  -486.1282726   -602.08803766  -850.53611766 -1182.71157071\n",
      " -1533.48225727 -1900.21575974 -2281.91345553 -3083.0576828\n",
      " -5816.65595651 -3272.40899286  -691.50723467  -371.64175452\n",
      "  -335.2292033   -323.69107232  -337.72161698  -382.46033961\n",
      "  -488.14737202  -603.7873705   -851.97785667 -1184.10023106\n",
      " -1534.66008389 -1901.27847    -2282.67605936 -3083.91280231\n",
      " -5813.15111519 -4632.12755878 -1071.03928451  -454.61853616\n",
      "  -377.31067873  -340.07532607  -346.59805778  -387.78320813\n",
      "  -491.55047455  -606.59538311  -854.34948745 -1186.23302526\n",
      " -1536.65599554 -1903.59925401 -2284.66021252 -3085.96604056\n",
      " -5806.47904723 -5227.95001624 -1730.81466939  -619.88089587\n",
      "  -463.74133559  -375.4323847   -364.99432338  -398.50074712\n",
      "  -498.48042653  -612.2229968   -859.0828325  -1190.59794887\n",
      " -1540.7094883  -1907.83666748 -2288.79095232 -3089.94010745\n",
      " -5789.73761064 -5512.54597123 -2821.00487716  -944.63945009\n",
      "  -633.72116489  -452.08501878  -403.78634451  -420.58799518\n",
      "  -512.62859678  -623.9342332   -868.80280419 -1199.62528169\n",
      " -1549.21654607 -1915.98405503 -2297.09268193 -3097.05998171\n",
      " -5756.99759677 -5673.44713608 -3635.3362528  -1237.66833691\n",
      "  -806.42792688  -528.87421289  -445.33850686  -443.24051883\n",
      "  -527.01510641  -635.61562547  -878.67762831 -1208.61703904\n",
      " -1557.89945853 -1924.3373516  -2305.63594593 -3104.36657222\n",
      " -5694.25066819 -5753.76196399 -4648.06577813 -1754.70505851\n",
      " -1120.78393116  -675.32320593  -535.86773203  -490.68198077\n",
      "  -556.48330897  -659.715478    -898.6488841  -1226.82136236\n",
      " -1575.43062179 -1941.12864028 -2322.35879873 -3120.03369198\n",
      " -5646.61735057 -5708.10886757 -5072.10923409 -2372.357239\n",
      " -1470.6219856   -863.52766561  -641.68650356  -554.68854502\n",
      "  -594.9205667   -690.45149098  -924.21409342 -1249.55752662\n",
      " -1597.35227643 -1962.80671872 -2343.52307458 -3137.40788647\n",
      " -5626.64477254 -5706.48172085 -5384.13323336 -2868.34407214\n",
      " -1792.8896802  -1043.15341772  -747.07065114  -621.45327323\n",
      "  -634.82434957  -722.19986964  -949.99117373 -1272.75171706\n",
      " -1619.66703277 -1984.43891028 -2364.37825199 -3155.68312639\n",
      " -5654.28116653 -5722.43509424 -5544.95326109 -3315.87981846\n",
      " -2117.44933066 -1190.49685563  -855.32992526  -690.73297902\n",
      "  -675.87754996  -754.75421071  -975.99976278 -1296.12559076\n",
      " -1642.0019433  -2006.44602827 -2384.01047045 -3174.2937205\n",
      " -5694.46528384 -5753.50828162 -5666.9543413  -3655.60736632\n",
      " -2429.56868012 -1338.10787114  -962.04713235  -756.52102405\n",
      "  -717.79288046  -787.43618331 -1002.17638638 -1319.93166102\n",
      " -1664.52692823 -2028.80297428 -2403.76567333 -3192.84713582\n",
      " -5795.38506207 -5837.57030748 -5841.84550948 -4259.69628483\n",
      " -2953.16903855 -1624.54438182 -1145.08819997  -891.21266726\n",
      "  -805.82595109  -855.32563869 -1056.25040575 -1367.94611106\n",
      " -1710.57325314 -2073.53194063 -2443.17950608 -3231.09209107]\n",
      "  warnings.warn(\n"
     ]
    },
    {
     "name": "stdout",
     "output_type": "stream",
     "text": [
      "({'l1': 0, 'l2': 0}, 5.305630683898926)\n",
      "({'l1': 0, 'l2': 80}, 19.00904154777527)\n",
      "({'l1': 0.001, 'l2': 10}, 10.748892068862915)\n"
     ]
    }
   ],
   "source": [
    "print(naive_cv_lasso(X, y))\n",
    "print(naive_cv(EN, X, y,D))\n",
    "print(naive_cv_large(FL, X, y, D))\n",
    "print(naive_cv(SL, X, y, D))"
   ]
  },
  {
   "cell_type": "code",
   "execution_count": 197,
   "id": "81af592e",
   "metadata": {},
   "outputs": [
    {
     "name": "stderr",
     "output_type": "stream",
     "text": [
      "C:\\Users\\sswei\\anaconda3\\lib\\site-packages\\sklearn\\model_selection\\_search.py:918: UserWarning: One or more of the test scores are non-finite: [-69.86209105 -69.23055811 -65.23237506 -49.52679961 -42.1850455\n",
      " -38.05156094 -35.48223857 -34.38011957 -34.31789164 -34.85114768\n",
      " -35.90522358 -37.18813555 -38.65922678 -40.30716092 -44.14414495\n",
      " -70.11079421          nan -65.09192352 -49.48318205 -42.16823657\n",
      " -38.04478418 -35.48298539 -34.38023868 -34.32016457 -34.85203869\n",
      " -35.90507612 -37.18681776 -38.65773573 -40.31146486 -44.15611068\n",
      " -67.35982057 -66.65488721 -63.76048473 -49.10403493 -42.00937734\n",
      " -37.9864107  -35.46854893 -34.37767411 -34.32094857 -34.85355424\n",
      " -35.90625114 -37.18863225 -38.65953581 -40.31597284 -44.15686544\n",
      " -57.65561346 -57.5318464  -54.72062026 -45.62011266 -40.66198424\n",
      " -37.44741013 -35.31132811 -34.35752485 -34.32805719 -34.87395154\n",
      " -35.93083093 -37.21557076 -38.69235599 -40.35119155 -44.19646505\n",
      " -50.07182943 -49.73957107 -46.98559822 -41.90080235 -38.87294876\n",
      " -36.70322548 -35.08421007 -34.32295951 -34.34871562 -34.91388852\n",
      " -35.97066308 -37.25908069 -38.74466469 -40.41113686 -44.26371568\n",
      " -42.98221695 -42.88958068 -42.05892038 -38.21079533 -36.65326842\n",
      " -35.56141396 -34.6552528  -34.24882803 -34.36683259 -34.97231146\n",
      " -36.03945261 -37.33710774 -38.83580484 -40.51388304 -44.38002124\n",
      " -37.78352796 -37.75667883 -37.53341371 -36.36574516 -35.66899055\n",
      " -35.01409556 -34.41557894 -34.20975534 -34.39338798 -35.09637442\n",
      " -36.22151568 -37.54047495 -39.0458874  -40.72524172 -44.61823019\n",
      " -36.65959767 -36.65779377 -36.64170328 -36.54483889 -36.32625974\n",
      " -35.85835507 -35.36678237 -35.00568485 -35.10784836 -35.71757094\n",
      " -36.80258796 -38.11520427 -39.62593028 -41.32524496 -45.26847124\n",
      " -36.88290419 -36.88199247 -36.87401106 -36.81341241 -36.78405239\n",
      " -36.31112798 -35.83784802 -35.43648512 -35.51637107 -36.12625868\n",
      " -37.2376717  -38.59043627 -40.14257554 -41.88691834 -45.92471861\n",
      " -37.48147893 -37.48224816 -37.48951528 -37.56394865 -37.69372308\n",
      " -37.47596822 -37.1567198  -36.69569053 -36.63272553 -37.14846197\n",
      " -38.25666904 -39.65053574 -41.26758005 -43.08663611 -47.29280848\n",
      " -39.08242004 -39.08272826 -39.08633877 -39.12332838 -39.18703855\n",
      " -38.83543907 -38.5483243  -38.70401771 -38.57708266 -38.79975731\n",
      " -39.80073428 -41.19192041 -42.85546116 -44.74493361 -49.13646973\n",
      " -41.45194341 -41.45186496 -41.45111025 -41.44919969 -41.46917703\n",
      " -41.00230854 -40.43554296 -40.28265445 -40.68164093 -40.86626809\n",
      " -41.64619173 -42.97434557 -44.64583385 -46.58212737 -51.12911339\n",
      " -44.31678611 -44.31620756 -44.31073121 -44.26571051 -44.21834395\n",
      " -43.59967319 -42.79757261 -42.3767957  -42.51186109 -43.34461882\n",
      " -43.79310963 -44.99676543 -46.63947312 -48.59949531 -53.26836693\n",
      " -47.71427956 -47.71293242 -47.70083205 -47.59056236 -47.44367745\n",
      " -46.62699316 -45.52305457 -44.76128993 -44.70410278 -45.34322265\n",
      " -46.24121297 -47.25955448 -48.83628637 -50.7936783  -55.55495842\n",
      " -56.10809644 -56.10445588 -56.07178266 -55.7650502  -55.32257998\n",
      " -53.97237905 -52.06418813 -50.37804624 -49.79278324 -49.88108526\n",
      " -51.0347625  -52.50570337 -53.8383941  -55.71760399 -60.58033003]\n",
      "  warnings.warn(\n"
     ]
    },
    {
     "name": "stdout",
     "output_type": "stream",
     "text": [
      "({'l1': 1, 'l2': 2, 'l3': 0}, 42.75952076911926)\n",
      "({'l1': 7.5, 'l2': 0.5, 'l3': 0}, 19.589649438858032)\n"
     ]
    },
    {
     "name": "stderr",
     "output_type": "stream",
     "text": [
      "C:\\Users\\sswei\\anaconda3\\lib\\site-packages\\sklearn\\model_selection\\_search.py:918: UserWarning: One or more of the test scores are non-finite: [ -71.84180894  -71.3780121   -68.88266612  -57.25907732  -50.64999308\n",
      "  -46.59306321  -44.53104791  -46.0686386   -49.75093511  -59.46385812\n",
      "  -73.98092578  -90.45326362 -108.73126311 -128.74289924 -173.56030869\n",
      "  -69.38924882           nan  -68.65312783  -57.20570377  -50.62536076\n",
      "  -46.57779812  -44.52253301  -46.06663513  -49.76299868  -59.45920095\n",
      "  -73.95193299  -90.45342426 -108.73794958 -128.73052635 -173.56458839\n",
      "  -68.53002943           nan  -66.77961616  -56.70101714  -50.38879819\n",
      "  -46.44513527  -44.46211455  -46.02682139  -49.73356701  -59.43710225\n",
      "  -73.94309533  -90.43970881 -108.72890235 -128.72354703 -173.56278635\n",
      "  -60.32352127  -60.36579405  -58.207226    -52.19792171  -48.2486067\n",
      "  -45.16770046  -43.87177386  -45.64576468  -49.44681648  -59.23860822\n",
      "  -73.82095192  -90.36000342 -108.68873323 -128.70403449 -173.57735013\n",
      "  -54.67016984  -54.45125834  -52.41788074  -47.23026142  -45.25538015\n",
      "  -43.14868136  -42.93782747  -45.02905803  -48.96630846  -58.92824173\n",
      "  -73.62210228  -90.22620828 -108.61535163 -128.67140689 -173.60696941\n",
      "  -45.55004269  -45.44104281  -44.68572875  -42.07577183  -41.00029717\n",
      "  -40.41680115  -41.5081018   -44.0615724   -48.1869594   -58.41581059\n",
      "  -73.29283061  -90.00260537 -108.4946583  -128.60869673 -173.66160706\n",
      "  -38.38338854  -38.36602704  -38.2066416   -36.99958329  -36.97826566\n",
      "  -37.07834085  -39.09071325  -42.37829247  -46.75239443  -57.48759693\n",
      "  -72.66276216  -89.57362218 -108.25322513 -128.49854697 -173.76245589\n",
      "  -38.14705565  -38.14168592  -38.09642891  -37.69516939  -37.01335638\n",
      "  -36.67666993  -37.59184704  -41.11118967  -45.56670926  -56.28145603\n",
      "  -71.61584638  -88.80282308 -107.81931527 -128.29259968 -173.95419256\n",
      "  -36.88273127  -36.87855123  -36.84152061  -36.50321739  -36.05525772\n",
      "  -35.7780239   -36.78758747  -40.53098532  -44.76696353  -55.77629379\n",
      "  -71.30757036  -88.55169645 -107.67920125 -128.24720456 -174.18608678\n",
      "  -36.32472265  -36.32148395  -36.29244593  -36.02927278  -35.69055866\n",
      "  -35.36240853  -36.0275008   -39.40447134  -43.88687169  -54.98844538\n",
      "  -71.1085842   -88.85117792 -108.34913334 -129.11561054 -175.28174703\n",
      "  -35.71261206  -35.71034484  -35.69057511  -35.51576262  -35.31044548\n",
      "  -35.17878906  -35.82455628  -38.5949646   -43.3275979   -54.66758333\n",
      "  -71.01348404  -89.50460903 -109.55546561 -130.70842943 -177.49925921\n",
      "  -35.43926602  -35.43797321  -35.4262423   -35.32888581  -35.24113633\n",
      "  -35.27330807  -35.85045158  -38.51511443  -42.8986258   -54.67792169\n",
      "  -71.2678115   -90.1175891  -110.79021964 -132.4149816  -179.88680973\n",
      "  -35.3394104   -35.33875662  -35.33314099  -35.29496662  -35.29884465\n",
      "  -35.46747322  -36.04834034  -38.52764607  -43.00725637  -54.78523134\n",
      "  -71.81136568  -90.91559923 -111.87202721 -134.09528065 -182.3742904\n",
      "  -35.35327788  -35.35336392  -35.35353722  -35.37156979  -35.46269257\n",
      "  -35.76087686  -36.32436655  -38.65027293  -43.23011823  -54.93321866\n",
      "  -72.47340822  -91.94186633 -113.0644707  -135.69026103 -184.78513183\n",
      "  -35.72267712  -35.72386936  -35.73472933  -35.8565572   -35.96235029\n",
      "  -36.2224159   -36.88760286  -39.43790364  -44.12984302  -55.9048847\n",
      "  -74.05653569  -94.14757812 -115.87842164 -139.15798853 -189.29140696]\n",
      "  warnings.warn(\n"
     ]
    }
   ],
   "source": [
    "print(naive_cv_gtv(X, y, D_oracle))\n",
    "print(naive_cv_gtv(X, y, D_w))"
   ]
  },
  {
   "cell_type": "code",
   "execution_count": 198,
   "id": "77b9e91f",
   "metadata": {
    "scrolled": true
   },
   "outputs": [
    {
     "data": {
      "text/plain": [
       "({'l1': 0.5, 'l2': 5}, 33.34769082069397)"
      ]
     },
     "execution_count": 198,
     "metadata": {},
     "output_type": "execute_result"
    }
   ],
   "source": [
    "naive_cv_large(OUR, X, y, D)"
   ]
  },
  {
   "cell_type": "code",
   "execution_count": 137,
   "id": "4ecc3831",
   "metadata": {},
   "outputs": [],
   "source": [
    "def trial1():\n",
    "    X, y = gauss_sample(n, p, beta_star, Psi, sigma)\n",
    "    clf1 = OLR().fit(X, y)\n",
    "    clf2 = LA(l1 = 0).fit(X,y)\n",
    "    clf3 = EN(l1= 0, l2=0.001).fit(X,y)\n",
    "    clf4 = FL(0, 80, D).fit(X,y)\n",
    "    clf5 = SL(0.001, 10, D).fit(X,y)\n",
    "    clf6 = GTV(3, 0.5, 0, D_w).fit(X,y)\n",
    "    clf7 = GTV(1, 2, 0, D_oracle).fit(X,y)\n",
    "    clf8 = OUR(2, 10, D).fit(X,y)\n",
    "    return [c.l2_risk(beta_star) for c in [clf1, clf2, clf3, clf4, clf5, clf6, clf7, clf8]]\n",
    "\n",
    "def trial2():\n",
    "    X, y = gauss_sample(n, p, beta_star, Psi, sigma)\n",
    "    clf1 = OLR().fit(X, y)\n",
    "    clf2 = LA(l1 = 0).fit(X,y)\n",
    "    clf3 = EN(l1= 0, l2=0.001).fit(X,y)\n",
    "    clf4 = FL(0, 80, D).fit(X,y)\n",
    "    clf5 = SL(0.001, 10, D).fit(X,y)\n",
    "    clf6 = GTV(3, 0.5, 0, D_w).fit(X,y)\n",
    "    clf7 = GTV(1, 2, 0, D_oracle).fit(X,y)\n",
    "    clf8 = OUR(2, 10, D).fit(X,y)\n",
    "    X2, y2 = gauss_sample(n, p, beta_star, Psi, sigma)\n",
    "    return [-c.score(X2, X2@beta_star) for c in [clf1, clf2, clf3, clf4, clf5, clf6, clf7, clf8]]"
   ]
  },
  {
   "cell_type": "code",
   "execution_count": 138,
   "id": "5a503d12",
   "metadata": {},
   "outputs": [],
   "source": [
    "l2s = Parallel(n_jobs=8)(delayed(trial1)() for i in range(500))\n",
    "preds = Parallel(n_jobs=8)(delayed(trial2)() for i in range(500))"
   ]
  },
  {
   "cell_type": "code",
   "execution_count": 139,
   "id": "ced719cd",
   "metadata": {},
   "outputs": [],
   "source": [
    "er1 = [l[0] for l in l2s]\n",
    "er2 = [l[1] for l in l2s]\n",
    "er3 = [l[2] for l in l2s]\n",
    "er4 = [l[3] for l in l2s]\n",
    "er5 = [l[4] for l in l2s]\n",
    "er6 = [l[5] for l in l2s]\n",
    "er7 = [l[6] for l in l2s]\n",
    "er8 = [l[7] for l in l2s]"
   ]
  },
  {
   "cell_type": "code",
   "execution_count": 140,
   "id": "02224b52",
   "metadata": {},
   "outputs": [],
   "source": [
    "ep1 = [l[0] for l in preds]\n",
    "ep2 = [l[1] for l in preds]\n",
    "ep3 = [l[2] for l in preds]\n",
    "ep4 = [l[3] for l in preds]\n",
    "ep5 = [l[4] for l in preds]\n",
    "ep6 = [l[5] for l in preds]\n",
    "ep7 = [l[6] for l in preds]\n",
    "ep8 = [l[7] for l in preds]"
   ]
  },
  {
   "cell_type": "code",
   "execution_count": 83,
   "id": "74716c83",
   "metadata": {},
   "outputs": [
    {
     "data": {
      "image/png": "[encoded data removed]",
      "text/plain": [
       "<Figure size 432x288 with 1 Axes>"
      ]
     },
     "metadata": {
      "needs_background": "light"
     },
     "output_type": "display_data"
    }
   ],
   "source": [
    "plt.boxplot([er1, er2, er3, er4, er5, er6, er7, er8])\n",
    "plt.yscale(\"log\")"
   ]
  },
  {
   "cell_type": "code",
   "execution_count": 84,
   "id": "1b00efba",
   "metadata": {},
   "outputs": [
    {
     "data": {
      "image/png": "[encoded data removed]",
      "text/plain": [
       "<Figure size 432x288 with 1 Axes>"
      ]
     },
     "metadata": {
      "needs_background": "light"
     },
     "output_type": "display_data"
    }
   ],
   "source": [
    "plt.boxplot([ep1, ep2, ep3, ep4, ep5, ep6, ep7, ep8])\n",
    "plt.yscale(\"log\")"
   ]
  },
  {
   "cell_type": "markdown",
   "id": "3657c5dc",
   "metadata": {},
   "source": [
    "### plots"
   ]
  },
  {
   "cell_type": "code",
   "execution_count": 141,
   "id": "1e0e5ab7",
   "metadata": {},
   "outputs": [],
   "source": [
    "import matplotlib as mpl\n",
    "mpl.rcParams['mathtext.fontset'] = 'cm'"
   ]
  },
  {
   "cell_type": "code",
   "execution_count": 142,
   "id": "f67d85c7",
   "metadata": {},
   "outputs": [],
   "source": [
    "LA_risk_med = [np.median(r) for r in [ar1, br1, cr1, dr1, er1]]\n",
    "LA_risk_err = [[np.median(r) - np.quantile(r, 0.25) for r in [ar1, br1, cr1, dr1, er1]], [np.quantile(r, 0.75) - np.median(r) for r in [ar1, br1, cr1, dr1, er1]]]"
   ]
  },
  {
   "cell_type": "code",
   "execution_count": 143,
   "id": "89b2ded5",
   "metadata": {},
   "outputs": [],
   "source": [
    "EN_risk_med = [np.median(r) for r in [ar3, br3, cr3, dr3, er3]]\n",
    "EN_risk_err = [[np.median(r) - np.quantile(r, 0.25) for r in [ar3, br3, cr3, dr3, er3]], [np.quantile(r, 0.75) - np.median(r) for r in [ar3, br3, cr3, dr3, er3]]]"
   ]
  },
  {
   "cell_type": "code",
   "execution_count": 144,
   "id": "d7a4cb93",
   "metadata": {},
   "outputs": [],
   "source": [
    "FL_risk_med = [np.median(r) for r in [ar4, br4, cr4, dr4, er4]]\n",
    "FL_risk_err = [[np.median(r) - np.quantile(r, 0.25) for r in [ar4, br4, cr4, dr4, er4]], [np.quantile(r, 0.75) - np.median(r) for r in [ar4, br4, cr4, dr4, er4]]]"
   ]
  },
  {
   "cell_type": "code",
   "execution_count": 145,
   "id": "b03b471e",
   "metadata": {},
   "outputs": [],
   "source": [
    "SL_risk_med = [np.median(r) for r in [ar5, br5, cr5, dr5, er5]]\n",
    "SL_risk_err = [[np.median(r) - np.quantile(r, 0.25) for r in [ar5, br5, cr5, dr5, er5]], [np.quantile(r, 0.75) - np.median(r) for r in [ar5, br5, cr5, dr5, er5]]]"
   ]
  },
  {
   "cell_type": "code",
   "execution_count": 146,
   "id": "b2abf710",
   "metadata": {},
   "outputs": [],
   "source": [
    "GTVEST_risk_med = [np.median(r) for r in [ar6, br6, cr6, dr6, er6]]\n",
    "GTVEST_risk_err = [[np.median(r) - np.quantile(r, 0.25) for r in [ar6, br6, cr6, dr6, er6]], [np.quantile(r, 0.75) - np.median(r) for r in [ar6, br6, cr6, dr6, er6]]]"
   ]
  },
  {
   "cell_type": "code",
   "execution_count": 147,
   "id": "b016f594",
   "metadata": {},
   "outputs": [],
   "source": [
    "GTVORC_risk_med = [np.median(r) for r in [ar7, br7, cr7, dr7, er7]]\n",
    "GTVORC_risk_err = [[np.median(r) - np.quantile(r, 0.25) for r in [ar7, br7, cr7, dr7, er7]], [np.quantile(r, 0.75) - np.median(r) for r in [ar7, br7, cr7, dr7, er7]]]"
   ]
  },
  {
   "cell_type": "code",
   "execution_count": 148,
   "id": "862705c4",
   "metadata": {},
   "outputs": [],
   "source": [
    "GEN_risk_med = [np.median(r) for r in [ar8, br8, cr8, dr8, er8]]\n",
    "GEN_risk_err = [[np.median(r) - np.quantile(r, 0.25) for r in [ar8, br8, cr8, dr8, er8]], [np.quantile(r, 0.75) - np.median(r) for r in [ar8, br8, cr8, dr8, er8]]]"
   ]
  },
  {
   "cell_type": "code",
   "execution_count": 149,
   "id": "592abee4",
   "metadata": {},
   "outputs": [],
   "source": [
    "xs = [\"1\",\"2\" ,\"3\" ,\"4\" ,\"5\"]"
   ]
  },
  {
   "cell_type": "code",
   "execution_count": 150,
   "id": "d105e3cc",
   "metadata": {},
   "outputs": [
    {
     "data": {
      "image/png": "[encoded data removed]",
      "text/plain": [
       "<Figure size 432x288 with 1 Axes>"
      ]
     },
     "metadata": {
      "needs_background": "light"
     },
     "output_type": "display_data"
    }
   ],
   "source": [
    "plt.errorbar(xs, LA_risk_med, yerr = LA_risk_err, capsize = 2, color = 'brown', label = \"OLS, LASSO\")\n",
    "plt.errorbar(xs, EN_risk_med, yerr = EN_risk_err, fmt = '--', color = 'violet', label = \"EN\")\n",
    "plt.errorbar(xs, FL_risk_med, yerr = FL_risk_err, fmt = '-.',color = 'orange', label = \"FL\")\n",
    "plt.errorbar(xs, SL_risk_med, yerr = SL_risk_err, fmt = '-.', color = 'red', label = \"SL\")\n",
    "plt.errorbar(xs, GTVEST_risk_med, yerr = GTVEST_risk_err, capsize = 2, color = 'steelblue', label = \"GTV\")\n",
    "plt.errorbar(xs, GTVORC_risk_med, yerr = GTVORC_risk_err,  fmt = '--',color = 'deepskyblue', label = \"GTV-oracle\", linewidth = 1.5)\n",
    "plt.errorbar(xs, GEN_risk_med, yerr = GEN_risk_err, capsize = 2, color = 'green', label = \"GEN\")\n",
    "plt.yscale(\"log\")\n",
    "plt.yticks([1, 10], size = 12)\n",
    "plt.xticks([\"1\",'2','3','4', '5'], size = 12)\n",
    "plt.xlabel(r\"noise level $\\sigma$\", size = 14)\n",
    "plt.ylabel(r'$\\| \\hat{\\beta} - \\beta^*\\|_2$', size = 14)\n",
    "plt.savefig('154a_v2.jpg', bbox_inches='tight', dpi = 600)"
   ]
  },
  {
   "cell_type": "code",
   "execution_count": 151,
   "id": "724fbc15",
   "metadata": {},
   "outputs": [],
   "source": [
    "LA_pred_med = [np.median(r) for r in [ap1, bp1, cp1, dp1, ep1]]\n",
    "LA_pred_err = [[np.median(r) - np.quantile(r, 0.25) for r in [ap1, bp1, cp1, dp1, ep1]], [np.quantile(r, 0.75) - np.median(r) for r in [ap1, bp1, cp1, dp1, ep1]]]"
   ]
  },
  {
   "cell_type": "code",
   "execution_count": 193,
   "id": "46c1550b",
   "metadata": {},
   "outputs": [
    {
     "data": {
      "text/plain": [
       "[[0.05792864392438407,\n",
       "  0.1905323814463885,\n",
       "  0.40261998580692293,\n",
       "  0.6620429328941406,\n",
       "  1.0426707051096085],\n",
       " [0.07035282573829435,\n",
       "  0.26999988091078087,\n",
       "  0.5690020363947113,\n",
       "  0.9438176408286099,\n",
       "  1.5116339286512934]]"
      ]
     },
     "execution_count": 193,
     "metadata": {},
     "output_type": "execute_result"
    }
   ],
   "source": [
    "GEN_pred_err"
   ]
  },
  {
   "cell_type": "code",
   "execution_count": 152,
   "id": "52678ba0",
   "metadata": {},
   "outputs": [],
   "source": [
    "EN_pred_med = [np.median(r) for r in [ap3, bp3, cp3, dp3, ep3]]\n",
    "EN_pred_err = [[np.median(r) - np.quantile(r, 0.25) for r in [ap3, bp3, cp3, dp3, ep3]], [np.quantile(r, 0.75) - np.median(r) for r in [ap3, bp3, cp3, dp3, ep3]]]"
   ]
  },
  {
   "cell_type": "code",
   "execution_count": 153,
   "id": "95f0d5a9",
   "metadata": {},
   "outputs": [],
   "source": [
    "FL_pred_med = [np.median(r) for r in [ap4, bp4, cp4, dp4, ep4]]\n",
    "FL_pred_err = [[np.median(r) - np.quantile(r, 0.25) for r in [ap4, bp4, cp4, dp4, ep4]], [np.quantile(r, 0.75) - np.median(r) for r in [ap4, bp4, cp4, dp4, ep4]]]"
   ]
  },
  {
   "cell_type": "code",
   "execution_count": 154,
   "id": "cbdbffc5",
   "metadata": {},
   "outputs": [],
   "source": [
    "SL_pred_med = [np.median(r) for r in [ap5, bp5, cp5, dp5, ep5]]\n",
    "SL_pred_err = [[np.median(r) - np.quantile(r, 0.25) for r in [ap5, bp5, cp5, dp5, ep5]], [np.quantile(r, 0.75) - np.median(r) for r in [ap5, bp5, cp5, dp5, ep5]]]"
   ]
  },
  {
   "cell_type": "code",
   "execution_count": 155,
   "id": "9fb0c8b0",
   "metadata": {},
   "outputs": [],
   "source": [
    "GTVEST_pred_med = [np.median(r) for r in [ap6, bp6, cp6, dp6, ep6]]\n",
    "GTVEST_pred_err = [[np.median(r) - np.quantile(r, 0.25) for r in [ap6, bp6, cp6, dp6, ep6]], [np.quantile(r, 0.75) - np.median(r) for r in [ap6, bp6, cp6, dp6, ep6]]]"
   ]
  },
  {
   "cell_type": "code",
   "execution_count": 156,
   "id": "c49b4946",
   "metadata": {},
   "outputs": [],
   "source": [
    "GTVORC_pred_med = [np.median(r) for r in [ap7, bp7, cp7, dp7, ep7]]\n",
    "GTVORC_pred_err = [[np.median(r) - np.quantile(r, 0.25) for r in [ap7, bp7, cp7, dp7, ep7]], [np.quantile(r, 0.75) - np.median(r) for r in [ap7, bp7, cp7, dp7, ep7]]]"
   ]
  },
  {
   "cell_type": "code",
   "execution_count": 157,
   "id": "312fb77b",
   "metadata": {},
   "outputs": [],
   "source": [
    "GEN_pred_med = [np.median(r) for r in [ap8, bp8, cp8, dp8, ep8]]\n",
    "GEN_pred_err = [[np.median(r) - np.quantile(r, 0.25) for r in [ap8, bp8, cp8, dp8, ep8]], [np.quantile(r, 0.75) - np.median(r) for r in [ap8, bp8, cp8, dp8, ep8]]]"
   ]
  },
  {
   "cell_type": "code",
   "execution_count": 158,
   "id": "0fea9cdd",
   "metadata": {},
   "outputs": [
    {
     "data": {
      "image/png": "[encoded data removed]",
      "text/plain": [
       "<Figure size 432x288 with 1 Axes>"
      ]
     },
     "metadata": {
      "needs_background": "light"
     },
     "output_type": "display_data"
    }
   ],
   "source": [
    "plt.errorbar(xs, LA_pred_med, yerr = LA_pred_err, capsize = 2, color = 'brown', label = \"OLS, LASSO\")\n",
    "plt.errorbar(xs, EN_pred_med, yerr = EN_pred_err, fmt = '--', color = 'violet', label = \"EN\")\n",
    "plt.errorbar(xs, FL_pred_med, yerr = FL_pred_err, fmt = '-.',color = 'orange', label = \"FL\")\n",
    "plt.errorbar(xs, SL_pred_med, yerr = SL_pred_err, fmt = '-.', color = 'red', label = \"SL\")\n",
    "plt.errorbar(xs, GTVEST_pred_med, yerr = GTVEST_pred_err, capsize = 2, color = 'steelblue', label = \"GTV\")\n",
    "plt.errorbar(xs, GTVORC_pred_med, yerr = GTVORC_pred_err, fmt = '--', color = 'deepskyblue', label = \"GTV-oracle\", linewidth = 1.5)\n",
    "plt.errorbar(xs, GEN_pred_med, yerr = GEN_pred_err, capsize = 2, color = 'green', label = \"GEN\")\n",
    "plt.yscale(\"log\")\n",
    "plt.yticks([0.1, 1, 10, 100], size = 12)\n",
    "plt.xticks([\"1\",'2','3','4', '5'], size = 12)\n",
    "plt.xlabel(r\"noise level $\\sigma$\", size = 14)\n",
    "plt.ylabel(r'$\\frac{1}{n}\\| X_{\\mathrm{test}}(\\hat{\\beta} - \\beta^*)\\|_2^2$', size = 14)\n",
    "plt.savefig('154b_v2.jpg', bbox_inches='tight', dpi = 600)"
   ]
  },
  {
   "cell_type": "code",
   "execution_count": null,
   "id": "61787c69",
   "metadata": {},
   "outputs": [],
   "source": []
  }
 ],
 "metadata": {
  "kernelspec": {
   "display_name": "Python 3",
   "language": "python",
   "name": "python3"
  },
  "language_info": {
   "codemirror_mode": {
    "name": "ipython",
    "version": 3
   },
   "file_extension": ".py",
   "mimetype": "text/x-python",
   "name": "python",
   "nbconvert_exporter": "python",
   "pygments_lexer": "ipython3",
   "version": "3.8.8"
  }
 },
 "nbformat": 4,
 "nbformat_minor": 5
}
