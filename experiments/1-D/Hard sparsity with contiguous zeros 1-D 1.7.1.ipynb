{
 "cells": [
  {
   "cell_type": "code",
   "execution_count": 1,
   "id": "89f939ee",
   "metadata": {},
   "outputs": [],
   "source": [
    "import matplotlib.pyplot as plt\n",
    "from skest import *\n",
    "import scipy\n",
    "import time\n",
    "from signals import *\n",
    "import numpy as np"
   ]
  },
  {
   "cell_type": "markdown",
   "id": "668ec125",
   "metadata": {},
   "source": [
    "### different n\n",
    "### a: 70 zeros, p = 100, n = 80, contiguous zeros, smooth and flat"
   ]
  },
  {
   "cell_type": "code",
   "execution_count": 2,
   "id": "9216b951",
   "metadata": {},
   "outputs": [],
   "source": [
    "sigma = 1"
   ]
  },
  {
   "cell_type": "code",
   "execution_count": 3,
   "id": "1a3c396d",
   "metadata": {},
   "outputs": [],
   "source": [
    "n = 80"
   ]
  },
  {
   "cell_type": "code",
   "execution_count": 4,
   "id": "1b57d67d",
   "metadata": {},
   "outputs": [],
   "source": [
    "p = 100\n",
    "Psi = toeplitz(0.5, p)"
   ]
  },
  {
   "cell_type": "code",
   "execution_count": 5,
   "id": "0d1cf78f",
   "metadata": {},
   "outputs": [],
   "source": [
    "beta_star = np.concatenate((np.zeros(40), smooth_stair(20, 5, 20, -5, 2)))"
   ]
  },
  {
   "cell_type": "code",
   "execution_count": 6,
   "id": "1ddb1808",
   "metadata": {},
   "outputs": [
    {
     "data": {
      "text/plain": [
       "[<matplotlib.lines.Line2D at 0x12a7d194070>]"
      ]
     },
     "execution_count": 6,
     "metadata": {},
     "output_type": "execute_result"
    },
    {
     "data": {
      "image/png": "[encoded data removed]",
      "text/plain": [
       "<Figure size 432x288 with 1 Axes>"
      ]
     },
     "metadata": {
      "needs_background": "light"
     },
     "output_type": "display_data"
    }
   ],
   "source": [
    "plt.plot(beta_star)"
   ]
  },
  {
   "cell_type": "code",
   "execution_count": 7,
   "id": "d17c68ee",
   "metadata": {},
   "outputs": [],
   "source": [
    "X, y = gauss_sample(n, p, beta_star, Psi, sigma)"
   ]
  },
  {
   "cell_type": "code",
   "execution_count": 8,
   "id": "9f302c23",
   "metadata": {},
   "outputs": [],
   "source": [
    "D = chain_incidence(p)"
   ]
  },
  {
   "cell_type": "code",
   "execution_count": 25,
   "id": "c69bfa09",
   "metadata": {
    "scrolled": true
   },
   "outputs": [
    {
     "data": {
      "text/plain": [
       "({'t': 0.35}, 0.049173831939697266)"
      ]
     },
     "execution_count": 25,
     "metadata": {},
     "output_type": "execute_result"
    }
   ],
   "source": [
    "naive_cv_cov(X)"
   ]
  },
  {
   "cell_type": "code",
   "execution_count": 26,
   "id": "c0802c47",
   "metadata": {},
   "outputs": [],
   "source": [
    "D_w = weighted_incidence(cov_est(0.35).fit(X).S)"
   ]
  },
  {
   "cell_type": "code",
   "execution_count": 11,
   "id": "7863a66a",
   "metadata": {},
   "outputs": [],
   "source": [
    "D_oracle = weighted_incidence(Psi)"
   ]
  },
  {
   "cell_type": "code",
   "execution_count": 13,
   "id": "a32ee4c5",
   "metadata": {},
   "outputs": [
    {
     "name": "stdout",
     "output_type": "stream",
     "text": [
      "({'l1': 3, 'l2': 7.5, 'l3': 2}, 647.3899767398834)\n"
     ]
    }
   ],
   "source": [
    "print(naive_cv_gtv_small(X, y, D_oracle))\n"
   ]
  },
  {
   "cell_type": "code",
   "execution_count": 27,
   "id": "3709c810",
   "metadata": {},
   "outputs": [
    {
     "name": "stdout",
     "output_type": "stream",
     "text": [
      "({'l1': 5, 'l2': 0, 'l3': 2}, 33.463197231292725)\n"
     ]
    }
   ],
   "source": [
    "print(naive_cv_gtv_small(X, y, D_w))"
   ]
  },
  {
   "cell_type": "code",
   "execution_count": null,
   "id": "c074bd2c",
   "metadata": {},
   "outputs": [],
   "source": []
  },
  {
   "cell_type": "code",
   "execution_count": 28,
   "id": "27504c5e",
   "metadata": {},
   "outputs": [],
   "source": [
    "def trial1():\n",
    "    X, y = gauss_sample(n, p, beta_star, Psi, sigma)\n",
    "    clf1 = OLR().fit(X, y)\n",
    "    clf2 = LA(l1 = 2).fit(X,y)\n",
    "    clf3 = EN(l1= 2, l2=0).fit(X,y)\n",
    "    clf4 = FL(0.5, 50, D).fit(X,y)\n",
    "    clf5 = SL(2, 50, D).fit(X,y)\n",
    "    clf6 = GTV(5, 0, 2, D_w).fit(X,y)\n",
    "    clf7 = GTV(3, 7.5, 2, D_oracle).fit(X,y)\n",
    "    clf8 = OUR(50, 30, D).fit(X,y)\n",
    "    return [c.l2_risk(beta_star) for c in [clf1, clf2, clf3, clf4, clf5, clf6, clf7, clf8]]"
   ]
  },
  {
   "cell_type": "code",
   "execution_count": 29,
   "id": "47ef2163",
   "metadata": {},
   "outputs": [],
   "source": [
    "def trial2():\n",
    "    X, y = gauss_sample(n, p, beta_star, Psi, sigma)\n",
    "    clf1 = OLR().fit(X, y)\n",
    "    clf2 = LA(l1 = 2).fit(X,y)\n",
    "    clf3 = EN(l1= 2, l2=0).fit(X,y)\n",
    "    clf4 = FL(0.5, 50, D).fit(X,y)\n",
    "    clf5 = SL(2, 50, D).fit(X,y)\n",
    "    clf6 = GTV(5, 0, 2, D_w).fit(X,y)\n",
    "    clf7 = GTV(3, 7.5, 2, D_oracle).fit(X,y)\n",
    "    clf8 = OUR(50, 30, D).fit(X,y)\n",
    "    X2, y2 = gauss_sample(n, p, beta_star, Psi, sigma)\n",
    "    return [-c.score(X2, X2@beta_star) for c in [clf1, clf2, clf3, clf4, clf5, clf6, clf7, clf8]]"
   ]
  },
  {
   "cell_type": "code",
   "execution_count": 30,
   "id": "6711d3c1",
   "metadata": {},
   "outputs": [],
   "source": [
    "from joblib import Parallel, delayed\n",
    "import multiprocessing"
   ]
  },
  {
   "cell_type": "code",
   "execution_count": 31,
   "id": "81eaae08",
   "metadata": {},
   "outputs": [],
   "source": [
    "l2s = Parallel(n_jobs=8)(delayed(trial1)() for i in range(500))\n",
    "preds = Parallel(n_jobs=8)(delayed(trial2)() for i in range(500))"
   ]
  },
  {
   "cell_type": "code",
   "execution_count": 32,
   "id": "5dadd0b8",
   "metadata": {},
   "outputs": [],
   "source": [
    "ar1 = [l[0] for l in l2s]\n",
    "ar2 = [l[1] for l in l2s]\n",
    "ar3 = [l[2] for l in l2s]\n",
    "ar4 = [l[3] for l in l2s]\n",
    "ar5 = [l[4] for l in l2s]\n",
    "ar6 = [l[5] for l in l2s]\n",
    "ar7= [l[6] for l in l2s]\n",
    "ar8= [l[7] for l in l2s]"
   ]
  },
  {
   "cell_type": "code",
   "execution_count": 33,
   "id": "89041c59",
   "metadata": {},
   "outputs": [],
   "source": [
    "ap1 = [l[0] for l in preds]\n",
    "ap2 = [l[1] for l in preds]\n",
    "ap3 = [l[2] for l in preds]\n",
    "ap4 = [l[3] for l in preds]\n",
    "ap5 = [l[4] for l in preds]\n",
    "ap6 = [l[5] for l in preds]\n",
    "ap7 = [l[6] for l in preds]\n",
    "ap8 = [l[7] for l in preds]"
   ]
  },
  {
   "cell_type": "code",
   "execution_count": 34,
   "id": "5e0aec68",
   "metadata": {},
   "outputs": [
    {
     "data": {
      "image/png": "[encoded data removed]",
      "text/plain": [
       "<Figure size 432x288 with 1 Axes>"
      ]
     },
     "metadata": {
      "needs_background": "light"
     },
     "output_type": "display_data"
    }
   ],
   "source": [
    "plt.boxplot([ar1, ar2, ar3, ar4, ar5, ar6, ar7, ar8])\n",
    "plt.yscale(\"log\")"
   ]
  },
  {
   "cell_type": "code",
   "execution_count": 35,
   "id": "0cb42b9c",
   "metadata": {},
   "outputs": [
    {
     "data": {
      "image/png": "[encoded data removed]",
      "text/plain": [
       "<Figure size 432x288 with 1 Axes>"
      ]
     },
     "metadata": {
      "needs_background": "light"
     },
     "output_type": "display_data"
    }
   ],
   "source": [
    "plt.boxplot([ap1, ap2, ap3, ap4, ap5, ap6, ap7, ap8])\n",
    "plt.yscale(\"log\")"
   ]
  },
  {
   "cell_type": "markdown",
   "id": "0540dafe",
   "metadata": {},
   "source": [
    "### b) One entry is 5. Zeros not contiguous"
   ]
  },
  {
   "cell_type": "code",
   "execution_count": 9,
   "id": "9cc64f3e",
   "metadata": {},
   "outputs": [],
   "source": [
    "part1 = np.array([0]*19 + [5] + [0]*20)"
   ]
  },
  {
   "cell_type": "code",
   "execution_count": 10,
   "id": "b7ab7ac1",
   "metadata": {},
   "outputs": [],
   "source": [
    "beta_star2 = np.concatenate((part1, smooth_stair(20, 5, 20, -5, 2)))"
   ]
  },
  {
   "cell_type": "code",
   "execution_count": null,
   "id": "36438202",
   "metadata": {},
   "outputs": [],
   "source": []
  },
  {
   "cell_type": "code",
   "execution_count": 11,
   "id": "f9f63398",
   "metadata": {},
   "outputs": [
    {
     "data": {
      "text/plain": [
       "[<matplotlib.lines.Line2D at 0x12a7e2fc850>]"
      ]
     },
     "execution_count": 11,
     "metadata": {},
     "output_type": "execute_result"
    },
    {
     "data": {
      "image/png": "[encoded data removed]",
      "text/plain": [
       "<Figure size 432x288 with 1 Axes>"
      ]
     },
     "metadata": {
      "needs_background": "light"
     },
     "output_type": "display_data"
    }
   ],
   "source": [
    "plt.plot(beta_star2)"
   ]
  },
  {
   "cell_type": "code",
   "execution_count": 39,
   "id": "2824520f",
   "metadata": {},
   "outputs": [],
   "source": [
    "X, y = gauss_sample(n, p, beta_star2, Psi, sigma)"
   ]
  },
  {
   "cell_type": "code",
   "execution_count": 41,
   "id": "c8b4bc46",
   "metadata": {},
   "outputs": [],
   "source": [
    "D_w = weighted_incidence(cov_est(0.35).fit(X).S)\n",
    "D_oracle = weighted_incidence(Psi)"
   ]
  },
  {
   "cell_type": "code",
   "execution_count": 43,
   "id": "8561a6c2",
   "metadata": {},
   "outputs": [
    {
     "name": "stdout",
     "output_type": "stream",
     "text": [
      "({'l1': 2, 'l2': 0, 'l3': 0.5}, 580.7430317401886)\n"
     ]
    }
   ],
   "source": [
    "print(naive_cv_gtv_small(X, y, D_oracle))"
   ]
  },
  {
   "cell_type": "code",
   "execution_count": 42,
   "id": "06bd727e",
   "metadata": {
    "scrolled": true
   },
   "outputs": [
    {
     "name": "stdout",
     "output_type": "stream",
     "text": [
      "({'l1': 2, 'l2': 0, 'l3': 1}, 33.515281438827515)\n"
     ]
    }
   ],
   "source": [
    "print(naive_cv_gtv_small(X, y, D_w))"
   ]
  },
  {
   "cell_type": "code",
   "execution_count": 44,
   "id": "bec87163",
   "metadata": {},
   "outputs": [],
   "source": [
    "def trial1():\n",
    "    X, y = gauss_sample(n, p, beta_star2, Psi, sigma)\n",
    "    clf1 = OLR().fit(X, y)\n",
    "    clf2 = LA(l1 = 0.25).fit(X,y)\n",
    "    clf3 = EN(l1= 0.25, l2=0).fit(X,y)\n",
    "    clf4 = FL(2, 5, D).fit(X,y)\n",
    "    clf5 = SL(3, 0.25, D).fit(X,y)\n",
    "    clf6 = GTV(2, 0, 1, D_w).fit(X,y)\n",
    "    clf7 = GTV(2, 0, 0.5, D_oracle).fit(X,y)\n",
    "    clf8 = OUR(5, 0, D).fit(X,y)\n",
    "    return [c.l2_risk(beta_star2) for c in [clf1, clf2, clf3, clf4, clf5, clf6, clf7, clf8]]"
   ]
  },
  {
   "cell_type": "code",
   "execution_count": 45,
   "id": "94005302",
   "metadata": {},
   "outputs": [],
   "source": [
    "def trial2():\n",
    "    X, y = gauss_sample(n, p, beta_star2, Psi, sigma)\n",
    "    clf1 = OLR().fit(X, y)\n",
    "    clf2 = LA(l1 = 0.25).fit(X,y)\n",
    "    clf3 = EN(l1= 0.25, l2=0).fit(X,y)\n",
    "    clf4 = FL(2, 5, D).fit(X,y)\n",
    "    clf5 = SL(3, 0.25, D).fit(X,y)\n",
    "    clf6 = GTV(2, 0, 1, D_w).fit(X,y)\n",
    "    clf7 = GTV(2, 0, 0.5, D_oracle).fit(X,y)\n",
    "    clf8 = OUR(5, 0, D).fit(X,y)\n",
    "    X2, y2 = gauss_sample(n, p, beta_star2, Psi, sigma)\n",
    "    return [-c.score(X2, X2@beta_star2) for c in [clf1, clf2, clf3, clf4, clf5, clf6, clf7, clf8]]"
   ]
  },
  {
   "cell_type": "code",
   "execution_count": 46,
   "id": "251fcb75",
   "metadata": {},
   "outputs": [],
   "source": [
    "l2s = Parallel(n_jobs=8)(delayed(trial1)() for i in range(500))\n",
    "preds = Parallel(n_jobs=8)(delayed(trial2)() for i in range(500))"
   ]
  },
  {
   "cell_type": "code",
   "execution_count": 47,
   "id": "d339c768",
   "metadata": {},
   "outputs": [],
   "source": [
    "br1 = [l[0] for l in l2s]\n",
    "br2 = [l[1] for l in l2s]\n",
    "br3 = [l[2] for l in l2s]\n",
    "br4 = [l[3] for l in l2s]\n",
    "br5 = [l[4] for l in l2s]\n",
    "br6 = [l[5] for l in l2s]\n",
    "br7 = [l[6] for l in l2s]\n",
    "br8 = [l[7] for l in l2s]"
   ]
  },
  {
   "cell_type": "code",
   "execution_count": 48,
   "id": "d4484565",
   "metadata": {},
   "outputs": [],
   "source": [
    "bp1 = [l[0] for l in preds]\n",
    "bp2 = [l[1] for l in preds]\n",
    "bp3 = [l[2] for l in preds]\n",
    "bp4 = [l[3] for l in preds]\n",
    "bp5 = [l[4] for l in preds]\n",
    "bp6 = [l[5] for l in preds]\n",
    "bp7 = [l[6] for l in preds]\n",
    "bp8 = [l[7] for l in preds]\n"
   ]
  },
  {
   "cell_type": "code",
   "execution_count": 49,
   "id": "27c09723",
   "metadata": {},
   "outputs": [
    {
     "data": {
      "image/png": "[encoded data removed]",
      "text/plain": [
       "<Figure size 432x288 with 1 Axes>"
      ]
     },
     "metadata": {
      "needs_background": "light"
     },
     "output_type": "display_data"
    }
   ],
   "source": [
    "plt.boxplot([br1, br2, br3, br4, br5, br6, br7, br8])\n",
    "plt.yscale(\"log\")"
   ]
  },
  {
   "cell_type": "code",
   "execution_count": 50,
   "id": "6285698f",
   "metadata": {
    "scrolled": true
   },
   "outputs": [
    {
     "data": {
      "image/png": "[encoded data removed]",
      "text/plain": [
       "<Figure size 432x288 with 1 Axes>"
      ]
     },
     "metadata": {
      "needs_background": "light"
     },
     "output_type": "display_data"
    }
   ],
   "source": [
    "plt.boxplot([bp1, bp2, bp3, bp4, bp5, bp6, bp7, bp8])\n",
    "plt.yscale(\"log\")"
   ]
  },
  {
   "cell_type": "markdown",
   "id": "cadda388",
   "metadata": {},
   "source": [
    "### Tables"
   ]
  },
  {
   "cell_type": "markdown",
   "id": "e9e3c619",
   "metadata": {},
   "source": [
    "### plots"
   ]
  },
  {
   "cell_type": "code",
   "execution_count": 12,
   "id": "13d8b53c",
   "metadata": {},
   "outputs": [],
   "source": [
    "import matplotlib as mpl\n",
    "mpl.rcParams['mathtext.fontset'] = 'cm'"
   ]
  },
  {
   "cell_type": "code",
   "execution_count": 73,
   "id": "933edc2a",
   "metadata": {},
   "outputs": [],
   "source": [
    "X, y = gauss_sample(n, p, beta_star2, Psi, sigma)"
   ]
  },
  {
   "cell_type": "code",
   "execution_count": 74,
   "id": "35584a05",
   "metadata": {},
   "outputs": [],
   "source": [
    "fl_beta_b = FL(2, 5, D).fit(X,y).beta\n",
    "gen_beta_b = OUR(5, 0, D).fit(X,y).beta"
   ]
  },
  {
   "cell_type": "code",
   "execution_count": null,
   "id": "d0b9a3c8",
   "metadata": {},
   "outputs": [],
   "source": []
  },
  {
   "cell_type": "code",
   "execution_count": 15,
   "id": "678ab740",
   "metadata": {},
   "outputs": [
    {
     "data": {
      "image/png": "[encoded data removed]",
      "text/plain": [
       "<Figure size 432x288 with 1 Axes>"
      ]
     },
     "metadata": {
      "needs_background": "light"
     },
     "output_type": "display_data"
    }
   ],
   "source": [
    "plt.scatter(range(1, 101), beta_star, s = 4, color = 'purple')\n",
    "plt.plot(range(1, 101), beta_star, linewidth = 1.5, zorder = -1)\n",
    "plt.ylabel(r'$\\beta^*_j$ value', size = 14)\n",
    "plt.xlabel(r'$\\beta^*$ index $j$', size = 14)\n",
    "plt.yticks([0, 1, 2, 3, 4, 5], size = 13)\n",
    "plt.xticks([1,20, 40, 60, 80, 100],size = 13)\n",
    "plt.tight_layout()\n",
    "plt.savefig('171a.jpg', bbox_inches='tight', dpi = 600)"
   ]
  },
  {
   "cell_type": "code",
   "execution_count": 16,
   "id": "f9b561e5",
   "metadata": {},
   "outputs": [
    {
     "data": {
      "image/png": "[encoded data removed]",
      "text/plain": [
       "<Figure size 432x288 with 1 Axes>"
      ]
     },
     "metadata": {
      "needs_background": "light"
     },
     "output_type": "display_data"
    }
   ],
   "source": [
    "plt.scatter(range(1, 101), beta_star2, s = 4, color = 'purple')\n",
    "plt.plot(range(1, 101), beta_star2, linewidth = 1.5, zorder = -1)\n",
    "plt.ylabel(r'$\\beta^*_j$ value', size = 14)\n",
    "plt.xlabel(r'$\\beta^*$ index $j$', size = 14)\n",
    "plt.yticks([0, 1, 2, 3, 4, 5], size = 13)\n",
    "plt.xticks([1,20, 40, 60, 80, 100],size = 13)\n",
    "plt.tight_layout()\n",
    "plt.savefig('171b.jpg', bbox_inches='tight', dpi = 600)"
   ]
  },
  {
   "cell_type": "code",
   "execution_count": 76,
   "id": "1172180f",
   "metadata": {},
   "outputs": [
    {
     "data": {
      "text/plain": [
       "<matplotlib.collections.PathCollection at 0x222132c4760>"
      ]
     },
     "execution_count": 76,
     "metadata": {},
     "output_type": "execute_result"
    },
    {
     "data": {
      "image/png": "[encoded data removed]",
      "text/plain": [
       "<Figure size 432x288 with 1 Axes>"
      ]
     },
     "metadata": {
      "needs_background": "light"
     },
     "output_type": "display_data"
    }
   ],
   "source": [
    "plt.scatter(range(1, 101), fl_beta_b, color = 'orange', s = 3)\n",
    "plt.scatter(range(1, 101), gen_beta_b, color = 'green', s = 3)"
   ]
  },
  {
   "cell_type": "code",
   "execution_count": 77,
   "id": "d74bc98b",
   "metadata": {},
   "outputs": [],
   "source": [
    "import numpy.linalg as la"
   ]
  },
  {
   "cell_type": "code",
   "execution_count": 79,
   "id": "11f2b14e",
   "metadata": {},
   "outputs": [
    {
     "data": {
      "text/plain": [
       "147.5"
      ]
     },
     "execution_count": 79,
     "metadata": {},
     "output_type": "execute_result"
    }
   ],
   "source": [
    "la.norm(beta_star, ord = 1)"
   ]
  },
  {
   "cell_type": "code",
   "execution_count": 78,
   "id": "27001c6d",
   "metadata": {},
   "outputs": [
    {
     "data": {
      "text/plain": [
       "5.0"
      ]
     },
     "execution_count": 78,
     "metadata": {},
     "output_type": "execute_result"
    }
   ],
   "source": [
    "la.norm(D@beta_star, ord = 1)"
   ]
  },
  {
   "cell_type": "code",
   "execution_count": 80,
   "id": "dba24154",
   "metadata": {},
   "outputs": [
    {
     "data": {
      "text/plain": [
       "1.240547228285882"
      ]
     },
     "execution_count": 80,
     "metadata": {},
     "output_type": "execute_result"
    }
   ],
   "source": [
    "la.norm(D@beta_star, ord = 2)"
   ]
  },
  {
   "cell_type": "code",
   "execution_count": 81,
   "id": "b5f79b4d",
   "metadata": {},
   "outputs": [
    {
     "data": {
      "text/plain": [
       "152.5"
      ]
     },
     "execution_count": 81,
     "metadata": {},
     "output_type": "execute_result"
    }
   ],
   "source": [
    "la.norm(beta_star2, ord = 1)"
   ]
  },
  {
   "cell_type": "code",
   "execution_count": 82,
   "id": "c72c11fe",
   "metadata": {},
   "outputs": [
    {
     "data": {
      "text/plain": [
       "15.0"
      ]
     },
     "execution_count": 82,
     "metadata": {},
     "output_type": "execute_result"
    }
   ],
   "source": [
    "la.norm(D@beta_star2, ord = 1)"
   ]
  },
  {
   "cell_type": "code",
   "execution_count": 83,
   "id": "7a2532b2",
   "metadata": {},
   "outputs": [
    {
     "data": {
      "text/plain": [
       "26.457513110645905"
      ]
     },
     "execution_count": 83,
     "metadata": {},
     "output_type": "execute_result"
    }
   ],
   "source": [
    "la.norm(beta_star2, ord = 2)"
   ]
  },
  {
   "cell_type": "code",
   "execution_count": 86,
   "id": "17a8bb2b",
   "metadata": {},
   "outputs": [
    {
     "data": {
      "text/plain": [
       "[6.918376055728916,\n",
       " 1.9787746905420003,\n",
       " 1.9787729580429994,\n",
       " 0.5618811307504449,\n",
       " 0.40323852706821456,\n",
       " 0.8691129696299383,\n",
       " 0.3817449610529602,\n",
       " 0.2682868947449044]"
      ]
     },
     "execution_count": 86,
     "metadata": {},
     "output_type": "execute_result"
    }
   ],
   "source": [
    "[np.mean(r) for r in [ar1, ar2, ar3, ar4, ar5, ar6, ar7, ar8]]"
   ]
  },
  {
   "cell_type": "code",
   "execution_count": 88,
   "id": "530fff2b",
   "metadata": {},
   "outputs": [
    {
     "data": {
      "text/plain": [
       "[1.045502702237408,\n",
       " 0.3632512929296491,\n",
       " 0.36324929841211046,\n",
       " 0.08389180643947615,\n",
       " 0.05804196654526859,\n",
       " 0.12576053377629934,\n",
       " 0.05758631053189273,\n",
       " 0.05346724274429773]"
      ]
     },
     "execution_count": 88,
     "metadata": {},
     "output_type": "execute_result"
    }
   ],
   "source": [
    "[np.std(r) for r in [ar1, ar2, ar3, ar4, ar5, ar6, ar7, ar8]]"
   ]
  },
  {
   "cell_type": "code",
   "execution_count": 89,
   "id": "b0e1f24e",
   "metadata": {},
   "outputs": [
    {
     "data": {
      "text/plain": [
       "[38.12268383013247,\n",
       " 2.941244392939022,\n",
       " 2.9412405631760556,\n",
       " 0.2786806437307035,\n",
       " 0.33174135324593274,\n",
       " 0.7224962416545117,\n",
       " 0.2149092921639483,\n",
       " 0.1494674646104249]"
      ]
     },
     "execution_count": 89,
     "metadata": {},
     "output_type": "execute_result"
    }
   ],
   "source": [
    "[np.mean(r) for r in [ap1, ap2, ap3, ap4, ap5, ap6, ap7, ap8]]"
   ]
  },
  {
   "cell_type": "code",
   "execution_count": 90,
   "id": "efe2e951",
   "metadata": {},
   "outputs": [
    {
     "data": {
      "text/plain": [
       "[15.326958420887335,\n",
       " 1.3493397054624188,\n",
       " 1.3493341341111564,\n",
       " 0.11733525221110265,\n",
       " 0.1364666935242695,\n",
       " 0.2631527715370109,\n",
       " 0.10517846926279954,\n",
       " 0.07995506979072974]"
      ]
     },
     "execution_count": 90,
     "metadata": {},
     "output_type": "execute_result"
    }
   ],
   "source": [
    "[np.std(r) for r in [ap1, ap2, ap3, ap4, ap5, ap6, ap7, ap8]]"
   ]
  },
  {
   "cell_type": "code",
   "execution_count": 91,
   "id": "af01ff2d",
   "metadata": {},
   "outputs": [
    {
     "data": {
      "text/plain": [
       "[7.250986397129346,\n",
       " 2.9492633908056325,\n",
       " 2.9492631806635905,\n",
       " 0.8759824346587552,\n",
       " 1.7539892130664685,\n",
       " 1.3056552315217254,\n",
       " 0.7508414791573783,\n",
       " 0.9683974841275099]"
      ]
     },
     "execution_count": 91,
     "metadata": {},
     "output_type": "execute_result"
    }
   ],
   "source": [
    "[np.mean(r) for r in [br1, br2, br3, br4, br5, br6, br7, br8]]"
   ]
  },
  {
   "cell_type": "code",
   "execution_count": 92,
   "id": "7ac0f79b",
   "metadata": {},
   "outputs": [
    {
     "data": {
      "text/plain": [
       "[1.0954571095988257,\n",
       " 0.5865250683538983,\n",
       " 0.5865252152395859,\n",
       " 0.17005842928513992,\n",
       " 0.3012104783821339,\n",
       " 0.2180535095119785,\n",
       " 0.12374259795779814,\n",
       " 0.18400278646791834]"
      ]
     },
     "execution_count": 92,
     "metadata": {},
     "output_type": "execute_result"
    }
   ],
   "source": [
    "[np.std(r) for r in [br1, br2, br3, br4, br5, br6, br7, br8]]"
   ]
  },
  {
   "cell_type": "code",
   "execution_count": 93,
   "id": "0efb539d",
   "metadata": {},
   "outputs": [
    {
     "data": {
      "text/plain": [
       "[41.74943450892776,\n",
       " 6.186217266769955,\n",
       " 6.1862131894105445,\n",
       " 0.6735902613904569,\n",
       " 2.3711862338715464,\n",
       " 1.4437158447175036,\n",
       " 0.4930863126346463,\n",
       " 0.8703633179670534]"
      ]
     },
     "execution_count": 93,
     "metadata": {},
     "output_type": "execute_result"
    }
   ],
   "source": [
    "[np.mean(r) for r in [bp1, bp2, bp3, bp4, bp5, bp6, bp7, bp8]]"
   ]
  },
  {
   "cell_type": "code",
   "execution_count": 94,
   "id": "af0d6e98",
   "metadata": {},
   "outputs": [
    {
     "data": {
      "text/plain": [
       "[15.946423116851264,\n",
       " 2.931548534517518,\n",
       " 2.931548696837724,\n",
       " 0.2615856365448805,\n",
       " 0.9300714077500193,\n",
       " 0.5012628401025848,\n",
       " 0.19485396225333426,\n",
       " 0.3163506878297449]"
      ]
     },
     "execution_count": 94,
     "metadata": {},
     "output_type": "execute_result"
    }
   ],
   "source": [
    "[np.std(r) for r in [bp1, bp2, bp3, bp4, bp5, bp6, bp7, bp8]]"
   ]
  },
  {
   "cell_type": "code",
   "execution_count": null,
   "id": "55bf5a28",
   "metadata": {},
   "outputs": [],
   "source": []
  }
 ],
 "metadata": {
  "kernelspec": {
   "display_name": "Python 3",
   "language": "python",
   "name": "python3"
  },
  "language_info": {
   "codemirror_mode": {
    "name": "ipython",
    "version": 3
   },
   "file_extension": ".py",
   "mimetype": "text/x-python",
   "name": "python",
   "nbconvert_exporter": "python",
   "pygments_lexer": "ipython3",
   "version": "3.8.8"
  }
 },
 "nbformat": 4,
 "nbformat_minor": 5
}
