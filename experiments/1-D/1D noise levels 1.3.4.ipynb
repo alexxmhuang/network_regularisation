{
 "cells": [
  {
   "cell_type": "code",
   "execution_count": 1,
   "id": "89f939ee",
   "metadata": {},
   "outputs": [],
   "source": [
    "import matplotlib.pyplot as plt\n",
    "from skest import *\n",
    "import scipy\n",
    "import time\n",
    "from signals import *\n",
    "import numpy as np"
   ]
  },
  {
   "cell_type": "markdown",
   "id": "668ec125",
   "metadata": {},
   "source": [
    "### different noise level"
   ]
  },
  {
   "cell_type": "code",
   "execution_count": 2,
   "id": "1b57d67d",
   "metadata": {},
   "outputs": [],
   "source": [
    "n = 70\n",
    "p = 110\n",
    "Psi = toeplitz(0.5, p)"
   ]
  },
  {
   "cell_type": "code",
   "execution_count": 3,
   "id": "0d1cf78f",
   "metadata": {},
   "outputs": [],
   "source": [
    "beta_star = smooth_stair(10, 5, 20, 0, 4)"
   ]
  },
  {
   "cell_type": "markdown",
   "id": "9aa70148",
   "metadata": {},
   "source": [
    "### sigma = 1"
   ]
  },
  {
   "cell_type": "code",
   "execution_count": 4,
   "id": "5b090ee9",
   "metadata": {},
   "outputs": [],
   "source": [
    "sigma = 1"
   ]
  },
  {
   "cell_type": "code",
   "execution_count": 5,
   "id": "d17c68ee",
   "metadata": {},
   "outputs": [],
   "source": [
    "X, y = gauss_sample(n, p, beta_star, Psi, sigma)"
   ]
  },
  {
   "cell_type": "code",
   "execution_count": 6,
   "id": "0bbc68b9",
   "metadata": {},
   "outputs": [
    {
     "data": {
      "text/plain": [
       "({'t': 0.4}, 2.486032485961914)"
      ]
     },
     "execution_count": 6,
     "metadata": {},
     "output_type": "execute_result"
    }
   ],
   "source": [
    "naive_cv_cov(X)"
   ]
  },
  {
   "cell_type": "code",
   "execution_count": 7,
   "id": "61e79ed3",
   "metadata": {},
   "outputs": [],
   "source": [
    "D_w = weighted_incidence(cov_est(0.4).fit(X).S)"
   ]
  },
  {
   "cell_type": "code",
   "execution_count": 8,
   "id": "36f4879d",
   "metadata": {},
   "outputs": [
    {
     "data": {
      "text/plain": [
       "(82, 110)"
      ]
     },
     "execution_count": 8,
     "metadata": {},
     "output_type": "execute_result"
    }
   ],
   "source": [
    "D_w.shape"
   ]
  },
  {
   "cell_type": "code",
   "execution_count": 15,
   "id": "43538036",
   "metadata": {},
   "outputs": [],
   "source": [
    "def M_thresh(Psi, t):\n",
    "    M = np.copy(Psi)\n",
    "    M[np.abs(Psi) < t] = 0\n",
    "    return M"
   ]
  },
  {
   "cell_type": "code",
   "execution_count": 10,
   "id": "defab4b7",
   "metadata": {},
   "outputs": [],
   "source": [
    "D_oracle = weighted_incidence(Psi)"
   ]
  },
  {
   "cell_type": "code",
   "execution_count": 11,
   "id": "9f302c23",
   "metadata": {},
   "outputs": [],
   "source": [
    "D = chain_incidence(p)"
   ]
  },
  {
   "cell_type": "code",
   "execution_count": 11,
   "id": "2cfea371",
   "metadata": {},
   "outputs": [
    {
     "data": {
      "text/plain": [
       "(5995, 110)"
      ]
     },
     "execution_count": 11,
     "metadata": {},
     "output_type": "execute_result"
    }
   ],
   "source": [
    "D_oracle.shape"
   ]
  },
  {
   "cell_type": "code",
   "execution_count": 19,
   "id": "1dc94519",
   "metadata": {},
   "outputs": [
    {
     "name": "stdout",
     "output_type": "stream",
     "text": [
      "({'l1': 0}, 0.49955153465270996)\n"
     ]
    },
    {
     "name": "stderr",
     "output_type": "stream",
     "text": [
      "C:\\Users\\sswei\\anaconda3\\lib\\site-packages\\sklearn\\model_selection\\_search.py:918: UserWarning: One or more of the test scores are non-finite: [ -8265.80026168  -8264.14715471  -8266.20208939  -8286.92919554\n",
      "  -8322.39519808  -8383.48644442  -8510.015193    -8769.28051315\n",
      "  -9026.04380088  -9514.2666944  -10073.28424708 -10584.22038753\n",
      " -11052.99737646 -11492.95874042 -12291.1474382  -13016.45771499\n",
      " -13677.8118305  -14856.82574024 -15896.96527186             nan\n",
      "             nan -21074.96404781  -8489.1126924   -8288.74118008\n",
      "  -8289.167598    -8323.26724034  -8383.83767558  -8510.26374813\n",
      "  -8769.47234882  -9025.90340075  -9514.22945558 -10073.30191206\n",
      " -10583.22996044 -11053.38690394 -11491.13948156 -12290.66828627\n",
      " -13006.9320376  -13662.49103476 -14829.42670146             nan\n",
      " -18013.83614793 -19746.11994665 -21074.55339171 -10553.30904253\n",
      "  -8492.17266084  -8308.96881153  -8331.20974796  -8387.91180889\n",
      "  -8512.39658565  -8770.61271744  -9026.73980203  -9514.64600882\n",
      " -10073.61693732 -10584.02531973 -11054.4320001  -11491.67244848\n",
      " -12290.84377152 -13012.64757949 -13672.73615333 -14856.71513671\n",
      " -15901.63254831 -18059.0782617  -19782.04030694 -21070.46849644\n",
      " -16530.34205585 -10556.47460398  -8513.11478922  -8410.93086497\n",
      "  -8428.32192174  -8533.76480224  -8782.31592432  -9034.76837815\n",
      "  -9519.89427846 -10077.20023795 -10586.56481291 -11056.07136418\n",
      " -11493.5516701  -12292.7103391  -13010.1595994  -13674.1795437\n",
      " -14858.59736347 -15897.31359762 -18067.45204428             nan\n",
      " -21063.70167113 -18975.95810601 -12864.7929484   -8856.83016788\n",
      "  -8549.23977077  -8496.88530382  -8569.71556525  -8801.90108483\n",
      "  -9048.39641964  -9528.52559943 -10083.54764247 -10591.58957814\n",
      " -11060.00171354 -11497.03271678 -12295.01465513 -13015.26316395\n",
      " -13675.99349785 -14859.94758564 -15901.37873872 -18064.32611415\n",
      " -19779.05241248 -21053.54352386 -20180.21254214 -14509.25536742\n",
      "  -9400.68960552  -8789.16074538  -8613.58301921  -8629.96379141\n",
      "  -8834.70065412  -9070.86772715  -9543.20660965 -10093.22029272\n",
      " -10600.00270275 -11066.40925034 -11502.1360759  -12299.47223401\n",
      " -13019.60142502 -13680.00336045 -14862.55166547 -15904.88692561\n",
      " -18065.1259531  -19784.5017536  -21037.27544119 -20641.54268043\n",
      " -16533.54306422 -10588.6871673   -9224.00740283  -8854.55671352\n",
      "  -8750.47517112  -8899.59122426  -9116.04315837  -9571.56093416\n",
      " -10113.62820233 -10616.56809171 -11079.56681485 -11513.1878696\n",
      " -12308.05190436 -13026.60447114 -13687.17767223 -14868.39351863\n",
      " -15908.02932486 -18068.70279729 -19786.4923706  -21007.07426155\n",
      " -20702.73126231 -18451.77509522 -12299.58837475 -10172.80186571\n",
      "  -9307.26060102  -8997.72526959  -9028.5142563   -9209.41693698\n",
      "  -9628.25440574 -10154.07819853 -10649.4385898  -11105.13163251\n",
      " -11534.52447548 -12325.23797409 -13041.87649752 -13700.12670781\n",
      " -14878.88176882 -15917.9866095  -18076.97397665 -19793.18086166\n",
      " -20981.9839534  -20822.33709386 -19418.56938315 -13351.14770931\n",
      " -11064.90795943  -9779.82294774  -9243.55638202  -9158.58453722\n",
      "  -9304.7371312   -9684.17035883 -10194.512333   -10681.23179649\n",
      " -11130.11253832 -11556.07072561 -12343.69792217 -13056.23058836\n",
      " -13714.12605202 -14890.54864375 -15926.16139474 -18089.64283289\n",
      " -19798.59162201 -20946.60544051 -20950.31228645 -20148.48303851\n",
      " -14575.77281582 -12366.19074434 -10716.0346918   -9705.80457651\n",
      "  -9418.92177961  -9484.75354276  -9792.48396313 -10274.63367349\n",
      " -10744.88627969 -11179.35428006 -11597.76445902 -12377.1896111\n",
      " -13087.73514451 -13740.74096595 -14912.05612925 -15945.79424014\n",
      " -18101.61955092             nan -20919.06169133 -20922.80914811\n",
      " -20703.42242458 -15653.19604561 -13407.5295443  -11703.03562943\n",
      " -10305.41070362  -9739.7100633   -9705.4485223   -9928.1330102\n",
      " -10373.69834867 -10821.72426162 -11241.15608245 -11650.99490144\n",
      " -12422.62440996 -13123.90878235 -13775.84328508 -14940.87025844\n",
      " -15972.72765011 -18123.64152    -19823.50292645 -20900.96911425\n",
      " -20888.85432319 -20648.69340308 -16589.32497044 -14127.48789255\n",
      " -12483.17898092 -10847.45613981 -10042.74684134  -9921.25918992\n",
      " -10063.36354087 -10473.22921052 -10895.17389469 -11302.18510276\n",
      " -11705.09062529 -12465.42197611 -13161.09843206 -13809.76470491\n",
      " -14971.52648867 -15994.55280163 -18132.93904986 -19845.46273223\n",
      " -20904.90952456 -20895.97540924 -20609.49142853 -17255.92198645\n",
      " -14705.19343924 -13049.19346737 -11373.64734739 -10328.73602493\n",
      " -10140.20601716 -10203.69630309 -10569.98248279 -10969.65016865\n",
      " -11363.60883297 -11759.10720602 -12510.90346273 -13198.43079316\n",
      " -13846.53720481 -14999.00215196 -16018.7816613  -18155.9146545\n",
      " -19843.89604515 -20944.14919921 -20934.04084366 -20648.6172079\n",
      " -17872.4834856  -15134.15293304 -13502.8112492  -11870.62572027\n",
      " -10592.40458846 -10340.70926854 -10344.27878987 -10663.10702645\n",
      " -11043.79904266 -11426.93071526 -11809.68907148 -12554.09002793\n",
      " -13236.29646593 -13873.77964311 -15026.39735557 -16041.43111764\n",
      " -18172.6367616  -19873.26616571 -21081.35849369 -21072.76419405\n",
      " -20827.02798    -18581.79423715 -16029.07947939 -14291.53744653\n",
      " -12683.86597921 -11149.25068645 -10709.92562768 -10594.72104447\n",
      " -10834.3339775  -11183.06385132 -11545.28992878 -11913.5024467\n",
      " -12639.41751695 -13314.22588772 -13948.34595271 -15083.94444041\n",
      " -16091.94230148             nan             nan -21109.81115809\n",
      " -21103.69538646 -20945.3838556  -18995.70007595 -16731.74544295\n",
      " -14951.90201587 -13244.78041973 -11707.47838183 -11088.33231789\n",
      " -10837.01246817 -11007.94851835 -11321.09608832 -11663.41338639\n",
      " -12016.31132564 -12721.16382775 -13392.97160547 -14017.61778173\n",
      " -15141.72433713 -16140.81060423 -18236.92271529             nan\n",
      " -21156.83514381 -21143.03305379 -20829.83928777 -19258.73620815\n",
      " -17426.14682203 -15437.44700848 -13739.17298562 -12225.21642389\n",
      " -11480.63873662 -11079.45483777 -11181.51724734 -11454.83378653\n",
      " -11780.58635792 -12120.02236363 -12806.21006562 -13470.37490953\n",
      " -14083.20411685 -15197.05337624 -16193.33257638             nan\n",
      "             nan -21239.94892207 -21176.65418313 -20791.27888509\n",
      " -19585.26039907 -18406.63906689 -16382.32390765 -14635.49076319\n",
      " -13010.70363839 -12217.53157491 -11568.18642947 -11518.07907245\n",
      " -11721.78502039 -12010.10472513 -12323.45212657 -12979.21950639\n",
      " -13623.74258729 -14222.67317902 -15310.66291944 -16293.92203288\n",
      "             nan             nan -21432.9972057  -21314.15387146\n",
      " -20849.23466338 -19799.58993785 -18883.5927143  -17178.95162295\n",
      " -15375.48059178 -13655.29702088 -12846.82390492 -12062.13597891\n",
      " -11864.51774023 -11994.69748334 -12237.53007307 -12525.03910842\n",
      " -13155.62783946 -13771.16017606 -14357.33695629 -15423.94401771\n",
      " -16397.67096611 -18442.41349548 -20103.32843098 -21130.48043097\n",
      " -21106.70299951 -20581.96885651 -20027.93369695 -19295.46372527\n",
      " -18477.65934253 -16779.02325028 -15051.87347566 -14082.48569998\n",
      " -13149.35219823 -12752.30161238 -12727.58896337 -12854.44823291\n",
      " -13068.30362073 -13589.47108983 -14152.25143753 -14705.76395621\n",
      " -15732.33305119 -16666.41148436 -18636.86882749             nan\n",
      " -20745.40073088 -20734.42516991 -20580.19043857 -19888.27716163\n",
      " -19438.10641911 -18874.86560609 -17722.51025767 -16154.56666767\n",
      " -15224.42671178 -14090.78593102 -13594.26090429 -13447.82292632\n",
      " -13493.58440095 -13629.90830065 -14070.41356595 -14573.44562147\n",
      " -15082.77034144 -16052.97862852 -16935.47199668 -18841.24175254\n",
      " -20439.49059982]\n",
      "  warnings.warn(\n"
     ]
    },
    {
     "name": "stdout",
     "output_type": "stream",
     "text": [
      "({'l1': 0, 'l2': 0.001}, 15.221730709075928)\n",
      "({'l1': 0, 'l2': 10}, 12.175011396408081)\n",
      "({'l1': 0, 'l2': 5}, 15.730562686920166)\n"
     ]
    }
   ],
   "source": [
    "print(naive_cv_lasso(X, y))\n",
    "print(naive_cv(EN, X, y))\n",
    "print(naive_cv(FL, X, y, D))\n",
    "print(naive_cv(SL, X, y, D))"
   ]
  },
  {
   "cell_type": "code",
   "execution_count": 20,
   "id": "6a8ff0e7",
   "metadata": {},
   "outputs": [
    {
     "name": "stdout",
     "output_type": "stream",
     "text": [
      "({'l1': 1, 'l2': 1, 'l3': 0}, 72.2368996143341)\n"
     ]
    }
   ],
   "source": [
    "print(naive_cv_gtv_small(X, y, D_oracle))"
   ]
  },
  {
   "cell_type": "code",
   "execution_count": 21,
   "id": "39c0c0a1",
   "metadata": {
    "scrolled": true
   },
   "outputs": [
    {
     "name": "stdout",
     "output_type": "stream",
     "text": [
      "({'l1': 7.5, 'l2': 0, 'l3': 0}, 15.39406943321228)\n"
     ]
    }
   ],
   "source": [
    "print(naive_cv_gtv(X, y, D_w))"
   ]
  },
  {
   "cell_type": "code",
   "execution_count": 22,
   "id": "98b9f980",
   "metadata": {},
   "outputs": [
    {
     "data": {
      "text/plain": [
       "({'l1': 15, 'l2': 7.5}, 13.541502475738525)"
      ]
     },
     "execution_count": 22,
     "metadata": {},
     "output_type": "execute_result"
    }
   ],
   "source": [
    "naive_cv(OUR, X, y, D)"
   ]
  },
  {
   "cell_type": "code",
   "execution_count": 12,
   "id": "27504c5e",
   "metadata": {},
   "outputs": [],
   "source": [
    "def trial1():\n",
    "    X, y = gauss_sample(n, p, beta_star, Psi, sigma)\n",
    "    clf1 = OLR().fit(X, y)\n",
    "    clf2 = LA(l1 = 0).fit(X,y)\n",
    "    clf3 = EN(l1= 0, l2=0.001).fit(X,y)\n",
    "    clf4 = FL(0, 10, D).fit(X,y)\n",
    "    clf5 = SL(0, 5, D).fit(X,y)\n",
    "    clf6 = GTV(7.5, 0, 0, D_w).fit(X,y)\n",
    "    clf7 = GTV(1, 1, 0, D_oracle).fit(X,y)\n",
    "    clf8 = OUR(15, 7.5, D).fit(X,y)\n",
    "    return [c.l2_risk(beta_star) for c in [clf1, clf2, clf3, clf4, clf5, clf6, clf7, clf8]]"
   ]
  },
  {
   "cell_type": "code",
   "execution_count": 13,
   "id": "548a8785",
   "metadata": {},
   "outputs": [],
   "source": [
    "def trial2():\n",
    "    X, y = gauss_sample(n, p, beta_star, Psi, sigma)\n",
    "    clf1 = OLR().fit(X, y)\n",
    "    clf2 = LA(l1 = 0).fit(X,y)\n",
    "    clf3 = EN(l1= 0, l2=0.001).fit(X,y)\n",
    "    clf4 = FL(0, 10, D).fit(X,y)\n",
    "    clf5 = SL(0, 5, D).fit(X,y)\n",
    "    clf6 = GTV(7.5, 0, 0, D_w).fit(X,y)\n",
    "    clf7 = GTV(1, 1, 0, D_oracle).fit(X,y)\n",
    "    clf8 = OUR(15, 7.5, D).fit(X,y)\n",
    "    X2, y2 = gauss_sample(n, p, beta_star, Psi, sigma)\n",
    "    return [-c.score(X2, X2@beta_star) for c in [clf1, clf2, clf3, clf4, clf5, clf6, clf7, clf8]]"
   ]
  },
  {
   "cell_type": "code",
   "execution_count": 14,
   "id": "4e40dce4",
   "metadata": {},
   "outputs": [],
   "source": [
    "from joblib import Parallel, delayed\n",
    "import multiprocessing"
   ]
  },
  {
   "cell_type": "code",
   "execution_count": 15,
   "id": "c9adf957",
   "metadata": {},
   "outputs": [],
   "source": [
    "l2s = Parallel(n_jobs=8)(delayed(trial1)() for i in range(500))\n",
    "preds = Parallel(n_jobs=8)(delayed(trial2)() for i in range(500))"
   ]
  },
  {
   "cell_type": "code",
   "execution_count": 16,
   "id": "96673d61",
   "metadata": {},
   "outputs": [],
   "source": [
    "ar1 = [l[0] for l in l2s]\n",
    "ar2 = [l[1] for l in l2s]\n",
    "ar3 = [l[2] for l in l2s]\n",
    "ar4 = [l[3] for l in l2s]\n",
    "ar5 = [l[4] for l in l2s]\n",
    "ar6 = [l[5] for l in l2s]\n",
    "ar7 = [l[6] for l in l2s]\n",
    "ar8 = [l[7] for l in l2s]"
   ]
  },
  {
   "cell_type": "code",
   "execution_count": 17,
   "id": "af5128a2",
   "metadata": {},
   "outputs": [],
   "source": [
    "ap1 = [l[0] for l in preds]\n",
    "ap2 = [l[1] for l in preds]\n",
    "ap3 = [l[2] for l in preds]\n",
    "ap4 = [l[3] for l in preds]\n",
    "ap5 = [l[4] for l in preds]\n",
    "ap6 = [l[5] for l in preds]\n",
    "ap7 = [l[6] for l in preds]\n",
    "ap8 = [l[7] for l in preds]\n"
   ]
  },
  {
   "cell_type": "code",
   "execution_count": 18,
   "id": "93baccd5",
   "metadata": {},
   "outputs": [
    {
     "data": {
      "image/png": "[encoded data removed]",
      "text/plain": [
       "<Figure size 432x288 with 1 Axes>"
      ]
     },
     "metadata": {
      "needs_background": "light"
     },
     "output_type": "display_data"
    }
   ],
   "source": [
    "plt.boxplot([ar1, ar2, ar3, ar4, ar5, ar6, ar7, ar8])\n",
    "plt.yscale(\"log\")"
   ]
  },
  {
   "cell_type": "code",
   "execution_count": 19,
   "id": "ce07e264",
   "metadata": {},
   "outputs": [
    {
     "data": {
      "image/png": "[encoded data removed]",
      "text/plain": [
       "<Figure size 432x288 with 1 Axes>"
      ]
     },
     "metadata": {
      "needs_background": "light"
     },
     "output_type": "display_data"
    }
   ],
   "source": [
    "plt.boxplot([ap1, ap2, ap3, ap4, ap5, ap6, ap7, ap8])\n",
    "plt.yscale(\"log\")"
   ]
  },
  {
   "cell_type": "markdown",
   "id": "8e8bd0e5",
   "metadata": {},
   "source": [
    "### sigma = 2"
   ]
  },
  {
   "cell_type": "code",
   "execution_count": 20,
   "id": "1a30b7ff",
   "metadata": {},
   "outputs": [],
   "source": [
    "sigma = 2"
   ]
  },
  {
   "cell_type": "code",
   "execution_count": 32,
   "id": "6240c303",
   "metadata": {},
   "outputs": [],
   "source": [
    "X, y = gauss_sample(n, p, beta_star, Psi, sigma)"
   ]
  },
  {
   "cell_type": "code",
   "execution_count": 22,
   "id": "96d44239",
   "metadata": {},
   "outputs": [
    {
     "data": {
      "text/plain": [
       "({'t': 0.4}, 0.047501325607299805)"
      ]
     },
     "execution_count": 22,
     "metadata": {},
     "output_type": "execute_result"
    }
   ],
   "source": [
    "naive_cv_cov(X)"
   ]
  },
  {
   "cell_type": "code",
   "execution_count": 23,
   "id": "11e86550",
   "metadata": {},
   "outputs": [],
   "source": [
    "D_w = weighted_incidence(cov_est(0.4).fit(X).S)"
   ]
  },
  {
   "cell_type": "code",
   "execution_count": 24,
   "id": "d26f8370",
   "metadata": {},
   "outputs": [
    {
     "data": {
      "text/plain": [
       "(90, 110)"
      ]
     },
     "execution_count": 24,
     "metadata": {},
     "output_type": "execute_result"
    }
   ],
   "source": [
    "D_w.shape"
   ]
  },
  {
   "cell_type": "code",
   "execution_count": 47,
   "id": "3147cf1d",
   "metadata": {},
   "outputs": [
    {
     "name": "stdout",
     "output_type": "stream",
     "text": [
      "({'l1': 0}, 0.5012919902801514)\n"
     ]
    },
    {
     "name": "stderr",
     "output_type": "stream",
     "text": [
      "C:\\Users\\sswei\\anaconda3\\lib\\site-packages\\sklearn\\model_selection\\_search.py:918: UserWarning: One or more of the test scores are non-finite: [ -4845.05318666  -4844.26701279  -4845.84204419  -4861.86503311\n",
      "  -4889.9787015   -4940.23492651  -5051.43930572  -5303.31789576\n",
      "  -5579.55734866  -6166.2678802   -6921.3949232   -7670.84881007\n",
      "  -8408.23854462  -9128.17718572 -10500.29637381 -11793.86559851\n",
      " -13014.99527413 -15321.79735322 -17229.9140812  -21391.24748112\n",
      " -24661.16626513 -16353.73308797  -5000.64692145  -4861.09336076\n",
      "  -4863.39794191  -4890.62079996  -4940.64945214  -5051.66426259\n",
      "  -5303.446234    -5579.56581668  -6166.7047876   -6921.12009494\n",
      "  -7672.28821801  -8408.90484914  -9126.00234433 -10494.55915241\n",
      " -11782.68048197 -13004.22411801 -15178.14947646 -17144.05262392\n",
      " -21465.39425202 -24588.69724497 -16353.58487927  -6464.5544713\n",
      "  -5003.19740513  -4877.24579523  -4896.29758841  -4943.62549959\n",
      "  -5053.25896739  -5304.34214924  -5580.19903063  -6167.13504827\n",
      "  -6921.68636173  -7673.14734429  -8409.98333622  -9128.5339305\n",
      " -10501.22091067 -11797.98203524 -13010.82945515 -15233.93622036\n",
      " -17230.30538455 -21397.66948484 -24669.79524463 -16352.07821116\n",
      " -12125.75577469  -6468.65512495  -5020.91601456  -4954.52859804\n",
      "  -4973.67001498  -5069.64787952  -5312.75216704  -5586.79104509\n",
      "  -6171.63739499  -6925.45846062  -7675.8806786   -8413.09647171\n",
      "  -9129.3945894  -10503.52353503 -11793.45296137 -13011.96151503\n",
      " -15240.49166393 -17235.11866067 -21393.20428553             nan\n",
      " -16349.57651983 -13793.74108207  -8777.79852864  -5242.82453488\n",
      "  -5051.58159689  -5024.35984755  -5097.09287101  -5326.81109905\n",
      "  -5597.76381538  -6178.94842841  -6931.28816692  -7680.79547164\n",
      "  -8416.54126388  -9133.25596831 -10505.85134422 -11797.66391477\n",
      " -13014.16001686 -15243.22486306 -17234.76844421 -21396.38312438\n",
      " -24687.37498381 -16345.60436801 -14795.42055688 -10612.44934146\n",
      "  -5639.14592014  -5202.71411944  -5107.92514445  -5142.86935071\n",
      "  -5350.73127265  -5615.91367383  -6191.56672758  -6940.72345261\n",
      "  -7688.91743193  -8423.719304    -9140.08284333 -10512.23890916\n",
      " -11804.00257342 -13020.20692211 -15247.38350804 -17239.48945656\n",
      " -21399.71328712 -24694.46308222 -16337.97142122 -15177.89700195\n",
      " -12144.83765141  -6498.16481877  -5513.44362311  -5264.95523207\n",
      "  -5231.26584547  -5400.6082655   -5652.64509939  -6216.32100814\n",
      "  -6959.80213158  -7704.81390217  -8439.77955515  -9153.4845108\n",
      " -10524.56798994 -11815.09361016 -13026.7108728  -15254.47031288\n",
      " -17246.42405482 -21409.32873121 -24698.32976195 -16323.10637192\n",
      " -15366.31051447 -13288.08893234  -8120.61680279  -6196.26592043\n",
      "  -5586.73453549  -5404.84986659  -5500.69975475  -5724.45332802\n",
      "  -6266.16016152  -6998.65832475  -7737.95991903  -8468.20943522\n",
      "  -9181.61082054 -10547.54842722 -11835.90966423 -13048.61705516\n",
      " -15272.96563714 -17266.12742702 -21423.80841143 -24710.01873401\n",
      " -16308.80877353 -15495.21353319 -14050.12341744  -9391.18605063\n",
      "  -6904.68955051  -5924.73430525  -5576.71004334  -5600.51385778\n",
      "  -5796.22241106  -6315.41049405  -7037.09052409  -7771.03005466\n",
      "  -8498.56707101  -9210.34246551 -10573.19591375 -11858.65358269\n",
      " -13067.92102207 -15291.79424356 -17277.57055632 -21433.54159881\n",
      " -24725.71426059 -16291.76463959 -15867.43686833 -14723.88622817\n",
      " -10699.61536186  -8185.29583286  -6634.8210738   -5916.83537531\n",
      "  -5791.77263461  -5939.07425455  -6415.86083329  -7115.54375541\n",
      "  -7838.53394287  -8557.8400795   -9265.39334225 -10622.587894\n",
      " -11903.52729358 -13106.64974593 -15326.39168662 -17314.33292024\n",
      " -21461.44702749 -24739.95174998 -16255.02371333 -16092.92153465\n",
      " -14987.3748699  -11670.01229318  -9469.76338279  -7505.21750387\n",
      "  -6358.81665919  -6029.95277996  -6114.13089252  -6537.57053865\n",
      "  -7213.59383964  -7923.25124695  -8634.2289879   -9335.30575025\n",
      " -10681.68005061 -11959.79428809 -13159.02721901 -15371.25624811\n",
      " -17356.16873553 -21498.88629535 -24780.83647349 -16175.10799238\n",
      " -16039.66163531 -15125.26800836 -12347.13890472 -10242.7967493\n",
      "  -8300.28319095  -6817.68534149  -6270.78873359  -6283.93551612\n",
      "  -6658.12199348  -7311.50904028  -8008.42218118  -8710.58371018\n",
      "  -9405.21648621 -10743.4151028  -12014.14698659 -13204.45792088\n",
      " -15415.03658281 -17395.45534855             nan -24795.77297128\n",
      " -16091.40510126 -15977.77534166 -15169.69021183 -12749.17860233\n",
      " -10845.7801255   -9045.21174569  -7288.98916853  -6506.4252241\n",
      "  -6456.92458706  -6778.22100811  -7408.88343802  -8092.66371917\n",
      "  -8785.54881138  -9473.18363293 -10803.85383341 -12068.43936647\n",
      " -13259.75712531 -15459.13783031 -17431.18287326 -21502.01618631\n",
      " -24825.54671717 -16013.92880075 -15964.93977243 -15187.62708146\n",
      " -13057.19461176 -11314.90159125  -9601.56196403  -7738.67874987\n",
      "  -6742.4644051   -6632.3110301   -6900.81673772  -7501.5049483\n",
      "  -8177.32496667  -8861.73100716  -9540.76377012 -10865.13557998\n",
      " -12120.13129819 -13303.4788724  -15506.28155917             nan\n",
      " -21614.76118702 -24882.00420437 -15869.69646247 -15874.32333787\n",
      " -15285.10864028 -13564.32964471 -12059.28267079 -10437.37400809\n",
      "  -8551.04764616  -7235.50555191  -6972.82977492  -7147.0057715\n",
      "  -7683.80059809  -8338.8337393   -9009.73727671  -9677.29576853\n",
      " -10985.9763981  -12227.73772997 -13405.44215454 -15591.20219849\n",
      " -17563.73949096             nan             nan -15794.57357182\n",
      " -15770.16992899 -15364.46605298 -13956.21886531 -12687.21056578\n",
      " -11101.32860766  -9339.43216829  -7750.59234006  -7328.67465934\n",
      "  -7384.00157725  -7871.7385773   -8495.77760902  -9155.46503215\n",
      "  -9813.59231285 -11104.13001933 -12337.68195337 -13506.98686112\n",
      " -15687.13367462 -17645.41647156 -21747.16511241 -25002.32629469\n",
      " -15778.67987923 -15757.64250801 -15349.8083137  -14181.47494518\n",
      " -13075.70438779 -11623.3246685   -9927.54904503  -8229.1578457\n",
      "  -7697.3259121   -7621.61997225  -8060.36343136  -8653.42099782\n",
      "  -9297.81862475  -9948.24186131 -11218.80698008 -12444.15703853\n",
      " -13609.04348636 -15778.95146564             nan -21833.48932417\n",
      "             nan -15535.02071761 -15509.16601099 -15254.60342055\n",
      " -14535.12274084 -13653.71032549 -12486.38227752 -10848.73669726\n",
      "  -9126.07098898  -8430.85916463  -8126.08818268  -8430.84952396\n",
      "  -8967.83564881  -9582.83288564 -10210.42063143 -11452.05526485\n",
      " -12656.70305669 -13812.27471851 -15961.08527944 -17902.09880834\n",
      "             nan             nan -15324.2158176  -15317.35070088\n",
      " -15234.78557357 -14724.6723394  -14041.38354173 -13182.06162861\n",
      " -11601.36413404  -9989.22424259  -9100.92199812  -8634.59301175\n",
      "  -8823.90735588  -9285.30129449  -9856.10471798 -10467.22195349\n",
      " -11687.13304584 -12874.68548403 -14015.41292464 -16138.85717208\n",
      " -18070.94275203             nan -25345.95028535 -15125.38705694\n",
      " -15118.72448774 -15135.22697314 -14877.01639099 -14678.84086318\n",
      " -14184.59253492 -13061.50945267 -11435.00285766 -10638.01030567\n",
      "  -9906.53660618  -9834.47337022 -10131.69544312 -10589.68729224\n",
      " -11121.51944237 -12275.42213042 -13426.49099015 -14535.98626254\n",
      " -16603.75790109 -18494.71045088 -22469.49561542             nan\n",
      " -15156.60552305 -15153.77609844 -15133.58307666 -15035.26139671\n",
      " -15155.59535556 -14811.24281711 -14121.26125333 -12685.79966922\n",
      " -11772.63115095 -11019.48694547 -10865.28527898 -11028.99213166\n",
      " -11377.24074789 -11835.04617606 -12885.10856636 -13977.25296638\n",
      " -15059.74523549 -17078.14226144 -18934.41352172 -22874.17833255\n",
      "             nan]\n",
      "  warnings.warn(\n",
      "C:\\Users\\sswei\\anaconda3\\lib\\site-packages\\cvxpy\\problems\\problem.py:1296: UserWarning: Solution may be inaccurate. Try another solver, adjusting the solver settings, or solve with verbose=True for more information.\n",
      "  warnings.warn(\n"
     ]
    },
    {
     "name": "stdout",
     "output_type": "stream",
     "text": [
      "({'l1': 0, 'l2': 0.001}, 15.062280893325806)\n",
      "({'l1': 0, 'l2': 50}, 11.928704738616943)\n",
      "({'l1': 0.5, 'l2': 25}, 14.720515251159668)\n"
     ]
    }
   ],
   "source": [
    "print(naive_cv_lasso(X, y))\n",
    "print(naive_cv(EN, X, y))\n",
    "print(naive_cv(FL, X, y, D))\n",
    "print(naive_cv(SL, X, y, D))"
   ]
  },
  {
   "cell_type": "code",
   "execution_count": 48,
   "id": "60394e93",
   "metadata": {},
   "outputs": [
    {
     "name": "stdout",
     "output_type": "stream",
     "text": [
      "({'l1': 10, 'l2': 1, 'l3': 0}, 72.59264302253723)\n",
      "({'l1': 12.5, 'l2': 0, 'l3': 0}, 16.97055745124817)\n"
     ]
    }
   ],
   "source": [
    "print(naive_cv_gtv_small(X, y, D_oracle))\n",
    "print(naive_cv_gtv(X, y, D_w))"
   ]
  },
  {
   "cell_type": "code",
   "execution_count": 33,
   "id": "5a2ff270",
   "metadata": {},
   "outputs": [
    {
     "data": {
      "text/plain": [
       "({'l1': 20, 'l2': 10}, 6.986928462982178)"
      ]
     },
     "execution_count": 33,
     "metadata": {},
     "output_type": "execute_result"
    }
   ],
   "source": [
    "naive_cv(OUR, X, y, D)"
   ]
  },
  {
   "cell_type": "code",
   "execution_count": 34,
   "id": "3d2450e7",
   "metadata": {},
   "outputs": [],
   "source": [
    "def trial1():\n",
    "    X, y = gauss_sample(n, p, beta_star, Psi, sigma)\n",
    "    clf1 = OLR().fit(X, y)\n",
    "    clf2 = LA(l1 = 0).fit(X,y)\n",
    "    clf3 = EN(l1= 0, l2=0.001).fit(X,y)\n",
    "    clf4 = FL(0, 50, D).fit(X,y)\n",
    "    clf5 = SL(0.5, 25, D).fit(X,y)\n",
    "    clf6 = GTV(12.5, 0, 0, D_w).fit(X,y)\n",
    "    clf7 = GTV(10, 1, 0, D_oracle).fit(X,y)\n",
    "    clf8 = OUR(20, 10, D).fit(X,y)\n",
    "    return [c.l2_risk(beta_star) for c in [clf1, clf2, clf3, clf4, clf5, clf6, clf7, clf8]]"
   ]
  },
  {
   "cell_type": "code",
   "execution_count": 35,
   "id": "1401203a",
   "metadata": {},
   "outputs": [],
   "source": [
    "def trial2():\n",
    "    X, y = gauss_sample(n, p, beta_star, Psi, sigma)\n",
    "    clf1 = OLR().fit(X, y)\n",
    "    clf2 = LA(l1 = 0).fit(X,y)\n",
    "    clf3 = EN(l1= 0, l2=0.001).fit(X,y)\n",
    "    clf4 = FL(0, 50, D).fit(X,y)\n",
    "    clf5 = SL(0.5, 25, D).fit(X,y)\n",
    "    clf6 = GTV(12.5, 0, 0, D_w).fit(X,y)\n",
    "    clf7 = GTV(10, 1, 0, D_oracle).fit(X,y)\n",
    "    clf8 = OUR(20, 10, D).fit(X,y)\n",
    "    X2, y2 = gauss_sample(n, p, beta_star, Psi, sigma)\n",
    "    return [-c.score(X2, X2@beta_star) for c in [clf1, clf2, clf3, clf4, clf5, clf6, clf7, clf8]]"
   ]
  },
  {
   "cell_type": "code",
   "execution_count": 36,
   "id": "4609cede",
   "metadata": {},
   "outputs": [],
   "source": [
    "l2s = Parallel(n_jobs=8)(delayed(trial1)() for i in range(500))\n",
    "preds = Parallel(n_jobs=8)(delayed(trial2)() for i in range(500))"
   ]
  },
  {
   "cell_type": "code",
   "execution_count": 37,
   "id": "419f9c0a",
   "metadata": {},
   "outputs": [],
   "source": [
    "br1 = [l[0] for l in l2s]\n",
    "br2 = [l[1] for l in l2s]\n",
    "br3 = [l[2] for l in l2s]\n",
    "br4 = [l[3] for l in l2s]\n",
    "br5 = [l[4] for l in l2s]\n",
    "br6 = [l[5] for l in l2s]\n",
    "br7 = [l[6] for l in l2s]\n",
    "br8 = [l[7] for l in l2s]"
   ]
  },
  {
   "cell_type": "code",
   "execution_count": 38,
   "id": "237b8c24",
   "metadata": {},
   "outputs": [],
   "source": [
    "bp1 = [l[0] for l in preds]\n",
    "bp2 = [l[1] for l in preds]\n",
    "bp3 = [l[2] for l in preds]\n",
    "bp4 = [l[3] for l in preds]\n",
    "bp5 = [l[4] for l in preds]\n",
    "bp6 = [l[5] for l in preds]\n",
    "bp7 = [l[6] for l in preds]\n",
    "bp8 = [l[7] for l in preds]\n"
   ]
  },
  {
   "cell_type": "code",
   "execution_count": 39,
   "id": "9518e829",
   "metadata": {},
   "outputs": [
    {
     "data": {
      "image/png": "[encoded data removed]",
      "text/plain": [
       "<Figure size 432x288 with 1 Axes>"
      ]
     },
     "metadata": {
      "needs_background": "light"
     },
     "output_type": "display_data"
    }
   ],
   "source": [
    "plt.boxplot([br1, br2, br3, br4, br5, br6, br7, br8])\n",
    "plt.yscale(\"log\")"
   ]
  },
  {
   "cell_type": "code",
   "execution_count": 40,
   "id": "d0832443",
   "metadata": {},
   "outputs": [
    {
     "data": {
      "image/png": "[encoded data removed]",
      "text/plain": [
       "<Figure size 432x288 with 1 Axes>"
      ]
     },
     "metadata": {
      "needs_background": "light"
     },
     "output_type": "display_data"
    }
   ],
   "source": [
    "plt.boxplot([bp1, bp2, bp3, bp4, bp5, bp6, bp7, bp8])\n",
    "plt.yscale(\"log\")"
   ]
  },
  {
   "cell_type": "markdown",
   "id": "bb292ee5",
   "metadata": {},
   "source": [
    "### sigma = 3"
   ]
  },
  {
   "cell_type": "code",
   "execution_count": 45,
   "id": "090251c8",
   "metadata": {},
   "outputs": [],
   "source": [
    "sigma = 3"
   ]
  },
  {
   "cell_type": "code",
   "execution_count": 46,
   "id": "e9944b5f",
   "metadata": {},
   "outputs": [
    {
     "data": {
      "text/plain": [
       "({'t': 0.4}, 0.04521036148071289)"
      ]
     },
     "execution_count": 46,
     "metadata": {},
     "output_type": "execute_result"
    }
   ],
   "source": [
    "X, y = gauss_sample(n, p, beta_star, Psi, sigma)\n",
    "naive_cv_cov(X)"
   ]
  },
  {
   "cell_type": "code",
   "execution_count": 47,
   "id": "f079f6db",
   "metadata": {},
   "outputs": [],
   "source": [
    "D_w = weighted_incidence(cov_est(0.4).fit(X).S)"
   ]
  },
  {
   "cell_type": "code",
   "execution_count": 48,
   "id": "fc5ee815",
   "metadata": {},
   "outputs": [
    {
     "data": {
      "text/plain": [
       "(90, 110)"
      ]
     },
     "execution_count": 48,
     "metadata": {},
     "output_type": "execute_result"
    }
   ],
   "source": [
    "D_w.shape"
   ]
  },
  {
   "cell_type": "code",
   "execution_count": 60,
   "id": "2f17a974",
   "metadata": {},
   "outputs": [
    {
     "name": "stdout",
     "output_type": "stream",
     "text": [
      "({'l1': 0}, 0.5411210060119629)\n"
     ]
    },
    {
     "name": "stderr",
     "output_type": "stream",
     "text": [
      "C:\\Users\\sswei\\anaconda3\\lib\\site-packages\\sklearn\\model_selection\\_search.py:918: UserWarning: One or more of the test scores are non-finite: [ -7448.44207318  -7447.90580188  -7450.79532829  -7479.71204674\n",
      "  -7528.14149333  -7609.21175442  -7771.69742021  -8093.03250976\n",
      "  -8405.31664384  -9000.81731348  -9700.60763564 -10360.09283869\n",
      " -10989.99352329 -11593.03227284 -12747.5027735  -13864.88703547\n",
      " -14864.62895346 -16806.9905952  -18613.19812184 -22856.42609121\n",
      " -26092.66551864 -20609.09530972  -7702.41514581  -7477.29605327\n",
      "  -7482.43252761  -7529.30831901  -7609.90434507  -7772.23726773\n",
      "  -8093.38304678  -8405.71354211  -9001.57750116  -9700.45962984\n",
      " -10359.84043191 -10988.74468574 -11592.90750975 -12736.10825185\n",
      " -13815.34862574 -14849.78792322 -16692.76542438 -18535.70095732\n",
      " -22446.21534237 -25862.33879976 -20608.06633831  -9830.98702888\n",
      "  -7704.06734233  -7506.91399472  -7539.34184505  -7615.14967115\n",
      "  -7774.807324    -8094.72186627  -8406.71611973  -9002.31062923\n",
      "  -9701.17944194 -10360.67780212 -10989.14712698 -11593.50725516\n",
      " -12743.40417214 -13829.49852381 -14864.11554701 -16809.96709471\n",
      " -18614.23142042 -22648.74028363 -26134.89150122 -20597.78743667\n",
      " -16744.16272825  -9835.77154786  -7735.14328555  -7636.93168589\n",
      "  -7666.68498784  -7800.93830546  -8108.94060975  -8416.84137962\n",
      "  -9008.71918729  -9706.00549509 -10364.8396629  -10992.27104959\n",
      " -11595.96388729 -12744.45480732 -13830.72730026 -14867.73882291\n",
      " -16811.32567069 -18618.4235604  -22648.11263171             nan\n",
      " -20580.75583746 -19043.97632521 -12288.85669847  -8110.22595405\n",
      "  -7788.84665739  -7746.96497011  -7844.7481805   -8132.40097665\n",
      "  -8433.70845628  -9019.43113521  -9714.56057724 -10370.85367063\n",
      " -10998.22925422 -11600.42995897 -12748.20085288 -13834.40789223\n",
      " -14869.08824425 -16811.50686323 -18617.66881423 -22648.0407055\n",
      " -26084.6574638  -20552.64561848 -20171.13629382 -14635.64954657\n",
      "  -8721.51305703  -8041.90220841  -7877.55068863  -7915.12751648\n",
      "  -8170.4950522   -8461.94534806  -9037.73046061  -9728.11288803\n",
      " -10381.65739627 -11007.83357139 -11608.16288543 -12754.00744289\n",
      " -13839.80083864 -14873.18958479 -16814.95625889 -18620.64742494\n",
      " -22650.2731722  -26139.04219408 -20504.36287323 -20221.46127879\n",
      " -16713.75892567  -9882.91056864  -8542.41623549  -8138.24553577\n",
      "  -8052.49970297  -8246.71240251  -8519.74549145  -9073.5583341\n",
      "  -9755.60272811 -10403.03512957 -11025.44104493 -11622.78791381\n",
      " -12765.37951425 -13849.72952697 -14881.72904596 -16823.12129484\n",
      " -18624.54358352 -22659.76591523             nan -20437.38641372\n",
      " -20315.81351532 -18419.95669784 -11651.31268213  -9499.20968263\n",
      "  -8644.35922971  -8327.33433168  -8398.02139674  -8634.39133995\n",
      "  -9149.31106137  -9811.13743474 -10446.95987273 -11061.94403763\n",
      " -11652.67684007 -12790.02388809 -13869.32404367 -14899.40807438\n",
      " -16837.39068316 -18632.68670661 -22662.68798336 -26156.39731692\n",
      " -20357.89201305 -20361.70768099 -19444.39349165 -12928.7564001\n",
      " -10398.34265253  -9148.41274377  -8590.06458145  -8551.95755777\n",
      "  -8742.80290969  -9227.03876202  -9865.28546721 -10491.04712482\n",
      " -11098.51881416 -11682.53315166 -12812.68028666 -13888.29792399\n",
      " -14915.39192209 -16853.92460162 -18649.46874535 -22674.112045\n",
      " -26172.05039529 -20226.08380049 -20190.78161445 -19972.43005833\n",
      " -14710.45685447 -11704.0758817  -10093.20971615  -9111.05546709\n",
      "  -8841.29739471  -8959.85601846  -9375.05705177  -9974.01326468\n",
      " -10580.69628945 -11170.69289402 -11741.85638686 -12858.29372407\n",
      " -13929.10612927 -14949.41880952 -16877.46129766 -18675.27323833\n",
      " -22700.87410292 -26193.72768573 -20089.05801546 -20065.93201326\n",
      " -19996.36981104 -15806.07313777 -13030.8663073  -11073.17857491\n",
      "  -9741.91658868  -9201.31753733  -9225.67777883  -9553.66554088\n",
      " -10107.95018256 -10688.76880218 -11259.8112756  -11817.19591506\n",
      " -12920.52596223 -13977.94542231 -14993.1534981  -16909.7929913\n",
      " -18708.686234   -22726.71030669 -26209.83732204 -19980.78280257\n",
      " -19959.89138469 -19928.58333137 -16455.72953299 -14154.88365953\n",
      " -11840.26572946 -10356.93956495  -9558.36168845  -9485.11461477\n",
      "  -9726.93497592 -10239.9880392  -10795.45679447 -11347.93934241\n",
      " -11896.6755408  -12979.48259363 -14025.67696083 -15036.48341214\n",
      " -16946.52354881 -18737.01545948             nan -26221.44673268\n",
      " -19912.40603407 -19892.54180944 -19817.91521972 -16940.69709532\n",
      " -14761.0498697  -12543.57906216 -10887.82231105  -9908.77410447\n",
      "  -9736.71554435  -9901.66178629 -10364.81617683 -10899.79571154\n",
      " -11436.19046737 -11974.17279885 -13038.25496649 -14077.84248953\n",
      " -15077.97911925 -16980.00765158 -18766.63207473 -22778.62910698\n",
      " -26259.91722132 -19827.15287649 -19815.56486039 -19732.83040845\n",
      " -17251.16047431 -15184.81080003 -13204.65857425 -11351.0913626\n",
      " -10241.10431738  -9988.15309749 -10073.63030518 -10488.06872418\n",
      " -11004.46430134 -11524.82804092 -12053.77779793 -13100.34029865\n",
      " -14127.46804617 -15120.83376183 -17010.92533428 -18797.89860971\n",
      " -22813.87877595 -26253.156092   -19763.35931749 -19751.61610498\n",
      " -19664.98861637 -17840.77653108 -15739.29170605 -14330.77738563\n",
      " -12140.12070249 -10867.76729885 -10476.67214256 -10412.53248694\n",
      " -10728.60886187 -11206.69808863 -11701.81042035 -12207.06395149\n",
      " -13222.09715052 -14226.41046437 -15206.61045364 -17085.39829933\n",
      " -18857.32834119 -22907.19222039 -26335.74176535 -19669.09725002\n",
      " -19648.20850044 -19590.67420901 -18276.17822117 -16206.50084274\n",
      " -14758.12035094 -12895.87817871 -11425.67326555 -10922.93162597\n",
      " -10744.80990068 -10965.7805734  -11407.05414538 -11877.89749151\n",
      " -12357.76995711 -13346.19028802 -14327.51101369 -15291.79050343\n",
      " -17158.44437064 -18920.35828804             nan -26428.77007747\n",
      " -19731.78744473 -19720.36846439 -19678.94775328 -18526.1913162\n",
      " -16583.74808629 -15133.22182141 -13553.4718517  -11902.4857101\n",
      " -11327.4611474  -11049.70086676 -11210.80754115 -11597.60533628\n",
      " -12051.67502307 -12513.02207658 -13467.36349103 -14427.87356773\n",
      " -15376.23966306 -17229.48269069 -18980.88557849 -22955.54394722\n",
      " -26373.84127859 -19752.59146854 -19745.59790642 -19700.51989566\n",
      " -18693.19654566 -17183.0474658  -15702.24956107 -14359.86199994\n",
      " -12735.28527989 -12058.44381884 -11623.65582988 -11665.06258013\n",
      " -11969.9042842  -12378.41943668 -12807.48586936 -13704.04081965\n",
      " -14620.29994244 -15542.01021818 -17364.01546951 -19109.55189507\n",
      " -23064.24397116             nan -19738.08665343 -19733.53937833\n",
      " -19692.24097515 -18795.6141976  -17574.00998381 -16208.7141916\n",
      " -14895.1929622  -13382.80858201 -12681.89177905 -12123.79111626\n",
      " -12084.45379318 -12314.81826502 -12678.94774512 -13083.86252178\n",
      " -13929.73630815 -14806.93833579 -15708.72895801 -17511.10669574\n",
      " -19235.09941682             nan             nan -19578.762843\n",
      " -19577.14021915 -19558.44328502 -19229.24616675 -18198.68200533\n",
      " -17100.09990884 -15934.02307642 -14516.49978766 -13810.59388121\n",
      " -13183.03774554 -12997.51432285 -13069.27900649 -13340.50345244\n",
      " -13671.40343918 -14436.22456642 -15266.40275741 -16126.60505635\n",
      " -17868.25582812 -19549.66225283             nan             nan\n",
      " -19444.28038457 -19443.87088622 -19440.82793092 -19294.74237211\n",
      " -18443.30952497 -17544.57116063 -16454.15617386 -15425.30141149\n",
      " -14642.89326221 -14000.30636511 -13739.12325326 -13739.23079179\n",
      " -13911.46779027 -14203.28299091 -14915.85133202 -15708.56545938\n",
      " -16524.66457041 -18211.74254757 -19859.05166218             nan\n",
      "             nan]\n",
      "  warnings.warn(\n"
     ]
    },
    {
     "name": "stdout",
     "output_type": "stream",
     "text": [
      "({'l1': 0, 'l2': 0.001}, 15.844774007797241)\n",
      "({'l1': 0.01, 'l2': 40}, 11.94263243675232)\n",
      "({'l1': 0.001, 'l2': 30}, 15.296736240386963)\n"
     ]
    }
   ],
   "source": [
    "print(naive_cv_lasso(X, y))\n",
    "print(naive_cv(EN, X, y))\n",
    "print(naive_cv(FL, X, y, D))\n",
    "print(naive_cv(SL, X, y, D))"
   ]
  },
  {
   "cell_type": "code",
   "execution_count": 63,
   "id": "22f49a39",
   "metadata": {},
   "outputs": [
    {
     "name": "stdout",
     "output_type": "stream",
     "text": [
      "({'l1': 5, 'l2': 5, 'l3': 0}, 73.66869497299194)\n",
      "({'l1': 15, 'l2': 0, 'l3': 0}, 18.212224006652832)\n"
     ]
    }
   ],
   "source": [
    "print(naive_cv_gtv_small(X, y, D_oracle))\n",
    "print(naive_cv_gtv(X, y, D_w))"
   ]
  },
  {
   "cell_type": "code",
   "execution_count": 64,
   "id": "ae23e252",
   "metadata": {},
   "outputs": [
    {
     "data": {
      "text/plain": [
       "({'l1': 30, 'l2': 15}, 13.963613510131836)"
      ]
     },
     "execution_count": 64,
     "metadata": {},
     "output_type": "execute_result"
    }
   ],
   "source": [
    "naive_cv(OUR, X, y, D)"
   ]
  },
  {
   "cell_type": "code",
   "execution_count": 49,
   "id": "059aa029",
   "metadata": {},
   "outputs": [],
   "source": [
    "def trial1():\n",
    "    X, y = gauss_sample(n, p, beta_star, Psi, sigma)\n",
    "    clf1 = OLR().fit(X, y)\n",
    "    clf2 = LA(l1 = 0).fit(X,y)\n",
    "    clf3 = EN(l1= 0, l2=0.001).fit(X,y)\n",
    "    clf4 = FL(0.01, 40, D).fit(X,y)\n",
    "    clf5 = SL(0.001, 30, D).fit(X,y)\n",
    "    clf6 = GTV(15, 0, 0, D_w).fit(X,y)\n",
    "    clf7 = GTV(5, 5, 0, D_oracle).fit(X,y)\n",
    "    clf8 = OUR(30, 15, D).fit(X,y)\n",
    "    return [c.l2_risk(beta_star) for c in [clf1, clf2, clf3, clf4, clf5, clf6, clf7, clf8]]\n",
    "\n",
    "def trial2():\n",
    "    X, y = gauss_sample(n, p, beta_star, Psi, sigma)\n",
    "    clf1 = OLR().fit(X, y)\n",
    "    clf2 = LA(l1 = 0).fit(X,y)\n",
    "    clf3 = EN(l1= 0, l2=0.001).fit(X,y)\n",
    "    clf4 = FL(0.01, 40, D).fit(X,y)\n",
    "    clf5 = SL(0.001, 30, D).fit(X,y)\n",
    "    clf6 = GTV(15, 0, 0, D_w).fit(X,y)\n",
    "    clf7 = GTV(5, 5, 0, D_oracle).fit(X,y)\n",
    "    clf8 = OUR(30, 15, D).fit(X,y)\n",
    "    X2, y2 = gauss_sample(n, p, beta_star, Psi, sigma)\n",
    "    return [-c.score(X2, X2@beta_star) for c in [clf1, clf2, clf3, clf4, clf5, clf6, clf7, clf8]]"
   ]
  },
  {
   "cell_type": "code",
   "execution_count": 50,
   "id": "d0756691",
   "metadata": {},
   "outputs": [],
   "source": [
    "l2s = Parallel(n_jobs=8)(delayed(trial1)() for i in range(500))\n",
    "preds = Parallel(n_jobs=8)(delayed(trial2)() for i in range(500))"
   ]
  },
  {
   "cell_type": "code",
   "execution_count": 51,
   "id": "6d5d26b9",
   "metadata": {},
   "outputs": [],
   "source": [
    "cr1 = [l[0] for l in l2s]\n",
    "cr2 = [l[1] for l in l2s]\n",
    "cr3 = [l[2] for l in l2s]\n",
    "cr4 = [l[3] for l in l2s]\n",
    "cr5 = [l[4] for l in l2s]\n",
    "cr6 = [l[5] for l in l2s]\n",
    "cr7 = [l[6] for l in l2s]\n",
    "cr8 = [l[7] for l in l2s]"
   ]
  },
  {
   "cell_type": "code",
   "execution_count": 52,
   "id": "6dc9b3e3",
   "metadata": {},
   "outputs": [],
   "source": [
    "cp1 = [l[0] for l in preds]\n",
    "cp2 = [l[1] for l in preds]\n",
    "cp3 = [l[2] for l in preds]\n",
    "cp4 = [l[3] for l in preds]\n",
    "cp5 = [l[4] for l in preds]\n",
    "cp6 = [l[5] for l in preds]\n",
    "cp7 = [l[6] for l in preds]\n",
    "cp8 = [l[7] for l in preds]"
   ]
  },
  {
   "cell_type": "code",
   "execution_count": 53,
   "id": "50e6a7c1",
   "metadata": {},
   "outputs": [
    {
     "data": {
      "image/png": "[encoded data removed]",
      "text/plain": [
       "<Figure size 432x288 with 1 Axes>"
      ]
     },
     "metadata": {
      "needs_background": "light"
     },
     "output_type": "display_data"
    }
   ],
   "source": [
    "plt.boxplot([cr1, cr2, cr3, cr4, cr5, cr6, cr7, cr8])\n",
    "plt.yscale(\"log\")"
   ]
  },
  {
   "cell_type": "code",
   "execution_count": 54,
   "id": "8797d45e",
   "metadata": {},
   "outputs": [
    {
     "data": {
      "image/png": "[encoded data removed]",
      "text/plain": [
       "<Figure size 432x288 with 1 Axes>"
      ]
     },
     "metadata": {
      "needs_background": "light"
     },
     "output_type": "display_data"
    }
   ],
   "source": [
    "plt.boxplot([cp1, cp2, cp3, cp4, cp5, cp6, cp7, cp8])\n",
    "plt.yscale(\"log\")"
   ]
  },
  {
   "cell_type": "markdown",
   "id": "06c8bd56",
   "metadata": {},
   "source": [
    "### sigma = 4"
   ]
  },
  {
   "cell_type": "code",
   "execution_count": 55,
   "id": "f49fb71a",
   "metadata": {},
   "outputs": [],
   "source": [
    "sigma = 4"
   ]
  },
  {
   "cell_type": "code",
   "execution_count": 56,
   "id": "482eda7a",
   "metadata": {},
   "outputs": [
    {
     "data": {
      "text/plain": [
       "({'t': 0.4}, 0.05182671546936035)"
      ]
     },
     "execution_count": 56,
     "metadata": {},
     "output_type": "execute_result"
    }
   ],
   "source": [
    "X, y = gauss_sample(n, p, beta_star, Psi, sigma)\n",
    "naive_cv_cov(X)"
   ]
  },
  {
   "cell_type": "code",
   "execution_count": 57,
   "id": "e4b8d232",
   "metadata": {},
   "outputs": [],
   "source": [
    "D_w = weighted_incidence(cov_est(0.4).fit(X).S)"
   ]
  },
  {
   "cell_type": "code",
   "execution_count": 58,
   "id": "fe5ee9d0",
   "metadata": {},
   "outputs": [
    {
     "data": {
      "text/plain": [
       "(90, 110)"
      ]
     },
     "execution_count": 58,
     "metadata": {},
     "output_type": "execute_result"
    }
   ],
   "source": [
    "D_w.shape"
   ]
  },
  {
   "cell_type": "code",
   "execution_count": 96,
   "id": "93897174",
   "metadata": {},
   "outputs": [
    {
     "name": "stdout",
     "output_type": "stream",
     "text": [
      "({'l1': 0}, 0.4985826015472412)\n"
     ]
    },
    {
     "name": "stderr",
     "output_type": "stream",
     "text": [
      "C:\\Users\\sswei\\anaconda3\\lib\\site-packages\\sklearn\\model_selection\\_search.py:918: UserWarning: One or more of the test scores are non-finite: [ -6584.49917259  -6584.54269421  -6590.91694417  -6653.52939037\n",
      "  -6756.24773271  -6923.23704822  -7242.69408935  -7834.33842465\n",
      "  -8373.93442767  -9341.67666698 -10398.12369134 -11334.91831182\n",
      " -12184.72315647 -12967.6424763  -14360.96740783 -15601.68436888\n",
      " -16713.51542856 -18687.9001287  -20337.29383982 -23780.75844825\n",
      " -26454.85763438 -19482.77484957  -6757.88016736  -6608.90316535\n",
      "  -6655.33808044  -6756.99828798  -6923.72684026  -7243.43053815\n",
      "  -7834.7494949   -8374.9016924   -9341.77608347 -10398.59420901\n",
      " -11335.76697635 -12184.66375281 -12964.2068588  -14353.82560176\n",
      " -15590.9154097  -16658.22992937 -18585.4703913  -20252.66749416\n",
      " -23696.57982423 -26208.06028753 -19367.90672912  -8190.7517903\n",
      "  -6765.16119722  -6671.87414874  -6763.81815974  -6927.38927971\n",
      "  -7245.32465553  -7835.85303936  -8375.71062753  -9342.31283184\n",
      " -10399.00948249 -11336.15760857 -12185.19249536 -12965.88155282\n",
      " -14362.2059281  -15598.13250739 -16710.16437905 -18657.8438326\n",
      " -20326.23737626 -23702.41096186 -26320.5292601  -19368.76067361\n",
      " -13564.4022862   -8200.35732683  -6830.36875415  -6830.02034505\n",
      "  -6963.38936482  -7264.93777935  -7846.89308976  -8383.87152926\n",
      "  -9347.63510893 -10402.81240602 -11339.52640901 -12188.40268801\n",
      " -12966.97136551 -14364.22287008 -15600.05619305 -16711.50151351\n",
      " -18657.64028157 -20327.82482235 -23700.790305   -26328.86825669\n",
      " -19370.26867855 -15810.99753297  -9948.7491576   -7099.92095351\n",
      "  -6937.08883782  -7019.00799056  -7295.77468084  -7864.81323464\n",
      "  -8397.19117067  -9356.47817843 -10409.43089588 -11345.35137057\n",
      " -12193.19315766 -12971.28642496 -14367.54498922 -15602.54952949\n",
      " -16715.79492644 -18661.1792746  -20329.00343392 -23703.55448598\n",
      " -26327.99198058 -19372.7508087  -17315.29205642 -11975.59384236\n",
      "  -7521.72127925  -7124.72261476  -7112.92711591  -7346.33807868\n",
      "  -7893.92383109  -8419.5052496   -9371.18175689 -10420.43159997\n",
      " -11354.86018831 -12201.12879421 -12977.67083941 -14373.02113001\n",
      " -15608.16193902 -16718.74060743 -18660.97689388 -20336.49291791\n",
      " -23704.37344162 -26292.59546126 -19378.20644477 -18684.03876879\n",
      " -13588.12286915  -8297.06421069  -7485.89323601  -7303.05363075\n",
      "  -7448.10797494  -7952.4501036   -8463.54393625  -9400.79631277\n",
      " -10442.80890797 -11373.29928952 -12216.94314353 -12991.06902157\n",
      " -14380.81263086 -15615.09752722 -16725.56192363 -18669.30748663\n",
      " -20338.02878359 -23712.88747578 -26319.57303254 -19390.47244243\n",
      " -19002.75099178 -15194.73775239  -9518.38084615  -8140.5175079\n",
      "  -7689.12014253  -7654.92608647  -8071.58174183  -8549.0408313\n",
      "  -9460.42062719 -10487.08575637 -11410.98070898 -12248.59741384\n",
      " -13018.66228646 -14402.03116067 -15632.5701951  -16741.88445299\n",
      " -18681.56312578 -20350.44997475 -23711.05680356 -26339.84482463\n",
      " -19428.67871276 -19172.54058999 -16190.64335766 -10660.71147184\n",
      "  -8712.36801148  -8040.67953298  -7862.38306718  -8195.01597928\n",
      "  -8634.09450921  -9519.27424755 -10532.58226531 -11448.11414289\n",
      " -12280.4012613  -13045.45393117 -14421.09302335 -15649.03002746\n",
      " -16756.16516025 -18693.91995165 -20362.87901263 -23729.05521363\n",
      " -26349.94423297 -19518.57956929 -19463.07844976 -17404.69357104\n",
      " -12188.67900787  -9750.99192111  -8687.49852017  -8268.22683373\n",
      "  -8419.45474727  -8799.88081139  -9634.17881078 -10622.939073\n",
      " -11521.97050397 -12344.4259145  -13099.07804555 -14460.58813339\n",
      " -15680.89176803 -16786.57793041 -18722.84315944 -20386.85758624\n",
      " -23752.62837555 -26370.6607538  -19649.18360993 -19703.34860171\n",
      " -18370.11433124 -13201.81781486 -10934.65775457  -9404.70832312\n",
      "  -8731.21741767  -8695.94317259  -9009.70397742  -9776.00599786\n",
      " -10736.47130233 -11615.30417045 -12422.87608031 -13163.46387363\n",
      " -14508.3606667  -15723.39342976 -16824.20930248 -18755.52792242\n",
      " -20416.75545902 -23775.04817599 -26395.34311724 -19796.39415612\n",
      " -19713.20296787 -18877.04842571 -13846.34343984 -11909.81209492\n",
      " -10118.38086746  -9138.75539793  -8974.97845176  -9220.01585942\n",
      "  -9920.07070599 -10847.83135308 -11708.66357822 -12497.78675202\n",
      " -13229.18041216 -14560.36480294 -15765.12843533 -16863.12246427\n",
      " -18788.28286487 -20448.3949941  -23800.08233472 -26399.71713401\n",
      " -19892.34578871 -19726.29222026 -19052.467754   -14358.61359675\n",
      " -12518.98525436 -10796.38209532  -9540.16387569  -9251.56779319\n",
      "  -9426.48525659 -10062.8027604  -10958.6182076  -11802.97009685\n",
      " -12570.45850292 -13294.27492741 -14606.97105804 -15806.68807541\n",
      " -16900.56456345 -18823.1622626  -20478.3863156  -23826.42377682\n",
      " -26432.90411231 -19908.39920722 -19769.94127867 -19153.96468544\n",
      " -14789.58530139 -12992.78099277 -11385.01291993  -9976.3277127\n",
      "  -9500.79379595  -9628.97757431 -10206.55272364 -11068.26507324\n",
      " -11897.59926036 -12645.53559575 -13359.00308363 -14658.65399148\n",
      " -15849.43251501 -16938.32439427 -18859.58063876 -20509.61940776\n",
      " -23855.17353776             nan -19902.51688031 -19776.67306689\n",
      " -19516.63562309 -15600.23261953 -13768.55849544 -12362.31874512\n",
      " -10788.84323565  -9977.90339825  -9996.77610177 -10481.77659039\n",
      " -11284.54284668 -12073.99292899 -12800.7219537  -13488.40581715\n",
      " -14766.58039219 -15936.85679593 -17016.01533241 -18926.79861107\n",
      " -20575.12623869             nan -26461.88116359 -19966.95103456\n",
      " -19867.32913996 -19741.68114825 -16300.71543875 -14401.42309677\n",
      " -13006.43954888 -11523.93803246 -10467.62119704 -10364.48554788\n",
      " -10743.87820289 -11487.40747923 -12241.19893746 -12946.64777278\n",
      " -13615.50102945 -14873.53012971 -16017.86478041 -17090.15030578\n",
      " -18997.3419018  -20632.05858643 -23945.47683304             nan\n",
      " -20311.38981692 -20229.17554088 -19993.17899267 -17050.03002532\n",
      " -14887.10056395 -13547.32850413 -12195.80000869 -10948.19769153\n",
      " -10709.40163467 -11008.76590361 -11691.98287135 -12406.25649484\n",
      " -13091.49426384 -13742.62975627 -14979.84069222 -16097.94895003\n",
      " -17162.07242461 -19063.9461377  -20696.03766276             nan\n",
      "             nan -20788.89341766 -20762.52310783 -20588.96072768\n",
      " -18339.04878409 -15830.92543243 -14480.99694015 -13156.86917445\n",
      " -11921.14372056 -11454.55119112 -11520.97610213 -12080.80419578\n",
      " -12734.80494182 -13381.99655918 -14005.79530298 -15186.13242961\n",
      " -16277.87384105 -17318.30524141 -19198.6568708              nan\n",
      " -24094.79108615 -26626.69408242 -21598.04517493 -21571.89098427\n",
      " -21273.11225443 -19268.45059591 -16683.12216737 -15312.67517251\n",
      " -13918.44750549 -12763.43882844 -12170.94564643 -12040.05807862\n",
      " -12474.35319482 -13068.13260676 -13676.84794926 -14270.45728501\n",
      " -15400.10947297 -16464.32291094 -17468.78819784 -19331.77086434\n",
      " -20932.09491729             nan             nan -22455.90949112\n",
      " -22435.98989842 -22291.51883546 -21064.49770998 -18774.19555093\n",
      " -17082.30326061 -15566.88050994 -14285.1428749  -13835.98401727\n",
      " -13353.54037722 -13460.29626592 -13876.69518971 -14380.64677137\n",
      " -14891.270537   -15930.02043646 -16931.50506919 -17885.90212353\n",
      " -19668.19579861 -21235.45035084             nan -26978.02021157\n",
      " -23710.82001906 -23700.62965365 -23583.98840993 -22580.30469469\n",
      " -20638.19317135 -18588.85869735 -17028.24085212 -15572.87469567\n",
      " -14988.51917724 -14563.69852762 -14441.63853055 -14661.29415989\n",
      " -15047.97486646 -15501.27096051 -16456.60028864 -17406.82784987\n",
      " -18302.12724919 -19995.24561627             nan             nan\n",
      "             nan]\n",
      "  warnings.warn(\n"
     ]
    },
    {
     "name": "stdout",
     "output_type": "stream",
     "text": [
      "({'l1': 0, 'l2': 0}, 14.857770442962646)\n",
      "({'l1': 0, 'l2': 75}, 11.983863353729248)\n",
      "({'l1': 0, 'l2': 75}, 15.861830472946167)\n"
     ]
    }
   ],
   "source": [
    "print(naive_cv_lasso(X, y))\n",
    "print(naive_cv(EN, X, y))\n",
    "print(naive_cv(FL, X, y, D))\n",
    "print(naive_cv(SL, X, y, D))"
   ]
  },
  {
   "cell_type": "code",
   "execution_count": 97,
   "id": "0261f074",
   "metadata": {},
   "outputs": [
    {
     "name": "stdout",
     "output_type": "stream",
     "text": [
      "({'l1': 5, 'l2': 5, 'l3': 0}, 69.70415616035461)\n",
      "({'l1': 40, 'l2': 0, 'l3': 0}, 16.273940801620483)\n"
     ]
    }
   ],
   "source": [
    "print(naive_cv_gtv_small(X, y, D_oracle))\n",
    "print(naive_cv_gtv(X, y, D_w))"
   ]
  },
  {
   "cell_type": "code",
   "execution_count": 98,
   "id": "7b0e1c92",
   "metadata": {},
   "outputs": [
    {
     "data": {
      "text/plain": [
       "({'l1': 50, 'l2': 25}, 13.899887084960938)"
      ]
     },
     "execution_count": 98,
     "metadata": {},
     "output_type": "execute_result"
    }
   ],
   "source": [
    "naive_cv(OUR, X, y, D)"
   ]
  },
  {
   "cell_type": "code",
   "execution_count": 80,
   "id": "cc603b5b",
   "metadata": {},
   "outputs": [],
   "source": []
  },
  {
   "cell_type": "code",
   "execution_count": null,
   "id": "d85e4bc1",
   "metadata": {},
   "outputs": [],
   "source": []
  },
  {
   "cell_type": "code",
   "execution_count": 59,
   "id": "1ee4785b",
   "metadata": {},
   "outputs": [],
   "source": [
    "def trial1():\n",
    "    X, y = gauss_sample(n, p, beta_star, Psi, sigma)\n",
    "    clf1 = OLR().fit(X, y)\n",
    "    clf2 = LA(l1 = 0).fit(X,y)\n",
    "    clf3 = EN(l1= 0, l2=0).fit(X,y)\n",
    "    clf4 = FL(0, 75, D).fit(X,y)\n",
    "    clf5 = SL(0, 75, D).fit(X,y)\n",
    "    clf6 = GTV(40, 0, 0, D_w).fit(X,y)\n",
    "    clf7 = GTV(5, 5, 0, D_oracle).fit(X,y)\n",
    "    clf8 = OUR(50, 25, D).fit(X,y)\n",
    "    return [c.l2_risk(beta_star) for c in [clf1, clf2, clf3, clf4, clf5, clf6, clf7, clf8]]\n",
    "\n",
    "def trial2():\n",
    "    X, y = gauss_sample(n, p, beta_star, Psi, sigma)\n",
    "    clf1 = OLR().fit(X, y)\n",
    "    clf2 = LA(l1 = 0).fit(X,y)\n",
    "    clf3 = EN(l1= 0, l2=0).fit(X,y)\n",
    "    clf4 = FL(0, 75, D).fit(X,y)\n",
    "    clf5 = SL(0, 75, D).fit(X,y)\n",
    "    clf6 = GTV(40, 0, 0, D_w).fit(X,y)\n",
    "    clf7 = GTV(5, 5, 0, D_oracle).fit(X,y)\n",
    "    clf8 = OUR(50, 25, D).fit(X,y)\n",
    "    X2, y2 = gauss_sample(n, p, beta_star, Psi, sigma)\n",
    "    return [-c.score(X2, X2@beta_star) for c in [clf1, clf2, clf3, clf4, clf5, clf6, clf7, clf8]]"
   ]
  },
  {
   "cell_type": "code",
   "execution_count": 60,
   "id": "123339f7",
   "metadata": {},
   "outputs": [],
   "source": [
    "l2s = Parallel(n_jobs=8)(delayed(trial1)() for i in range(500))\n",
    "preds = Parallel(n_jobs=8)(delayed(trial2)() for i in range(500))"
   ]
  },
  {
   "cell_type": "code",
   "execution_count": 61,
   "id": "8e735774",
   "metadata": {},
   "outputs": [],
   "source": [
    "dr1 = [l[0] for l in l2s]\n",
    "dr2 = [l[1] for l in l2s]\n",
    "dr3 = [l[2] for l in l2s]\n",
    "dr4 = [l[3] for l in l2s]\n",
    "dr5 = [l[4] for l in l2s]\n",
    "dr6 = [l[5] for l in l2s]\n",
    "dr7 = [l[6] for l in l2s]\n",
    "dr8 = [l[7] for l in l2s]"
   ]
  },
  {
   "cell_type": "code",
   "execution_count": 62,
   "id": "0315833c",
   "metadata": {},
   "outputs": [],
   "source": [
    "dp1 = [l[0] for l in preds]\n",
    "dp2 = [l[1] for l in preds]\n",
    "dp3 = [l[2] for l in preds]\n",
    "dp4 = [l[3] for l in preds]\n",
    "dp5 = [l[4] for l in preds]\n",
    "dp6 = [l[5] for l in preds]\n",
    "dp7 = [l[6] for l in preds]\n",
    "dp8 = [l[7] for l in preds]"
   ]
  },
  {
   "cell_type": "code",
   "execution_count": 63,
   "id": "8d6d38b1",
   "metadata": {},
   "outputs": [
    {
     "data": {
      "image/png": "[encoded data removed]",
      "text/plain": [
       "<Figure size 432x288 with 1 Axes>"
      ]
     },
     "metadata": {
      "needs_background": "light"
     },
     "output_type": "display_data"
    }
   ],
   "source": [
    "plt.boxplot([dr1, dr2, dr3, dr4, dr5, dr6, dr7, dr8])\n",
    "plt.yscale(\"log\")"
   ]
  },
  {
   "cell_type": "code",
   "execution_count": 64,
   "id": "1419c93f",
   "metadata": {},
   "outputs": [
    {
     "data": {
      "image/png": "[encoded data removed]",
      "text/plain": [
       "<Figure size 432x288 with 1 Axes>"
      ]
     },
     "metadata": {
      "needs_background": "light"
     },
     "output_type": "display_data"
    }
   ],
   "source": [
    "plt.boxplot([dp1, dp2, dp3, dp4, dp5, dp6, dp7, dp8])\n",
    "plt.yscale(\"log\")"
   ]
  },
  {
   "cell_type": "markdown",
   "id": "d760a8fc",
   "metadata": {},
   "source": [
    "### sigma = 5"
   ]
  },
  {
   "cell_type": "code",
   "execution_count": 73,
   "id": "a2655586",
   "metadata": {},
   "outputs": [],
   "source": [
    "sigma = 5"
   ]
  },
  {
   "cell_type": "code",
   "execution_count": 74,
   "id": "e689802f",
   "metadata": {},
   "outputs": [
    {
     "data": {
      "text/plain": [
       "({'t': 0.4}, 0.04181075096130371)"
      ]
     },
     "execution_count": 74,
     "metadata": {},
     "output_type": "execute_result"
    }
   ],
   "source": [
    "X, y = gauss_sample(n, p, beta_star, Psi, sigma)\n",
    "naive_cv_cov(X)"
   ]
  },
  {
   "cell_type": "code",
   "execution_count": 67,
   "id": "8a74cd01",
   "metadata": {},
   "outputs": [],
   "source": [
    "D_w = weighted_incidence(cov_est(0.4).fit(X).S)"
   ]
  },
  {
   "cell_type": "code",
   "execution_count": 68,
   "id": "6ed59288",
   "metadata": {},
   "outputs": [
    {
     "data": {
      "text/plain": [
       "(90, 110)"
      ]
     },
     "execution_count": 68,
     "metadata": {},
     "output_type": "execute_result"
    }
   ],
   "source": [
    "D_w.shape"
   ]
  },
  {
   "cell_type": "code",
   "execution_count": 150,
   "id": "e5425a84",
   "metadata": {},
   "outputs": [
    {
     "name": "stdout",
     "output_type": "stream",
     "text": [
      "({'l1': 0}, 0.42821455001831055)\n"
     ]
    },
    {
     "name": "stderr",
     "output_type": "stream",
     "text": [
      "C:\\Users\\sswei\\anaconda3\\lib\\site-packages\\sklearn\\model_selection\\_search.py:918: UserWarning: One or more of the test scores are non-finite: [ -4775.36555896  -4775.34986085  -4777.84539719  -4802.87412715\n",
      "  -4844.94607193  -4915.8184892   -5059.86516618  -5352.57682182\n",
      "  -5647.82284637  -6239.25137779  -6970.39289066  -7691.20746234\n",
      "  -8403.08809666  -9101.10414071 -10460.59268211 -11772.3792374\n",
      " -13057.55508747 -15420.07059615 -17636.5328429  -22523.80847739\n",
      " -26657.29896644 -16298.82200275  -4937.67063034  -4793.8522241\n",
      "  -4804.57289677  -4845.67240101  -4916.25686673  -5060.03656262\n",
      "  -5352.77464848  -5648.25816413  -6239.20068094  -6971.32480402\n",
      "  -7692.72382029  -8402.56499446  -9100.42903417 -10453.37312943\n",
      " -11752.98930836 -12988.67180868 -15347.19646915 -17455.57647093\n",
      " -22408.30562673 -26240.40950966 -16292.75018268  -6311.7218303\n",
      "  -4940.39101698  -4819.3670953   -4851.76307374  -4919.3552281\n",
      "  -5061.64684105  -5353.70054478  -5648.89774081  -6239.77859454\n",
      "  -6971.81949389  -7693.15650403  -8403.16385973  -9100.9303402\n",
      " -10458.82344457 -11771.17603757 -13034.48252281 -15418.54025371\n",
      " -17641.83743109 -22535.58525115 -26660.25048148 -16300.56624176\n",
      " -10198.12276483  -6314.2748632   -4967.78347556  -4912.81098631\n",
      "  -4950.46468281  -5077.68804065  -5362.42652954  -5655.2214011\n",
      "  -6244.27125821  -6975.00920707  -7695.97696918  -8405.9968239\n",
      "  -9102.90777607 -10462.92567251 -11773.65187036 -13032.76014522\n",
      " -15421.95109702 -17641.4805917  -22538.5624804              nan\n",
      " -16313.64712627 -13264.9304734   -7701.47789808  -5212.78492888\n",
      "  -5014.31346232  -5002.74202949  -5104.5871395   -5377.02279558\n",
      "  -5665.76657732  -6252.02863695  -6980.50968245  -7701.02975146\n",
      "  -8410.29641554  -9106.49149544 -10465.54112794 -11773.93104425\n",
      " -13037.53512641 -15421.74056889 -17640.68494073 -22535.28082436\n",
      " -26652.42011266 -16335.58060698 -14746.48897906  -8918.69092177\n",
      "  -5628.62277754  -5182.80812996  -5090.85389836  -5149.6894176\n",
      "  -5401.46340608  -5683.54463008  -6264.30462344  -6989.81746506\n",
      "  -7708.33677732  -8416.59578513  -9112.48324827 -10470.04422017\n",
      " -11780.45229417 -13041.21296476 -15429.97187419 -17645.17006349\n",
      " -22542.62415252 -26659.37148357 -16379.93987175 -15490.29631181\n",
      " -10215.78075142  -6359.5802072   -5520.79525973  -5264.04531045\n",
      "  -5242.41679196  -5450.77888097  -5718.88859541  -6289.35403633\n",
      "  -7008.21695839  -7723.22111547  -8429.97419179  -9124.77445437\n",
      " -10480.71832367 -11790.73757642 -13051.14175848 -15436.31254602\n",
      " -17656.33712997 -22550.22127563 -26673.23981204 -16471.73206779\n",
      " -15838.01989603 -12465.78689404  -7371.21112837  -6143.2855989\n",
      "  -5607.8338521   -5427.52150139  -5550.0525154   -5790.19644424\n",
      "  -6340.09368627  -7045.30645593  -7754.20321359  -8457.74268418\n",
      "  -9148.86621422 -10503.76246347 -11809.50748456 -13070.01456775\n",
      " -15456.26154838 -17671.68934619 -22564.56066136 -26678.35844344\n",
      " -16566.88892945 -16134.74441407 -13895.07861883  -8084.90609448\n",
      "  -6687.22163334  -5944.54814349  -5603.84607744  -5650.40815881\n",
      "  -5862.84602251  -6390.1527883   -7081.99203458  -7785.90900552\n",
      "  -8485.68580323  -9172.94164324 -10525.75071557 -11832.94700395\n",
      " -13090.01194423 -15471.88535971 -17686.6615368  -22574.65760174\n",
      " -26696.14467158 -16650.16662671 -16556.46551256 -14826.49843418\n",
      "  -9030.87731506  -7462.54720949  -6558.67897831  -5970.8810933\n",
      "  -5851.41868729  -6011.0095708   -6490.91705653  -7157.03311535\n",
      "  -7849.03422091  -8541.90735213  -9222.63775252 -10570.01238704\n",
      " -11871.68468884 -13127.61648321 -15506.68350406 -17720.19447397\n",
      " -22607.20166155 -26696.04884043 -16784.09820972 -16773.53256459\n",
      " -15374.38359301  -9768.632681    -8196.49741256  -7144.48087781\n",
      "  -6404.63893546  -6097.14831354  -6192.19509412  -6615.81024859\n",
      "  -7251.53606022  -7928.20478221  -8612.33362461  -9284.33539994\n",
      " -10625.06191911 -11922.44970981 -13177.73914996 -15554.81823926\n",
      " -17764.9685839  -22643.672751   -26740.03269071 -16917.67706096\n",
      " -16839.04699573 -15724.79002834 -10420.60626465  -8770.6920585\n",
      "  -7615.63193694  -6784.34810712  -6355.07254175  -6366.09084121\n",
      "  -6742.26704467  -7347.28095486  -8008.34386846  -8681.77194213\n",
      "  -9347.81850509 -10681.81175611 -11975.54588583 -13228.05203746\n",
      " -15597.86624848 -17813.06594029 -22636.34068252 -26736.6989892\n",
      " -16953.42641843 -16855.71899702 -16086.72009332 -11139.45817517\n",
      "  -9226.96397856  -8029.3752624   -7101.47432924  -6596.21803511\n",
      "  -6547.00344194  -6868.30464053  -7446.08458821  -8090.03444218\n",
      "  -8752.56064099  -9411.45229141 -10737.11865954 -12025.53089922\n",
      " -13275.70650984 -15643.64763692 -17851.80153756 -22729.12885586\n",
      " -26765.49686872 -16955.44933476 -16901.53144385 -16254.10695882\n",
      " -11756.51547409  -9584.64667293  -8391.53921827  -7409.00540391\n",
      "  -6822.87353054  -6730.33275562  -6990.05812505  -7545.88441608\n",
      "  -8172.18388477  -8822.32775711  -9476.0739347  -10792.97061973\n",
      " -12077.88019977 -13321.91169129 -15689.08616295 -17890.29474726\n",
      " -22742.34610002             nan -16998.27461913 -16912.7138988\n",
      " -16425.98983274 -13014.34900524 -10206.75114899  -9043.00999025\n",
      "  -7922.6039906   -7223.2216255   -7071.10079518  -7239.97192336\n",
      "  -7746.5638409   -8334.16352382  -8964.77617701  -9608.10252342\n",
      " -10904.87671999 -12182.48435979 -13422.70079217 -15779.16931466\n",
      " -17975.04405858             nan -26881.28363697 -17053.47691781\n",
      " -16981.27144523 -16518.74361252 -14015.22215076 -10825.83656681\n",
      "  -9528.74285018  -8370.62366936  -7598.27347412  -7373.92631664\n",
      "  -7482.02088189  -7937.90091861  -8496.96397919  -9106.77235486\n",
      "  -9739.80404864 -11018.49626942 -12288.91119362 -13523.14273516\n",
      " -15870.17995574 -18055.20640207 -22903.15649416 -26982.55142605\n",
      " -17231.61616673 -17140.93587398 -16625.28895478 -14532.44604831\n",
      " -11444.58923165  -9960.22555449  -8809.28816647  -7949.84068161\n",
      "  -7677.36865294  -7697.27580355  -8125.99330151  -8661.40068343\n",
      "  -9251.14836001  -9871.04421578 -11137.29148628 -12393.25266009\n",
      " -13621.30677452 -15957.18965519 -18142.43354092 -22983.63721587\n",
      " -27027.73589241 -17354.21593592 -17328.1209992  -16836.22320584\n",
      " -15312.34438945 -12604.00165584 -10763.39826685  -9583.24121573\n",
      "  -8563.82132938  -8255.4771483   -8146.03517652  -8464.16337446\n",
      "  -8972.1203268   -9540.46738158 -10132.75498886 -11372.26250339\n",
      " -12600.05247115 -13818.7683392  -16137.1331174  -18313.7787995\n",
      "             nan             nan -17479.43784646 -17469.61653901\n",
      " -17116.72173655 -15765.25219256 -13710.56244601 -11500.90794364\n",
      " -10198.37188961  -9130.27836138  -8752.66623417  -8576.55008818\n",
      "  -8807.84193352  -9268.78301978  -9815.850626   -10392.02784924\n",
      " -11599.52609287 -12813.78922367 -14009.78174303 -16317.30777808\n",
      " -18483.62280594             nan             nan -18148.13126625\n",
      " -18140.59361094 -17981.97390107 -16811.91301854 -15406.32131145\n",
      " -13274.78808572 -11664.31100835 -10492.44198407  -9911.7075086\n",
      "  -9592.7388141   -9688.38347516 -10026.68828941 -10493.83222254\n",
      " -11022.23365469 -12167.4340356  -13339.35137299 -14504.39215225\n",
      " -16766.3949871  -18900.86711686             nan             nan\n",
      " -18969.27429798 -18959.3419399  -18886.49382958 -17751.12072621\n",
      " -16695.47551834 -14900.10958586 -12970.62445202 -11662.90884345\n",
      " -11079.4396311  -10541.41701061 -10525.38411916 -10783.51904935\n",
      " -11190.02599826 -11670.29963869 -12749.90571182 -13874.28602045\n",
      " -15008.24723458 -17219.81341296 -19320.29906313             nan\n",
      "             nan]\n",
      "  warnings.warn(\n"
     ]
    },
    {
     "name": "stdout",
     "output_type": "stream",
     "text": [
      "({'l1': 0, 'l2': 0.001}, 14.37370753288269)\n",
      "({'l1': 1, 'l2': 50}, 13.198934078216553)\n",
      "({'l1': 5, 'l2': 50}, 15.463436365127563)\n"
     ]
    }
   ],
   "source": [
    "print(naive_cv_lasso(X, y))\n",
    "print(naive_cv(EN, X, y))\n",
    "print(naive_cv_large(FL, X, y, D))\n",
    "print(naive_cv_large(SL, X, y, D))"
   ]
  },
  {
   "cell_type": "code",
   "execution_count": 76,
   "id": "65829643",
   "metadata": {},
   "outputs": [
    {
     "name": "stdout",
     "output_type": "stream",
     "text": [
      "({'l1': 0, 'l2': 70}, 9.902438402175903)\n",
      "({'l1': 0, 'l2': 30}, 15.615888118743896)\n"
     ]
    }
   ],
   "source": [
    "print(naive_cv_large(FL, X, y, D))\n",
    "print(naive_cv_large(SL, X, y, D))"
   ]
  },
  {
   "cell_type": "code",
   "execution_count": 121,
   "id": "81af592e",
   "metadata": {},
   "outputs": [
    {
     "name": "stdout",
     "output_type": "stream",
     "text": [
      "({'l1': 5, 'l2': 10, 'l3': 0}, 70.84979224205017)\n",
      "({'l1': 30, 'l2': 0, 'l3': 0}, 17.221370458602905)\n"
     ]
    }
   ],
   "source": [
    "print(naive_cv_gtv_small(X, y, D_oracle))\n",
    "print(naive_cv_gtv(X, y, D_w))"
   ]
  },
  {
   "cell_type": "code",
   "execution_count": 75,
   "id": "77b9e91f",
   "metadata": {
    "scrolled": true
   },
   "outputs": [
    {
     "data": {
      "text/plain": [
       "({'l1': 70, 'l2': 20}, 13.05536150932312)"
      ]
     },
     "execution_count": 75,
     "metadata": {},
     "output_type": "execute_result"
    }
   ],
   "source": [
    "naive_cv_large(OUR, X, y, D)"
   ]
  },
  {
   "cell_type": "code",
   "execution_count": 78,
   "id": "4ecc3831",
   "metadata": {},
   "outputs": [],
   "source": [
    "def trial1():\n",
    "    X, y = gauss_sample(n, p, beta_star, Psi, sigma)\n",
    "    clf1 = OLR().fit(X, y)\n",
    "    clf2 = LA(l1 = 0).fit(X,y)\n",
    "    clf3 = EN(l1= 0, l2=0.001).fit(X,y)\n",
    "    clf4 = FL(0, 70, D).fit(X,y)\n",
    "    clf5 = SL(0, 30, D).fit(X,y)\n",
    "    clf6 = GTV(25, 0.01, 0, D_w).fit(X,y)\n",
    "    clf7 = GTV(5, 10, 0, D_oracle).fit(X,y)\n",
    "    clf8 = OUR(70, 20, D).fit(X,y)\n",
    "    return [c.l2_risk(beta_star) for c in [clf1, clf2, clf3, clf4, clf5, clf6, clf7, clf8]]\n",
    "\n",
    "def trial2():\n",
    "    X, y = gauss_sample(n, p, beta_star, Psi, sigma)\n",
    "    clf1 = OLR().fit(X, y)\n",
    "    clf2 = LA(l1 = 0).fit(X,y)\n",
    "    clf3 = EN(l1= 0, l2=0.001).fit(X,y)\n",
    "    clf4 = FL(0, 70, D).fit(X,y)\n",
    "    clf5 = SL(0, 30, D).fit(X,y)\n",
    "    clf6 = GTV(25, 0.01, 0, D_w).fit(X,y)\n",
    "    clf7 = GTV(5, 10, 0, D_oracle).fit(X,y)\n",
    "    clf8 = OUR(70, 20, D).fit(X,y)\n",
    "    X2, y2 = gauss_sample(n, p, beta_star, Psi, sigma)\n",
    "    return [-c.score(X2, X2@beta_star) for c in [clf1, clf2, clf3, clf4, clf5, clf6, clf7, clf8]]"
   ]
  },
  {
   "cell_type": "code",
   "execution_count": 79,
   "id": "5a503d12",
   "metadata": {},
   "outputs": [],
   "source": [
    "l2s = Parallel(n_jobs=8)(delayed(trial1)() for i in range(500))\n",
    "preds = Parallel(n_jobs=8)(delayed(trial2)() for i in range(500))"
   ]
  },
  {
   "cell_type": "code",
   "execution_count": 80,
   "id": "ced719cd",
   "metadata": {},
   "outputs": [],
   "source": [
    "er1 = [l[0] for l in l2s]\n",
    "er2 = [l[1] for l in l2s]\n",
    "er3 = [l[2] for l in l2s]\n",
    "er4 = [l[3] for l in l2s]\n",
    "er5 = [l[4] for l in l2s]\n",
    "er6 = [l[5] for l in l2s]\n",
    "er7 = [l[6] for l in l2s]\n",
    "er8 = [l[7] for l in l2s]"
   ]
  },
  {
   "cell_type": "code",
   "execution_count": 81,
   "id": "02224b52",
   "metadata": {},
   "outputs": [],
   "source": [
    "ep1 = [l[0] for l in preds]\n",
    "ep2 = [l[1] for l in preds]\n",
    "ep3 = [l[2] for l in preds]\n",
    "ep4 = [l[3] for l in preds]\n",
    "ep5 = [l[4] for l in preds]\n",
    "ep6 = [l[5] for l in preds]\n",
    "ep7 = [l[6] for l in preds]\n",
    "ep8 = [l[7] for l in preds]"
   ]
  },
  {
   "cell_type": "code",
   "execution_count": 82,
   "id": "74716c83",
   "metadata": {},
   "outputs": [
    {
     "data": {
      "image/png": "[encoded data removed]",
      "text/plain": [
       "<Figure size 432x288 with 1 Axes>"
      ]
     },
     "metadata": {
      "needs_background": "light"
     },
     "output_type": "display_data"
    }
   ],
   "source": [
    "plt.boxplot([er1, er2, er3, er4, er5, er6, er7, er8])\n",
    "plt.yscale(\"log\")"
   ]
  },
  {
   "cell_type": "code",
   "execution_count": 83,
   "id": "1b00efba",
   "metadata": {},
   "outputs": [
    {
     "data": {
      "image/png": "[encoded data removed]",
      "text/plain": [
       "<Figure size 432x288 with 1 Axes>"
      ]
     },
     "metadata": {
      "needs_background": "light"
     },
     "output_type": "display_data"
    }
   ],
   "source": [
    "plt.boxplot([ep1, ep2, ep3, ep4, ep5, ep6, ep7, ep8])\n",
    "plt.yscale(\"log\")"
   ]
  },
  {
   "cell_type": "markdown",
   "id": "3657c5dc",
   "metadata": {},
   "source": [
    "### plots"
   ]
  },
  {
   "cell_type": "code",
   "execution_count": 84,
   "id": "1e0e5ab7",
   "metadata": {},
   "outputs": [],
   "source": [
    "import matplotlib as mpl\n",
    "mpl.rcParams['mathtext.fontset'] = 'cm'"
   ]
  },
  {
   "cell_type": "code",
   "execution_count": 85,
   "id": "f67d85c7",
   "metadata": {},
   "outputs": [],
   "source": [
    "LA_risk_med = [np.median(r) for r in [ar1, br1, cr1, dr1, er1]]\n",
    "LA_risk_err = [[np.median(r) - np.quantile(r, 0.25) for r in [ar1, br1, cr1, dr1, er1]], [np.quantile(r, 0.75) - np.median(r) for r in [ar1, br1, cr1, dr1, er1]]]"
   ]
  },
  {
   "cell_type": "code",
   "execution_count": 86,
   "id": "89b2ded5",
   "metadata": {},
   "outputs": [],
   "source": [
    "EN_risk_med = [np.median(r) for r in [ar3, br3, cr3, dr3, er3]]\n",
    "EN_risk_err = [[np.median(r) - np.quantile(r, 0.25) for r in [ar3, br3, cr3, dr3, er3]], [np.quantile(r, 0.75) - np.median(r) for r in [ar3, br3, cr3, dr3, er3]]]"
   ]
  },
  {
   "cell_type": "code",
   "execution_count": 87,
   "id": "d7a4cb93",
   "metadata": {},
   "outputs": [],
   "source": [
    "FL_risk_med = [np.median(r) for r in [ar4, br4, cr4, dr4, er4]]\n",
    "FL_risk_err = [[np.median(r) - np.quantile(r, 0.25) for r in [ar4, br4, cr4, dr4, er4]], [np.quantile(r, 0.75) - np.median(r) for r in [ar4, br4, cr4, dr4, er4]]]"
   ]
  },
  {
   "cell_type": "code",
   "execution_count": 88,
   "id": "b03b471e",
   "metadata": {},
   "outputs": [],
   "source": [
    "SL_risk_med = [np.median(r) for r in [ar5, br5, cr5, dr5, er5]]\n",
    "SL_risk_err = [[np.median(r) - np.quantile(r, 0.25) for r in [ar5, br5, cr5, dr5, er5]], [np.quantile(r, 0.75) - np.median(r) for r in [ar5, br5, cr5, dr5, er5]]]"
   ]
  },
  {
   "cell_type": "code",
   "execution_count": 89,
   "id": "b2abf710",
   "metadata": {},
   "outputs": [],
   "source": [
    "GTVEST_risk_med = [np.median(r) for r in [ar6, br6, cr6, dr6, er6]]\n",
    "GTVEST_risk_err = [[np.median(r) - np.quantile(r, 0.25) for r in [ar6, br6, cr6, dr6, er6]], [np.quantile(r, 0.75) - np.median(r) for r in [ar6, br6, cr6, dr6, er6]]]"
   ]
  },
  {
   "cell_type": "code",
   "execution_count": 90,
   "id": "b016f594",
   "metadata": {},
   "outputs": [],
   "source": [
    "GTVORC_risk_med = [np.median(r) for r in [ar7, br7, cr7, dr7, er7]]\n",
    "GTVORC_risk_err = [[np.median(r) - np.quantile(r, 0.25) for r in [ar7, br7, cr7, dr7, er7]], [np.quantile(r, 0.75) - np.median(r) for r in [ar7, br7, cr7, dr7, er7]]]"
   ]
  },
  {
   "cell_type": "code",
   "execution_count": 91,
   "id": "862705c4",
   "metadata": {},
   "outputs": [],
   "source": [
    "GEN_risk_med = [np.median(r) for r in [ar8, br8, cr8, dr8, er8]]\n",
    "GEN_risk_err = [[np.median(r) - np.quantile(r, 0.25) for r in [ar8, br8, cr8, dr8, er8]], [np.quantile(r, 0.75) - np.median(r) for r in [ar8, br8, cr8, dr8, er8]]]"
   ]
  },
  {
   "cell_type": "code",
   "execution_count": 92,
   "id": "592abee4",
   "metadata": {},
   "outputs": [],
   "source": [
    "xs = [\"1\",\"2\" ,\"3\" ,\"4\" ,\"5\"]"
   ]
  },
  {
   "cell_type": "code",
   "execution_count": 98,
   "id": "d105e3cc",
   "metadata": {},
   "outputs": [
    {
     "data": {
      "image/png": "[encoded data removed]",
      "text/plain": [
       "<Figure size 432x288 with 1 Axes>"
      ]
     },
     "metadata": {
      "needs_background": "light"
     },
     "output_type": "display_data"
    }
   ],
   "source": [
    "plt.errorbar(xs, LA_risk_med, yerr = LA_risk_err, capsize = 2, color = 'brown', label = \"OLS, LASSO\")\n",
    "plt.errorbar(xs, EN_risk_med, yerr = EN_risk_err, fmt = '--',color = 'violet', label = \"EN\")\n",
    "plt.errorbar(xs, FL_risk_med, yerr = FL_risk_err, fmt = '-.',color = 'orange', label = \"FL\")\n",
    "plt.errorbar(xs, SL_risk_med, yerr = SL_risk_err, fmt = '-.', color = 'red', label = \"SL\")\n",
    "plt.errorbar(xs, GTVEST_risk_med, yerr = GTVEST_risk_err, capsize = 2, color = 'steelblue', label = \"GTV\")\n",
    "plt.errorbar(xs, GTVORC_risk_med, yerr = GTVORC_risk_err, fmt = '--', color = 'deepskyblue', label = \"GTV-oracle\", linewidth = 1.5)\n",
    "plt.errorbar(xs, GEN_risk_med, yerr = GEN_risk_err, capsize = 2, color = 'green', label = \"GEN\")\n",
    "plt.yscale(\"log\")\n",
    "plt.legend(loc = 'upper left')\n",
    "plt.yticks([1, 10, 100], size = 12)\n",
    "plt.xticks([\"1\",'2','3','4', '5'], size = 12)\n",
    "plt.xlabel(r\"noise level $\\sigma$\", size = 14)\n",
    "plt.ylabel(r'$\\| \\hat{\\beta} - \\beta^*\\|_2$', size = 14)\n",
    "plt.savefig('134a_v2.jpg', bbox_inches='tight', dpi = 600)"
   ]
  },
  {
   "cell_type": "code",
   "execution_count": 99,
   "id": "724fbc15",
   "metadata": {},
   "outputs": [],
   "source": [
    "LA_pred_med = [np.median(r) for r in [ap1, bp1, cp1, dp1, ep1]]\n",
    "LA_pred_err = [[np.median(r) - np.quantile(r, 0.25) for r in [ap1, bp1, cp1, dp1, ep1]], [np.quantile(r, 0.75) - np.median(r) for r in [ap1, bp1, cp1, dp1, ep1]]]"
   ]
  },
  {
   "cell_type": "code",
   "execution_count": 134,
   "id": "4f891bc2",
   "metadata": {},
   "outputs": [
    {
     "data": {
      "text/plain": [
       "[[0.0969065782650711,\n",
       "  0.35122822502981843,\n",
       "  0.7443979983238491,\n",
       "  1.1705512419367006,\n",
       "  1.8626293442717738],\n",
       " [0.145886640168449,\n",
       "  0.5124729768703491,\n",
       "  0.9482842490076835,\n",
       "  1.3769073621063166,\n",
       "  2.207302479646353]]"
      ]
     },
     "execution_count": 134,
     "metadata": {},
     "output_type": "execute_result"
    }
   ],
   "source": [
    "GEN_pred_err"
   ]
  },
  {
   "cell_type": "code",
   "execution_count": 100,
   "id": "52678ba0",
   "metadata": {},
   "outputs": [],
   "source": [
    "EN_pred_med = [np.median(r) for r in [ap3, bp3, cp3, dp3, ep3]]\n",
    "EN_pred_err = [[np.median(r) - np.quantile(r, 0.25) for r in [ap3, bp3, cp3, dp3, ep3]], [np.quantile(r, 0.75) - np.median(r) for r in [ap3, bp3, cp3, dp3, ep3]]]"
   ]
  },
  {
   "cell_type": "code",
   "execution_count": 101,
   "id": "95f0d5a9",
   "metadata": {},
   "outputs": [],
   "source": [
    "FL_pred_med = [np.median(r) for r in [ap4, bp4, cp4, dp4, ep4]]\n",
    "FL_pred_err = [[np.median(r) - np.quantile(r, 0.25) for r in [ap4, bp4, cp4, dp4, ep4]], [np.quantile(r, 0.75) - np.median(r) for r in [ap4, bp4, cp4, dp4, ep4]]]"
   ]
  },
  {
   "cell_type": "code",
   "execution_count": 102,
   "id": "cbdbffc5",
   "metadata": {},
   "outputs": [],
   "source": [
    "SL_pred_med = [np.median(r) for r in [ap5, bp5, cp5, dp5, ep5]]\n",
    "SL_pred_err = [[np.median(r) - np.quantile(r, 0.25) for r in [ap5, bp5, cp5, dp5, ep5]], [np.quantile(r, 0.75) - np.median(r) for r in [ap5, bp5, cp5, dp5, ep5]]]"
   ]
  },
  {
   "cell_type": "code",
   "execution_count": 103,
   "id": "9fb0c8b0",
   "metadata": {},
   "outputs": [],
   "source": [
    "GTVEST_pred_med = [np.median(r) for r in [ap6, bp6, cp6, dp6, ep6]]\n",
    "GTVEST_pred_err = [[np.median(r) - np.quantile(r, 0.25) for r in [ap6, bp6, cp6, dp6, ep6]], [np.quantile(r, 0.75) - np.median(r) for r in [ap6, bp6, cp6, dp6, ep6]]]"
   ]
  },
  {
   "cell_type": "code",
   "execution_count": 104,
   "id": "c49b4946",
   "metadata": {},
   "outputs": [],
   "source": [
    "GTVORC_pred_med = [np.median(r) for r in [ap7, bp7, cp7, dp7, ep7]]\n",
    "GTVORC_pred_err = [[np.median(r) - np.quantile(r, 0.25) for r in [ap7, bp7, cp7, dp7, ep7]], [np.quantile(r, 0.75) - np.median(r) for r in [ap7, bp7, cp7, dp7, ep7]]]"
   ]
  },
  {
   "cell_type": "code",
   "execution_count": 105,
   "id": "312fb77b",
   "metadata": {},
   "outputs": [],
   "source": [
    "GEN_pred_med = [np.median(r) for r in [ap8, bp8, cp8, dp8, ep8]]\n",
    "GEN_pred_err = [[np.median(r) - np.quantile(r, 0.25) for r in [ap8, bp8, cp8, dp8, ep8]], [np.quantile(r, 0.75) - np.median(r) for r in [ap8, bp8, cp8, dp8, ep8]]]"
   ]
  },
  {
   "cell_type": "code",
   "execution_count": 106,
   "id": "0fea9cdd",
   "metadata": {},
   "outputs": [
    {
     "data": {
      "image/png": "[encoded data removed]",
      "text/plain": [
       "<Figure size 432x288 with 1 Axes>"
      ]
     },
     "metadata": {
      "needs_background": "light"
     },
     "output_type": "display_data"
    }
   ],
   "source": [
    "plt.errorbar(xs, LA_pred_med, yerr = LA_pred_err, capsize = 2, color = 'brown', label = \"OLS, LASSO\")\n",
    "plt.errorbar(xs, EN_pred_med, yerr = EN_pred_err, fmt = '--', color = 'violet', label = \"EN\")\n",
    "plt.errorbar(xs, FL_pred_med, yerr = FL_pred_err, fmt = '-.',color = 'orange', label = \"FL\")\n",
    "plt.errorbar(xs, SL_pred_med, yerr = SL_pred_err, fmt = '-.', color = 'red', label = \"SL\")\n",
    "plt.errorbar(xs, GTVEST_pred_med, yerr = GTVEST_pred_err, capsize = 2, color = 'steelblue', label = \"GTV\")\n",
    "plt.errorbar(xs, GTVORC_pred_med, yerr = GTVORC_pred_err, fmt = '--',color = 'deepskyblue', label = \"GTV-oracle\", linewidth = 1.5)\n",
    "plt.errorbar(xs, GEN_pred_med, yerr = GEN_pred_err, capsize = 2, color = 'green', label = \"GEN\")\n",
    "plt.yscale(\"log\")\n",
    "plt.yticks([1, 10, 100, 1000], size = 12)\n",
    "plt.xticks([\"1\",'2','3','4', '5'], size = 12)\n",
    "plt.xlabel(r\"noise level $\\sigma$\", size = 14)\n",
    "plt.ylabel(r'$\\frac{1}{n}\\| X_{\\mathrm{test}}(\\hat{\\beta} - \\beta^*)\\|_2^2$', size = 14)\n",
    "plt.savefig('134b_v2.jpg', bbox_inches='tight', dpi = 600)"
   ]
  },
  {
   "cell_type": "code",
   "execution_count": null,
   "id": "61787c69",
   "metadata": {},
   "outputs": [],
   "source": []
  }
 ],
 "metadata": {
  "kernelspec": {
   "display_name": "Python 3 (ipykernel)",
   "language": "python",
   "name": "python3"
  },
  "language_info": {
   "codemirror_mode": {
    "name": "ipython",
    "version": 3
   },
   "file_extension": ".py",
   "mimetype": "text/x-python",
   "name": "python",
   "nbconvert_exporter": "python",
   "pygments_lexer": "ipython3",
   "version": "3.8.5"
  }
 },
 "nbformat": 4,
 "nbformat_minor": 5
}
