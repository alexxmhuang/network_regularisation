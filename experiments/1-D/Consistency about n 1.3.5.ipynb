{
 "cells": [
  {
   "cell_type": "code",
   "execution_count": 2,
   "id": "89f939ee",
   "metadata": {},
   "outputs": [],
   "source": [
    "import matplotlib.pyplot as plt\n",
    "from skest import *\n",
    "import scipy\n",
    "import time\n",
    "from signals import *\n",
    "import numpy as np"
   ]
  },
  {
   "cell_type": "markdown",
   "id": "668ec125",
   "metadata": {},
   "source": [
    "### different n"
   ]
  },
  {
   "cell_type": "code",
   "execution_count": null,
   "id": "d7b326bf",
   "metadata": {},
   "outputs": [],
   "source": []
  },
  {
   "cell_type": "code",
   "execution_count": 2,
   "id": "9216b951",
   "metadata": {},
   "outputs": [],
   "source": [
    "sigma = 1"
   ]
  },
  {
   "cell_type": "code",
   "execution_count": 3,
   "id": "1a3c396d",
   "metadata": {},
   "outputs": [],
   "source": [
    "n = 60"
   ]
  },
  {
   "cell_type": "code",
   "execution_count": 4,
   "id": "1b57d67d",
   "metadata": {},
   "outputs": [],
   "source": [
    "p = 110\n",
    "Psi = toeplitz(0.5, p)"
   ]
  },
  {
   "cell_type": "code",
   "execution_count": 5,
   "id": "0d1cf78f",
   "metadata": {},
   "outputs": [],
   "source": [
    "beta_star = smooth_stair(10, 5, 20, 0, 4)"
   ]
  },
  {
   "cell_type": "code",
   "execution_count": 6,
   "id": "d17c68ee",
   "metadata": {},
   "outputs": [],
   "source": [
    "X, y = gauss_sample(n, p, beta_star, Psi, sigma)"
   ]
  },
  {
   "cell_type": "code",
   "execution_count": 7,
   "id": "0bbc68b9",
   "metadata": {},
   "outputs": [
    {
     "data": {
      "text/plain": [
       "({'t': 0.45}, 2.522055149078369)"
      ]
     },
     "execution_count": 7,
     "metadata": {},
     "output_type": "execute_result"
    }
   ],
   "source": [
    "naive_cv_cov(X)"
   ]
  },
  {
   "cell_type": "code",
   "execution_count": 8,
   "id": "61e79ed3",
   "metadata": {},
   "outputs": [],
   "source": [
    "D_w = weighted_incidence(cov_est(0.45).fit(X).S)"
   ]
  },
  {
   "cell_type": "code",
   "execution_count": 9,
   "id": "defab4b7",
   "metadata": {},
   "outputs": [],
   "source": [
    "D_oracle = weighted_incidence(Psi)"
   ]
  },
  {
   "cell_type": "code",
   "execution_count": 10,
   "id": "9f302c23",
   "metadata": {},
   "outputs": [],
   "source": [
    "D = chain_incidence(p)"
   ]
  },
  {
   "cell_type": "code",
   "execution_count": 11,
   "id": "1dc94519",
   "metadata": {},
   "outputs": [
    {
     "name": "stdout",
     "output_type": "stream",
     "text": [
      "({'l1': 0}, 0.4208717346191406)\n"
     ]
    },
    {
     "name": "stderr",
     "output_type": "stream",
     "text": [
      "C:\\Users\\sswei\\anaconda3\\lib\\site-packages\\sklearn\\model_selection\\_search.py:918: UserWarning: One or more of the test scores are non-finite: [ -5870.17551584  -5868.41929266  -5872.06625824  -5908.85738775\n",
      "  -5970.43887729  -6074.14368078  -6284.09075882  -6707.72436027\n",
      "  -7130.91885517  -7960.83378972  -8957.56937277  -9902.62350368\n",
      " -10813.60897122 -11676.66380986 -13302.18747041 -14807.91158032\n",
      " -16215.10128748 -18775.58130845 -21282.95187597 -25738.3685244\n",
      " -29555.91435312 -20821.65799756  -6028.92935623  -5888.01834494\n",
      "  -5910.49442745  -5971.18034279  -6074.61298106  -6284.28321494\n",
      "  -6708.06652776  -7131.01781478  -7960.97687795  -8957.44103815\n",
      "  -9906.44606963 -10811.8024776  -11676.37915615 -13300.07814373\n",
      " -14799.27444688 -16195.5162969  -18722.71259045 -20963.02516408\n",
      " -25665.65242617 -29637.72452224 -20821.82567921  -7383.77689086\n",
      "  -6033.1265766   -5925.06521112  -5976.90768555  -6077.42767278\n",
      "  -6285.84517309  -6708.80645     -7131.58129438  -7961.38918649\n",
      "  -8957.91708259  -9907.0900239  -10811.69119517 -11676.93381209\n",
      " -13302.81390624 -14811.19110034 -16218.62166849 -18776.74361827\n",
      " -21062.37074144 -25869.90808381 -29719.92717265 -20823.39692311\n",
      " -13289.35267145  -7388.78630911  -6071.02164799  -6034.16922534\n",
      "  -6105.64819714  -6301.40238097  -6716.50526801  -7137.11336697\n",
      "  -7964.40279262  -8960.33009048  -9909.16460231 -10813.48664802\n",
      " -11677.38873757 -13304.91952922 -14810.73921888 -16216.32292801\n",
      " -18771.05270727 -21057.99873561 -25843.37195773 -29721.81054203\n",
      " -20826.05958947 -16503.75745593  -9259.50694045  -6303.03961147\n",
      "  -6134.78958839  -6156.39963158  -6327.03802477  -6729.38866717\n",
      "  -7145.99947461  -7969.36700826  -8964.71031588  -9912.20799779\n",
      " -10817.0097736  -11680.97225168 -13307.99062871 -14812.41202546\n",
      " -16214.57065587 -18779.11582977 -21061.61367163 -25871.02457867\n",
      " -29728.22303303 -20830.57836541 -18628.34442291 -11446.7451337\n",
      "  -6702.10132491  -6287.37099912  -6240.32854853  -6367.98342169\n",
      "  -6750.97854684  -7160.84859819  -7977.92607778  -8971.82335708\n",
      "  -9918.36530093 -10822.22916477 -11685.65361832 -13311.11185735\n",
      " -14813.57206844 -16220.81347832 -18780.36704741 -21063.05236718\n",
      "             nan -29680.61363083 -20836.26224966 -19794.19275251\n",
      " -13297.37403901  -7434.43420308  -6606.75020012  -6392.34556665\n",
      "  -6450.27428392  -6792.98215303  -7189.26320012  -7995.75977573\n",
      "  -8986.05708798  -9930.3888957  -10832.51339448 -11695.24370201\n",
      " -13318.84585307 -14822.04235919 -16227.3725592  -18783.76262537\n",
      " -21070.28116012 -25877.89930328 -29736.01111849 -20853.45228899\n",
      " -20718.75476728 -15895.97277357  -8797.70135908  -7223.19684783\n",
      "  -6710.33088405  -6606.96901113  -6877.48655302  -7247.34956159\n",
      "  -8032.02264024  -9013.64202456  -9954.02278388 -10854.65099563\n",
      " -11712.806119   -13336.02500342 -14840.53951484 -16244.47207231\n",
      " -18802.73007587 -21082.12605122 -25892.42101372 -29729.29614924\n",
      " -20871.77863256 -21073.94350468 -17149.08052191  -9876.00791759\n",
      "  -7822.04218677  -7033.18932894  -6769.8130592   -6958.99961684\n",
      "  -7307.84604996  -8068.09888868  -9040.8717023   -9977.99164145\n",
      " -10876.63852695 -11730.63736819 -13349.24287971 -14852.58499508\n",
      " -16258.18729927 -18810.88505876 -21095.84443525 -25905.98353344\n",
      " -29754.1002339  -20911.82462103 -21062.31662271 -18696.82726083\n",
      " -11520.836338    -8895.4899276   -7646.71896967  -7098.62769336\n",
      "  -7131.57482766  -7421.35849253  -8141.32787229  -9093.89538517\n",
      " -10027.02611491 -10920.38443648 -11765.70081    -13379.73662549\n",
      " -14881.60304769 -16285.2419883  -18839.30699527 -21121.07886069\n",
      " -25927.98005716 -29778.66935568 -20971.56333703 -21006.94724048\n",
      " -19498.9342177  -12672.6966689   -9986.30024079  -8403.11715407\n",
      "  -7515.7047813   -7339.01044009  -7569.77651752  -8238.89961933\n",
      "  -9159.48672216 -10086.54955067 -10971.7102569  -11808.6880163\n",
      " -13417.12212368 -14916.56833351 -16319.80864555 -18871.82406488\n",
      " -21148.81362214 -25951.20296264 -29787.10984112 -21033.22382873\n",
      " -21051.64484089 -19844.80886553 -13386.92195313 -10901.14471696\n",
      "  -9062.5687084   -7920.52313196  -7564.48164546  -7718.33801797\n",
      "  -8335.47951436  -9223.06742179 -10142.66401668 -11020.95919983\n",
      " -11852.75504463 -13456.55020727 -14952.79891163 -16356.68826551\n",
      " -18904.5173277              nan             nan -29837.69816358\n",
      " -21062.98785212 -21094.11995263 -20368.06905549 -14211.04821\n",
      " -11623.36905822  -9625.49819945  -8313.87458244  -7793.42717232\n",
      "  -7878.73064766  -8431.42105526  -9287.13415276 -10198.8391794\n",
      " -11068.70876548 -11897.88383227 -13495.41484776 -14990.03151849\n",
      " -16394.03293782 -18936.63456651 -21212.37358517             nan\n",
      "             nan -20960.08390133 -21093.01854009 -20604.86880888\n",
      " -14991.4772316  -12201.85819909 -10164.71219484  -8689.12587693\n",
      "  -8016.54116821  -8038.89717643  -8527.26626749  -9355.35843487\n",
      " -10253.31170597 -11117.6572517  -11942.78990076 -13535.13744034\n",
      " -15025.98436239 -16428.38147086 -18976.42231223 -21244.5151742\n",
      " -26034.81861629             nan -20734.9334332  -20902.51648914\n",
      " -20837.2962     -16215.94699463 -12946.4559839  -11107.61994983\n",
      "  -9381.57226273  -8464.90177888  -8349.80802215  -8727.38280373\n",
      "  -9494.76087914 -10361.20599794 -11212.7058238  -12031.22167451\n",
      " -13612.61561033 -15103.23685373 -16494.49219719 -19041.08943257\n",
      " -21310.02612062 -26096.71315876 -29928.07075343 -20517.31156963\n",
      " -20785.13057404 -20913.87104103 -16930.1798956  -13549.56535784\n",
      " -11816.08348896  -9981.07298901  -8861.09916366  -8660.43701052\n",
      "  -8928.12139281  -9632.73803169 -10470.01873477 -11309.61723706\n",
      " -12122.14288648 -13691.82661311 -15173.89502933 -16567.35092279\n",
      " -19101.5265971  -21366.19587372             nan -29980.64253364\n",
      " -20673.54398194 -20671.72477634 -20962.75827892 -17507.25333105\n",
      " -14259.7534407  -12418.68082    -10525.18675884  -9246.00665992\n",
      "  -8968.71269044  -9131.4177411   -9777.83344807 -10580.77750594\n",
      " -11406.63569882 -12213.68433832 -13771.36722803 -15250.65799383\n",
      " -16643.18624643 -19171.27420976 -21433.83360258 -26209.25085168\n",
      "             nan -20579.84089054 -20566.35314829 -20772.03707518\n",
      " -18497.6036108  -15617.76758214 -13197.06853135 -11543.1166499\n",
      " -10025.95281044  -9515.61444896  -9553.35437351 -10085.3206561\n",
      " -10810.57972604 -11601.84765428 -12396.5880741  -13936.83094697\n",
      " -15401.87141976 -16781.45399255 -19306.51245868 -21553.2048449\n",
      "             nan -30141.59149492 -20662.40351163 -20649.23620565\n",
      " -20754.3153404  -18893.77038866 -16552.83501588 -13882.85698292\n",
      " -12259.97816214 -10691.58843083 -10086.34195217  -9957.06991347\n",
      " -10387.97329755 -11055.48862247 -11804.72738952 -12581.91652759\n",
      " -14104.09513327 -15553.01492086 -16920.54405143 -19437.01125636\n",
      " -21685.88985778             nan             nan -20905.83100475\n",
      " -20898.68928145 -20850.85311622 -19878.73877046 -18070.69374815\n",
      " -15729.91677719 -13500.64442396 -12071.95707328 -11361.07939893\n",
      " -10891.57778505 -11137.11400614 -11668.94994911 -12338.00044546\n",
      " -13049.68003902 -14507.41761376 -15940.88842401 -17283.06106594\n",
      " -19767.50980071 -22004.09662556             nan             nan\n",
      " -21172.84341353 -21167.8049251  -21122.67283008 -20487.69811742\n",
      " -19220.83763072 -16994.41463214 -14626.64811542 -13119.34583154\n",
      " -12406.88633341 -11872.30113589 -11893.37298268 -12310.49028982\n",
      " -12889.56000557 -13552.69992843 -14925.58440643 -16313.72650105\n",
      " -17654.77159572 -20107.12201878 -22321.71899542             nan\n",
      "             nan]\n",
      "  warnings.warn(\n"
     ]
    },
    {
     "name": "stdout",
     "output_type": "stream",
     "text": [
      "({'l1': 0, 'l2': 0.001}, 12.050302743911743)\n",
      "({'l1': 0, 'l2': 5}, 9.77045464515686)\n",
      "({'l1': 1, 'l2': 7.5}, 14.078492164611816)\n"
     ]
    }
   ],
   "source": [
    "print(naive_cv_lasso(X, y))\n",
    "print(naive_cv(EN, X, y))\n",
    "print(naive_cv(FL, X, y, D))\n",
    "print(naive_cv(SL, X, y, D))"
   ]
  },
  {
   "cell_type": "code",
   "execution_count": 12,
   "id": "6a8ff0e7",
   "metadata": {
    "scrolled": true
   },
   "outputs": [
    {
     "name": "stdout",
     "output_type": "stream",
     "text": [
      "({'l1': 5, 'l2': 1, 'l3': 0}, 72.6539421081543)\n"
     ]
    }
   ],
   "source": [
    "print(naive_cv_gtv_small(X, y, D_oracle))"
   ]
  },
  {
   "cell_type": "code",
   "execution_count": 18,
   "id": "39c0c0a1",
   "metadata": {
    "scrolled": false
   },
   "outputs": [
    {
     "name": "stdout",
     "output_type": "stream",
     "text": [
      "({'l1': 20, 'l2': 0, 'l3': 0}, 12.801423788070679)\n"
     ]
    }
   ],
   "source": [
    "print(naive_cv_gtv(X, y, D_w))"
   ]
  },
  {
   "cell_type": "code",
   "execution_count": 19,
   "id": "9c1faade",
   "metadata": {},
   "outputs": [
    {
     "data": {
      "text/plain": [
       "({'l1': 30, 'l2': 3}, 11.804295301437378)"
      ]
     },
     "execution_count": 19,
     "metadata": {},
     "output_type": "execute_result"
    }
   ],
   "source": [
    "naive_cv(OUR, X, y, D)"
   ]
  },
  {
   "cell_type": "code",
   "execution_count": 11,
   "id": "27504c5e",
   "metadata": {},
   "outputs": [],
   "source": [
    "def trial1():\n",
    "    X, y = gauss_sample(n, p, beta_star, Psi, sigma)\n",
    "    clf1 = OLR().fit(X, y)\n",
    "    clf2 = LA(l1 = 0).fit(X,y)\n",
    "    clf3 = EN(l1= 0, l2=0.001).fit(X,y)\n",
    "    clf4 = FL(0, 5, D).fit(X,y)\n",
    "    clf5 = SL(1, 7.5, D).fit(X,y)\n",
    "    clf6 = GTV(20, 0, 0, D_w).fit(X,y)\n",
    "    clf7 = GTV(5, 1, 0, D_oracle).fit(X,y)\n",
    "    clf8 = OUR(10, 5, D).fit(X,y)\n",
    "    return [c.l2_risk(beta_star) for c in [clf1, clf2, clf3, clf4, clf5, clf6, clf7, clf8]]"
   ]
  },
  {
   "cell_type": "code",
   "execution_count": 12,
   "id": "47ef2163",
   "metadata": {},
   "outputs": [],
   "source": [
    "def trial2():\n",
    "    X, y = gauss_sample(n, p, beta_star, Psi, sigma)\n",
    "    clf1 = OLR().fit(X, y)\n",
    "    clf2 = LA(l1 = 0).fit(X,y)\n",
    "    clf3 = EN(l1= 0, l2=0.001).fit(X,y)\n",
    "    clf4 = FL(0, 5, D).fit(X,y)\n",
    "    clf5 = SL(1, 7.5, D).fit(X,y)\n",
    "    clf6 = GTV(20, 0, 0, D_w).fit(X,y)\n",
    "    clf7 = GTV(5, 1, 0, D_oracle).fit(X,y)\n",
    "    clf8 = OUR(10, 5, D).fit(X,y)\n",
    "    X2, y2 = gauss_sample(n, p, beta_star, Psi, sigma)\n",
    "    return [-c.score(X2, X2@beta_star) for c in [clf1, clf2, clf3, clf4, clf5, clf6, clf7, clf8]]"
   ]
  },
  {
   "cell_type": "code",
   "execution_count": 13,
   "id": "6711d3c1",
   "metadata": {},
   "outputs": [],
   "source": [
    "from joblib import Parallel, delayed\n",
    "import multiprocessing"
   ]
  },
  {
   "cell_type": "code",
   "execution_count": 14,
   "id": "81eaae08",
   "metadata": {},
   "outputs": [],
   "source": [
    "l2s = Parallel(n_jobs=8)(delayed(trial1)() for i in range(500))\n",
    "preds = Parallel(n_jobs=8)(delayed(trial2)() for i in range(500))"
   ]
  },
  {
   "cell_type": "code",
   "execution_count": 15,
   "id": "5dadd0b8",
   "metadata": {},
   "outputs": [],
   "source": [
    "ar1 = [l[0] for l in l2s]\n",
    "ar2 = [l[1] for l in l2s]\n",
    "ar3 = [l[2] for l in l2s]\n",
    "ar4 = [l[3] for l in l2s]\n",
    "ar5 = [l[4] for l in l2s]\n",
    "ar6 = [l[5] for l in l2s]\n",
    "ar7 = [l[6] for l in l2s]\n",
    "ar8 = [l[7] for l in l2s]"
   ]
  },
  {
   "cell_type": "code",
   "execution_count": 16,
   "id": "89041c59",
   "metadata": {},
   "outputs": [],
   "source": [
    "ap1 = [l[0] for l in preds]\n",
    "ap2 = [l[1] for l in preds]\n",
    "ap3 = [l[2] for l in preds]\n",
    "ap4 = [l[3] for l in preds]\n",
    "ap5 = [l[4] for l in preds]\n",
    "ap6 = [l[5] for l in preds]\n",
    "ap7 = [l[6] for l in preds]\n",
    "ap8 = [l[7] for l in preds]\n"
   ]
  },
  {
   "cell_type": "code",
   "execution_count": 26,
   "id": "5e0aec68",
   "metadata": {},
   "outputs": [
    {
     "data": {
      "image/png": "[encoded data removed]",
      "text/plain": [
       "<Figure size 432x288 with 1 Axes>"
      ]
     },
     "metadata": {
      "needs_background": "light"
     },
     "output_type": "display_data"
    }
   ],
   "source": [
    "plt.boxplot([ar1, ar2, ar3, ar4, ar5, ar6, ar7, ar8])\n",
    "plt.yscale(\"log\")"
   ]
  },
  {
   "cell_type": "code",
   "execution_count": 27,
   "id": "0cb42b9c",
   "metadata": {},
   "outputs": [
    {
     "data": {
      "image/png": "[encoded data removed]",
      "text/plain": [
       "<Figure size 432x288 with 1 Axes>"
      ]
     },
     "metadata": {
      "needs_background": "light"
     },
     "output_type": "display_data"
    }
   ],
   "source": [
    "plt.boxplot([ap1, ap2, ap3, ap4, ap5, ap6, ap7, ap8])\n",
    "plt.yscale(\"log\")"
   ]
  },
  {
   "cell_type": "markdown",
   "id": "0540dafe",
   "metadata": {},
   "source": [
    "### n = 90"
   ]
  },
  {
   "cell_type": "code",
   "execution_count": 17,
   "id": "b7ab7ac1",
   "metadata": {},
   "outputs": [],
   "source": [
    "n = 90"
   ]
  },
  {
   "cell_type": "code",
   "execution_count": 18,
   "id": "36438202",
   "metadata": {},
   "outputs": [],
   "source": [
    "X, y = gauss_sample(n, p, beta_star, Psi, sigma)"
   ]
  },
  {
   "cell_type": "code",
   "execution_count": 19,
   "id": "42873834",
   "metadata": {},
   "outputs": [
    {
     "data": {
      "text/plain": [
       "({'t': 0.35}, 0.0523836612701416)"
      ]
     },
     "execution_count": 19,
     "metadata": {},
     "output_type": "execute_result"
    }
   ],
   "source": [
    "naive_cv_cov(X)"
   ]
  },
  {
   "cell_type": "code",
   "execution_count": 20,
   "id": "03ae45a1",
   "metadata": {},
   "outputs": [],
   "source": [
    "D_w = weighted_incidence(cov_est(0.35).fit(X).S)"
   ]
  },
  {
   "cell_type": "code",
   "execution_count": 38,
   "id": "8561a6c2",
   "metadata": {},
   "outputs": [
    {
     "name": "stdout",
     "output_type": "stream",
     "text": [
      "({'l1': 0}, 0.5585200786590576)\n"
     ]
    },
    {
     "name": "stderr",
     "output_type": "stream",
     "text": [
      "C:\\Users\\sswei\\anaconda3\\lib\\site-packages\\sklearn\\model_selection\\_search.py:918: UserWarning: One or more of the test scores are non-finite: [ -1725.85506085  -1726.00907938  -1728.61459002  -1754.8254052\n",
      "  -1799.25613791  -1874.59993157  -2026.79105737  -2327.09375697\n",
      "  -2617.35209607  -3171.13990367  -3826.16964647  -4452.68130463\n",
      "  -5059.79226217  -5645.68592136  -6770.49314735  -7840.57828858\n",
      "  -8872.695993   -10858.8797752  -12642.11124195 -16690.97300449\n",
      " -20243.36727565 -10782.03567137  -1808.09508901  -1736.81705866\n",
      "  -1755.60667106  -1799.58815771  -1874.90202436  -2027.16396411\n",
      "  -2327.21207575  -2617.24945562  -3171.05307688  -3826.52225901\n",
      "  -4452.94364267  -5056.80417813  -5640.94872133  -6753.05235164\n",
      "  -7825.7105292   -8861.64638317 -10738.80108037 -12461.07628258\n",
      " -16438.2829324  -19852.10879328 -10782.51765603  -2512.32443306\n",
      "  -1811.11461434  -1763.11967058  -1802.68290514  -1876.45057711\n",
      "  -2027.98006256  -2327.71240457  -2617.60619732  -3171.25904646\n",
      "  -3827.09173176  -4453.64876548  -5057.94796715  -5643.22008227\n",
      "  -6767.26825144  -7844.47117632  -8871.44161895 -10815.03476905\n",
      " -12622.24207147 -16645.11522689 -20108.64135024 -10787.29550755\n",
      "  -6715.85066744  -2517.63705579  -1838.25376438  -1833.57318339\n",
      "  -1891.89013223  -2036.62010275  -2333.05639625  -2621.68474706\n",
      "  -3174.30916205  -3829.4304419   -4455.20171945  -5059.41651031\n",
      "  -5644.7019152   -6770.64784455  -7843.50269471  -8872.88624304\n",
      " -10816.79768406 -12624.54882283 -16640.14595539 -20109.66907502\n",
      " -10795.21224713  -8510.40588062  -3583.02398079  -1966.83089365\n",
      "  -1884.8557421   -1918.09762282  -2051.12681797  -2341.9313841\n",
      "  -2628.46414057  -3179.22231469  -3833.18522118  -4459.00588682\n",
      "  -5062.40010368  -5648.43930862  -6772.16262629  -7845.62124498\n",
      "  -8873.44353647 -10817.63552497 -12626.73609005 -16651.2529567\n",
      " -20106.82206831 -10807.35163516  -8934.89383634  -5054.38033329\n",
      "  -2177.51814206  -1973.41043643  -1963.7013113   -2074.8200184\n",
      "  -2356.84655758  -2639.81504255  -3187.50830454  -3839.83239023\n",
      "  -4465.04453425  -5067.68622798  -5652.28796631  -6777.18832519\n",
      "  -7849.98087971  -8878.06033374 -10820.55309674 -12629.67596117\n",
      " -16664.28193768             nan -10833.55178949  -9831.68071977\n",
      "  -6728.49284251  -2567.1836811   -2147.73835801  -2056.50427923\n",
      "  -2123.87443182  -2386.9702456   -2662.49702093  -3203.95939864\n",
      "  -3853.21845728  -4476.87220282  -5078.16706775  -5661.49221301\n",
      "  -6785.72671595  -7857.53351612  -8883.80432755 -10827.58988717\n",
      " -12637.89065372 -16664.23414692 -20120.902718   -10874.19982273\n",
      " -10582.5112219   -8206.45705254  -3308.49308424  -2487.75063283\n",
      "  -2241.04510776  -2227.07697186  -2447.01162988  -2708.27732079\n",
      "  -3237.13994959  -3879.62650571  -4500.62481811  -5099.61110693\n",
      "  -5680.67869517  -6803.12176145  -7873.85293848  -8904.37449946\n",
      " -10842.61807753 -12650.25200032 -16668.34817311 -20113.46814345\n",
      " -10920.49338369 -10832.38980845  -8735.48732918  -3975.59562311\n",
      "  -2821.91362205  -2427.45318724  -2333.01810286  -2507.37523922\n",
      "  -2753.94213215  -3270.7622256   -3906.34605472  -4523.65985065\n",
      "  -5120.48391911  -5699.9241644   -6820.66323098  -7890.00636713\n",
      "  -8918.96561917 -10855.62575828 -12659.84432611 -16683.80737576\n",
      " -20135.66177571 -10975.77218101 -10918.59221331  -9145.5048673\n",
      "  -5172.15043179  -3427.33471497  -2799.08634381  -2537.70240376\n",
      "  -2628.49368687  -2845.55973776  -3338.44725432  -3960.30169668\n",
      "  -4570.5284583   -5163.54196424  -5737.89138093  -6855.32228656\n",
      "  -7922.64139228  -8947.81508613 -10884.40528505 -12694.23348053\n",
      " -16703.13747365 -20160.76734346 -11055.18852205 -10999.58516585\n",
      "  -9697.48246552  -6139.78964695  -4124.95782622  -3217.40545848\n",
      "  -2798.02502111  -2782.83504574  -2963.53612292  -3423.32235467\n",
      "  -4027.74158591  -4629.64925722  -5215.26015023  -5786.52374048\n",
      "  -6899.50221511  -7963.74778802  -8987.57096181 -10918.7101124\n",
      " -12722.4592696  -16725.35673317 -20165.44286697 -11116.63570443\n",
      " -11072.90657878 -10134.26151622  -6895.7301088   -4773.29982522\n",
      "  -3614.30569637  -3044.52448978  -2934.83264307  -3080.24520537\n",
      "  -3508.04640233  -4096.28119671  -4689.2617436   -5265.99779401\n",
      "  -5833.42561814  -6942.84512597  -8004.46472282  -9027.00294181\n",
      " -10958.54279072 -12760.06872061 -16771.90520432 -20200.92876052\n",
      " -11180.34057059 -11162.3992736  -10554.4040054   -7460.7037093\n",
      "  -5357.87557924  -4013.99487387  -3288.40634289  -3080.83974323\n",
      "  -3197.59453507  -3593.53273005  -4165.60386666  -4749.58612492\n",
      "  -5317.46691109  -5881.10339419  -6987.18852636  -8046.3073842\n",
      "  -9066.85474979 -10988.30774618 -12795.27369804 -16747.2554243\n",
      " -20187.99334124 -11260.01129266 -11251.92584377 -10859.16288838\n",
      "  -7886.32965348  -5833.29663954  -4370.91700715  -3522.86360997\n",
      "  -3224.35337625  -3306.96981725  -3677.55926454  -4235.36123337\n",
      "  -4809.26453808  -5367.79731107  -5928.17430716  -7030.4489862\n",
      "  -8088.40146741  -9105.43367037 -11026.6447138  -12823.88240062\n",
      " -16825.18785163 -20245.40400172 -11413.17365761 -11411.435156\n",
      " -11210.89557302  -8553.33539135  -6584.86899841  -5054.31079352\n",
      "  -3973.89782428  -3508.08246332  -3524.25238393  -3842.40710869\n",
      "  -4370.65760554  -4920.85411916  -5470.55487826  -6023.93758204\n",
      "  -7117.23442955  -8171.76879861  -9182.95138776 -11099.12695022\n",
      " -12889.03727414 -16886.14186412 -20311.65627342 -11630.9682844\n",
      " -11626.83440239 -11407.24954009  -9076.14857491  -7233.30522971\n",
      "  -5674.64023083  -4419.21105028  -3797.15706034  -3738.52381484\n",
      "  -4002.74244587  -4495.18136474  -5031.64789269  -5573.07491739\n",
      "  -6119.44649744  -7204.67509714  -8255.38493959  -9260.16778474\n",
      " -11166.1825567  -12964.72882156             nan -20285.16203511\n",
      " -11823.48194998 -11820.20254446 -11582.73098158  -9502.06728416\n",
      "  -7718.49223203  -6203.9062865   -4818.64515327  -4067.62422904\n",
      "  -3951.36974535  -4159.32148912  -4617.23841456  -5141.59602615\n",
      "  -5674.16028485  -6213.07926298  -7291.81828646  -8338.62295778\n",
      "  -9338.74669968 -11241.24312946 -13027.16023643 -17002.21270497\n",
      "             nan -12129.11141516 -12100.88189278 -11848.03419364\n",
      " -10125.90844608  -8528.71813524  -7073.73624199  -5603.71239309\n",
      "  -4600.23064464  -4362.91323174  -4459.05720984  -4859.84500336\n",
      "  -5359.93939645  -5875.52050268  -6402.25354779  -7466.93659476\n",
      "  -8503.21295287  -9499.00578221 -11386.1470809  -13167.80978021\n",
      "             nan             nan -12384.94045366 -12366.8826862\n",
      " -12176.68834655 -10595.92468851  -9203.32573977  -7766.25262139\n",
      "  -6344.82300921  -5136.29651503  -4784.76200406  -4764.11386965\n",
      "  -5112.17574291  -5577.77259806  -6081.61131717  -6594.62634947\n",
      "  -7643.97141806  -8667.0145309   -9653.27777468 -11530.70024265\n",
      " -13299.03395109             nan             nan -12495.59768396\n",
      " -12484.75819013 -12390.31258807 -11340.20325525 -10342.48299967\n",
      "  -9158.42062047  -7816.18100923  -6420.07509604  -5819.05363053\n",
      "  -5558.93339612  -5764.30204182  -6155.2739537   -6606.7037547\n",
      "  -7091.25170754  -8090.52699032  -9075.51588317 -10042.75905632\n",
      " -11847.42727089             nan             nan             nan\n",
      " -12816.22641896 -12809.26330313 -12744.89884965 -11990.12898798\n",
      " -11282.05451716 -10222.01323689  -8857.72547011  -7599.14497922\n",
      "  -6842.81579069  -6361.96764235  -6425.81104818  -6744.584576\n",
      "  -7155.05915569  -7605.03941568  -8538.38513172  -9491.84647444\n",
      " -10434.34442051 -12247.44479802 -13963.96953635             nan\n",
      "             nan]\n",
      "  warnings.warn(\n"
     ]
    },
    {
     "name": "stdout",
     "output_type": "stream",
     "text": [
      "({'l1': 0, 'l2': 0}, 16.182448387145996)\n",
      "({'l1': 1, 'l2': 30}, 14.318191528320312)\n",
      "({'l1': 0.5, 'l2': 12.5}, 17.87109136581421)\n"
     ]
    }
   ],
   "source": [
    "print(naive_cv_lasso(X, y))\n",
    "print(naive_cv(EN, X, y))\n",
    "print(naive_cv(FL, X, y, D))\n",
    "print(naive_cv(SL, X, y, D))"
   ]
  },
  {
   "cell_type": "code",
   "execution_count": 39,
   "id": "7adb1e5f",
   "metadata": {},
   "outputs": [
    {
     "name": "stdout",
     "output_type": "stream",
     "text": [
      "({'l1': 5, 'l2': 1, 'l3': 0}, 72.66547226905823)\n",
      "({'l1': 7.5, 'l2': 0.001, 'l3': 0}, 20.674692153930664)\n"
     ]
    }
   ],
   "source": [
    "print(naive_cv_gtv_small(X, y, D_oracle))\n"
   ]
  },
  {
   "cell_type": "code",
   "execution_count": 40,
   "id": "ace3090c",
   "metadata": {},
   "outputs": [
    {
     "name": "stdout",
     "output_type": "stream",
     "text": [
      "({'l1': 7.5, 'l2': 0.001, 'l3': 0}, 20.81934666633606)\n"
     ]
    }
   ],
   "source": [
    "print(naive_cv_gtv(X, y, D_w))"
   ]
  },
  {
   "cell_type": "code",
   "execution_count": 41,
   "id": "06bd727e",
   "metadata": {
    "scrolled": true
   },
   "outputs": [
    {
     "data": {
      "text/plain": [
       "({'l1': 25, 'l2': 10}, 18.567559957504272)"
      ]
     },
     "execution_count": 41,
     "metadata": {},
     "output_type": "execute_result"
    }
   ],
   "source": [
    "naive_cv(OUR, X, y, D)"
   ]
  },
  {
   "cell_type": "code",
   "execution_count": 21,
   "id": "bec87163",
   "metadata": {},
   "outputs": [],
   "source": [
    "def trial1():\n",
    "    X, y = gauss_sample(n, p, beta_star, Psi, sigma)\n",
    "    clf1 = OLR().fit(X, y)\n",
    "    clf2 = LA(l1 = 0).fit(X,y)\n",
    "    clf3 = EN(l1= 0, l2=0.001).fit(X,y)\n",
    "    clf4 = FL(1, 30, D).fit(X,y)\n",
    "    clf5 = SL(0.5, 12.5, D).fit(X,y)\n",
    "    clf6 = GTV(7.5, 0.001, 0, D_w).fit(X,y)\n",
    "    clf7 = GTV(5, 1, 0, D_oracle).fit(X,y)\n",
    "    clf8 = OUR(25, 10, D).fit(X,y)\n",
    "    return [c.l2_risk(beta_star) for c in [clf1, clf2, clf3, clf4, clf5, clf6, clf7, clf8]]"
   ]
  },
  {
   "cell_type": "code",
   "execution_count": 22,
   "id": "94005302",
   "metadata": {},
   "outputs": [],
   "source": [
    "def trial2():\n",
    "    X, y = gauss_sample(n, p, beta_star, Psi, sigma)\n",
    "    clf1 = OLR().fit(X, y)\n",
    "    clf2 = LA(l1 = 0).fit(X,y)\n",
    "    clf3 = EN(l1= 0, l2=0.001).fit(X,y)\n",
    "    clf4 = FL(1, 30, D).fit(X,y)\n",
    "    clf5 = SL(0.5, 12.5, D).fit(X,y)\n",
    "    clf6 = GTV(7.5, 0.001, 0, D_w).fit(X,y)\n",
    "    clf7 = GTV(5, 1, 0, D_oracle).fit(X,y)\n",
    "    clf8 = OUR(25, 10, D).fit(X,y)\n",
    "    X2, y2 = gauss_sample(n, p, beta_star, Psi, sigma)\n",
    "    return [-c.score(X2, X2@beta_star) for c in [clf1, clf2, clf3, clf4, clf5, clf6, clf7, clf8]]"
   ]
  },
  {
   "cell_type": "code",
   "execution_count": 23,
   "id": "251fcb75",
   "metadata": {},
   "outputs": [],
   "source": [
    "l2s = Parallel(n_jobs=8)(delayed(trial1)() for i in range(500))\n",
    "preds = Parallel(n_jobs=8)(delayed(trial2)() for i in range(500))"
   ]
  },
  {
   "cell_type": "code",
   "execution_count": 24,
   "id": "d339c768",
   "metadata": {},
   "outputs": [],
   "source": [
    "br1 = [l[0] for l in l2s]\n",
    "br2 = [l[1] for l in l2s]\n",
    "br3 = [l[2] for l in l2s]\n",
    "br4 = [l[3] for l in l2s]\n",
    "br5 = [l[4] for l in l2s]\n",
    "br6 = [l[5] for l in l2s]\n",
    "br7 = [l[6] for l in l2s]\n",
    "br8 = [l[7] for l in l2s]"
   ]
  },
  {
   "cell_type": "code",
   "execution_count": 25,
   "id": "d4484565",
   "metadata": {},
   "outputs": [],
   "source": [
    "bp1 = [l[0] for l in preds]\n",
    "bp2 = [l[1] for l in preds]\n",
    "bp3 = [l[2] for l in preds]\n",
    "bp4 = [l[3] for l in preds]\n",
    "bp5 = [l[4] for l in preds]\n",
    "bp6 = [l[5] for l in preds]\n",
    "bp7 = [l[6] for l in preds]\n",
    "bp8 = [l[7] for l in preds]\n"
   ]
  },
  {
   "cell_type": "code",
   "execution_count": 47,
   "id": "27c09723",
   "metadata": {},
   "outputs": [
    {
     "data": {
      "image/png": "[encoded data removed]",
      "text/plain": [
       "<Figure size 432x288 with 1 Axes>"
      ]
     },
     "metadata": {
      "needs_background": "light"
     },
     "output_type": "display_data"
    }
   ],
   "source": [
    "plt.boxplot([br1, br2, br3, br4, br5, br6, br7, br8])\n",
    "plt.yscale(\"log\")"
   ]
  },
  {
   "cell_type": "code",
   "execution_count": 48,
   "id": "6285698f",
   "metadata": {},
   "outputs": [
    {
     "data": {
      "image/png": "[encoded data removed]",
      "text/plain": [
       "<Figure size 432x288 with 1 Axes>"
      ]
     },
     "metadata": {
      "needs_background": "light"
     },
     "output_type": "display_data"
    }
   ],
   "source": [
    "plt.boxplot([bp1, bp2, bp3, bp4, bp5, bp6, bp7, bp8])\n",
    "plt.yscale(\"log\")"
   ]
  },
  {
   "cell_type": "markdown",
   "id": "ddbb7ae2",
   "metadata": {},
   "source": [
    "### n = 120"
   ]
  },
  {
   "cell_type": "code",
   "execution_count": 26,
   "id": "72106574",
   "metadata": {},
   "outputs": [],
   "source": [
    "n = 120"
   ]
  },
  {
   "cell_type": "code",
   "execution_count": 27,
   "id": "ff2b0e94",
   "metadata": {},
   "outputs": [
    {
     "data": {
      "text/plain": [
       "({'t': 0.3}, 0.0589597225189209)"
      ]
     },
     "execution_count": 27,
     "metadata": {},
     "output_type": "execute_result"
    }
   ],
   "source": [
    "X, y = gauss_sample(n, p, beta_star, Psi, sigma)\n",
    "naive_cv_cov(X)"
   ]
  },
  {
   "cell_type": "code",
   "execution_count": 28,
   "id": "8fab070c",
   "metadata": {},
   "outputs": [],
   "source": [
    "D_w = weighted_incidence(cov_est(0.3).fit(X).S)"
   ]
  },
  {
   "cell_type": "code",
   "execution_count": 60,
   "id": "8efb9109",
   "metadata": {},
   "outputs": [
    {
     "name": "stdout",
     "output_type": "stream",
     "text": [
      "({'l1': 0}, 0.6995325088500977)\n"
     ]
    },
    {
     "name": "stderr",
     "output_type": "stream",
     "text": [
      "C:\\Users\\sswei\\anaconda3\\lib\\site-packages\\sklearn\\model_selection\\_search.py:918: UserWarning: One or more of the test scores are non-finite: [  -552.05744721   -552.28194869   -553.19196621   -569.23780941\n",
      "   -606.48393369   -674.40617974   -807.55797629  -1055.29835198\n",
      "  -1286.91266797  -1722.51965598  -2235.73186021  -2727.13279369\n",
      "  -3206.48426622  -3671.13553269  -4566.6228351   -5430.72887498\n",
      "  -6254.21691636  -7812.70702481  -9256.59194018 -12403.8957986\n",
      "             nan  -3545.52434056   -575.29279119   -556.09012167\n",
      "   -569.51465321   -606.69727071   -674.39138374   -807.47386864\n",
      "  -1055.39755865  -1287.02365408  -1722.32603943  -2235.55041874\n",
      "  -2727.47990036  -3204.32302763  -3668.71663611  -4561.23680465\n",
      "  -5412.39688299  -6210.64685288  -7722.22260322  -9138.36211123\n",
      " -12318.30200869 -14949.44400289  -3546.58144134   -746.66660326\n",
      "   -577.27394121   -571.89862701   -607.76301934   -674.9882733\n",
      "   -807.84138515  -1055.73598306  -1287.18422643  -1722.4956017\n",
      "  -2235.76644208  -2727.9750862   -3204.54488644  -3669.37917087\n",
      "  -4566.99740353  -5426.29671591  -6251.84465848  -7809.44070176\n",
      "  -9244.28483019 -12403.54538798 -15019.26638783  -3557.2965965\n",
      "  -1763.50046063   -746.24110864   -595.94059017   -618.55901095\n",
      "   -680.9437434    -811.46698213  -1058.10203071  -1289.12838363\n",
      "  -1724.07020054  -2237.03631207  -2729.03854556  -3205.49055536\n",
      "  -3670.13715952  -4566.97560366  -5427.80046376  -6254.15146011\n",
      "  -7810.10154759  -9249.67069935 -12403.61216719 -15017.31919491\n",
      "  -3576.28283913  -2615.75756247  -1002.52485744   -632.73194111\n",
      "   -636.7578316    -690.93431319   -817.57381773  -1062.24790671\n",
      "  -1292.33957337  -1726.38417109  -2239.14492448  -2730.83719821\n",
      "  -3207.57385594  -3671.84433521  -4568.9912336   -5429.72317111\n",
      "  -6252.49648376  -7811.73493767  -9250.50486361 -12391.17140399\n",
      " -15034.00089601  -3601.91455315  -3108.08483734  -1280.74328264\n",
      "   -690.53879698   -663.39250704   -705.96031315   -826.718965\n",
      "  -1069.04295301  -1297.74857574  -1730.6343901   -2242.63560169\n",
      "  -2734.34619579  -3210.37499758  -3674.49004603  -4572.8862283\n",
      "  -5431.65140078  -6257.92895563  -7813.3226462   -9253.9150433\n",
      " -12404.23227633 -15036.4670152   -3655.11688209  -3459.68274316\n",
      "  -1779.80281481   -785.7467309    -709.4509177    -734.07434758\n",
      "   -844.38771875  -1082.52720567  -1308.65433933  -1738.98593383\n",
      "  -2249.87999765  -2740.3444765   -3216.69272518  -3680.78402572\n",
      "  -4577.13140652  -5437.26550597  -6259.47712706  -7818.0756636\n",
      "  -9255.05670492 -12404.98536082 -15042.29670154  -3746.39107931\n",
      "  -3595.64238014  -2511.16405897   -970.53878074   -810.53259124\n",
      "   -790.99048342   -880.55147605  -1108.87536361  -1330.03675839\n",
      "  -1755.6998968   -2264.28719474  -2753.83547225  -3229.12347451\n",
      "  -3692.86229902  -4588.67830561  -5447.33482795  -6272.37745686\n",
      "  -7826.79244397  -9265.22141849 -12417.91806818             nan\n",
      "  -3785.65826601  -3737.58436213  -2938.38584508  -1138.88583191\n",
      "   -906.94879075   -846.23715818   -914.6898846   -1132.92583975\n",
      "  -1351.44315551  -1772.42313561  -2278.7387314   -2766.84613467\n",
      "  -3241.63026604  -3704.66476153  -4599.48789503  -5457.11785945\n",
      "  -6281.25898226  -7836.81189174  -9275.03415186 -12425.48862477\n",
      " -15051.3697568   -3745.42300708  -3735.8915762   -3293.2213822\n",
      "  -1415.49007864  -1084.27600896   -961.26663586   -984.70433885\n",
      "  -1180.66881655  -1393.19306646  -1806.0615604   -2307.97160509\n",
      "  -2792.98617011  -3266.65076886  -3729.33474311  -4622.11968864\n",
      "  -5478.65468036  -6302.53887038  -7855.59501694  -9292.35087795\n",
      " -12442.64114563 -15061.3863432   -3728.2249788   -3710.69229106\n",
      "  -3457.63168193  -1750.33681348  -1275.4589377   -1100.27632136\n",
      "  -1071.87967662  -1239.38439752  -1443.42122663  -1848.23056419\n",
      "  -2343.94579714  -2826.1176826   -3298.14798196  -3760.29942753\n",
      "  -4650.02654277  -5505.28536044  -6324.7044808   -7877.94130746\n",
      "  -9313.5979548  -12461.29953897 -15085.43757128  -3830.87140253\n",
      "  -3813.73052676  -3657.47359598  -2074.86331912  -1466.92063623\n",
      "  -1226.06691398  -1157.8020199   -1297.76754376  -1493.03982978\n",
      "  -1891.23935722  -2379.9470937   -2859.13199329  -3330.05750201\n",
      "  -3790.95412735  -4677.60133076  -5530.35257136  -6348.85275563\n",
      "  -7899.96687642  -9331.33346118 -12481.2672683  -15103.56519707\n",
      "  -3930.58985084  -3915.77095094  -3746.6300263   -2310.7120571\n",
      "  -1654.0544621   -1355.52051911  -1248.5477023   -1357.79845602\n",
      "  -1543.40238444  -1933.94493352  -2416.4568644   -2892.75287446\n",
      "  -3362.4333725   -3821.94359202  -4705.3789115   -5556.04666796\n",
      "  -6373.8157088   -7921.36034686  -9354.1130756  -12498.75786111\n",
      " -15124.00968917  -3988.97352221  -3976.13069163  -3832.87297963\n",
      "  -2528.99492019  -1843.86817284  -1489.51335196  -1338.00930818\n",
      "  -1419.68795758  -1594.93692654  -1977.09070593  -2453.63778778\n",
      "  -2927.05761816  -3394.54131743  -3852.42093897  -4732.44738326\n",
      "  -5582.49718236  -6399.63402676  -7945.19407655  -9390.0785624\n",
      "             nan -15132.3825143   -4015.32337682  -4005.00690347\n",
      "  -3917.1642532   -2817.67643436  -2176.35703677  -1747.10955219\n",
      "  -1508.83342038  -1547.43830893  -1702.90157676  -2065.84183448\n",
      "  -2528.95113211  -2996.25673598  -3458.1114344   -3912.4307488\n",
      "  -4787.57117044  -5635.7147184   -6450.02709797  -7992.15921179\n",
      "  -9429.44844957 -12536.49633058 -15174.41612092  -4062.2371766\n",
      "  -4054.61075751  -3979.64043691  -3063.01618854  -2418.97925445\n",
      "  -2002.36452935  -1682.08189081  -1672.229994    -1807.43301903\n",
      "  -2153.93666315  -2603.30386606  -3063.34501726  -3520.52736468\n",
      "  -3971.8081293   -4843.41837725  -5687.69498596  -6499.9277748\n",
      "  -8038.82552773  -9462.46651375 -12609.63500163             nan\n",
      "  -4186.27565461  -4174.39451992  -4087.95153367  -3246.75153094\n",
      "  -2617.28357541  -2226.13423851  -1866.27167735  -1797.82404953\n",
      "  -1913.00430293  -2238.99365756  -2678.60069648  -3131.35208389\n",
      "  -3584.22465561  -4031.45906387  -4899.5127119   -5740.25329784\n",
      "  -6550.02936138  -8081.44725418             nan -12567.15405788\n",
      "             nan  -4415.60916094  -4410.19425104  -4367.403364\n",
      "  -3513.51782938  -2973.90108227  -2600.18360186  -2221.23520702\n",
      "  -2063.73882546  -2137.0369684   -2415.4688435   -2833.48850493\n",
      "  -3270.90745549  -3712.75361367  -4150.56670659  -5010.15975379\n",
      "  -5847.62743587  -6651.3194944   -8180.43077869             nan\n",
      " -12679.03304256             nan  -4589.50496504  -4584.41691864\n",
      "  -4544.08503461  -3812.2293779   -3329.54200193  -2903.15107629\n",
      "  -2562.00001072  -2329.1205759   -2360.35576403  -2600.27358509\n",
      "  -2991.97297802  -3412.66145054  -3845.38665606  -4274.34239329\n",
      "  -5125.76464559  -5952.75893411  -6754.78725662  -8285.97135787\n",
      "  -9689.97556066 -12802.70496487             nan  -4908.51630875\n",
      "  -4904.08060503  -4866.40398551  -4499.55241121  -4076.89907095\n",
      "  -3648.3279822   -3234.14932512  -2979.37078583  -2924.05432196\n",
      "  -3069.47145218  -3401.24865979  -3779.11284353  -4183.88767673\n",
      "  -4593.77777302  -5408.96461136  -6220.5044877   -7011.76940059\n",
      "             nan  -9908.19008521 -12997.36671883             nan\n",
      "  -5251.47354328  -5248.90338851  -5226.22262721  -4991.24218576\n",
      "  -4671.77281568  -4338.39063477  -3862.169154    -3546.05293788\n",
      "  -3472.6155191   -3547.41478229  -3819.15493385  -4154.24498863\n",
      "  -4522.07145325  -4909.47208428  -5700.30432447  -6491.97440431\n",
      "  -7270.91772158  -8753.09531411 -10132.48395629             nan\n",
      " -15756.31187537]\n",
      "  warnings.warn(\n"
     ]
    },
    {
     "name": "stdout",
     "output_type": "stream",
     "text": [
      "({'l1': 0, 'l2': 0}, 22.175856828689575)\n",
      "({'l1': 0.5, 'l2': 30}, 20.83461093902588)\n",
      "({'l1': 0.001, 'l2': 12.5}, 23.235474109649658)\n"
     ]
    }
   ],
   "source": [
    "print(naive_cv_lasso(X, y))\n",
    "print(naive_cv(EN, X, y))\n",
    "print(naive_cv(FL, X, y, D))\n",
    "print(naive_cv(SL, X, y, D))"
   ]
  },
  {
   "cell_type": "code",
   "execution_count": 61,
   "id": "4ae8b497",
   "metadata": {},
   "outputs": [
    {
     "name": "stdout",
     "output_type": "stream",
     "text": [
      "({'l1': 5, 'l2': 1, 'l3': 0}, 77.1772027015686)\n",
      "({'l1': 7.5, 'l2': 0, 'l3': 0}, 28.56595540046692)\n"
     ]
    }
   ],
   "source": [
    "print(naive_cv_gtv_small(X, y, D_oracle))\n",
    "print(naive_cv_gtv(X, y, D_w))"
   ]
  },
  {
   "cell_type": "code",
   "execution_count": 62,
   "id": "086e3029",
   "metadata": {},
   "outputs": [
    {
     "data": {
      "text/plain": [
       "({'l1': 30, 'l2': 10}, 23.792476654052734)"
      ]
     },
     "execution_count": 62,
     "metadata": {},
     "output_type": "execute_result"
    }
   ],
   "source": [
    "naive_cv(OUR, X, y, D)"
   ]
  },
  {
   "cell_type": "code",
   "execution_count": 29,
   "id": "44d4cde8",
   "metadata": {},
   "outputs": [],
   "source": [
    "def trial1():\n",
    "    X, y = gauss_sample(n, p, beta_star, Psi, sigma)\n",
    "    clf1 = OLR().fit(X, y)\n",
    "    clf2 = LA(l1 = 0).fit(X,y)\n",
    "    clf3 = EN(l1= 0, l2=0.001).fit(X,y)\n",
    "    clf4 = FL(0.5,30, D).fit(X,y)\n",
    "    clf5 = SL(0.001, 12.5, D).fit(X,y)\n",
    "    clf6 = GTV(7.5, 0, 0, D_w).fit(X,y)\n",
    "    clf7 = GTV(5, 1, 0, D_oracle).fit(X,y)\n",
    "    clf8 = OUR(30, 10, D).fit(X,y)\n",
    "    return [c.l2_risk(beta_star) for c in [clf1, clf2, clf3, clf4, clf5, clf6, clf7, clf8]]\n",
    "\n",
    "def trial2():\n",
    "    X, y = gauss_sample(n, p, beta_star, Psi, sigma)\n",
    "    clf1 = OLR().fit(X, y)\n",
    "    clf2 = LA(l1 = 0).fit(X,y)\n",
    "    clf3 = EN(l1= 0, l2=0.001).fit(X,y)\n",
    "    clf4 = FL(0.5,30, D).fit(X,y)\n",
    "    clf5 = SL(0.001, 12.5, D).fit(X,y)\n",
    "    clf6 = GTV(7.5, 0, 0, D_w).fit(X,y)\n",
    "    clf7 = GTV(5, 1, 0, D_oracle).fit(X,y)\n",
    "    clf8 = OUR(30, 10, D).fit(X,y)\n",
    "    X2, y2 = gauss_sample(n, p, beta_star, Psi, sigma)\n",
    "    return [-c.score(X2, X2@beta_star) for c in [clf1, clf2, clf3, clf4, clf5, clf6, clf7, clf8]]"
   ]
  },
  {
   "cell_type": "code",
   "execution_count": 30,
   "id": "2dc83326",
   "metadata": {},
   "outputs": [],
   "source": [
    "l2s = Parallel(n_jobs=8)(delayed(trial1)() for i in range(500))\n",
    "preds = Parallel(n_jobs=8)(delayed(trial2)() for i in range(500))"
   ]
  },
  {
   "cell_type": "code",
   "execution_count": 31,
   "id": "493f088a",
   "metadata": {},
   "outputs": [],
   "source": [
    "cr1 = [l[0] for l in l2s]\n",
    "cr2 = [l[1] for l in l2s]\n",
    "cr3 = [l[2] for l in l2s]\n",
    "cr4 = [l[3] for l in l2s]\n",
    "cr5 = [l[4] for l in l2s]\n",
    "cr6 = [l[5] for l in l2s]\n",
    "cr7 = [l[6] for l in l2s]\n",
    "cr8 = [l[7] for l in l2s]"
   ]
  },
  {
   "cell_type": "code",
   "execution_count": 32,
   "id": "f5493ab2",
   "metadata": {},
   "outputs": [],
   "source": [
    "cp1 = [l[0] for l in preds]\n",
    "cp2 = [l[1] for l in preds]\n",
    "cp3 = [l[2] for l in preds]\n",
    "cp4 = [l[3] for l in preds]\n",
    "cp5 = [l[4] for l in preds]\n",
    "cp6 = [l[5] for l in preds]\n",
    "cp7 = [l[6] for l in preds]\n",
    "cp8 = [l[7] for l in preds]"
   ]
  },
  {
   "cell_type": "code",
   "execution_count": 67,
   "id": "c682c039",
   "metadata": {},
   "outputs": [
    {
     "data": {
      "image/png": "[encoded data removed]",
      "text/plain": [
       "<Figure size 432x288 with 1 Axes>"
      ]
     },
     "metadata": {
      "needs_background": "light"
     },
     "output_type": "display_data"
    }
   ],
   "source": [
    "plt.boxplot([cr1, cr2, cr3, cr4, cr5, cr6, cr7, cr8])\n",
    "plt.yscale(\"log\")"
   ]
  },
  {
   "cell_type": "code",
   "execution_count": 68,
   "id": "e92f7799",
   "metadata": {
    "scrolled": true
   },
   "outputs": [
    {
     "data": {
      "image/png": "[encoded data removed]",
      "text/plain": [
       "<Figure size 432x288 with 1 Axes>"
      ]
     },
     "metadata": {
      "needs_background": "light"
     },
     "output_type": "display_data"
    }
   ],
   "source": [
    "plt.boxplot([cp1, cp2, cp3, cp4, cp5, cp6, cp7, cp8])\n",
    "plt.yscale(\"log\")"
   ]
  },
  {
   "cell_type": "markdown",
   "id": "c882e5a5",
   "metadata": {},
   "source": [
    "### n = 150"
   ]
  },
  {
   "cell_type": "code",
   "execution_count": 33,
   "id": "997680c1",
   "metadata": {},
   "outputs": [],
   "source": [
    "n = 150"
   ]
  },
  {
   "cell_type": "code",
   "execution_count": 34,
   "id": "d5fafe0a",
   "metadata": {},
   "outputs": [
    {
     "data": {
      "text/plain": [
       "({'t': 0.3}, 0.05165910720825195)"
      ]
     },
     "execution_count": 34,
     "metadata": {},
     "output_type": "execute_result"
    }
   ],
   "source": [
    "X, y = gauss_sample(n, p, beta_star, Psi, sigma)\n",
    "naive_cv_cov(X)"
   ]
  },
  {
   "cell_type": "code",
   "execution_count": 35,
   "id": "725b8cf8",
   "metadata": {},
   "outputs": [],
   "source": [
    "D_w = weighted_incidence(cov_est(0.25).fit(X).S)"
   ]
  },
  {
   "cell_type": "code",
   "execution_count": 76,
   "id": "4ec85227",
   "metadata": {},
   "outputs": [
    {
     "name": "stdout",
     "output_type": "stream",
     "text": [
      "({'l1': 0.01}, 1.2630815505981445)\n"
     ]
    },
    {
     "name": "stderr",
     "output_type": "stream",
     "text": [
      "C:\\Users\\sswei\\anaconda3\\lib\\site-packages\\sklearn\\model_selection\\_search.py:918: UserWarning: One or more of the test scores are non-finite: [   -18.10965291    -17.92778843    -16.83282348    -26.90252372\n",
      "    -58.44652794   -111.62298101   -211.84682261   -395.4900117\n",
      "   -568.17947545   -892.60144141  -1279.29074511  -1656.72073248\n",
      "  -2027.08045099  -2390.79207191  -3113.68985487  -3820.95113083\n",
      "  -4517.2611472   -5872.86170117  -7221.34724079 -10130.1434893\n",
      " -12969.05418436    -18.10886003    -17.92694885    -16.83964051\n",
      "    -26.92138982    -58.47610045   -111.70183765   -211.95071826\n",
      "   -396.40003499   -568.33939831   -892.86181346  -1280.08220975\n",
      "  -1656.72009734  -2026.70841816  -2389.25167731  -3105.65473585\n",
      "  -3818.07857955  -4487.25380064  -5814.5240835   -7050.65415217\n",
      "  -9978.16430472 -12539.36822937    -18.10382565    -17.92505761\n",
      "    -16.86275108    -27.05798042    -58.63653126   -111.86940507\n",
      "   -212.07960689   -396.50358447   -568.42228758   -893.04102109\n",
      "  -1280.43386596  -1657.12000954  -2026.88875605  -2391.82523533\n",
      "  -3113.18391647  -3820.65590345  -4515.9512865   -5870.04364701\n",
      "  -7176.53938874 -10220.50449462 -12970.5849591     -18.12563584\n",
      "    -17.97805548    -17.15239684    -28.17082821    -59.93687445\n",
      "   -113.16657537   -213.34352233   -397.62556413   -569.497775\n",
      "   -894.0422948   -1281.25833802  -1657.63498329  -2027.62636139\n",
      "  -2393.1064836   -3113.30930585  -3820.67137081  -4516.15366259\n",
      "  -5868.70491167  -7171.82225052 -10220.68578058 -12977.13985585\n",
      "    -18.4536398     -18.35071405    -17.8802316     -30.1478789\n",
      "    -62.19146683   -115.42205021   -215.57371924   -399.46825108\n",
      "   -571.29413678   -895.59172235  -1282.75125486  -1659.19742158\n",
      "  -2029.26913972  -2394.58986333  -3115.17407872  -3822.49976217\n",
      "  -4518.0455724   -5871.95688436  -7178.42432839 -10226.49451027\n",
      " -12973.57560552    -19.80864494    -19.77061607    -19.78425659\n",
      "    -33.71990734    -66.07305904   -119.24167875   -219.11525164\n",
      "   -402.51175783   -574.23906044   -898.38187034  -1285.26480517\n",
      "  -1661.74906041  -2031.77852375  -2397.29931257  -3116.7889171\n",
      "  -3825.03492382  -4519.13890123  -5871.05883779  -7180.14353694\n",
      " -10221.93750263 -12976.60436735    -25.55528908    -25.59196928\n",
      "    -26.1850202     -41.88304499    -74.31253755   -127.14870733\n",
      "   -226.54087146   -408.76765428   -580.24558023   -903.73618632\n",
      "  -1290.36723608  -1666.64947601  -2036.64759805  -2402.28608543\n",
      "  -3121.67042693  -3830.01362041  -4525.35558608  -5878.20967455\n",
      "  -7185.46867885 -10227.85324482 -12984.72428435    -49.19856143\n",
      "    -49.17858041    -49.31312586    -62.33284718    -92.66313012\n",
      "   -143.82653604   -241.69414891   -421.42368996   -592.32734426\n",
      "   -914.83360137  -1300.73699015  -1676.82044014  -2046.51055612\n",
      "  -2411.70609537  -3131.86667814  -3838.65299335  -4532.66597194\n",
      "  -5887.33251319  -7192.59115319 -10238.30260716 -12984.3912285\n",
      "    -89.02395511    -88.67374125    -86.22685878    -88.20110634\n",
      "   -113.54833695   -161.79034177   -257.46738901   -434.58058679\n",
      "   -604.53100443   -925.83333026  -1311.03196518  -1686.97761712\n",
      "  -2056.29900378  -2422.05889421  -3141.0805402   -3848.37264175\n",
      "  -4542.85674564  -5893.92359334  -7202.75203265 -10239.33231701\n",
      " -12995.09663478   -153.88697587   -153.6634707    -152.16330433\n",
      "   -154.87916981   -162.82420903   -201.45129648   -290.2714389\n",
      "   -461.76222763   -628.80064358   -948.1780134   -1332.08713429\n",
      "  -1707.46715355  -2076.83807429  -2441.61805757  -3160.69725684\n",
      "  -3867.15430411  -4559.55046602  -5910.16252703  -7215.73505654\n",
      " -10257.32104188 -13011.84046056   -251.18557443   -250.39073348\n",
      "   -244.34583221   -224.38318534   -230.60192913   -254.05018567\n",
      "   -331.5672818    -497.23295102   -659.50909219   -976.65752507\n",
      "  -1358.65201462  -1733.12123687  -2101.86966379  -2466.45670252\n",
      "  -3184.78054744  -3892.48254024  -4581.948763    -5933.63412774\n",
      "  -7235.55716821 -10275.03624114 -13034.81852223   -373.63534677\n",
      "   -372.44795389   -362.80963614   -309.34214938   -296.18237776\n",
      "   -310.90098004   -376.18126769   -534.11436624   -691.08208847\n",
      "  -1004.89944366  -1385.42082553  -1758.97363555  -2127.16240231\n",
      "  -2490.87288675  -3209.72033855  -3914.9293993   -4603.58825529\n",
      "  -5953.30259437  -7256.00476655 -10295.10993663 -13053.00245044\n",
      "   -512.88516905   -511.26436519   -497.48122559   -411.97518285\n",
      "   -371.25007374   -374.25615281   -424.22192057   -570.9285722\n",
      "   -723.62827266  -1033.69760519  -1412.60382136  -1785.16931414\n",
      "  -2152.87041628  -2516.08253651  -3233.70370842  -3938.86621377\n",
      "  -4627.41056482  -5974.55212971  -7275.47599517 -10327.73591002\n",
      " -13065.21179214   -631.78710919   -630.65435278   -620.13960202\n",
      "   -523.39119274   -454.29600775   -438.68451911   -474.67398013\n",
      "   -609.17513259   -757.10096731  -1063.13639431  -1440.06159934\n",
      "  -1811.71786967  -2178.28675125  -2541.28243432  -3258.2843732\n",
      "  -3961.96966273  -4649.5608916   -5991.17326502  -7295.84004336\n",
      " -10316.39844772 -13084.80205135   -828.37139754   -826.5799158\n",
      "   -811.63036755   -718.70044233   -631.08881406   -574.8539839\n",
      "   -581.09230136   -690.11415696   -826.44067897  -1123.2125887\n",
      "  -1495.75784065  -1864.95083508  -2230.31720834  -2592.13884954\n",
      "  -3308.10305863  -4009.47169951  -4694.89088463  -6039.48074819\n",
      "  -7337.10196916 -10376.31815718 -13108.72483676  -1028.19711555\n",
      "  -1026.66249674  -1013.65689291   -897.73316699   -791.67525262\n",
      "   -710.32943056   -691.71162615   -773.78793818   -899.1182816\n",
      "  -1185.3995602   -1553.01691923  -1919.46611637  -2282.82343249\n",
      "  -2644.20646551  -3358.45049289  -4056.97426593  -4739.21014961\n",
      "  -6081.92362981  -7376.39224687 -10405.9848478              nan\n",
      "  -1216.54766671  -1214.72859695  -1199.03450099  -1082.61695919\n",
      "   -959.84116035   -850.31753322   -798.19912883   -861.76795466\n",
      "   -975.4122946   -1249.57998149  -1611.52165192  -1974.76965318\n",
      "  -2336.42950478  -2696.32831418  -3408.34528507  -4105.26219158\n",
      "  -4784.07581373  -6125.08419623  -7420.06353685 -10469.38305384\n",
      " -13135.72870271  -1630.90469093  -1628.7539475   -1610.11927787\n",
      "  -1454.52762976  -1291.91053392  -1150.22017561  -1033.50522696\n",
      "  -1041.32126816  -1135.50308481  -1383.97816906  -1732.0566174\n",
      "  -2088.51446036  -2446.10510074  -2802.4808524   -3509.11010685\n",
      "  -4200.12857868  -4876.74886137  -6209.20611044  -7501.74952436\n",
      "             nan             nan  -1990.38029147  -1989.12475205\n",
      "  -1977.95853633  -1834.55113546  -1654.20440554  -1455.97819492\n",
      "  -1283.76738884  -1236.71376779  -1300.98177004  -1526.88916289\n",
      "  -1857.24629035  -2205.3239407   -2557.99026195  -2911.07015114\n",
      "  -3609.56315565  -4295.75902443  -4971.47558622  -6295.61056637\n",
      "  -7583.68756742             nan -13345.37707957  -2679.99570874\n",
      "  -2678.93718356  -2669.73764276  -2575.59651873  -2441.16496168\n",
      "  -2221.34112558  -1936.76257393  -1756.13086567  -1749.15883201\n",
      "  -1902.9241068   -2188.27315559  -2508.06070456  -2842.13645634\n",
      "  -3182.59434011  -3865.07659418  -4538.48801955  -5202.97953396\n",
      "  -6518.03547667  -7789.75040236             nan             nan\n",
      "  -3331.36118069  -3330.25246028  -3320.42324864  -3217.46751591\n",
      "  -3064.25169738  -2871.6477415   -2593.93492638  -2296.2043236\n",
      "  -2217.73909186  -2287.34005988  -2530.95915104  -2821.54479803\n",
      "  -3135.884847    -3461.57226608  -4122.19145362  -4782.7519442\n",
      "  -5439.86102458  -6734.69862485  -8002.60104774             nan\n",
      "             nan]\n",
      "  warnings.warn(\n",
      "C:\\Users\\sswei\\anaconda3\\lib\\site-packages\\cvxpy\\problems\\problem.py:1296: UserWarning: Solution may be inaccurate. Try another solver, adjusting the solver settings, or solve with verbose=True for more information.\n",
      "  warnings.warn(\n"
     ]
    },
    {
     "name": "stdout",
     "output_type": "stream",
     "text": [
      "({'l1': 0, 'l2': 0.01}, 38.967084884643555)\n",
      "({'l1': 0, 'l2': 30}, 34.026790142059326)\n",
      "({'l1': 0, 'l2': 20}, 28.505339860916138)\n"
     ]
    }
   ],
   "source": [
    "print(naive_cv_lasso(X, y))\n",
    "print(naive_cv(EN, X, y))\n",
    "print(naive_cv(FL, X, y, D))\n",
    "print(naive_cv(SL, X, y, D))"
   ]
  },
  {
   "cell_type": "code",
   "execution_count": 77,
   "id": "6b0b512b",
   "metadata": {},
   "outputs": [
    {
     "name": "stdout",
     "output_type": "stream",
     "text": [
      "({'l1': 5, 'l2': 1, 'l3': 0}, 76.68286871910095)\n",
      "({'l1': 7.5, 'l2': 0, 'l3': 0}, 36.18046712875366)\n"
     ]
    }
   ],
   "source": [
    "print(naive_cv_gtv_small(X, y, D_oracle))\n",
    "print(naive_cv_gtv(X, y, D_w))"
   ]
  },
  {
   "cell_type": "code",
   "execution_count": 78,
   "id": "1147dcfa",
   "metadata": {},
   "outputs": [
    {
     "data": {
      "text/plain": [
       "({'l1': 30, 'l2': 10}, 29.47459053993225)"
      ]
     },
     "execution_count": 78,
     "metadata": {},
     "output_type": "execute_result"
    }
   ],
   "source": [
    "naive_cv(OUR, X, y, D)"
   ]
  },
  {
   "cell_type": "code",
   "execution_count": 36,
   "id": "c70dbf2b",
   "metadata": {},
   "outputs": [],
   "source": [
    "def trial1():\n",
    "    X, y = gauss_sample(n, p, beta_star, Psi, sigma)\n",
    "    clf1 = OLR().fit(X, y)\n",
    "    clf2 = LA(l1 = 0).fit(X,y)\n",
    "    clf3 = EN(l1= 0, l2=0.01).fit(X,y)\n",
    "    clf4 = FL(0, 30, D).fit(X,y)\n",
    "    clf5 = SL(0, 20, D).fit(X,y)\n",
    "    clf6 = GTV(7.5, 0, 0, D_w).fit(X,y)\n",
    "    clf7 = GTV(5, 1, 0, D_oracle).fit(X,y)\n",
    "    clf8 = OUR(30, 10, D).fit(X,y)\n",
    "    return [c.l2_risk(beta_star) for c in [clf1, clf2, clf3, clf4, clf5, clf6, clf7, clf8]]\n",
    "\n",
    "def trial2():\n",
    "    X, y = gauss_sample(n, p, beta_star, Psi, sigma)\n",
    "    clf1 = OLR().fit(X, y)\n",
    "    clf2 = LA(l1 = 0).fit(X,y)\n",
    "    clf3 = EN(l1= 0, l2=0.01).fit(X,y)\n",
    "    clf4 = FL(0, 30, D).fit(X,y)\n",
    "    clf5 = SL(0, 20, D).fit(X,y)\n",
    "    clf6 = GTV(7.5, 0, 0, D_w).fit(X,y)\n",
    "    clf7 = GTV(5, 1, 0, D_oracle).fit(X,y)\n",
    "    clf8 = OUR(30, 10, D).fit(X,y)\n",
    "    X2, y2 = gauss_sample(n, p, beta_star, Psi, sigma)\n",
    "    return [-c.score(X2, X2@beta_star) for c in [clf1, clf2, clf3, clf4, clf5, clf6, clf7, clf8]]"
   ]
  },
  {
   "cell_type": "code",
   "execution_count": 37,
   "id": "9fe1ad6a",
   "metadata": {},
   "outputs": [],
   "source": [
    "l2s = Parallel(n_jobs=8)(delayed(trial1)() for i in range(500))\n",
    "preds = Parallel(n_jobs=8)(delayed(trial2)() for i in range(500))"
   ]
  },
  {
   "cell_type": "code",
   "execution_count": 38,
   "id": "46a4f1bf",
   "metadata": {},
   "outputs": [],
   "source": [
    "dr1 = [l[0] for l in l2s]\n",
    "dr2 = [l[1] for l in l2s]\n",
    "dr3 = [l[2] for l in l2s]\n",
    "dr4 = [l[3] for l in l2s]\n",
    "dr5 = [l[4] for l in l2s]\n",
    "dr6 = [l[5] for l in l2s]\n",
    "dr7 = [l[6] for l in l2s]\n",
    "dr8 = [l[7] for l in l2s]"
   ]
  },
  {
   "cell_type": "code",
   "execution_count": 39,
   "id": "9ef84762",
   "metadata": {},
   "outputs": [],
   "source": [
    "dp1 = [l[0] for l in preds]\n",
    "dp2 = [l[1] for l in preds]\n",
    "dp3 = [l[2] for l in preds]\n",
    "dp4 = [l[3] for l in preds]\n",
    "dp5 = [l[4] for l in preds]\n",
    "dp6 = [l[5] for l in preds]\n",
    "dp7 = [l[6] for l in preds]\n",
    "dp8 = [l[7] for l in preds]"
   ]
  },
  {
   "cell_type": "code",
   "execution_count": 83,
   "id": "3aea91a1",
   "metadata": {},
   "outputs": [
    {
     "data": {
      "text/plain": [
       "(array([1.e-02, 1.e-01, 1.e+00, 1.e+01, 1.e+02]),\n",
       " [Text(0, 0, ''),\n",
       "  Text(0, 0, ''),\n",
       "  Text(0, 0, ''),\n",
       "  Text(0, 0, ''),\n",
       "  Text(0, 0, '')])"
      ]
     },
     "execution_count": 83,
     "metadata": {},
     "output_type": "execute_result"
    },
    {
     "data": {
      "image/png": "[encoded data removed]",
      "text/plain": [
       "<Figure size 432x288 with 1 Axes>"
      ]
     },
     "metadata": {
      "needs_background": "light"
     },
     "output_type": "display_data"
    }
   ],
   "source": [
    "plt.boxplot([dr1, dr2, dr3, dr4, dr5, dr6, dr7, dr8])\n",
    "plt.yscale(\"log\")\n",
    "plt.yticks()"
   ]
  },
  {
   "cell_type": "code",
   "execution_count": 84,
   "id": "8ee2034e",
   "metadata": {
    "scrolled": true
   },
   "outputs": [
    {
     "data": {
      "image/png": "[encoded data removed]",
      "text/plain": [
       "<Figure size 432x288 with 1 Axes>"
      ]
     },
     "metadata": {
      "needs_background": "light"
     },
     "output_type": "display_data"
    }
   ],
   "source": [
    "plt.boxplot([dp1, dp2, dp3, dp4, dp5, dp6, dp7, dp8])\n",
    "plt.yscale(\"log\")"
   ]
  },
  {
   "cell_type": "markdown",
   "id": "a6983d80",
   "metadata": {},
   "source": [
    "### n = 180"
   ]
  },
  {
   "cell_type": "code",
   "execution_count": 40,
   "id": "4bdb815c",
   "metadata": {},
   "outputs": [],
   "source": [
    "n = 180"
   ]
  },
  {
   "cell_type": "code",
   "execution_count": 41,
   "id": "e2615e4c",
   "metadata": {},
   "outputs": [
    {
     "data": {
      "text/plain": [
       "({'t': 0.25}, 0.055237531661987305)"
      ]
     },
     "execution_count": 41,
     "metadata": {},
     "output_type": "execute_result"
    }
   ],
   "source": [
    "X, y = gauss_sample(n, p, beta_star, Psi, sigma)\n",
    "naive_cv_cov(X)"
   ]
  },
  {
   "cell_type": "code",
   "execution_count": 42,
   "id": "b19d6c53",
   "metadata": {},
   "outputs": [],
   "source": [
    "D_w = weighted_incidence(cov_est(0.25).fit(X).S)"
   ]
  },
  {
   "cell_type": "code",
   "execution_count": 106,
   "id": "64b25723",
   "metadata": {},
   "outputs": [
    {
     "name": "stdout",
     "output_type": "stream",
     "text": [
      "({'l1': 0}, 1.3160626888275146)\n"
     ]
    },
    {
     "name": "stderr",
     "output_type": "stream",
     "text": [
      "C:\\Users\\sswei\\anaconda3\\lib\\site-packages\\sklearn\\model_selection\\_search.py:918: UserWarning: One or more of the test scores are non-finite: [-4.73307910e+00 -4.73006978e+00 -4.71202443e+00 -5.32375379e+00\n",
      " -8.74409662e+00 -1.86165903e+01 -4.63479032e+01 -1.13869391e+02\n",
      " -1.87446335e+02 -3.42421415e+02 -5.45421747e+02 -7.54245535e+02\n",
      " -9.67662982e+02 -1.18623452e+03 -1.63121778e+03 -2.08661727e+03\n",
      " -2.55075349e+03 -3.47653626e+03 -4.41180502e+03 -6.82343665e+03\n",
      " -9.01346017e+03 -4.73320786e+00 -4.73022749e+00 -4.71213712e+00\n",
      " -5.31990869e+00 -8.75631344e+00 -1.86684456e+01 -4.63755768e+01\n",
      " -1.13875278e+02 -1.87548763e+02 -3.42752923e+02 -5.45223501e+02\n",
      " -7.54198446e+02 -9.67839428e+02 -1.18404973e+03 -1.62212671e+03\n",
      " -2.07439483e+03 -2.52688522e+03 -3.41415077e+03 -4.29811135e+03\n",
      " -6.63446560e+03 -8.70575254e+03 -4.73437760e+00 -4.73144171e+00\n",
      " -4.71401619e+00 -5.32582815e+00 -8.76791138e+00 -1.86824184e+01\n",
      " -4.63972008e+01 -1.13930952e+02 -1.87595299e+02 -3.42815817e+02\n",
      " -5.45446344e+02 -7.54325953e+02 -9.68268579e+02 -1.18588133e+03\n",
      " -1.63040971e+03 -2.08389091e+03 -2.54454697e+03 -3.47837311e+03\n",
      "             nan -6.74113837e+03 -8.98305339e+03 -4.74743677e+00\n",
      " -4.74513469e+00 -4.73291870e+00 -5.39311604e+00 -8.89912266e+00\n",
      " -1.88954950e+01 -4.66850720e+01 -1.14305931e+02 -1.87999377e+02\n",
      " -3.43250864e+02 -5.45873970e+02 -7.54748019e+02 -9.68550097e+02\n",
      " -1.18625239e+03 -1.63080436e+03 -2.08458694e+03 -2.54493599e+03\n",
      " -3.47717314e+03 -4.41851728e+03 -6.74138841e+03 -8.98550190e+03\n",
      " -4.77471121e+00 -4.77331448e+00 -4.77027214e+00 -5.50923012e+00\n",
      " -9.11818258e+00 -1.92358054e+01 -4.71701050e+01 -1.14915202e+02\n",
      " -1.88690587e+02 -3.43961493e+02 -5.46559696e+02 -7.55483985e+02\n",
      " -9.69361048e+02 -1.18683343e+03 -1.63148689e+03 -2.08523594e+03\n",
      " -2.54585927e+03 -3.47880255e+03             nan -6.74220579e+03\n",
      " -8.97988127e+03 -4.83563648e+00 -4.83576486e+00 -4.84709320e+00\n",
      " -5.71802945e+00 -9.49965689e+00 -1.98150420e+01 -4.80017970e+01\n",
      " -1.15952609e+02 -1.89836273e+02 -3.45157180e+02 -5.47815176e+02\n",
      " -7.56722292e+02 -9.70551612e+02 -1.18825275e+03 -1.63283081e+03\n",
      " -2.08648265e+03 -2.54689622e+03 -3.47900327e+03 -4.41675177e+03\n",
      " -6.73641171e+03             nan -5.01423578e+00 -5.01784597e+00\n",
      " -5.05771461e+00 -6.18668497e+00 -1.03063106e+01 -2.10235666e+01\n",
      " -4.96488254e+01 -1.18046744e+02 -1.92135526e+02 -3.47537747e+02\n",
      " -5.50475115e+02 -7.59253994e+02 -9.73174766e+02 -1.19122006e+03\n",
      " -1.63566575e+03 -2.08963887e+03 -2.54922661e+03 -3.48263460e+03\n",
      " -4.41909996e+03 -6.74521337e+03 -8.98978224e+03 -5.60101091e+00\n",
      " -5.61054160e+00 -5.70629232e+00 -7.32726387e+00 -1.20913886e+01\n",
      " -2.35576412e+01 -5.31002865e+01 -1.22298321e+02 -1.96856357e+02\n",
      " -3.52436843e+02 -5.55514523e+02 -7.64183630e+02 -9.78274411e+02\n",
      " -1.19615794e+03 -1.64057474e+03 -2.09446334e+03 -2.55401499e+03\n",
      " -3.48773931e+03 -4.42537076e+03 -6.75169475e+03 -8.99726696e+03\n",
      " -6.49339391e+00 -6.50902048e+00 -6.65488124e+00 -8.74456354e+00\n",
      " -1.41181568e+01 -2.62951489e+01 -5.66569228e+01 -1.26658421e+02\n",
      " -2.01524984e+02 -3.57266650e+02 -5.60726076e+02 -7.69262481e+02\n",
      " -9.83648491e+02 -1.20154095e+03 -1.64640002e+03 -2.10000507e+03\n",
      " -2.56053718e+03 -3.49135374e+03 -4.42668065e+03 -6.75198739e+03\n",
      " -8.99385472e+03 -9.19613016e+00 -9.22245907e+00 -9.46018242e+00\n",
      " -1.23930946e+01 -1.88625653e+01 -3.23267870e+01 -6.42118720e+01\n",
      " -1.35620382e+02 -2.11122901e+02 -3.67175668e+02 -5.71131007e+02\n",
      " -7.79632599e+02 -9.93993316e+02 -1.21225861e+03 -1.65658962e+03\n",
      " -2.10952478e+03 -2.56913434e+03 -3.50215724e+03 -4.44358405e+03\n",
      " -6.76511860e+03 -9.00441195e+03 -1.42936671e+01 -1.43312403e+01\n",
      " -1.46683586e+01 -1.84839423e+01 -2.61091022e+01 -4.09271261e+01\n",
      " -7.44117947e+01 -1.47325485e+02 -2.23537792e+02 -3.79778837e+02\n",
      " -5.84210774e+02 -7.92166645e+02 -1.00699440e+03 -1.22561257e+03\n",
      " -1.66967449e+03 -2.12218703e+03 -2.58154826e+03 -3.51486560e+03\n",
      " -4.45418698e+03 -6.78026876e+03 -9.02381023e+03 -2.13023183e+01\n",
      " -2.13508588e+01 -2.17634084e+01 -2.62790862e+01 -3.48283956e+01\n",
      " -5.07220366e+01 -8.54607348e+01 -1.59532266e+02 -2.36331440e+02\n",
      " -3.92556841e+02 -5.97514085e+02 -8.05137800e+02 -1.02025570e+03\n",
      " -1.23872035e+03 -1.68295138e+03 -2.13514489e+03 -2.59565393e+03\n",
      " -3.53029799e+03 -4.46862426e+03 -6.79434240e+03 -9.03719464e+03\n",
      " -3.02193447e+01 -3.02737834e+01 -3.07450774e+01 -3.57803698e+01\n",
      " -4.50144291e+01 -6.17057526e+01 -9.73554512e+01 -1.72293411e+02\n",
      " -2.49557352e+02 -4.05759133e+02 -6.11004710e+02 -8.18093284e+02\n",
      " -1.03355842e+03 -1.25234085e+03 -1.69630074e+03 -2.14800374e+03\n",
      " -2.60746803e+03 -3.54192703e+03 -4.48073180e+03 -6.80582776e+03\n",
      " -9.00717580e+03 -4.10475267e+01 -4.11047960e+01 -4.16154669e+01\n",
      " -4.69857428e+01 -5.66579726e+01 -7.38624992e+01 -1.10132432e+02\n",
      " -1.85615275e+02 -2.63114553e+02 -4.18996095e+02 -6.24681115e+02\n",
      " -8.31460060e+02 -1.04700815e+03 -1.26566740e+03 -1.70977206e+03\n",
      " -2.16049661e+03 -2.62045940e+03 -3.55627459e+03 -4.49732729e+03\n",
      " -6.82092648e+03 -9.06979161e+03 -6.84383514e+01 -6.84945450e+01\n",
      " -6.90195122e+01 -7.45116700e+01 -8.43501350e+01 -1.01739443e+02\n",
      " -1.38206992e+02 -2.13842270e+02 -2.91266654e+02 -4.46501105e+02\n",
      " -6.51718121e+02 -8.58311670e+02 -1.07411336e+03 -1.29270467e+03\n",
      " -1.73624192e+03 -2.18663330e+03 -2.64562239e+03 -3.58219922e+03\n",
      " -4.52176965e+03 -6.85029207e+03 -9.08043887e+03 -1.03464181e+02\n",
      " -1.03515057e+02 -1.03977316e+02 -1.08854848e+02 -1.17900505e+02\n",
      " -1.34359769e+02 -1.69686881e+02 -2.44295037e+02 -3.19989694e+02\n",
      " -4.75203516e+02 -6.79053477e+02 -8.85820212e+02 -1.10148857e+03\n",
      " -1.31975365e+03 -1.76340924e+03 -2.21240353e+03 -2.67145470e+03\n",
      " -3.60805118e+03 -4.54847892e+03 -6.85882805e+03 -9.12785814e+03\n",
      " -1.46140000e+02 -1.46171364e+02 -1.46482991e+02 -1.50022242e+02\n",
      " -1.57320134e+02 -1.71730947e+02 -2.04598976e+02 -2.76900792e+02\n",
      " -3.50291131e+02 -5.04659425e+02 -7.07163631e+02 -9.13955202e+02\n",
      " -1.12895497e+03 -1.34694254e+03 -1.79052416e+03 -2.23888155e+03\n",
      " -2.69770736e+03 -3.63501449e+03 -4.57679886e+03 -6.90660904e+03\n",
      "             nan -2.54424013e+02 -2.54395804e+02 -2.54149587e+02\n",
      " -2.52812594e+02 -2.53742046e+02 -2.60661892e+02 -2.84632535e+02\n",
      " -3.45399113e+02 -4.15144050e+02 -5.66723530e+02 -7.65121324e+02\n",
      " -9.71028623e+02 -1.18427588e+03 -1.40218381e+03 -1.84559229e+03\n",
      " -2.29233623e+03 -2.75040705e+03 -3.68868599e+03 -4.63128002e+03\n",
      "             nan -9.21431287e+03 -3.82804032e+02 -3.82707368e+02\n",
      " -3.81827939e+02 -3.74443687e+02 -3.66915773e+02 -3.63432923e+02\n",
      " -3.73970832e+02 -4.21948246e+02 -4.86102811e+02 -6.30099613e+02\n",
      " -8.25274679e+02 -1.02873421e+03 -1.24051478e+03 -1.45854673e+03\n",
      " -1.90038029e+03 -2.34661752e+03 -2.80405376e+03 -3.74287460e+03\n",
      " -4.68502949e+03             nan -9.20037504e+03 -7.40870413e+02\n",
      " -7.40663920e+02 -7.38733968e+02 -7.21342305e+02 -6.92285462e+02\n",
      " -6.57273753e+02 -6.27851626e+02 -6.33459874e+02 -6.74647970e+02\n",
      " -7.96691450e+02 -9.79785911e+02 -1.17773477e+03 -1.38711693e+03\n",
      " -1.60355133e+03 -2.04023739e+03 -2.48505768e+03 -2.94182862e+03\n",
      " -3.87987807e+03 -4.82689471e+03             nan             nan\n",
      " -1.04373323e+03 -1.04346364e+03 -1.04101474e+03 -1.01885879e+03\n",
      " -9.88930773e+02 -9.51101501e+02 -8.90449610e+02 -8.56387549e+02\n",
      " -8.75382020e+02 -9.73999818e+02 -1.14221747e+03 -1.33426522e+03\n",
      " -1.53870707e+03 -1.75185354e+03 -2.18445902e+03 -2.62913173e+03\n",
      " -3.08494808e+03 -4.02102674e+03 -4.96840198e+03 -7.25761411e+03\n",
      "             nan]\n",
      "  warnings.warn(\n",
      "C:\\Users\\sswei\\anaconda3\\lib\\site-packages\\cvxpy\\problems\\problem.py:1296: UserWarning: Solution may be inaccurate. Try another solver, adjusting the solver settings, or solve with verbose=True for more information.\n",
      "  warnings.warn(\n"
     ]
    },
    {
     "name": "stdout",
     "output_type": "stream",
     "text": [
      "({'l1': 0, 'l2': 0.01}, 43.800865173339844)\n",
      "({'l1': 0.001, 'l2': 75}, 37.714072465896606)\n",
      "({'l1': 1, 'l2': 25}, 32.19362998008728)\n"
     ]
    }
   ],
   "source": [
    "print(naive_cv_lasso(X, y))\n",
    "print(naive_cv(EN, X, y))\n",
    "print(naive_cv(FL, X, y, D))\n",
    "print(naive_cv(SL, X, y, D))"
   ]
  },
  {
   "cell_type": "code",
   "execution_count": 107,
   "id": "f9a5d33e",
   "metadata": {},
   "outputs": [
    {
     "name": "stdout",
     "output_type": "stream",
     "text": [
      "({'l1': 10, 'l2': 5, 'l3': 0}, 79.10178089141846)\n",
      "({'l1': 7.5, 'l2': 0, 'l3': 0}, 39.087626218795776)\n"
     ]
    }
   ],
   "source": [
    "print(naive_cv_gtv_small(X, y, D_oracle))\n",
    "print(naive_cv_gtv(X, y, D_w))"
   ]
  },
  {
   "cell_type": "code",
   "execution_count": 113,
   "id": "04a96a11",
   "metadata": {
    "scrolled": false
   },
   "outputs": [
    {
     "data": {
      "text/plain": [
       "({'l1': 20, 'l2': 15}, 30.106375694274902)"
      ]
     },
     "execution_count": 113,
     "metadata": {},
     "output_type": "execute_result"
    }
   ],
   "source": [
    "naive_cv(OUR, X, y, D)"
   ]
  },
  {
   "cell_type": "code",
   "execution_count": 43,
   "id": "f5c80b09",
   "metadata": {},
   "outputs": [],
   "source": [
    "def trial1():\n",
    "    X, y = gauss_sample(n, p, beta_star, Psi, sigma)\n",
    "    clf1 = OLR().fit(X, y)\n",
    "    clf2 = LA(l1 = 0).fit(X,y)\n",
    "    clf3 = EN(l1= 0, l2=0.01).fit(X,y)\n",
    "    clf4 = FL(0.025, 40, D).fit(X,y)\n",
    "    clf5 = SL(0, 20, D).fit(X,y)\n",
    "    clf6 = GTV(7.5, 0, 0, D_w).fit(X,y)\n",
    "    clf7 = GTV(10, 5, 0, D_oracle).fit(X,y)\n",
    "    clf8 = OUR(20, 15, D).fit(X,y)\n",
    "    return [c.l2_risk(beta_star) for c in [clf1, clf2, clf3, clf4, clf5, clf6, clf7, clf8]]\n",
    "\n",
    "def trial2():\n",
    "    X, y = gauss_sample(n, p, beta_star, Psi, sigma)\n",
    "    clf1 = OLR().fit(X, y)\n",
    "    clf2 = LA(l1 = 0).fit(X,y)\n",
    "    clf3 = EN(l1= 0, l2=0.01).fit(X,y)\n",
    "    clf4 = FL(0.025, 40, D).fit(X,y)\n",
    "    clf5 = SL(0, 20, D).fit(X,y)\n",
    "    clf6 = GTV(7.5, 0, 0, D_w).fit(X,y)\n",
    "    clf7 = GTV(10, 5, 0, D_oracle).fit(X,y)\n",
    "    clf8 = OUR(20, 15, D).fit(X,y)\n",
    "    X2, y2 = gauss_sample(n, p, beta_star, Psi, sigma)\n",
    "    return [-c.score(X2, X2@beta_star) for c in [clf1, clf2, clf3, clf4, clf5, clf6, clf7, clf8]]"
   ]
  },
  {
   "cell_type": "code",
   "execution_count": 44,
   "id": "fea2a00e",
   "metadata": {},
   "outputs": [],
   "source": [
    "l2s = Parallel(n_jobs=8)(delayed(trial1)() for i in range(500))\n",
    "preds = Parallel(n_jobs=8)(delayed(trial2)() for i in range(500))"
   ]
  },
  {
   "cell_type": "code",
   "execution_count": 45,
   "id": "c0cade42",
   "metadata": {},
   "outputs": [],
   "source": [
    "er1 = [l[0] for l in l2s]\n",
    "er2 = [l[1] for l in l2s]\n",
    "er3 = [l[2] for l in l2s]\n",
    "er4 = [l[3] for l in l2s]\n",
    "er5 = [l[4] for l in l2s]\n",
    "er6 = [l[5] for l in l2s]\n",
    "er7 = [l[6] for l in l2s]\n",
    "er8 = [l[7] for l in l2s]"
   ]
  },
  {
   "cell_type": "code",
   "execution_count": 46,
   "id": "64b6d582",
   "metadata": {},
   "outputs": [],
   "source": [
    "ep1 = [l[0] for l in preds]\n",
    "ep2 = [l[1] for l in preds]\n",
    "ep3 = [l[2] for l in preds]\n",
    "ep4 = [l[3] for l in preds]\n",
    "ep5 = [l[4] for l in preds]\n",
    "ep6 = [l[5] for l in preds]\n",
    "ep7 = [l[6] for l in preds]\n",
    "ep8 = [l[7] for l in preds]"
   ]
  },
  {
   "cell_type": "code",
   "execution_count": 118,
   "id": "978d9beb",
   "metadata": {},
   "outputs": [
    {
     "data": {
      "image/png": "[encoded data removed]",
      "text/plain": [
       "<Figure size 432x288 with 1 Axes>"
      ]
     },
     "metadata": {
      "needs_background": "light"
     },
     "output_type": "display_data"
    }
   ],
   "source": [
    "plt.boxplot([er1, er2, er3, er4, er5, er6, er7, er8])\n",
    "plt.yscale(\"log\")"
   ]
  },
  {
   "cell_type": "code",
   "execution_count": 119,
   "id": "268b0980",
   "metadata": {
    "scrolled": true
   },
   "outputs": [
    {
     "data": {
      "image/png": "[encoded data removed]",
      "text/plain": [
       "<Figure size 432x288 with 1 Axes>"
      ]
     },
     "metadata": {
      "needs_background": "light"
     },
     "output_type": "display_data"
    }
   ],
   "source": [
    "plt.boxplot([ep1, ep2, ep3, ep4, ep5, ep6, ep7, ep8])\n",
    "plt.yscale(\"log\")"
   ]
  },
  {
   "cell_type": "markdown",
   "id": "17fb4948",
   "metadata": {},
   "source": [
    "### n = 210"
   ]
  },
  {
   "cell_type": "code",
   "execution_count": 47,
   "id": "778bbafa",
   "metadata": {},
   "outputs": [],
   "source": [
    "n = 210"
   ]
  },
  {
   "cell_type": "code",
   "execution_count": 48,
   "id": "8afed25c",
   "metadata": {},
   "outputs": [
    {
     "data": {
      "text/plain": [
       "({'t': 0.25}, 0.04899144172668457)"
      ]
     },
     "execution_count": 48,
     "metadata": {},
     "output_type": "execute_result"
    }
   ],
   "source": [
    "X, y = gauss_sample(n, p, beta_star, Psi, sigma)\n",
    "naive_cv_cov(X)"
   ]
  },
  {
   "cell_type": "code",
   "execution_count": 49,
   "id": "e0618bd3",
   "metadata": {},
   "outputs": [],
   "source": [
    "D_w = weighted_incidence(cov_est(0.25).fit(X).S)"
   ]
  },
  {
   "cell_type": "code",
   "execution_count": 145,
   "id": "bdb8e743",
   "metadata": {},
   "outputs": [
    {
     "name": "stdout",
     "output_type": "stream",
     "text": [
      "({'l1': 0}, 1.4495007991790771)\n"
     ]
    },
    {
     "name": "stderr",
     "output_type": "stream",
     "text": [
      "C:\\Users\\sswei\\anaconda3\\lib\\site-packages\\sklearn\\model_selection\\_search.py:918: UserWarning: One or more of the test scores are non-finite: [-3.17045787e+00 -3.17172106e+00 -3.18541400e+00 -3.53420193e+00\n",
      " -4.87167305e+00 -8.77949049e+00 -2.10588672e+01 -5.68573216e+01\n",
      " -1.01796694e+02 -2.08313881e+02 -3.60723956e+02 -5.26152980e+02\n",
      " -7.01127755e+02 -8.82426203e+02 -1.26101467e+03 -1.65245739e+03\n",
      " -2.05431655e+03 -2.87870616e+03 -3.70992673e+03 -5.81910236e+03\n",
      " -7.76788956e+03 -3.17053267e+00 -3.17179291e+00 -3.18536443e+00\n",
      " -3.53470198e+00 -4.87287346e+00 -8.78098403e+00 -2.10718283e+01\n",
      " -5.68452715e+01 -1.01832925e+02 -2.08333020e+02 -3.60723575e+02\n",
      " -5.26384853e+02 -7.00313924e+02 -8.80612669e+02 -1.25949059e+03\n",
      " -1.64451603e+03 -2.05027897e+03 -2.82243228e+03 -3.61433647e+03\n",
      " -5.62716691e+03 -7.61821554e+03 -3.17119523e+00 -3.17246884e+00\n",
      " -3.18624363e+00 -3.53666645e+00 -4.87756635e+00 -8.79054611e+00\n",
      " -2.10859207e+01 -5.68574385e+01 -1.01849723e+02 -2.08399523e+02\n",
      " -3.60697082e+02 -5.26476058e+02 -7.01237154e+02 -8.82892858e+02\n",
      " -1.26099167e+03 -1.65303450e+03 -2.05500752e+03 -2.87662603e+03\n",
      " -3.71078090e+03 -5.80273990e+03 -7.83983030e+03 -3.17809062e+00\n",
      " -3.17952461e+00 -3.19456555e+00 -3.55698371e+00 -4.91723151e+00\n",
      " -8.85214875e+00 -2.11854814e+01 -5.70186657e+01 -1.02052530e+02\n",
      " -2.08665853e+02 -3.61090902e+02 -5.26810732e+02 -7.01608925e+02\n",
      " -8.83127395e+02 -1.26136609e+03 -1.65337428e+03 -2.05535196e+03\n",
      " -2.87641542e+03 -3.71403791e+03 -5.80184418e+03 -7.83893818e+03\n",
      " -3.19061618e+00 -3.19237015e+00 -3.20949252e+00 -3.59310697e+00\n",
      " -4.98185649e+00 -8.96151999e+00 -2.13664088e+01 -5.72858276e+01\n",
      " -1.02379070e+02 -2.09076225e+02 -3.61516280e+02 -5.27217652e+02\n",
      " -7.02181204e+02 -8.83858691e+02 -1.26180956e+03 -1.65362249e+03\n",
      " -2.05606230e+03 -2.87754249e+03 -3.71210506e+03 -5.80426824e+03\n",
      " -7.83903242e+03 -3.21454461e+00 -3.21658392e+00 -3.23738356e+00\n",
      " -3.65405788e+00 -5.09450337e+00 -9.14383486e+00 -2.16564496e+01\n",
      " -5.77369360e+01 -1.02948846e+02 -2.09752650e+02 -3.62326801e+02\n",
      " -5.28064371e+02 -7.03056237e+02 -8.84781986e+02 -1.26265419e+03\n",
      " -1.65512312e+03 -2.05663699e+03 -2.87929256e+03 -3.71400788e+03\n",
      " -5.80362534e+03 -7.84077601e+03 -3.27343053e+00 -3.27627606e+00\n",
      " -3.30401554e+00 -3.78727897e+00 -5.32735254e+00 -9.51834748e+00\n",
      " -2.22558987e+01 -5.86301499e+01 -1.04044924e+02 -2.11184810e+02\n",
      " -3.63928376e+02 -5.29878530e+02 -7.05042619e+02 -8.86493256e+02\n",
      " -1.26533093e+03 -1.65666889e+03 -2.05893114e+03 -2.88054082e+03\n",
      " -3.71459693e+03 -5.80699382e+03 -7.85194075e+03 -3.43620327e+00\n",
      " -3.44040542e+00 -3.48184660e+00 -4.09805960e+00 -5.83266175e+00\n",
      " -1.03055574e+01 -2.34772490e+01 -6.04606229e+01 -1.06292708e+02\n",
      " -2.13978320e+02 -3.67149827e+02 -5.33321531e+02 -7.08826655e+02\n",
      " -8.90440507e+02 -1.26905852e+03 -1.66132266e+03 -2.06380678e+03\n",
      " -2.88561945e+03 -3.72099828e+03 -5.81169584e+03 -7.84550846e+03\n",
      " -3.65804350e+00 -3.66384949e+00 -3.71920994e+00 -4.46332410e+00\n",
      " -6.39474472e+00 -1.11465570e+01 -2.47449805e+01 -6.23252431e+01\n",
      " -1.08559359e+02 -2.16783416e+02 -3.70457484e+02 -5.36887106e+02\n",
      " -7.12558760e+02 -8.94206407e+02 -1.27289709e+03 -1.66547244e+03\n",
      " -2.06746842e+03 -2.88911157e+03 -3.72554291e+03 -5.81604222e+03\n",
      "             nan -4.28073833e+00 -4.28930397e+00 -4.37105118e+00\n",
      " -5.37003513e+00 -7.67828204e+00 -1.29594132e+01 -2.74023224e+01\n",
      " -6.61383483e+01 -1.13173001e+02 -2.22508702e+02 -3.77119154e+02\n",
      " -5.43872654e+02 -7.19771345e+02 -9.01854666e+02 -1.28090368e+03\n",
      " -1.67343240e+03 -2.07734079e+03 -2.89881700e+03 -3.73719174e+03\n",
      " -5.82508282e+03 -7.86290310e+03 -5.39452202e+00 -5.40670466e+00\n",
      " -5.52133541e+00 -6.82082014e+00 -9.58372318e+00 -1.55119521e+01\n",
      " -3.09578198e+01 -7.10838034e+01 -1.19110060e+02 -2.29788989e+02\n",
      " -3.85440541e+02 -5.52651701e+02 -7.29135518e+02 -9.11742846e+02\n",
      " -1.29097154e+03 -1.68417760e+03 -2.08703120e+03 -2.91248940e+03\n",
      " -3.74636086e+03 -5.83757228e+03 -7.86401484e+03 -6.88003087e+00\n",
      " -6.89612570e+00 -7.04007712e+00 -8.63129583e+00 -1.18281491e+01\n",
      " -1.83683133e+01 -3.47835430e+01 -7.62784660e+01 -1.25266119e+02\n",
      " -2.37176147e+02 -3.93836593e+02 -5.61794669e+02 -7.38489751e+02\n",
      " -9.21330645e+02 -1.30141737e+03 -1.69392222e+03 -2.09729828e+03\n",
      " -2.92293532e+03 -3.75900374e+03 -5.85361195e+03 -7.89019612e+03\n",
      " -8.73921812e+00 -8.75764713e+00 -8.93041085e+00 -1.07950050e+01\n",
      " -1.44023097e+01 -2.15258957e+01 -3.88680499e+01 -8.16687195e+01\n",
      " -1.31515075e+02 -2.44705935e+02 -4.02410251e+02 -5.70686318e+02\n",
      " -7.48190312e+02 -9.31507491e+02 -1.31179271e+03 -1.70430776e+03\n",
      " -2.10844128e+03 -2.92905154e+03 -3.76744626e+03 -5.82821825e+03\n",
      " -7.91359425e+03 -1.09694539e+01 -1.09906604e+01 -1.11898664e+01\n",
      " -1.33154304e+01 -1.73130376e+01 -2.50002441e+01 -4.32114848e+01\n",
      " -8.72374684e+01 -1.38008459e+02 -2.52384665e+02 -4.11085482e+02\n",
      " -5.79862648e+02 -7.57670394e+02 -9.40961714e+02 -1.32200259e+03\n",
      " -1.71538743e+03 -2.12022636e+03 -2.94578302e+03 -3.78451460e+03\n",
      " -5.88001684e+03 -7.88478692e+03 -1.65456737e+01 -1.65725442e+01\n",
      " -1.68235912e+01 -1.94277887e+01 -2.41477436e+01 -3.28576927e+01\n",
      " -5.27049621e+01 -9.90677242e+01 -1.51424838e+02 -2.68127411e+02\n",
      " -4.28717991e+02 -5.98347437e+02 -7.76971658e+02 -9.60805466e+02\n",
      " -1.34309644e+03 -1.73663199e+03 -2.14156669e+03 -2.97096497e+03\n",
      " -3.80871889e+03 -5.90074802e+03             nan -2.36114524e+01\n",
      " -2.36433058e+01 -2.39365570e+01 -2.69628037e+01 -3.23148810e+01\n",
      " -4.19432118e+01 -6.32541555e+01 -1.11700389e+02 -1.65593621e+02\n",
      " -2.84386261e+02 -4.46504696e+02 -6.17127455e+02 -7.96263558e+02\n",
      " -9.81132886e+02 -1.36400135e+03 -1.75792655e+03 -2.16316763e+03\n",
      " -2.99307713e+03 -3.83022586e+03             nan -7.94662466e+03\n",
      " -3.21639673e+01 -3.22010141e+01 -3.25330983e+01 -3.59215998e+01\n",
      " -4.18200293e+01 -5.22492714e+01 -7.48538473e+01 -1.25194183e+02\n",
      " -1.80454767e+02 -3.01218372e+02 -4.64659705e+02 -6.36368112e+02\n",
      " -8.15992765e+02 -1.00124478e+03 -1.38486822e+03 -1.77900320e+03\n",
      " -2.18518032e+03 -3.01508920e+03 -3.85459353e+03 -5.94890094e+03\n",
      " -7.91402896e+03 -5.37391578e+01 -5.37828786e+01 -5.41724161e+01\n",
      " -5.81165331e+01 -6.48674975e+01 -7.65475321e+01 -1.01218127e+02\n",
      " -1.54689232e+02 -2.12290577e+02 -3.36440963e+02 -5.02134204e+02\n",
      " -6.75184477e+02 -8.56355492e+02 -1.04230682e+03 -1.42682269e+03\n",
      " -1.82285947e+03 -2.23009959e+03 -3.06324427e+03 -3.90306263e+03\n",
      " -5.99543188e+03 -8.03984352e+03 -8.12677175e+01 -8.13147469e+01\n",
      " -8.17389208e+01 -8.60116137e+01 -9.32734555e+01 -1.05742826e+02\n",
      " -1.31803059e+02 -1.87501948e+02 -2.46936235e+02 -3.73813425e+02\n",
      " -5.41329238e+02 -7.15369677e+02 -8.97545607e+02 -1.08416289e+03\n",
      " -1.46923170e+03 -1.86689985e+03 -2.27543585e+03 -3.11032157e+03\n",
      " -3.95258026e+03 -6.04090684e+03             nan -1.76140583e+02\n",
      " -1.76185508e+02 -1.76590521e+02 -1.80689446e+02 -1.87778070e+02\n",
      " -2.00206683e+02 -2.26718703e+02 -2.84253933e+02 -3.45765637e+02\n",
      " -4.76270679e+02 -6.44748957e+02 -8.20134177e+02 -1.00338087e+03\n",
      " -1.19081548e+03 -1.57922467e+03 -1.98117823e+03 -2.39168795e+03\n",
      " -3.23210754e+03 -4.07878205e+03 -6.17321512e+03             nan\n",
      " -3.07900464e+02 -3.07908984e+02 -3.08146288e+02 -3.10676415e+02\n",
      " -3.15543228e+02 -3.25065644e+02 -3.47748164e+02 -4.01037750e+02\n",
      " -4.60145788e+02 -5.86935515e+02 -7.54832426e+02 -9.29624377e+02\n",
      " -1.11256781e+03 -1.30199460e+03 -1.69362824e+03 -2.09950051e+03\n",
      " -2.51346803e+03 -3.35494553e+03 -4.20321790e+03 -6.30563084e+03\n",
      "             nan]\n",
      "  warnings.warn(\n"
     ]
    },
    {
     "name": "stdout",
     "output_type": "stream",
     "text": [
      "({'l1': 0, 'l2': 0}, 52.88761758804321)\n",
      "({'l1': 0, 'l2': 75}, 42.87274765968323)\n",
      "({'l1': 0.5, 'l2': 25}, 35.67892837524414)\n"
     ]
    }
   ],
   "source": [
    "print(naive_cv_lasso(X, y))\n",
    "print(naive_cv(EN, X, y))\n",
    "print(naive_cv(FL, X, y, D))\n",
    "print(naive_cv(SL, X, y, D))"
   ]
  },
  {
   "cell_type": "code",
   "execution_count": 150,
   "id": "22f847b2",
   "metadata": {},
   "outputs": [
    {
     "name": "stdout",
     "output_type": "stream",
     "text": [
      "({'l1': 0, 'l2': 0}, 48.09465432167053)\n"
     ]
    }
   ],
   "source": [
    "print(naive_cv(EN, X, y, D))"
   ]
  },
  {
   "cell_type": "code",
   "execution_count": 146,
   "id": "0254c0b4",
   "metadata": {},
   "outputs": [
    {
     "name": "stdout",
     "output_type": "stream",
     "text": [
      "({'l1': 10, 'l2': 5, 'l3': 0}, 86.75226831436157)\n",
      "({'l1': 7.5, 'l2': 1, 'l3': 0}, 43.35223889350891)\n"
     ]
    }
   ],
   "source": [
    "print(naive_cv_gtv_small(X, y, D_oracle))\n",
    "print(naive_cv_gtv(X, y, D_w))"
   ]
  },
  {
   "cell_type": "code",
   "execution_count": 147,
   "id": "310d0329",
   "metadata": {},
   "outputs": [
    {
     "data": {
      "text/plain": [
       "({'l1': 75, 'l2': 20}, 37.84493684768677)"
      ]
     },
     "execution_count": 147,
     "metadata": {},
     "output_type": "execute_result"
    }
   ],
   "source": [
    "naive_cv(OUR, X, y, D)"
   ]
  },
  {
   "cell_type": "code",
   "execution_count": 50,
   "id": "89864dc7",
   "metadata": {},
   "outputs": [],
   "source": [
    "def trial1():\n",
    "    X, y = gauss_sample(n, p, beta_star, Psi, sigma)\n",
    "    clf1 = OLR().fit(X, y)\n",
    "    clf2 = LA(l1 = 0).fit(X,y)\n",
    "    clf3 = EN(l1= 0, l2=0).fit(X,y)\n",
    "    clf4 = FL(0, 75, D).fit(X,y)\n",
    "    clf5 = SL(0.5, 25, D).fit(X,y)\n",
    "    clf6 = GTV(7.5, 1, 0, D_w).fit(X,y)\n",
    "    clf7 = GTV(10, 5, 0, D_oracle).fit(X,y)\n",
    "    clf8 = OUR(75, 20, D).fit(X,y)\n",
    "    return [c.l2_risk(beta_star) for c in [clf1, clf2, clf3, clf4, clf5, clf6, clf7, clf8]]\n",
    "\n",
    "def trial2():\n",
    "    X, y = gauss_sample(n, p, beta_star, Psi, sigma)\n",
    "    clf1 = OLR().fit(X, y)\n",
    "    clf2 = LA(l1 = 0).fit(X,y)\n",
    "    clf3 = EN(l1= 0, l2=0).fit(X,y)\n",
    "    clf4 = FL(0, 75, D).fit(X,y)\n",
    "    clf5 = SL(0.5, 25, D).fit(X,y)\n",
    "    clf6 = GTV(7.5, 1, 0, D_w).fit(X,y)\n",
    "    clf7 = GTV(10, 5, 0, D_oracle).fit(X,y)\n",
    "    clf8 = OUR(75, 20, D).fit(X,y)\n",
    "    X2, y2 = gauss_sample(n, p, beta_star, Psi, sigma)\n",
    "    return [-c.score(X2, X2@beta_star) for c in [clf1, clf2, clf3, clf4, clf5, clf6, clf7, clf8]]"
   ]
  },
  {
   "cell_type": "code",
   "execution_count": 51,
   "id": "fded774c",
   "metadata": {},
   "outputs": [],
   "source": [
    "l2s = Parallel(n_jobs=8)(delayed(trial1)() for i in range(500))\n",
    "preds = Parallel(n_jobs=8)(delayed(trial2)() for i in range(500))"
   ]
  },
  {
   "cell_type": "code",
   "execution_count": 52,
   "id": "ccffc5ae",
   "metadata": {},
   "outputs": [],
   "source": [
    "fr1 = [l[0] for l in l2s]\n",
    "fr2 = [l[1] for l in l2s]\n",
    "fr3 = [l[2] for l in l2s]\n",
    "fr4 = [l[3] for l in l2s]\n",
    "fr5 = [l[4] for l in l2s]\n",
    "fr6 = [l[5] for l in l2s]\n",
    "fr7 = [l[6] for l in l2s]\n",
    "fr8 = [l[7] for l in l2s]"
   ]
  },
  {
   "cell_type": "code",
   "execution_count": 53,
   "id": "ef8d4e07",
   "metadata": {},
   "outputs": [],
   "source": [
    "fp1 = [l[0] for l in preds]\n",
    "fp2 = [l[1] for l in preds]\n",
    "fp3 = [l[2] for l in preds]\n",
    "fp4 = [l[3] for l in preds]\n",
    "fp5 = [l[4] for l in preds]\n",
    "fp6 = [l[5] for l in preds]\n",
    "fp7 = [l[6] for l in preds]\n",
    "fp8 = [l[7] for l in preds]"
   ]
  },
  {
   "cell_type": "code",
   "execution_count": 155,
   "id": "f420e699",
   "metadata": {},
   "outputs": [
    {
     "data": {
      "image/png": "[encoded data removed]",
      "text/plain": [
       "<Figure size 432x288 with 1 Axes>"
      ]
     },
     "metadata": {
      "needs_background": "light"
     },
     "output_type": "display_data"
    }
   ],
   "source": [
    "plt.boxplot([fr1, fr2, fr3, fr4, fr5, fr6, fr7, fr8])\n",
    "plt.yscale(\"log\")"
   ]
  },
  {
   "cell_type": "code",
   "execution_count": 156,
   "id": "88fbe3c7",
   "metadata": {},
   "outputs": [
    {
     "data": {
      "image/png": "[encoded data removed]",
      "text/plain": [
       "<Figure size 432x288 with 1 Axes>"
      ]
     },
     "metadata": {
      "needs_background": "light"
     },
     "output_type": "display_data"
    }
   ],
   "source": [
    "plt.boxplot([fp1, fp2, fp3, fp4, fp5, fp6, fp7, fp8])\n",
    "plt.yscale(\"log\")"
   ]
  },
  {
   "cell_type": "markdown",
   "id": "e9e3c619",
   "metadata": {},
   "source": [
    "### plots"
   ]
  },
  {
   "cell_type": "code",
   "execution_count": 54,
   "id": "13d8b53c",
   "metadata": {},
   "outputs": [],
   "source": [
    "import matplotlib as mpl\n",
    "mpl.rcParams['mathtext.fontset'] = 'cm'"
   ]
  },
  {
   "cell_type": "code",
   "execution_count": 55,
   "id": "fec30b3a",
   "metadata": {},
   "outputs": [],
   "source": [
    "LA_risk_med = [np.median(r) for r in [ar1, br1, cr1, dr1, er1, fr1]]\n",
    "LA_risk_err = [[np.median(r) - np.quantile(r, 0.25) for r in [ar1, br1, cr1, dr1, er1, fr1]], [np.quantile(r, 0.75) - np.median(r) for r in [ar1, br1, cr1, dr1, er1, fr1]]]"
   ]
  },
  {
   "cell_type": "code",
   "execution_count": 56,
   "id": "64a1644a",
   "metadata": {},
   "outputs": [],
   "source": [
    "EN_risk_med = [np.median(r) for r in [ar3, br3, cr3, dr3, er3, fr3]]\n",
    "EN_risk_err = [[np.median(r) - np.quantile(r, 0.25) for r in [ar3, br3, cr3, dr3, er3, fr3]], [np.quantile(r, 0.75) - np.median(r) for r in [ar3, br3, cr3, dr3, er3, fr3]]]"
   ]
  },
  {
   "cell_type": "code",
   "execution_count": 57,
   "id": "8e35400c",
   "metadata": {},
   "outputs": [],
   "source": [
    "FL_risk_med = [np.median(r) for r in [ar4, br4, cr4, dr4, er4, fr4]]\n",
    "FL_risk_err = [[np.median(r) - np.quantile(r, 0.25) for r in [ar4, br4, cr4, dr4, er4, fr4]], [np.quantile(r, 0.75) - np.median(r) for r in [ar4, br4, cr4, dr4, er4, fr4]]]"
   ]
  },
  {
   "cell_type": "code",
   "execution_count": 58,
   "id": "5901c7ca",
   "metadata": {},
   "outputs": [],
   "source": [
    "SL_risk_med = [np.median(r) for r in [ar5, br5, cr5, dr5, er5, fr5]]\n",
    "SL_risk_err = [[np.median(r) - np.quantile(r, 0.25) for r in [ar5, br5, cr5, dr5, er5, fr5]], [np.quantile(r, 0.75) - np.median(r) for r in [ar5, br5, cr5, dr5, er5, fr5]]]"
   ]
  },
  {
   "cell_type": "code",
   "execution_count": 59,
   "id": "0e8dfd05",
   "metadata": {},
   "outputs": [],
   "source": [
    "GTVEST_risk_med = [np.median(r) for r in [ar6, br6, cr6, dr6, er6, fr6]]\n",
    "GTVEST_risk_err = [[np.median(r) - np.quantile(r, 0.25) for r in [ar6, br6, cr6, dr6, er6, fr6]], [np.quantile(r, 0.75) - np.median(r) for r in [ar6, br6, cr6, dr6, er6, fr6]]]"
   ]
  },
  {
   "cell_type": "code",
   "execution_count": 60,
   "id": "2ec50879",
   "metadata": {},
   "outputs": [],
   "source": [
    "GTVORC_risk_med = [np.median(r) for r in [ar7, br7, cr7, dr7, er7, fr7]]\n",
    "GTVORC_risk_err = [[np.median(r) - np.quantile(r, 0.25) for r in [ar7, br7, cr7, dr7, er7, fr7]], [np.quantile(r, 0.75) - np.median(r) for r in [ar7, br7, cr7, dr7, er7, fr7]]]"
   ]
  },
  {
   "cell_type": "code",
   "execution_count": 61,
   "id": "8288eb89",
   "metadata": {},
   "outputs": [],
   "source": [
    "GEN_risk_med = [np.median(r) for r in [ar8, br8, cr8, dr8, er8, fr8]]\n",
    "GEN_risk_err = [[np.median(r) - np.quantile(r, 0.25) for r in [ar8, br8, cr8, dr8, er8, fr8]], [np.quantile(r, 0.75) - np.median(r) for r in [ar8, br8, cr8, dr8, er8, fr8]]]"
   ]
  },
  {
   "cell_type": "code",
   "execution_count": 62,
   "id": "63902222",
   "metadata": {},
   "outputs": [],
   "source": [
    "xs = [\"60\",\"90\" ,\"120\" ,\"150\" ,\"180\", \"210\"]"
   ]
  },
  {
   "cell_type": "code",
   "execution_count": 72,
   "id": "ececb458",
   "metadata": {},
   "outputs": [
    {
     "data": {
      "image/png": "[encoded data removed]",
      "text/plain": [
       "<Figure size 432x288 with 1 Axes>"
      ]
     },
     "metadata": {
      "needs_background": "light"
     },
     "output_type": "display_data"
    }
   ],
   "source": [
    "plt.errorbar(xs, LA_risk_med, yerr = LA_risk_err, capsize = 2, color = 'brown', label = \"OLS, LASSO\")\n",
    "plt.errorbar(xs, EN_risk_med, yerr = EN_risk_err, color = 'violet', fmt = '--',label = \"EN\")\n",
    "plt.errorbar(xs, FL_risk_med, yerr = FL_risk_err, fmt = '-.',color = 'orange', label = \"FL\")\n",
    "plt.errorbar(xs, SL_risk_med, yerr = SL_risk_err, fmt = '-.', color = 'red', label = \"SL\")\n",
    "plt.errorbar(xs, GTVEST_risk_med, yerr = GTVEST_risk_err, capsize = 2, color = 'steelblue', label = \"GTV\")\n",
    "plt.errorbar(xs, GTVORC_risk_med, yerr = GTVORC_risk_err, color = 'deepskyblue', fmt = '--',label = \"GTV-oracle\", linewidth = 1.5)\n",
    "plt.errorbar(xs, GEN_risk_med, yerr = GEN_risk_err, capsize = 2, color = 'green', label = \"GEN\")\n",
    "plt.yscale(\"log\")\n",
    "plt.legend()\n",
    "plt.yticks([ 1, 10, 100], size = 12)\n",
    "plt.xticks(xs, size = 12)\n",
    "plt.xlabel(r\"n\", size = 14)\n",
    "plt.ylabel(r'$\\| \\hat{\\beta} - \\beta^*\\|_2$', size = 14)\n",
    "plt.savefig('135a_v2.jpg', bbox_inches='tight', dpi = 600)"
   ]
  },
  {
   "cell_type": "code",
   "execution_count": 64,
   "id": "5516df2d",
   "metadata": {},
   "outputs": [],
   "source": [
    "LA_pred_med = [np.median(r) for r in [ap1, bp1, cp1, dp1, ep1, fp1]]\n",
    "LA_pred_err = [[np.median(r) - np.quantile(r, 0.25) for r in [ap1, bp1, cp1, dp1, ep1, fp1]], [np.quantile(r, 0.75) - np.median(r) for r in [ap1, bp1, cp1, dp1, ep1, fp1]]]"
   ]
  },
  {
   "cell_type": "code",
   "execution_count": 102,
   "id": "0715b5b7",
   "metadata": {},
   "outputs": [
    {
     "data": {
      "text/plain": [
       "[[0.13615666426358664,\n",
       "  0.07546001463433649,\n",
       "  0.05444495138258901,\n",
       "  0.03742475856807684,\n",
       "  0.033255118335615313,\n",
       "  0.0253411924068207],\n",
       " [0.18438287337601578,\n",
       "  0.09386438527894125,\n",
       "  0.06175166612109101,\n",
       "  0.04223167364529479,\n",
       "  0.03267788558766588,\n",
       "  0.029970824452236727]]"
      ]
     },
     "execution_count": 102,
     "metadata": {},
     "output_type": "execute_result"
    }
   ],
   "source": [
    "GEN_pred_err"
   ]
  },
  {
   "cell_type": "code",
   "execution_count": 65,
   "id": "cc86ff77",
   "metadata": {},
   "outputs": [],
   "source": [
    "EN_pred_med = [np.median(r) for r in [ap3, bp3, cp3, dp3, ep3, fp3]]\n",
    "EN_pred_err = [[np.median(r) - np.quantile(r, 0.25) for r in [ap3, bp3, cp3, dp3, ep3, fp3]], [np.quantile(r, 0.75) - np.median(r) for r in [ap3, bp3, cp3, dp3, ep3, fp3]]]"
   ]
  },
  {
   "cell_type": "code",
   "execution_count": 66,
   "id": "5a8cfea9",
   "metadata": {},
   "outputs": [],
   "source": [
    "FL_pred_med = [np.median(r) for r in [ap4, bp4, cp4, dp4, ep4, fp4]]\n",
    "FL_pred_err = [[np.median(r) - np.quantile(r, 0.25) for r in [ap4, bp4, cp4, dp4, ep4, fp4]], [np.quantile(r, 0.75) - np.median(r) for r in [ap4, bp4, cp4, dp4, ep4, fp4]]]"
   ]
  },
  {
   "cell_type": "code",
   "execution_count": 67,
   "id": "b6de5c79",
   "metadata": {},
   "outputs": [],
   "source": [
    "SL_pred_med = [np.median(r) for r in [ap5, bp5, cp5, dp5, ep5, fp5]]\n",
    "SL_pred_err = [[np.median(r) - np.quantile(r, 0.25) for r in [ap5, bp5, cp5, dp5, ep5, fp5]], [np.quantile(r, 0.75) - np.median(r) for r in [ap5, bp5, cp5, dp5, ep5, fp5]]]"
   ]
  },
  {
   "cell_type": "code",
   "execution_count": 68,
   "id": "5b9f8046",
   "metadata": {},
   "outputs": [],
   "source": [
    "GTVEST_pred_med = [np.median(r) for r in [ap6, bp6, cp6, dp6, ep6, fp6]]\n",
    "GTVEST_pred_err = [[np.median(r) - np.quantile(r, 0.25) for r in [ap6, bp6, cp6, dp6, ep6, fp6]], [np.quantile(r, 0.75) - np.median(r) for r in [ap6, bp6, cp6, dp6, ep6, fp6]]]"
   ]
  },
  {
   "cell_type": "code",
   "execution_count": 69,
   "id": "f940fa83",
   "metadata": {},
   "outputs": [],
   "source": [
    "GTVORC_pred_med = [np.median(r) for r in [ap7, bp7, cp7, dp7, ep7, fp7]]\n",
    "GTVORC_pred_err = [[np.median(r) - np.quantile(r, 0.25) for r in [ap7, bp7, cp7, dp7, ep7, fp7]], [np.quantile(r, 0.75) - np.median(r) for r in [ap7, bp7, cp7, dp7, ep7, fp7]]]"
   ]
  },
  {
   "cell_type": "code",
   "execution_count": 70,
   "id": "4c50f96f",
   "metadata": {},
   "outputs": [],
   "source": [
    "GEN_pred_med = [np.median(r) for r in [ap8, bp8, cp8, dp8, ep8, fp8]]\n",
    "GEN_pred_err = [[np.median(r) - np.quantile(r, 0.25) for r in [ap8, bp8, cp8, dp8, ep8, fp8]], [np.quantile(r, 0.75) - np.median(r) for r in [ap8, bp8, cp8, dp8, ep8, fp8]]]"
   ]
  },
  {
   "cell_type": "code",
   "execution_count": 1,
   "id": "4001f1f6",
   "metadata": {},
   "outputs": [
    {
     "ename": "NameError",
     "evalue": "name 'plt' is not defined",
     "output_type": "error",
     "traceback": [
      "\u001b[1;31m---------------------------------------------------------------------------\u001b[0m",
      "\u001b[1;31mNameError\u001b[0m                                 Traceback (most recent call last)",
      "\u001b[1;32m<ipython-input-1-e70572dc5d39>\u001b[0m in \u001b[0;36m<module>\u001b[1;34m\u001b[0m\n\u001b[1;32m----> 1\u001b[1;33m \u001b[0mplt\u001b[0m\u001b[1;33m.\u001b[0m\u001b[0merrorbar\u001b[0m\u001b[1;33m(\u001b[0m\u001b[0mxs\u001b[0m\u001b[1;33m,\u001b[0m \u001b[0mLA_pred_med\u001b[0m\u001b[1;33m,\u001b[0m \u001b[0myerr\u001b[0m \u001b[1;33m=\u001b[0m \u001b[0mLA_pred_err\u001b[0m\u001b[1;33m,\u001b[0m \u001b[0mcapsize\u001b[0m \u001b[1;33m=\u001b[0m \u001b[1;36m2\u001b[0m\u001b[1;33m,\u001b[0m \u001b[0mcolor\u001b[0m \u001b[1;33m=\u001b[0m \u001b[1;34m'brown'\u001b[0m\u001b[1;33m,\u001b[0m \u001b[0mlabel\u001b[0m \u001b[1;33m=\u001b[0m \u001b[1;34m\"OLS, LASSO\"\u001b[0m\u001b[1;33m)\u001b[0m\u001b[1;33m\u001b[0m\u001b[1;33m\u001b[0m\u001b[0m\n\u001b[0m\u001b[0;32m      2\u001b[0m \u001b[0mplt\u001b[0m\u001b[1;33m.\u001b[0m\u001b[0merrorbar\u001b[0m\u001b[1;33m(\u001b[0m\u001b[0mxs\u001b[0m\u001b[1;33m,\u001b[0m \u001b[0mEN_pred_med\u001b[0m\u001b[1;33m,\u001b[0m \u001b[0myerr\u001b[0m \u001b[1;33m=\u001b[0m \u001b[0mEN_pred_err\u001b[0m\u001b[1;33m,\u001b[0m \u001b[0mcolor\u001b[0m \u001b[1;33m=\u001b[0m \u001b[1;34m'violet'\u001b[0m\u001b[1;33m,\u001b[0m \u001b[0mfmt\u001b[0m \u001b[1;33m=\u001b[0m \u001b[1;34m'--'\u001b[0m\u001b[1;33m,\u001b[0m\u001b[0mlabel\u001b[0m \u001b[1;33m=\u001b[0m \u001b[1;34m\"EN\"\u001b[0m\u001b[1;33m)\u001b[0m\u001b[1;33m\u001b[0m\u001b[1;33m\u001b[0m\u001b[0m\n\u001b[0;32m      3\u001b[0m \u001b[0mplt\u001b[0m\u001b[1;33m.\u001b[0m\u001b[0merrorbar\u001b[0m\u001b[1;33m(\u001b[0m\u001b[0mxs\u001b[0m\u001b[1;33m,\u001b[0m \u001b[0mFL_pred_med\u001b[0m\u001b[1;33m,\u001b[0m \u001b[0myerr\u001b[0m \u001b[1;33m=\u001b[0m \u001b[0mFL_pred_err\u001b[0m\u001b[1;33m,\u001b[0m \u001b[0mfmt\u001b[0m \u001b[1;33m=\u001b[0m \u001b[1;34m'-.'\u001b[0m\u001b[1;33m,\u001b[0m\u001b[0mcolor\u001b[0m \u001b[1;33m=\u001b[0m \u001b[1;34m'orange'\u001b[0m\u001b[1;33m,\u001b[0m \u001b[0mlabel\u001b[0m \u001b[1;33m=\u001b[0m \u001b[1;34m\"FL\"\u001b[0m\u001b[1;33m)\u001b[0m\u001b[1;33m\u001b[0m\u001b[1;33m\u001b[0m\u001b[0m\n\u001b[0;32m      4\u001b[0m \u001b[0mplt\u001b[0m\u001b[1;33m.\u001b[0m\u001b[0merrorbar\u001b[0m\u001b[1;33m(\u001b[0m\u001b[0mxs\u001b[0m\u001b[1;33m,\u001b[0m \u001b[0mSL_pred_med\u001b[0m\u001b[1;33m,\u001b[0m \u001b[0myerr\u001b[0m \u001b[1;33m=\u001b[0m \u001b[0mSL_pred_err\u001b[0m\u001b[1;33m,\u001b[0m \u001b[0mfmt\u001b[0m \u001b[1;33m=\u001b[0m \u001b[1;34m'-.'\u001b[0m\u001b[1;33m,\u001b[0m \u001b[0mcolor\u001b[0m \u001b[1;33m=\u001b[0m \u001b[1;34m'red'\u001b[0m\u001b[1;33m,\u001b[0m \u001b[0mlabel\u001b[0m \u001b[1;33m=\u001b[0m \u001b[1;34m\"SL\"\u001b[0m\u001b[1;33m)\u001b[0m\u001b[1;33m\u001b[0m\u001b[1;33m\u001b[0m\u001b[0m\n\u001b[0;32m      5\u001b[0m \u001b[0mplt\u001b[0m\u001b[1;33m.\u001b[0m\u001b[0merrorbar\u001b[0m\u001b[1;33m(\u001b[0m\u001b[0mxs\u001b[0m\u001b[1;33m,\u001b[0m \u001b[0mGTVEST_pred_med\u001b[0m\u001b[1;33m,\u001b[0m \u001b[0myerr\u001b[0m \u001b[1;33m=\u001b[0m \u001b[0mGTVEST_pred_err\u001b[0m\u001b[1;33m,\u001b[0m \u001b[0mcolor\u001b[0m \u001b[1;33m=\u001b[0m \u001b[1;34m'steelblue'\u001b[0m\u001b[1;33m,\u001b[0m \u001b[0mlabel\u001b[0m \u001b[1;33m=\u001b[0m \u001b[1;34m\"GTV\"\u001b[0m\u001b[1;33m)\u001b[0m\u001b[1;33m\u001b[0m\u001b[1;33m\u001b[0m\u001b[0m\n",
      "\u001b[1;31mNameError\u001b[0m: name 'plt' is not defined"
     ]
    }
   ],
   "source": [
    "plt.errorbar(xs, LA_pred_med, yerr = LA_pred_err, capsize = 2, color = 'brown', label = \"OLS, LASSO\")\n",
    "plt.errorbar(xs, EN_pred_med, yerr = EN_pred_err, color = 'violet', fmt = '--',label = \"EN\")\n",
    "plt.errorbar(xs, FL_pred_med, yerr = FL_pred_err, fmt = '-.',color = 'orange', label = \"FL\")\n",
    "plt.errorbar(xs, SL_pred_med, yerr = SL_pred_err, fmt = '-.', color = 'red', label = \"SL\")\n",
    "plt.errorbar(xs, GTVEST_pred_med, yerr = GTVEST_pred_err, capsize = 2,color = 'steelblue', label = \"GTV\")\n",
    "plt.errorbar(xs, GTVORC_pred_med, yerr = GTVORC_pred_err, color = 'deepskyblue', fmt = '--',label = \"GTV-oracle\", linewidth = 1.5)\n",
    "plt.errorbar(xs, GEN_pred_med, yerr = GEN_pred_err, capsize = 2, color = 'green', label = \"GEN\")\n",
    "plt.yscale(\"log\")\n",
    "plt.yticks([0.1, 1, 10, 100, 1000, 10000], size = 12)\n",
    "plt.xticks(xs, size = 12)\n",
    "plt.xlabel(r\"n\", size = 14)\n",
    "plt.ylabel(r'$\\frac{1}{n}\\| X_{\\mathrm{test}}(\\hat{\\beta} - \\beta^*)\\|_2^2$', size = 14)\n",
    "plt.savefig('135b_v2.jpg', bbox_inches='tight', dpi = 600)"
   ]
  },
  {
   "cell_type": "code",
   "execution_count": null,
   "id": "678ab740",
   "metadata": {},
   "outputs": [],
   "source": []
  }
 ],
 "metadata": {
  "kernelspec": {
   "display_name": "Python 3",
   "language": "python",
   "name": "python3"
  },
  "language_info": {
   "codemirror_mode": {
    "name": "ipython",
    "version": 3
   },
   "file_extension": ".py",
   "mimetype": "text/x-python",
   "name": "python",
   "nbconvert_exporter": "python",
   "pygments_lexer": "ipython3",
   "version": "3.8.8"
  }
 },
 "nbformat": 4,
 "nbformat_minor": 5
}
